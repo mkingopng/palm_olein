{
 "cells": [
  {
   "cell_type": "markdown",
   "source": [
    "# Price Drivers\n",
    "data challenges\n",
    "\n",
    "### General\n",
    "- political policy\n",
    "- inflation (quarterly)\n",
    "- exchange rate movements (daily)\n",
    "- war in russia & geo-politics\n",
    "- economic effects of COVID flow-on to palm oil\n",
    "\n",
    "### Market\n",
    "- price of palm oil (daily)\n",
    "- price of substitute oils (daily)\n",
    "\n",
    "# Demand Side\n",
    "- general increase in the consumption of edible oils globally\n",
    "- growth in demand with the growth of specific economies in china and india.\n",
    "\n",
    "# Supply Side\n",
    "- weather: daily\n",
    "- labor shortages:\n",
    "- land clearing:?\n",
    "- output per ha:?"
   ],
   "metadata": {
    "collapsed": false,
    "pycharm": {
     "name": "#%% md\n"
    }
   }
  },
  {
   "cell_type": "markdown",
   "source": [
    "# Introduction\n",
    "There are a number of forces at play that make this an interesting topic\n",
    "- palm oil demand growing continuously year-on-year\n",
    "- the amount of cultivation and production has increased\n",
    "- increased land use is the primary driver of increased production volumes\n",
    "- increased yields have also contributed\n",
    "- there is an increasingly negative view of palm oil and its role in driving deforestation. \"palm oil free\" is now a prominent issue and should cause downward pressure on demand\n",
    "- labour shortages due to restrictions imposed during COVID 19 had an effect in 2020 and the \"stickiness\" of agricultural production means the effect of this will take time to work through the supply chain. This may be one of the causes behind lagging supply.\n",
    "- global shipping disruptions and delays have impacted trade broadly and palm oil is affected. This should have a dampening effect on demand\n",
    "- Public policy in indonesia constraining exports will have had a dampening effect on supply\n",
    "- El nino weather conditions will have a postive impact on supply, however the timing of this impact is unclear at this time"
   ],
   "metadata": {
    "collapsed": false,
    "pycharm": {
     "name": "#%% md\n"
    }
   }
  },
  {
   "cell_type": "markdown",
   "source": [
    "# Problem statement\n",
    "Since late 2020, palm olein prices have surged to break one record after another. Prices today are at an all-time high. It is unclear what is driving this price surge. There has been no obvious structural change to the market that could easily explain such a sustained bull market. This implies that the current prices are unsustainable and there will be a market correction at some point.\n",
    "\n",
    "In the meantime, business need to plan and the uncertainty about future prices makes this task challenging, as margins are <8% for most actors. Tha palm oil market affects many industries including foods, industrial applications (consumer goods like soaps, detergents & cosmetics) and energy. In a market where price has increased by 400% in 24 months, accurately forecasting future prices and making appropriate decisions become mission-critical."
   ],
   "metadata": {
    "collapsed": false,
    "pycharm": {
     "name": "#%% md\n"
    }
   }
  },
  {
   "cell_type": "markdown",
   "source": [
    "# The suppliers pricing mechanism:\n",
    "the supplier sets the price for the month on the first day of the new month. The supplier closes their order book on the 21st of the current month. by the 21st of the month, purchasing must choose whether to place forward orders for 1-3 months at the current price, or to wait for the new price in 10 days."
   ],
   "metadata": {
    "collapsed": false,
    "pycharm": {
     "name": "#%% md\n"
    }
   }
  },
  {
   "cell_type": "markdown",
   "source": [
    "# Business Goal\n",
    "- to understand the drivers for the palm oil price and market over the long term\n",
    "- to understand the current price surge\n",
    "- to model the supply and demand forces that drive the market for palm oil\n",
    "- to forecast future prices over 30 - 60 - 90 day horizons\n",
    "\n",
    "# Technical Goals\n",
    "### Data pipeline\n",
    "   - source long term data from fao api\n",
    "   - source price data by scraping the net\n",
    "   - clean data\n",
    "   - store in an RDBMS database, ideally in an S3 bucket\n",
    "   - pipeline should be automatic, duplication, failure\n",
    "\n",
    "### Analysis\n",
    "   - query the data to perform visualization & analysis\n",
    "   - develop a convincing hypothesis for the current market behaviour\n",
    "\n",
    "### Modelling & Machine learning\n",
    "   - use the data to develop a model for the palm oil market capable of predicting prices over set time horizons to a high degree of precision\n",
    "   - use naive as the benchmark\n",
    "   - fourier transform or wavelet"
   ],
   "metadata": {
    "collapsed": false,
    "pycharm": {
     "name": "#%% md\n"
    }
   }
  },
  {
   "cell_type": "code",
   "execution_count": null,
   "outputs": [],
   "source": [
    "import pandas as pd"
   ],
   "metadata": {
    "collapsed": false,
    "pycharm": {
     "name": "#%%\n"
    }
   }
  },
  {
   "cell_type": "code",
   "execution_count": null,
   "outputs": [],
   "source": [
    "price = pd.read_csv(os.path.join(DATA, 'palm oil prices 021020 - 290422.csv'))\n",
    "price.head()"
   ],
   "metadata": {
    "collapsed": false,
    "pycharm": {
     "name": "#%%\n"
    }
   }
  },
  {
   "cell_type": "code",
   "execution_count": null,
   "outputs": [],
   "source": [
    "# build scraper to get more data. Ideally daily price data back to 1961. need to update to 2022\n",
    "fig = px.line(price, x='DAILY PRICES', y='Palm olein RBD Mal FOB US$', title='Palm Olein Price')\n",
    "fig.show()\n",
    "# format this. update data"
   ],
   "metadata": {
    "collapsed": false,
    "pycharm": {
     "name": "#%%\n"
    }
   }
  },
  {
   "cell_type": "code",
   "execution_count": null,
   "outputs": [],
   "source": [
    "price.shape"
   ],
   "metadata": {
    "collapsed": false,
    "pycharm": {
     "name": "#%%\n"
    }
   }
  },
  {
   "cell_type": "code",
   "execution_count": null,
   "outputs": [],
   "source": [],
   "metadata": {
    "collapsed": false,
    "pycharm": {
     "name": "#%%\n"
    }
   }
  },
  {
   "cell_type": "code",
   "execution_count": null,
   "outputs": [],
   "source": [],
   "metadata": {
    "collapsed": false,
    "pycharm": {
     "name": "#%%\n"
    }
   }
  }
 ],
 "metadata": {
  "kernelspec": {
   "display_name": "Python 3",
   "language": "python",
   "name": "python3"
  },
  "language_info": {
   "codemirror_mode": {
    "name": "ipython",
    "version": 2
   },
   "file_extension": ".py",
   "mimetype": "text/x-python",
   "name": "python",
   "nbconvert_exporter": "python",
   "pygments_lexer": "ipython2",
   "version": "2.7.6"
  }
 },
 "nbformat": 4,
 "nbformat_minor": 0
}