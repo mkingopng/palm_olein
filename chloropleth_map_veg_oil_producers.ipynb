{
 "cells": [
  {
   "cell_type": "code",
   "execution_count": 80,
   "metadata": {
    "collapsed": true,
    "pycharm": {
     "name": "#%%\n"
    }
   },
   "outputs": [],
   "source": [
    "import os\n",
    "import pandas as pd\n",
    "import matplotlib as mpl\n",
    "import matplotlib_inline\n",
    "import seaborn as sns\n",
    "import plotly.express as px\n",
    "from plotly.subplots import make_subplots\n",
    "from scipy.spatial.ckdtree import coo_entries\n",
    "import re\n",
    "import plotly.graph_objects as go\n",
    "from ipywidgets import widgets\n",
    "\n",
    "DATA = 'data'"
   ]
  },
  {
   "cell_type": "markdown",
   "source": [],
   "metadata": {
    "collapsed": false,
    "pycharm": {
     "name": "#%% md\n"
    }
   }
  },
  {
   "cell_type": "code",
   "execution_count": 81,
   "outputs": [],
   "source": [
    "veg_oil_producing_countries = pd.read_csv(os.path.join(DATA, 'FAOSTAT_vegetable_oil_production_data.csv'))\n",
    "year = veg_oil_producing_countries['Year'].drop_duplicates(keep='first', inplace=False)\n",
    "# veg_oil_by_country.info()"
   ],
   "metadata": {
    "collapsed": false,
    "pycharm": {
     "name": "#%%\n"
    }
   }
  },
  {
   "cell_type": "code",
   "execution_count": 82,
   "outputs": [
    {
     "name": "stdout",
     "output_type": "stream",
     "text": [
      "<class 'pandas.core.frame.DataFrame'>\n",
      "RangeIndex: 10195 entries, 0 to 10194\n",
      "Data columns (total 15 columns):\n",
      " #   Column                         Non-Null Count  Dtype  \n",
      "---  ------                         --------------  -----  \n",
      " 0   (Area, )                       10195 non-null  object \n",
      " 1   (Year, )                       10195 non-null  int64  \n",
      " 2   (Value, Oil, coconut (copra))  5004 non-null   float64\n",
      " 3   (Value, Oil, cottonseed)       5379 non-null   float64\n",
      " 4   (Value, Oil, groundnut)        5275 non-null   float64\n",
      " 5   (Value, Oil, linseed)          3365 non-null   float64\n",
      " 6   (Value, Oil, maize)            2732 non-null   float64\n",
      " 7   (Value, Oil, olive, virgin)    1733 non-null   float64\n",
      " 8   (Value, Oil, palm)             2479 non-null   float64\n",
      " 9   (Value, Oil, palm kernel)      3023 non-null   float64\n",
      " 10  (Value, Oil, rapeseed)         2978 non-null   float64\n",
      " 11  (Value, Oil, safflower)        903 non-null    float64\n",
      " 12  (Value, Oil, sesame)           3141 non-null   float64\n",
      " 13  (Value, Oil, soybean)          4763 non-null   float64\n",
      " 14  (Value, Oil, sunflower)        3954 non-null   float64\n",
      "dtypes: float64(13), int64(1), object(1)\n",
      "memory usage: 1.2+ MB\n"
     ]
    }
   ],
   "source": [
    "veg_oil_producing_countries = veg_oil_producing_countries[[\"Area\", \"Year\", \"Item\", \"Value\"]].pivot(index=[\"Area\", \"Year\"], columns=\"Item\").reset_index()  # drop unneeded columns\n",
    "veg_oil_producing_countries.info()"
   ],
   "metadata": {
    "collapsed": false,
    "pycharm": {
     "name": "#%%\n"
    }
   }
  },
  {
   "cell_type": "code",
   "execution_count": 83,
   "outputs": [
    {
     "data": {
      "text/plain": "             Area  Year                Value                                 \\\nItem                    Oil, coconut (copra) Oil, cottonseed Oil, groundnut   \n0     Afghanistan  1961                  NaN          4997.0            NaN   \n1     Afghanistan  1962                  NaN          7716.0            NaN   \n2     Afghanistan  1963                  NaN         11742.0            NaN   \n3     Afghanistan  1964                  NaN          7960.0            NaN   \n4     Afghanistan  1965                  NaN          7926.0            NaN   \n\n                                                                            \\\nItem Oil, linseed Oil, maize Oil, olive, virgin Oil, palm Oil, palm kernel   \n0          3531.0        NaN               82.0       NaN              NaN   \n1          3701.0        NaN               90.0       NaN              NaN   \n2          2857.0        NaN               82.0       NaN              NaN   \n3          3377.0        NaN               90.0       NaN              NaN   \n4          4327.0        NaN               82.0       NaN              NaN   \n\n                                                                           \nItem Oil, rapeseed Oil, safflower Oil, sesame Oil, soybean Oil, sunflower  \n0              NaN            NaN      2253.0          NaN         2938.0  \n1              NaN            NaN      1876.0          NaN         3138.0  \n2              NaN            NaN      1831.0          NaN         3138.0  \n3              NaN            NaN      2722.0          NaN         3138.0  \n4              NaN            NaN      2821.0          NaN         3238.0  ",
      "text/html": "<div>\n<style scoped>\n    .dataframe tbody tr th:only-of-type {\n        vertical-align: middle;\n    }\n\n    .dataframe tbody tr th {\n        vertical-align: top;\n    }\n\n    .dataframe thead tr th {\n        text-align: left;\n    }\n</style>\n<table border=\"1\" class=\"dataframe\">\n  <thead>\n    <tr>\n      <th></th>\n      <th>Area</th>\n      <th>Year</th>\n      <th colspan=\"13\" halign=\"left\">Value</th>\n    </tr>\n    <tr>\n      <th>Item</th>\n      <th></th>\n      <th></th>\n      <th>Oil, coconut (copra)</th>\n      <th>Oil, cottonseed</th>\n      <th>Oil, groundnut</th>\n      <th>Oil, linseed</th>\n      <th>Oil, maize</th>\n      <th>Oil, olive, virgin</th>\n      <th>Oil, palm</th>\n      <th>Oil, palm kernel</th>\n      <th>Oil, rapeseed</th>\n      <th>Oil, safflower</th>\n      <th>Oil, sesame</th>\n      <th>Oil, soybean</th>\n      <th>Oil, sunflower</th>\n    </tr>\n  </thead>\n  <tbody>\n    <tr>\n      <th>0</th>\n      <td>Afghanistan</td>\n      <td>1961</td>\n      <td>NaN</td>\n      <td>4997.0</td>\n      <td>NaN</td>\n      <td>3531.0</td>\n      <td>NaN</td>\n      <td>82.0</td>\n      <td>NaN</td>\n      <td>NaN</td>\n      <td>NaN</td>\n      <td>NaN</td>\n      <td>2253.0</td>\n      <td>NaN</td>\n      <td>2938.0</td>\n    </tr>\n    <tr>\n      <th>1</th>\n      <td>Afghanistan</td>\n      <td>1962</td>\n      <td>NaN</td>\n      <td>7716.0</td>\n      <td>NaN</td>\n      <td>3701.0</td>\n      <td>NaN</td>\n      <td>90.0</td>\n      <td>NaN</td>\n      <td>NaN</td>\n      <td>NaN</td>\n      <td>NaN</td>\n      <td>1876.0</td>\n      <td>NaN</td>\n      <td>3138.0</td>\n    </tr>\n    <tr>\n      <th>2</th>\n      <td>Afghanistan</td>\n      <td>1963</td>\n      <td>NaN</td>\n      <td>11742.0</td>\n      <td>NaN</td>\n      <td>2857.0</td>\n      <td>NaN</td>\n      <td>82.0</td>\n      <td>NaN</td>\n      <td>NaN</td>\n      <td>NaN</td>\n      <td>NaN</td>\n      <td>1831.0</td>\n      <td>NaN</td>\n      <td>3138.0</td>\n    </tr>\n    <tr>\n      <th>3</th>\n      <td>Afghanistan</td>\n      <td>1964</td>\n      <td>NaN</td>\n      <td>7960.0</td>\n      <td>NaN</td>\n      <td>3377.0</td>\n      <td>NaN</td>\n      <td>90.0</td>\n      <td>NaN</td>\n      <td>NaN</td>\n      <td>NaN</td>\n      <td>NaN</td>\n      <td>2722.0</td>\n      <td>NaN</td>\n      <td>3138.0</td>\n    </tr>\n    <tr>\n      <th>4</th>\n      <td>Afghanistan</td>\n      <td>1965</td>\n      <td>NaN</td>\n      <td>7926.0</td>\n      <td>NaN</td>\n      <td>4327.0</td>\n      <td>NaN</td>\n      <td>82.0</td>\n      <td>NaN</td>\n      <td>NaN</td>\n      <td>NaN</td>\n      <td>NaN</td>\n      <td>2821.0</td>\n      <td>NaN</td>\n      <td>3238.0</td>\n    </tr>\n  </tbody>\n</table>\n</div>"
     },
     "execution_count": 83,
     "metadata": {},
     "output_type": "execute_result"
    }
   ],
   "source": [
    "veg_oil_producing_countries.head()"
   ],
   "metadata": {
    "collapsed": false,
    "pycharm": {
     "name": "#%%\n"
    }
   }
  },
  {
   "cell_type": "code",
   "execution_count": 84,
   "outputs": [
    {
     "data": {
      "text/plain": "              Area  Year  coconut  cottonseed  groundnut  linseed    maize  \\\n0      Afghanistan  1961      NaN      4997.0        NaN   3531.0      NaN   \n1      Afghanistan  1962      NaN      7716.0        NaN   3701.0      NaN   \n2      Afghanistan  1963      NaN     11742.0        NaN   2857.0      NaN   \n3      Afghanistan  1964      NaN      7960.0        NaN   3377.0      NaN   \n4      Afghanistan  1965      NaN      7926.0        NaN   4327.0      NaN   \n...            ...   ...      ...         ...        ...      ...      ...   \n10190     Zimbabwe  2015      NaN     12400.0     8100.0      NaN  14000.0   \n10191     Zimbabwe  2016      NaN      6300.0     7000.0      NaN  13500.0   \n10192     Zimbabwe  2017      NaN      9300.0     7300.0      NaN  14700.0   \n10193     Zimbabwe  2018      NaN     10200.0    10100.0      NaN  14898.0   \n10194     Zimbabwe  2019      NaN     12700.0     9100.0      NaN  12125.0   \n\n       olive  palm  palm kernel  rapeseed  safflower  sesame  soybean  \\\n0       82.0   NaN          NaN       NaN        NaN  2253.0      NaN   \n1       90.0   NaN          NaN       NaN        NaN  1876.0      NaN   \n2       82.0   NaN          NaN       NaN        NaN  1831.0      NaN   \n3       90.0   NaN          NaN       NaN        NaN  2722.0      NaN   \n4       82.0   NaN          NaN       NaN        NaN  2821.0      NaN   \n...      ...   ...          ...       ...        ...     ...      ...   \n10190    NaN   NaN          NaN       NaN        NaN     NaN  10400.0   \n10191    NaN   NaN          NaN       NaN        NaN     NaN   9600.0   \n10192    NaN   NaN          NaN       NaN        NaN     NaN  14400.0   \n10193    NaN   NaN          NaN       NaN        NaN     NaN  11700.0   \n10194    NaN   NaN          NaN       NaN        NaN     NaN   8300.0   \n\n       sunflower  \n0         2938.0  \n1         3138.0  \n2         3138.0  \n3         3138.0  \n4         3238.0  \n...          ...  \n10190     2000.0  \n10191     1400.0  \n10192     1500.0  \n10193     1800.0  \n10194     1800.0  \n\n[10195 rows x 15 columns]",
      "text/html": "<div>\n<style scoped>\n    .dataframe tbody tr th:only-of-type {\n        vertical-align: middle;\n    }\n\n    .dataframe tbody tr th {\n        vertical-align: top;\n    }\n\n    .dataframe thead th {\n        text-align: right;\n    }\n</style>\n<table border=\"1\" class=\"dataframe\">\n  <thead>\n    <tr style=\"text-align: right;\">\n      <th></th>\n      <th>Area</th>\n      <th>Year</th>\n      <th>coconut</th>\n      <th>cottonseed</th>\n      <th>groundnut</th>\n      <th>linseed</th>\n      <th>maize</th>\n      <th>olive</th>\n      <th>palm</th>\n      <th>palm kernel</th>\n      <th>rapeseed</th>\n      <th>safflower</th>\n      <th>sesame</th>\n      <th>soybean</th>\n      <th>sunflower</th>\n    </tr>\n  </thead>\n  <tbody>\n    <tr>\n      <th>0</th>\n      <td>Afghanistan</td>\n      <td>1961</td>\n      <td>NaN</td>\n      <td>4997.0</td>\n      <td>NaN</td>\n      <td>3531.0</td>\n      <td>NaN</td>\n      <td>82.0</td>\n      <td>NaN</td>\n      <td>NaN</td>\n      <td>NaN</td>\n      <td>NaN</td>\n      <td>2253.0</td>\n      <td>NaN</td>\n      <td>2938.0</td>\n    </tr>\n    <tr>\n      <th>1</th>\n      <td>Afghanistan</td>\n      <td>1962</td>\n      <td>NaN</td>\n      <td>7716.0</td>\n      <td>NaN</td>\n      <td>3701.0</td>\n      <td>NaN</td>\n      <td>90.0</td>\n      <td>NaN</td>\n      <td>NaN</td>\n      <td>NaN</td>\n      <td>NaN</td>\n      <td>1876.0</td>\n      <td>NaN</td>\n      <td>3138.0</td>\n    </tr>\n    <tr>\n      <th>2</th>\n      <td>Afghanistan</td>\n      <td>1963</td>\n      <td>NaN</td>\n      <td>11742.0</td>\n      <td>NaN</td>\n      <td>2857.0</td>\n      <td>NaN</td>\n      <td>82.0</td>\n      <td>NaN</td>\n      <td>NaN</td>\n      <td>NaN</td>\n      <td>NaN</td>\n      <td>1831.0</td>\n      <td>NaN</td>\n      <td>3138.0</td>\n    </tr>\n    <tr>\n      <th>3</th>\n      <td>Afghanistan</td>\n      <td>1964</td>\n      <td>NaN</td>\n      <td>7960.0</td>\n      <td>NaN</td>\n      <td>3377.0</td>\n      <td>NaN</td>\n      <td>90.0</td>\n      <td>NaN</td>\n      <td>NaN</td>\n      <td>NaN</td>\n      <td>NaN</td>\n      <td>2722.0</td>\n      <td>NaN</td>\n      <td>3138.0</td>\n    </tr>\n    <tr>\n      <th>4</th>\n      <td>Afghanistan</td>\n      <td>1965</td>\n      <td>NaN</td>\n      <td>7926.0</td>\n      <td>NaN</td>\n      <td>4327.0</td>\n      <td>NaN</td>\n      <td>82.0</td>\n      <td>NaN</td>\n      <td>NaN</td>\n      <td>NaN</td>\n      <td>NaN</td>\n      <td>2821.0</td>\n      <td>NaN</td>\n      <td>3238.0</td>\n    </tr>\n    <tr>\n      <th>...</th>\n      <td>...</td>\n      <td>...</td>\n      <td>...</td>\n      <td>...</td>\n      <td>...</td>\n      <td>...</td>\n      <td>...</td>\n      <td>...</td>\n      <td>...</td>\n      <td>...</td>\n      <td>...</td>\n      <td>...</td>\n      <td>...</td>\n      <td>...</td>\n      <td>...</td>\n    </tr>\n    <tr>\n      <th>10190</th>\n      <td>Zimbabwe</td>\n      <td>2015</td>\n      <td>NaN</td>\n      <td>12400.0</td>\n      <td>8100.0</td>\n      <td>NaN</td>\n      <td>14000.0</td>\n      <td>NaN</td>\n      <td>NaN</td>\n      <td>NaN</td>\n      <td>NaN</td>\n      <td>NaN</td>\n      <td>NaN</td>\n      <td>10400.0</td>\n      <td>2000.0</td>\n    </tr>\n    <tr>\n      <th>10191</th>\n      <td>Zimbabwe</td>\n      <td>2016</td>\n      <td>NaN</td>\n      <td>6300.0</td>\n      <td>7000.0</td>\n      <td>NaN</td>\n      <td>13500.0</td>\n      <td>NaN</td>\n      <td>NaN</td>\n      <td>NaN</td>\n      <td>NaN</td>\n      <td>NaN</td>\n      <td>NaN</td>\n      <td>9600.0</td>\n      <td>1400.0</td>\n    </tr>\n    <tr>\n      <th>10192</th>\n      <td>Zimbabwe</td>\n      <td>2017</td>\n      <td>NaN</td>\n      <td>9300.0</td>\n      <td>7300.0</td>\n      <td>NaN</td>\n      <td>14700.0</td>\n      <td>NaN</td>\n      <td>NaN</td>\n      <td>NaN</td>\n      <td>NaN</td>\n      <td>NaN</td>\n      <td>NaN</td>\n      <td>14400.0</td>\n      <td>1500.0</td>\n    </tr>\n    <tr>\n      <th>10193</th>\n      <td>Zimbabwe</td>\n      <td>2018</td>\n      <td>NaN</td>\n      <td>10200.0</td>\n      <td>10100.0</td>\n      <td>NaN</td>\n      <td>14898.0</td>\n      <td>NaN</td>\n      <td>NaN</td>\n      <td>NaN</td>\n      <td>NaN</td>\n      <td>NaN</td>\n      <td>NaN</td>\n      <td>11700.0</td>\n      <td>1800.0</td>\n    </tr>\n    <tr>\n      <th>10194</th>\n      <td>Zimbabwe</td>\n      <td>2019</td>\n      <td>NaN</td>\n      <td>12700.0</td>\n      <td>9100.0</td>\n      <td>NaN</td>\n      <td>12125.0</td>\n      <td>NaN</td>\n      <td>NaN</td>\n      <td>NaN</td>\n      <td>NaN</td>\n      <td>NaN</td>\n      <td>NaN</td>\n      <td>8300.0</td>\n      <td>1800.0</td>\n    </tr>\n  </tbody>\n</table>\n<p>10195 rows × 15 columns</p>\n</div>"
     },
     "execution_count": 84,
     "metadata": {},
     "output_type": "execute_result"
    }
   ],
   "source": [
    "new_cols = [\"Area\", \"Year\", \"coconut\", \"cottonseed\", \"groundnut\", \"linseed\", \"maize\", \"olive\", \"palm\", \"palm kernel\", \"rapeseed\", \"safflower\", \"sesame\", \"soybean\", \"sunflower\"]\n",
    "veg_oil_producing_countries.columns = new_cols\n",
    "veg_oil_producing_countries"
   ],
   "metadata": {
    "collapsed": false,
    "pycharm": {
     "name": "#%%\n"
    }
   }
  },
  {
   "cell_type": "code",
   "execution_count": 85,
   "outputs": [
    {
     "ename": "TypeError",
     "evalue": "'NoneType' object is not subscriptable",
     "output_type": "error",
     "traceback": [
      "\u001B[0;31m---------------------------------------------------------------------------\u001B[0m",
      "\u001B[0;31mTypeError\u001B[0m                                 Traceback (most recent call last)",
      "Input \u001B[0;32mIn [85]\u001B[0m, in \u001B[0;36m<cell line: 6>\u001B[0;34m()\u001B[0m\n\u001B[1;32m      2\u001B[0m cols_to_rename \u001B[38;5;241m=\u001B[39m veg_oil_producing_countries\u001B[38;5;241m.\u001B[39mcolumns[\u001B[38;5;241m3\u001B[39m:]\n\u001B[1;32m      4\u001B[0m pattern \u001B[38;5;241m=\u001B[39m \u001B[38;5;124mr\u001B[39m\u001B[38;5;124m'\u001B[39m\u001B[38;5;124m(?<=Oil, ).+?(?= - \u001B[39m\u001B[38;5;124m\\\u001B[39m\u001B[38;5;124md)\u001B[39m\u001B[38;5;124m'\u001B[39m\n\u001B[0;32m----> 6\u001B[0m cols \u001B[38;5;241m=\u001B[39m [re\u001B[38;5;241m.\u001B[39msearch(pattern, c, re\u001B[38;5;241m.\u001B[39mRegexFlag\u001B[38;5;241m.\u001B[39mIGNORECASE)[\u001B[38;5;241m0\u001B[39m] \u001B[38;5;28;01mfor\u001B[39;00m c \u001B[38;5;129;01min\u001B[39;00m cols_to_rename]\n\u001B[1;32m      7\u001B[0m cols \u001B[38;5;241m=\u001B[39m [re\u001B[38;5;241m.\u001B[39msub(\u001B[38;5;124m'\u001B[39m\u001B[38;5;124m \u001B[39m\u001B[38;5;124m'\u001B[39m, \u001B[38;5;124m'\u001B[39m\u001B[38;5;124m_\u001B[39m\u001B[38;5;124m'\u001B[39m, c) \u001B[38;5;28;01mfor\u001B[39;00m c \u001B[38;5;129;01min\u001B[39;00m cols]\n\u001B[1;32m      8\u001B[0m cols \u001B[38;5;241m=\u001B[39m [re\u001B[38;5;241m.\u001B[39msub(\u001B[38;5;124m'\u001B[39m\u001B[38;5;124m\\\u001B[39m\u001B[38;5;124mW\u001B[39m\u001B[38;5;124m'\u001B[39m, \u001B[38;5;124m'\u001B[39m\u001B[38;5;124m'\u001B[39m, c) \u001B[38;5;28;01mfor\u001B[39;00m c \u001B[38;5;129;01min\u001B[39;00m cols]\n",
      "Input \u001B[0;32mIn [85]\u001B[0m, in \u001B[0;36m<listcomp>\u001B[0;34m(.0)\u001B[0m\n\u001B[1;32m      2\u001B[0m cols_to_rename \u001B[38;5;241m=\u001B[39m veg_oil_producing_countries\u001B[38;5;241m.\u001B[39mcolumns[\u001B[38;5;241m3\u001B[39m:]\n\u001B[1;32m      4\u001B[0m pattern \u001B[38;5;241m=\u001B[39m \u001B[38;5;124mr\u001B[39m\u001B[38;5;124m'\u001B[39m\u001B[38;5;124m(?<=Oil, ).+?(?= - \u001B[39m\u001B[38;5;124m\\\u001B[39m\u001B[38;5;124md)\u001B[39m\u001B[38;5;124m'\u001B[39m\n\u001B[0;32m----> 6\u001B[0m cols \u001B[38;5;241m=\u001B[39m [\u001B[43mre\u001B[49m\u001B[38;5;241;43m.\u001B[39;49m\u001B[43msearch\u001B[49m\u001B[43m(\u001B[49m\u001B[43mpattern\u001B[49m\u001B[43m,\u001B[49m\u001B[43m \u001B[49m\u001B[43mc\u001B[49m\u001B[43m,\u001B[49m\u001B[43m \u001B[49m\u001B[43mre\u001B[49m\u001B[38;5;241;43m.\u001B[39;49m\u001B[43mRegexFlag\u001B[49m\u001B[38;5;241;43m.\u001B[39;49m\u001B[43mIGNORECASE\u001B[49m\u001B[43m)\u001B[49m\u001B[43m[\u001B[49m\u001B[38;5;241;43m0\u001B[39;49m\u001B[43m]\u001B[49m \u001B[38;5;28;01mfor\u001B[39;00m c \u001B[38;5;129;01min\u001B[39;00m cols_to_rename]\n\u001B[1;32m      7\u001B[0m cols \u001B[38;5;241m=\u001B[39m [re\u001B[38;5;241m.\u001B[39msub(\u001B[38;5;124m'\u001B[39m\u001B[38;5;124m \u001B[39m\u001B[38;5;124m'\u001B[39m, \u001B[38;5;124m'\u001B[39m\u001B[38;5;124m_\u001B[39m\u001B[38;5;124m'\u001B[39m, c) \u001B[38;5;28;01mfor\u001B[39;00m c \u001B[38;5;129;01min\u001B[39;00m cols]\n\u001B[1;32m      8\u001B[0m cols \u001B[38;5;241m=\u001B[39m [re\u001B[38;5;241m.\u001B[39msub(\u001B[38;5;124m'\u001B[39m\u001B[38;5;124m\\\u001B[39m\u001B[38;5;124mW\u001B[39m\u001B[38;5;124m'\u001B[39m, \u001B[38;5;124m'\u001B[39m\u001B[38;5;124m'\u001B[39m, c) \u001B[38;5;28;01mfor\u001B[39;00m c \u001B[38;5;129;01min\u001B[39;00m cols]\n",
      "\u001B[0;31mTypeError\u001B[0m: 'NoneType' object is not subscriptable"
     ]
    }
   ],
   "source": [
    "# using the regex patter to rename the columns?\n",
    "cols_to_rename = veg_oil_producing_countries.columns[3:]\n",
    "\n",
    "pattern = r'(?<=Oil, ).+?(?= - \\d)'\n",
    "\n",
    "cols = [re.search(pattern, c, re.RegexFlag.IGNORECASE)[0] for c in cols_to_rename]\n",
    "cols = [re.sub(' ', '_', c) for c in cols]\n",
    "cols = [re.sub('\\W', '', c) for c in cols]\n",
    "\n",
    "veg_oil_producing_countries.columns = veg_oil_producing_countries.columns.tolist()[:3] + cols\n",
    "veg_oil_producing_countries"
   ],
   "metadata": {
    "collapsed": false,
    "pycharm": {
     "name": "#%%\n"
    }
   }
  },
  {
   "cell_type": "code",
   "execution_count": null,
   "outputs": [],
   "source": [
    "help(go.Choropleth)"
   ],
   "metadata": {
    "collapsed": false,
    "pycharm": {
     "name": "#%%\n"
    }
   }
  },
  {
   "cell_type": "code",
   "execution_count": null,
   "outputs": [],
   "source": [
    "# think getting the regex stuff to work is required for the plot\n",
    "veg_oil_type = 'palm'\n",
    "fig = go.Figure(\n",
    "    data=go.Choropleth(\n",
    "        locations=veg_oil_producing_countries['Area'],\n",
    "        z=veg_oil_producing_countries[veg_oil_type],\n",
    "        locationmode='ISO-3',  #  \"ISO-3\" | \"USA-states\" | \"country names\"\n",
    "        colorscale='Viridis',\n",
    "        colorbar_title=veg_oil_type\n",
    "    )\n",
    ")\n",
    "fig.update_layout(title_text = f'{veg_oil_type} Vegetable Oil',)\n",
    "\n",
    "fig.show()\n",
    "\n",
    "# need to format this. Needs to be larger and better quality.\n",
    "# colour by oil type (eg palm oil = purple)\n",
    "# shade a function of volume of that product (eg, light purple for small producers and dark purple for major producers)"
   ],
   "metadata": {
    "collapsed": false,
    "pycharm": {
     "name": "#%%\n"
    }
   }
  },
  {
   "cell_type": "code",
   "execution_count": null,
   "outputs": [],
   "source": [],
   "metadata": {
    "collapsed": false,
    "pycharm": {
     "name": "#%%\n"
    }
   }
  }
 ],
 "metadata": {
  "kernelspec": {
   "display_name": "Python 3",
   "language": "python",
   "name": "python3"
  },
  "language_info": {
   "codemirror_mode": {
    "name": "ipython",
    "version": 2
   },
   "file_extension": ".py",
   "mimetype": "text/x-python",
   "name": "python",
   "nbconvert_exporter": "python",
   "pygments_lexer": "ipython2",
   "version": "2.7.6"
  }
 },
 "nbformat": 4,
 "nbformat_minor": 0
}