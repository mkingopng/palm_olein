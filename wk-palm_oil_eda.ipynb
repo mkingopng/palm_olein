{
 "cells": [
  {
   "cell_type": "code",
   "execution_count": 1,
   "metadata": {
    "pycharm": {
     "name": "#%%\n"
    }
   },
   "outputs": [],
   "source": [
    "import os\n",
    "import pandas as pd\n",
    "import matplotlib as mpl\n",
    "import matplotlib_inline\n",
    "import seaborn as sns\n",
    "import plotly.express as px\n",
    "from plotly.subplots import make_subplots\n",
    "from scipy.spatial.ckdtree import coo_entries\n",
    "\n",
    "DATA = 'data'"
   ]
  },
  {
   "cell_type": "code",
   "execution_count": 2,
   "metadata": {
    "pycharm": {
     "name": "#%%\n"
    }
   },
   "outputs": [
    {
     "data": {
      "text/html": [
       "<div>\n",
       "<style scoped>\n",
       "    .dataframe tbody tr th:only-of-type {\n",
       "        vertical-align: middle;\n",
       "    }\n",
       "\n",
       "    .dataframe tbody tr th {\n",
       "        vertical-align: top;\n",
       "    }\n",
       "\n",
       "    .dataframe thead th {\n",
       "        text-align: right;\n",
       "    }\n",
       "</style>\n",
       "<table border=\"1\" class=\"dataframe\">\n",
       "  <thead>\n",
       "    <tr style=\"text-align: right;\">\n",
       "      <th></th>\n",
       "      <th>Domain Code</th>\n",
       "      <th>Domain</th>\n",
       "      <th>Area Code (FAO)</th>\n",
       "      <th>Area</th>\n",
       "      <th>Element Code</th>\n",
       "      <th>Element</th>\n",
       "      <th>Item Code (FAO)</th>\n",
       "      <th>Item</th>\n",
       "      <th>Year Code</th>\n",
       "      <th>Year</th>\n",
       "      <th>Unit</th>\n",
       "      <th>Value</th>\n",
       "      <th>Flag</th>\n",
       "      <th>Flag Description</th>\n",
       "    </tr>\n",
       "  </thead>\n",
       "  <tbody>\n",
       "    <tr>\n",
       "      <th>0</th>\n",
       "      <td>QCL</td>\n",
       "      <td>Crops and livestock products</td>\n",
       "      <td>3</td>\n",
       "      <td>Albania</td>\n",
       "      <td>5510</td>\n",
       "      <td>Production</td>\n",
       "      <td>257</td>\n",
       "      <td>Oil, palm</td>\n",
       "      <td>2010</td>\n",
       "      <td>2010</td>\n",
       "      <td>tonnes</td>\n",
       "      <td>NaN</td>\n",
       "      <td>M</td>\n",
       "      <td>Data not available</td>\n",
       "    </tr>\n",
       "    <tr>\n",
       "      <th>1</th>\n",
       "      <td>QCL</td>\n",
       "      <td>Crops and livestock products</td>\n",
       "      <td>3</td>\n",
       "      <td>Albania</td>\n",
       "      <td>5510</td>\n",
       "      <td>Production</td>\n",
       "      <td>257</td>\n",
       "      <td>Oil, palm</td>\n",
       "      <td>2011</td>\n",
       "      <td>2011</td>\n",
       "      <td>tonnes</td>\n",
       "      <td>NaN</td>\n",
       "      <td>M</td>\n",
       "      <td>Data not available</td>\n",
       "    </tr>\n",
       "    <tr>\n",
       "      <th>2</th>\n",
       "      <td>QCL</td>\n",
       "      <td>Crops and livestock products</td>\n",
       "      <td>3</td>\n",
       "      <td>Albania</td>\n",
       "      <td>5510</td>\n",
       "      <td>Production</td>\n",
       "      <td>257</td>\n",
       "      <td>Oil, palm</td>\n",
       "      <td>2012</td>\n",
       "      <td>2012</td>\n",
       "      <td>tonnes</td>\n",
       "      <td>NaN</td>\n",
       "      <td>M</td>\n",
       "      <td>Data not available</td>\n",
       "    </tr>\n",
       "    <tr>\n",
       "      <th>3</th>\n",
       "      <td>QCL</td>\n",
       "      <td>Crops and livestock products</td>\n",
       "      <td>3</td>\n",
       "      <td>Albania</td>\n",
       "      <td>5510</td>\n",
       "      <td>Production</td>\n",
       "      <td>257</td>\n",
       "      <td>Oil, palm</td>\n",
       "      <td>2013</td>\n",
       "      <td>2013</td>\n",
       "      <td>tonnes</td>\n",
       "      <td>NaN</td>\n",
       "      <td>M</td>\n",
       "      <td>Data not available</td>\n",
       "    </tr>\n",
       "    <tr>\n",
       "      <th>4</th>\n",
       "      <td>QCL</td>\n",
       "      <td>Crops and livestock products</td>\n",
       "      <td>3</td>\n",
       "      <td>Albania</td>\n",
       "      <td>5510</td>\n",
       "      <td>Production</td>\n",
       "      <td>257</td>\n",
       "      <td>Oil, palm</td>\n",
       "      <td>2014</td>\n",
       "      <td>2014</td>\n",
       "      <td>tonnes</td>\n",
       "      <td>NaN</td>\n",
       "      <td>M</td>\n",
       "      <td>Data not available</td>\n",
       "    </tr>\n",
       "  </tbody>\n",
       "</table>\n",
       "</div>"
      ],
      "text/plain": [
       "  Domain Code                        Domain  Area Code (FAO)     Area  \\\n",
       "0         QCL  Crops and livestock products                3  Albania   \n",
       "1         QCL  Crops and livestock products                3  Albania   \n",
       "2         QCL  Crops and livestock products                3  Albania   \n",
       "3         QCL  Crops and livestock products                3  Albania   \n",
       "4         QCL  Crops and livestock products                3  Albania   \n",
       "\n",
       "   Element Code     Element  Item Code (FAO)       Item  Year Code  Year  \\\n",
       "0          5510  Production              257  Oil, palm       2010  2010   \n",
       "1          5510  Production              257  Oil, palm       2011  2011   \n",
       "2          5510  Production              257  Oil, palm       2012  2012   \n",
       "3          5510  Production              257  Oil, palm       2013  2013   \n",
       "4          5510  Production              257  Oil, palm       2014  2014   \n",
       "\n",
       "     Unit  Value Flag    Flag Description  \n",
       "0  tonnes    NaN    M  Data not available  \n",
       "1  tonnes    NaN    M  Data not available  \n",
       "2  tonnes    NaN    M  Data not available  \n",
       "3  tonnes    NaN    M  Data not available  \n",
       "4  tonnes    NaN    M  Data not available  "
      ]
     },
     "execution_count": 2,
     "metadata": {},
     "output_type": "execute_result"
    }
   ],
   "source": [
    "production = pd.read_csv('data/to_populate_db/oil_palm_yeild_and_production.csv')\n",
    "production.head()"
   ]
  },
  {
   "cell_type": "code",
   "execution_count": 3,
   "metadata": {
    "pycharm": {
     "name": "#%%\n"
    }
   },
   "outputs": [
    {
     "name": "stdout",
     "output_type": "stream",
     "text": [
      "<class 'pandas.core.frame.DataFrame'>\n",
      "RangeIndex: 10364 entries, 0 to 10363\n",
      "Data columns (total 14 columns):\n",
      " #   Column            Non-Null Count  Dtype  \n",
      "---  ------            --------------  -----  \n",
      " 0   Domain Code       10364 non-null  object \n",
      " 1   Domain            10364 non-null  object \n",
      " 2   Area Code (FAO)   10364 non-null  int64  \n",
      " 3   Area              10364 non-null  object \n",
      " 4   Element Code      10364 non-null  int64  \n",
      " 5   Element           10364 non-null  object \n",
      " 6   Item Code (FAO)   10364 non-null  int64  \n",
      " 7   Item              10364 non-null  object \n",
      " 8   Year Code         10364 non-null  int64  \n",
      " 9   Year              10364 non-null  int64  \n",
      " 10  Unit              10364 non-null  object \n",
      " 11  Value             9923 non-null   float64\n",
      " 12  Flag              8345 non-null   object \n",
      " 13  Flag Description  10364 non-null  object \n",
      "dtypes: float64(1), int64(5), object(8)\n",
      "memory usage: 1.1+ MB\n"
     ]
    }
   ],
   "source": [
    "production.info()"
   ]
  },
  {
   "cell_type": "code",
   "execution_count": 4,
   "metadata": {
    "pycharm": {
     "name": "#%%\n"
    }
   },
   "outputs": [
    {
     "ename": "ValueError",
     "evalue": "Length mismatch: Expected axis has 14 elements, new values have 4 elements",
     "output_type": "error",
     "traceback": [
      "\u001b[0;31m---------------------------------------------------------------------------\u001b[0m",
      "\u001b[0;31mValueError\u001b[0m                                Traceback (most recent call last)",
      "Input \u001b[0;32mIn [4]\u001b[0m, in \u001b[0;36m<cell line: 1>\u001b[0;34m()\u001b[0m\n\u001b[0;32m----> 1\u001b[0m production\u001b[38;5;241m.\u001b[39mcolumns \u001b[38;5;241m=\u001b[39m [\u001b[38;5;124m'\u001b[39m\u001b[38;5;124mentity\u001b[39m\u001b[38;5;124m'\u001b[39m, \u001b[38;5;124m'\u001b[39m\u001b[38;5;124mcode\u001b[39m\u001b[38;5;124m'\u001b[39m, \u001b[38;5;124m'\u001b[39m\u001b[38;5;124myear\u001b[39m\u001b[38;5;124m'\u001b[39m, \u001b[38;5;124m'\u001b[39m\u001b[38;5;124mcrops\u001b[39m\u001b[38;5;124m'\u001b[39m]\n",
      "File \u001b[0;32m~/anaconda3/lib/python3.9/site-packages/pandas/core/generic.py:5588\u001b[0m, in \u001b[0;36mNDFrame.__setattr__\u001b[0;34m(self, name, value)\u001b[0m\n\u001b[1;32m   5586\u001b[0m \u001b[38;5;28;01mtry\u001b[39;00m:\n\u001b[1;32m   5587\u001b[0m     \u001b[38;5;28mobject\u001b[39m\u001b[38;5;241m.\u001b[39m\u001b[38;5;21m__getattribute__\u001b[39m(\u001b[38;5;28mself\u001b[39m, name)\n\u001b[0;32m-> 5588\u001b[0m     \u001b[38;5;28;01mreturn\u001b[39;00m \u001b[38;5;28;43mobject\u001b[39;49m\u001b[38;5;241;43m.\u001b[39;49m\u001b[38;5;21;43m__setattr__\u001b[39;49m\u001b[43m(\u001b[49m\u001b[38;5;28;43mself\u001b[39;49m\u001b[43m,\u001b[49m\u001b[43m \u001b[49m\u001b[43mname\u001b[49m\u001b[43m,\u001b[49m\u001b[43m \u001b[49m\u001b[43mvalue\u001b[49m\u001b[43m)\u001b[49m\n\u001b[1;32m   5589\u001b[0m \u001b[38;5;28;01mexcept\u001b[39;00m \u001b[38;5;167;01mAttributeError\u001b[39;00m:\n\u001b[1;32m   5590\u001b[0m     \u001b[38;5;28;01mpass\u001b[39;00m\n",
      "File \u001b[0;32m~/anaconda3/lib/python3.9/site-packages/pandas/_libs/properties.pyx:70\u001b[0m, in \u001b[0;36mpandas._libs.properties.AxisProperty.__set__\u001b[0;34m()\u001b[0m\n",
      "File \u001b[0;32m~/anaconda3/lib/python3.9/site-packages/pandas/core/generic.py:769\u001b[0m, in \u001b[0;36mNDFrame._set_axis\u001b[0;34m(self, axis, labels)\u001b[0m\n\u001b[1;32m    767\u001b[0m \u001b[38;5;28;01mdef\u001b[39;00m \u001b[38;5;21m_set_axis\u001b[39m(\u001b[38;5;28mself\u001b[39m, axis: \u001b[38;5;28mint\u001b[39m, labels: Index) \u001b[38;5;241m-\u001b[39m\u001b[38;5;241m>\u001b[39m \u001b[38;5;28;01mNone\u001b[39;00m:\n\u001b[1;32m    768\u001b[0m     labels \u001b[38;5;241m=\u001b[39m ensure_index(labels)\n\u001b[0;32m--> 769\u001b[0m     \u001b[38;5;28;43mself\u001b[39;49m\u001b[38;5;241;43m.\u001b[39;49m\u001b[43m_mgr\u001b[49m\u001b[38;5;241;43m.\u001b[39;49m\u001b[43mset_axis\u001b[49m\u001b[43m(\u001b[49m\u001b[43maxis\u001b[49m\u001b[43m,\u001b[49m\u001b[43m \u001b[49m\u001b[43mlabels\u001b[49m\u001b[43m)\u001b[49m\n\u001b[1;32m    770\u001b[0m     \u001b[38;5;28mself\u001b[39m\u001b[38;5;241m.\u001b[39m_clear_item_cache()\n",
      "File \u001b[0;32m~/anaconda3/lib/python3.9/site-packages/pandas/core/internals/managers.py:214\u001b[0m, in \u001b[0;36mBaseBlockManager.set_axis\u001b[0;34m(self, axis, new_labels)\u001b[0m\n\u001b[1;32m    212\u001b[0m \u001b[38;5;28;01mdef\u001b[39;00m \u001b[38;5;21mset_axis\u001b[39m(\u001b[38;5;28mself\u001b[39m, axis: \u001b[38;5;28mint\u001b[39m, new_labels: Index) \u001b[38;5;241m-\u001b[39m\u001b[38;5;241m>\u001b[39m \u001b[38;5;28;01mNone\u001b[39;00m:\n\u001b[1;32m    213\u001b[0m     \u001b[38;5;66;03m# Caller is responsible for ensuring we have an Index object.\u001b[39;00m\n\u001b[0;32m--> 214\u001b[0m     \u001b[38;5;28;43mself\u001b[39;49m\u001b[38;5;241;43m.\u001b[39;49m\u001b[43m_validate_set_axis\u001b[49m\u001b[43m(\u001b[49m\u001b[43maxis\u001b[49m\u001b[43m,\u001b[49m\u001b[43m \u001b[49m\u001b[43mnew_labels\u001b[49m\u001b[43m)\u001b[49m\n\u001b[1;32m    215\u001b[0m     \u001b[38;5;28mself\u001b[39m\u001b[38;5;241m.\u001b[39maxes[axis] \u001b[38;5;241m=\u001b[39m new_labels\n",
      "File \u001b[0;32m~/anaconda3/lib/python3.9/site-packages/pandas/core/internals/base.py:69\u001b[0m, in \u001b[0;36mDataManager._validate_set_axis\u001b[0;34m(self, axis, new_labels)\u001b[0m\n\u001b[1;32m     66\u001b[0m     \u001b[38;5;28;01mpass\u001b[39;00m\n\u001b[1;32m     68\u001b[0m \u001b[38;5;28;01melif\u001b[39;00m new_len \u001b[38;5;241m!=\u001b[39m old_len:\n\u001b[0;32m---> 69\u001b[0m     \u001b[38;5;28;01mraise\u001b[39;00m \u001b[38;5;167;01mValueError\u001b[39;00m(\n\u001b[1;32m     70\u001b[0m         \u001b[38;5;124mf\u001b[39m\u001b[38;5;124m\"\u001b[39m\u001b[38;5;124mLength mismatch: Expected axis has \u001b[39m\u001b[38;5;132;01m{\u001b[39;00mold_len\u001b[38;5;132;01m}\u001b[39;00m\u001b[38;5;124m elements, new \u001b[39m\u001b[38;5;124m\"\u001b[39m\n\u001b[1;32m     71\u001b[0m         \u001b[38;5;124mf\u001b[39m\u001b[38;5;124m\"\u001b[39m\u001b[38;5;124mvalues have \u001b[39m\u001b[38;5;132;01m{\u001b[39;00mnew_len\u001b[38;5;132;01m}\u001b[39;00m\u001b[38;5;124m elements\u001b[39m\u001b[38;5;124m\"\u001b[39m\n\u001b[1;32m     72\u001b[0m     )\n",
      "\u001b[0;31mValueError\u001b[0m: Length mismatch: Expected axis has 14 elements, new values have 4 elements"
     ]
    }
   ],
   "source": [
    "production.columns = ['entity', 'code', 'year', 'crops']"
   ]
  },
  {
   "cell_type": "code",
   "execution_count": null,
   "metadata": {
    "pycharm": {
     "name": "#%%\n"
    }
   },
   "outputs": [],
   "source": [
    "world_df = production.loc[production['entity'] == 'World']\n",
    "world_df.head()"
   ]
  },
  {
   "cell_type": "code",
   "execution_count": null,
   "metadata": {
    "pycharm": {
     "name": "#%%\n"
    }
   },
   "outputs": [],
   "source": [
    "fig = px.line(world_df, x='year', y='crops', title='Oil Palm Production')\n",
    "fig.show()"
   ]
  },
  {
   "cell_type": "code",
   "execution_count": null,
   "metadata": {
    "pycharm": {
     "name": "#%%\n"
    }
   },
   "outputs": [],
   "source": [
    "price = pd.read_csv(os.path.join(DATA, 'palm oil prices 021020 - 290422.csv'))\n",
    "price.head()"
   ]
  },
  {
   "cell_type": "code",
   "execution_count": null,
   "metadata": {
    "pycharm": {
     "name": "#%%\n"
    }
   },
   "outputs": [],
   "source": [
    "price.info()"
   ]
  },
  {
   "cell_type": "code",
   "execution_count": null,
   "metadata": {
    "pycharm": {
     "name": "#%%\n"
    }
   },
   "outputs": [],
   "source": [
    "price.columns = ['date', 'price']"
   ]
  },
  {
   "cell_type": "code",
   "execution_count": null,
   "metadata": {
    "pycharm": {
     "name": "#%%\n"
    }
   },
   "outputs": [],
   "source": [
    "price['price'] = price['price'].ffill()"
   ]
  },
  {
   "cell_type": "code",
   "execution_count": null,
   "metadata": {
    "pycharm": {
     "name": "#%%\n"
    }
   },
   "outputs": [],
   "source": [
    "fig = px.line(price, x='date', y='price', title='Palm Olein Price')\n",
    "fig.show()"
   ]
  },
  {
   "cell_type": "code",
   "execution_count": null,
   "metadata": {
    "pycharm": {
     "name": "#%%\n"
    }
   },
   "outputs": [],
   "source": [
    "# wavelet\n",
    "\n",
    "import pywt\n",
    "import numpy as np\n",
    "from statsmodels.robust import mad\n",
    "\n",
    "wavelet = pywt.Wavelet('bior1.5')\n",
    "prices = price['price'].values\n",
    "level = 5\n",
    "mode='periodic'\n",
    "coeffs = pywt.wavedec(prices, wavelet, mode=mode, level=5)\n"
   ]
  },
  {
   "cell_type": "markdown",
   "metadata": {
    "pycharm": {
     "name": "#%% md\n"
    }
   },
   "source": [
    "# The Wavelet decoding output\n",
    "- I forgot what these coefficients represent, have to check the theory of Wavelet\n",
    "- At the moment let's just park it. I just realised that I used Wavelet to denoise the signal (Wavelet smoothing) in my previous fault detection work\n",
    "-"
   ]
  },
  {
   "cell_type": "code",
   "execution_count": null,
   "metadata": {
    "pycharm": {
     "name": "#%%\n"
    }
   },
   "outputs": [],
   "source": [
    "from matplotlib import pyplot as plt\n",
    "ax = None\n",
    "if ax is None:\n",
    "    f, ax = plt.subplots(len(coeffs), figsize=(16, 9))\n",
    "\n",
    "for i, coef in enumerate(coeffs):\n",
    "    ax[i].plot(coef)"
   ]
  },
  {
   "cell_type": "code",
   "execution_count": null,
   "metadata": {
    "pycharm": {
     "name": "#%%\n"
    }
   },
   "outputs": [],
   "source": [
    "x = np.arange(len(prices))\n",
    "# calculate a threshold\n",
    "sigma = mad(coeffs[-level])\n",
    "# changing this threshold also changes the behavior\n",
    "uthresh = sigma * np.sqrt(2 * np.log(len(prices)))\n",
    "coeffs[1:] = (pywt.threshold(i, value=uthresh, mode=\"soft\") for i in coeffs[1:])\n",
    "# reconstruct the signal using the thresholded coefficients\n",
    "y = pywt.waverec(coeffs, wavelet, mode=mode)\n",
    "f, ax = plt.subplots(figsize=(16, 9))\n",
    "ax.plot(x, prices, color=\"b\", alpha=0.5, label='raw signal')\n",
    "ax.plot(x, y[:len(x)], color=\"r\", label='denoised signal')\n",
    "ax.set_xlim((0, np.max(x)))"
   ]
  },
  {
   "cell_type": "code",
   "execution_count": null,
   "metadata": {
    "pycharm": {
     "name": "#%%\n"
    }
   },
   "outputs": [],
   "source": [
    "vegetable_oil_production = pd.read_csv(os.path.join(DATA, 'vegetable-oil-production.csv'))\n",
    "vegetable_oil_production = vegetable_oil_production[vegetable_oil_production['Entity'] != 'World']\n",
    "year = vegetable_oil_production['Year'].drop_duplicates(keep='first', inplace=False)\n",
    "vegetable_oil_production.info()"
   ]
  },
  {
   "cell_type": "code",
   "execution_count": null,
   "metadata": {
    "pycharm": {
     "name": "#%%\n"
    }
   },
   "outputs": [],
   "source": [
    "veg_oil_by_country = vegetable_oil_production[~vegetable_oil_production['Code'].isnull()].copy()\n",
    "veg_oil_by_country"
   ]
  },
  {
   "cell_type": "code",
   "execution_count": null,
   "metadata": {
    "pycharm": {
     "name": "#%%\n"
    }
   },
   "outputs": [],
   "source": [
    "veg_oil_by_area = vegetable_oil_production[vegetable_oil_production['Code'].isnull()].copy()\n",
    "veg_oil_by_area"
   ]
  },
  {
   "cell_type": "code",
   "execution_count": null,
   "metadata": {
    "pycharm": {
     "name": "#%%\n"
    }
   },
   "outputs": [],
   "source": [
    "veg_oil_yearly_production = veg_oil_by_country.groupby('Year').sum()\n",
    "veg_oil_yearly_production.info()"
   ]
  },
  {
   "cell_type": "code",
   "execution_count": null,
   "metadata": {
    "pycharm": {
     "name": "#%%\n"
    }
   },
   "outputs": [],
   "source": [
    "import re\n",
    "pattern = r'(?<=Oil, ).+?(?= - \\d)'  # this is neat, please explain this\n",
    "cols = [re.search(pattern, c, re.RegexFlag.IGNORECASE)[0] for c in veg_oil_yearly_production]\n",
    "cols = [re.sub(' ', '_', c) for c in cols]\n",
    "cols = [re.sub('\\W', '', c) for c in cols]"
   ]
  },
  {
   "cell_type": "code",
   "execution_count": null,
   "metadata": {
    "pycharm": {
     "name": "#%%\n"
    }
   },
   "outputs": [],
   "source": [
    "veg_oil_yearly_production.columns = cols\n",
    "veg_oil_yearly_production.reset_index(inplace=True)\n",
    "veg_oil_yearly_production.info()"
   ]
  },
  {
   "cell_type": "code",
   "execution_count": null,
   "metadata": {
    "pycharm": {
     "name": "#%%\n"
    }
   },
   "outputs": [],
   "source": [
    "veg_oil_fig = px.area(\n",
    "    veg_oil_yearly_production,\n",
    "    x='Year',\n",
    "    y=veg_oil_yearly_production.columns[1:]\n",
    ")\n",
    "veg_oil_fig.update_traces(textfont_size=16, hovertemplate=None)\n",
    "veg_oil_fig.update_layout(hovermode=\"x\")\n",
    "\n",
    "veg_oil_fig.show()"
   ]
  },
  {
   "cell_type": "code",
   "execution_count": null,
   "metadata": {
    "pycharm": {
     "name": "#%%\n"
    }
   },
   "outputs": [],
   "source": [
    "veg_oil_yearly_production"
   ]
  },
  {
   "cell_type": "code",
   "execution_count": null,
   "metadata": {
    "pycharm": {
     "name": "#%%\n"
    }
   },
   "outputs": [],
   "source": [
    "vegetable_oil_production['Entity'].unique()"
   ]
  },
  {
   "cell_type": "code",
   "execution_count": null,
   "metadata": {
    "pycharm": {
     "name": "#%%\n"
    }
   },
   "outputs": [],
   "source": [
    "vegetable_oil_production['Code'].unique()"
   ]
  },
  {
   "cell_type": "code",
   "execution_count": null,
   "metadata": {
    "pycharm": {
     "name": "#%%\n"
    }
   },
   "outputs": [],
   "source": [
    "vegetable_oil_production[vegetable_oil_production['Code'].isnull()]"
   ]
  },
  {
   "cell_type": "code",
   "execution_count": null,
   "metadata": {
    "pycharm": {
     "name": "#%%\n"
    }
   },
   "outputs": [],
   "source": [
    "vegetable_oil_production[vegetable_oil_production['Entity'] == 'Australia']"
   ]
  },
  {
   "cell_type": "code",
   "execution_count": null,
   "metadata": {
    "pycharm": {
     "name": "#%%\n"
    }
   },
   "outputs": [],
   "source": [
    "vegetable_oil_production[vegetable_oil_production['Entity'] == 'New Zealand']"
   ]
  },
  {
   "cell_type": "code",
   "execution_count": null,
   "metadata": {
    "pycharm": {
     "name": "#%%\n"
    }
   },
   "outputs": [],
   "source": [
    "import plotly.graph_objects as go\n",
    "from ipywidgets import widgets\n",
    "help(go.Choropleth)"
   ]
  },
  {
   "cell_type": "code",
   "execution_count": null,
   "metadata": {
    "pycharm": {
     "name": "#%%\n"
    }
   },
   "outputs": [],
   "source": [
    "cols_to_rename = veg_oil_by_country.columns[3:]\n",
    "\n",
    "cols = [re.search(pattern, c, re.RegexFlag.IGNORECASE)[0] for c in cols_to_rename]\n",
    "cols = [re.sub(' ', '_', c) for c in cols]\n",
    "cols = [re.sub('\\W', '', c) for c in cols]\n",
    "\n",
    "veg_oil_by_country.columns = veg_oil_by_country.columns.tolist()[:3] + cols\n",
    "veg_oil_by_country"
   ]
  },
  {
   "cell_type": "code",
   "execution_count": null,
   "metadata": {
    "pycharm": {
     "name": "#%%\n"
    }
   },
   "outputs": [],
   "source": [
    "veg_oil_type = 'palm'\n",
    "fig = go.Figure(\n",
    "    data=go.Choropleth(\n",
    "        locations=veg_oil_by_country['Code'],\n",
    "        z=veg_oil_by_country[veg_oil_type],\n",
    "        locationmode='ISO-3',  #  \"ISO-3\" | \"USA-states\" | \"country names\"\n",
    "        colorscale='Viridis',\n",
    "        colorbar_title=veg_oil_type\n",
    "    )\n",
    ")\n",
    "fig.update_layout(\n",
    "    title_text = f'{veg_oil_type} Vegetable Oil',\n",
    ")\n",
    "\n",
    "fig.show()"
   ]
  },
  {
   "cell_type": "code",
   "execution_count": null,
   "metadata": {
    "pycharm": {
     "name": "#%%\n"
    }
   },
   "outputs": [],
   "source": [
    "geo_fig = px.choropleth(\n",
    "    veg_oil_by_country,\n",
    "    locations='Code',\n",
    "    color=veg_oil_type,\n",
    "    color_continuous_scale=px.colors.diverging.PiYG,\n",
    "    locationmode='ISO-3',\n",
    "    animation_frame='Year',\n",
    "    projection='natural earth'\n",
    ")\n",
    "geo_fig.update_layout(\n",
    "    title_text = f'{veg_oil_type} Vegetable Oil',\n",
    ")\n",
    "\n",
    "geo_fig.show()"
   ]
  },
  {
   "cell_type": "code",
   "execution_count": null,
   "metadata": {
    "pycharm": {
     "name": "#%%\n"
    }
   },
   "outputs": [],
   "source": [
    "veg_oil_by_country[veg_oil_by_country['palm'] > 40_000_000]"
   ]
  },
  {
   "cell_type": "code",
   "execution_count": null,
   "metadata": {
    "pycharm": {
     "name": "#%%\n"
    }
   },
   "outputs": [],
   "source": []
  }
 ],
 "metadata": {
  "kernelspec": {
   "display_name": "Python 3 (ipykernel)",
   "language": "python",
   "name": "python3"
  },
  "language_info": {
   "codemirror_mode": {
    "name": "ipython",
    "version": 3
   },
   "file_extension": ".py",
   "mimetype": "text/x-python",
   "name": "python",
   "nbconvert_exporter": "python",
   "pygments_lexer": "ipython3",
   "version": "3.9.12"
  }
 },
 "nbformat": 4,
 "nbformat_minor": 1
}
