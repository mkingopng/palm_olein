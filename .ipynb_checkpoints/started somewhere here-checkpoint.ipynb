{
 "cells": [
  {
   "cell_type": "code",
   "execution_count": 8,
   "metadata": {
    "pycharm": {
     "name": "#%%\n"
    }
   },
   "outputs": [],
   "source": [
    "import os\n",
    "import numpy as np\n",
    "import pandas as pd\n",
    "import matplotlib as mpl\n",
    "import matplotlib_inline\n",
    "import seaborn as sns\n",
    "import plotly.express as px\n",
    "from plotly.subplots import make_subplots\n",
    "import plotly.graph_objects as go\n",
    "\n",
    "DATA = 'data'\n",
    "POP = 'to_populate_db/'"
   ]
  },
  {
   "cell_type": "markdown",
   "metadata": {
    "pycharm": {
     "name": "#%% md\n"
    }
   },
   "source": [
    "# Background\n",
    "Over the last 60 years, Palm Olein has grown  the world's single largest vegetable oil crop. It makes up 35% of edible oil consumption globally, and is used in numerous non-food industrial applications. Production is centred in Malaysia and Indonesia.\n",
    "\n",
    "This Notebook will provide background analysis of the market for palm oil and vegetable oils. A second notebook will analyse the current market and extraordinary price levels in the palm oil market"
   ]
  },
  {
   "cell_type": "markdown",
   "metadata": {
    "pycharm": {
     "name": "#%% md\n"
    }
   },
   "source": [
    "# Palm Oil's environmental reputation\n",
    "There is a perception that palm oil is environmentally unfriendly. Public pressure appears to be having comercial effects. \"palm oil-fee\" is now a branding strategy, and some companies appear to be turning to alternatives. While it is correct that palm oil is grown in areas that were once rain forest, of the environmental impact of palm oil cultivation and refinement relative to other edible oils is more complex."
   ]
  },
  {
   "cell_type": "markdown",
   "metadata": {
    "pycharm": {
     "name": "#%% md\n"
    }
   },
   "source": [
    "# Visualisation\n",
    "- **production of palm oil**: total world production & by country and region over time. line plot\n",
    "- **vegetable oils production**: production and by oil type, country and region over time. stacked area plot\n",
    "- **imports**: which countries import the most oil? how has it changed over time?. global map/heatmap\n",
    "- **production by country**: palm oil production by country over time. global map/heatmap\n",
    "- **production by country**: horizontal bar chart with national output at end of bar.\n",
    "- **exports**: which countries export palm oil? how has it changed over time? global map/heatmap.\n",
    "- **land used for palm oil**: how much land is used for palm oil cultivation over time? line plot.\n",
    "- **land used for vegetable oil**: how much land is used for the cultivation of oil crops, by crop, by country and region, over time? stacked area plot.\n",
    "- **oil yield by crop**: a comparison of oil yield per hectare of land cultivated by crop. shows that palm oil is the most productive per hectare. horizontal bar plot showing top 10 crops\n",
    "- **price**: palm olein and other edible oil prices and other edible oil prices. line chart"
   ]
  },
  {
   "cell_type": "markdown",
   "metadata": {
    "pycharm": {
     "name": "#%% md\n"
    }
   },
   "source": []
  },
  {
   "cell_type": "markdown",
   "metadata": {
    "pycharm": {
     "name": "#%% md\n"
    }
   },
   "source": [
    "# 1) Global palm oil production\n",
    "Palm oil production has increased rapidly over the past 50 years. In 1970, the world was producing only 2 million tonnes. This is now 35 times higher: in 2018 the world produced 71 million tonnes. The change in global production is shown in the chart.3\n",
    "\n",
    "The rise of palm oil follows the rapid increase in demand for vegetable oils more broadly. The breakdown of global vegetable oil production by crop is shown in the stacked area chart. Global production increased ten-fold since the 1960s – from 17 to 170 million tonnes in 2014. **more recent data for 2018 comes to 218 million tonnes**.\n",
    "\n",
    "The story of palm oil is less about it as an isolated commodity, but more about the story of the rising demand for vegetable oils. Palm oil is a very productive crop. It produces 36% of the world’s oil, but uses less than 9% of croplands devoted to oil production. It has favourable production costs and is among the cheapest edible oils. Palm Oil has therefore been a natural choice to meet this demand.\n",
    "\n",
    "Production of palm oil has increased by **4800% over the last 60 years**. The growth has occurred to meet rising demands for vegetable oils in general. Palm oil's growth is a function of increased demand for edible oils, combined with palm oil's favourable cost of production.\n"
   ]
  },
  {
   "cell_type": "markdown",
   "metadata": {
    "pycharm": {
     "name": "#%% md\n"
    }
   },
   "source": [
    "- 1961 = 1,478,901mt\n",
    "- 2018 = 71,453,193mt\n",
    "- 48x increase in 57 years\n",
    "\n",
    "need to include a drop down menu to select countries and regions"
   ]
  },
  {
   "cell_type": "code",
   "execution_count": 9,
   "metadata": {
    "pycharm": {
     "name": "#%%\n"
    }
   },
   "outputs": [
    {
     "data": {
      "text/html": [
       "<div>\n",
       "<style scoped>\n",
       "    .dataframe tbody tr th:only-of-type {\n",
       "        vertical-align: middle;\n",
       "    }\n",
       "\n",
       "    .dataframe tbody tr th {\n",
       "        vertical-align: top;\n",
       "    }\n",
       "\n",
       "    .dataframe thead th {\n",
       "        text-align: right;\n",
       "    }\n",
       "</style>\n",
       "<table border=\"1\" class=\"dataframe\">\n",
       "  <thead>\n",
       "    <tr style=\"text-align: right;\">\n",
       "      <th></th>\n",
       "      <th>Entity</th>\n",
       "      <th>Code</th>\n",
       "      <th>Year</th>\n",
       "      <th>Crops - Oil, palm - 257 - Production - 5510 - tonnes</th>\n",
       "    </tr>\n",
       "  </thead>\n",
       "  <tbody>\n",
       "    <tr>\n",
       "      <th>0</th>\n",
       "      <td>Africa</td>\n",
       "      <td>NaN</td>\n",
       "      <td>1961</td>\n",
       "      <td>1131882</td>\n",
       "    </tr>\n",
       "    <tr>\n",
       "      <th>1</th>\n",
       "      <td>Africa</td>\n",
       "      <td>NaN</td>\n",
       "      <td>1962</td>\n",
       "      <td>1111006</td>\n",
       "    </tr>\n",
       "    <tr>\n",
       "      <th>2</th>\n",
       "      <td>Africa</td>\n",
       "      <td>NaN</td>\n",
       "      <td>1963</td>\n",
       "      <td>1145004</td>\n",
       "    </tr>\n",
       "    <tr>\n",
       "      <th>3</th>\n",
       "      <td>Africa</td>\n",
       "      <td>NaN</td>\n",
       "      <td>1964</td>\n",
       "      <td>1160831</td>\n",
       "    </tr>\n",
       "    <tr>\n",
       "      <th>4</th>\n",
       "      <td>Africa</td>\n",
       "      <td>NaN</td>\n",
       "      <td>1965</td>\n",
       "      <td>1138860</td>\n",
       "    </tr>\n",
       "  </tbody>\n",
       "</table>\n",
       "</div>"
      ],
      "text/plain": [
       "   Entity Code  Year  Crops - Oil, palm - 257 - Production - 5510 - tonnes\n",
       "0  Africa  NaN  1961                                            1131882   \n",
       "1  Africa  NaN  1962                                            1111006   \n",
       "2  Africa  NaN  1963                                            1145004   \n",
       "3  Africa  NaN  1964                                            1160831   \n",
       "4  Africa  NaN  1965                                            1138860   "
      ]
     },
     "execution_count": 9,
     "metadata": {},
     "output_type": "execute_result"
    }
   ],
   "source": [
    "prodn = pd.read_csv(os.path.join(DATA, 'palm-oil-production.csv'))  # using the data from FAO\n",
    "prodn.head()"
   ]
  },
  {
   "cell_type": "code",
   "execution_count": 10,
   "metadata": {
    "pycharm": {
     "name": "#%%\n"
    }
   },
   "outputs": [
    {
     "name": "stdout",
     "output_type": "stream",
     "text": [
      "<class 'pandas.core.frame.DataFrame'>\n",
      "RangeIndex: 3468 entries, 0 to 3467\n",
      "Data columns (total 4 columns):\n",
      " #   Column                                                Non-Null Count  Dtype \n",
      "---  ------                                                --------------  ----- \n",
      " 0   Entity                                                3468 non-null   object\n",
      " 1   Code                                                  2486 non-null   object\n",
      " 2   Year                                                  3468 non-null   int64 \n",
      " 3   Crops - Oil, palm - 257 - Production - 5510 - tonnes  3468 non-null   int64 \n",
      "dtypes: int64(2), object(2)\n",
      "memory usage: 108.5+ KB\n"
     ]
    }
   ],
   "source": [
    "prodn.info()"
   ]
  },
  {
   "cell_type": "code",
   "execution_count": 10,
   "metadata": {
    "pycharm": {
     "name": "#%%\n"
    }
   },
   "outputs": [],
   "source": []
  },
  {
   "cell_type": "code",
   "execution_count": 12,
   "metadata": {
    "pycharm": {
     "name": "#%%\n"
    }
   },
   "outputs": [
    {
     "data": {
      "text/plain": [
       "array(['Africa', 'Americas', 'Angola', 'Asia', 'Asia, Central', 'Belgium',\n",
       "       'Benin', 'Brazil', 'Burundi', 'Cambodia', 'Cameroon', 'Caribbean',\n",
       "       'Central African Republic', 'Central America', 'China', 'Colombia',\n",
       "       'Congo', 'Costa Rica', \"Cote d'Ivoire\",\n",
       "       'Democratic Republic of Congo', 'Dominican Republic',\n",
       "       'Eastern Africa', 'Eastern Asia', 'Eastern Europe', 'Ecuador',\n",
       "       'Equatorial Guinea', 'Europe', 'Europe, Western', 'European Union',\n",
       "       'Gabon', 'Gambia', 'Ghana', 'Guatemala', 'Guinea', 'Guinea-Bissau',\n",
       "       'Honduras', 'Indonesia', 'Kazakhstan',\n",
       "       'Land Locked Developing Countries', 'Least Developed Countries',\n",
       "       'Liberia', 'Low Income Food Deficit Countries', 'Madagascar',\n",
       "       'Malaysia', 'Melanesia', 'Mexico', 'Middle Africa',\n",
       "       'Net Food Importing Developing Countries', 'Nicaragua', 'Nigeria',\n",
       "       'Northern Europe', 'Norway', 'Oceania', 'Panama',\n",
       "       'Papua New Guinea', 'Paraguay', 'Peru', 'Philippines', 'Russia',\n",
       "       'Sao Tome and Principe', 'Senegal', 'Sierra Leone',\n",
       "       'Small island developing States', 'Solomon Islands',\n",
       "       'South America', 'South Eastern Asia', 'Suriname', 'Tanzania',\n",
       "       'Thailand', 'Timor', 'Togo', 'Venezuela', 'Western Africa',\n",
       "       'World'], dtype=object)"
      ]
     },
     "execution_count": 12,
     "metadata": {},
     "output_type": "execute_result"
    }
   ],
   "source": [
    "prodn['Entity'].unique()"
   ]
  },
  {
   "cell_type": "code",
   "execution_count": 13,
   "metadata": {
    "pycharm": {
     "name": "#%%\n"
    }
   },
   "outputs": [
    {
     "ename": "KeyError",
     "evalue": "'Column not found: Value'",
     "output_type": "error",
     "traceback": [
      "\u001b[0;31m---------------------------------------------------------------------------\u001b[0m",
      "\u001b[0;31mKeyError\u001b[0m                                  Traceback (most recent call last)",
      "Input \u001b[0;32mIn [13]\u001b[0m, in \u001b[0;36m<cell line: 1>\u001b[0;34m()\u001b[0m\n\u001b[0;32m----> 1\u001b[0m prodn \u001b[38;5;241m=\u001b[39m \u001b[43mprodn\u001b[49m\u001b[38;5;241;43m.\u001b[39;49m\u001b[43mgroupby\u001b[49m\u001b[43m(\u001b[49m\u001b[38;5;124;43m\"\u001b[39;49m\u001b[38;5;124;43mYear\u001b[39;49m\u001b[38;5;124;43m\"\u001b[39;49m\u001b[43m)\u001b[49m\u001b[43m[\u001b[49m\u001b[38;5;124;43m\"\u001b[39;49m\u001b[38;5;124;43mValue\u001b[39;49m\u001b[38;5;124;43m\"\u001b[39;49m\u001b[43m]\u001b[49m\u001b[38;5;241m.\u001b[39msum()\u001b[38;5;241m.\u001b[39mreset_index()  \u001b[38;5;66;03m# sum the countries to get the world total for each year\u001b[39;00m\n\u001b[1;32m      2\u001b[0m prodn\n",
      "File \u001b[0;32m~/anaconda3/envs/standardenvironment/lib/python3.9/site-packages/pandas/core/groupby/generic.py:1338\u001b[0m, in \u001b[0;36mDataFrameGroupBy.__getitem__\u001b[0;34m(self, key)\u001b[0m\n\u001b[1;32m   1329\u001b[0m \u001b[38;5;28;01mif\u001b[39;00m \u001b[38;5;28misinstance\u001b[39m(key, \u001b[38;5;28mtuple\u001b[39m) \u001b[38;5;129;01mand\u001b[39;00m \u001b[38;5;28mlen\u001b[39m(key) \u001b[38;5;241m>\u001b[39m \u001b[38;5;241m1\u001b[39m:\n\u001b[1;32m   1330\u001b[0m     \u001b[38;5;66;03m# if len == 1, then it becomes a SeriesGroupBy and this is actually\u001b[39;00m\n\u001b[1;32m   1331\u001b[0m     \u001b[38;5;66;03m# valid syntax, so don't raise warning\u001b[39;00m\n\u001b[1;32m   1332\u001b[0m     warnings\u001b[38;5;241m.\u001b[39mwarn(\n\u001b[1;32m   1333\u001b[0m         \u001b[38;5;124m\"\u001b[39m\u001b[38;5;124mIndexing with multiple keys (implicitly converted to a tuple \u001b[39m\u001b[38;5;124m\"\u001b[39m\n\u001b[1;32m   1334\u001b[0m         \u001b[38;5;124m\"\u001b[39m\u001b[38;5;124mof keys) will be deprecated, use a list instead.\u001b[39m\u001b[38;5;124m\"\u001b[39m,\n\u001b[1;32m   1335\u001b[0m         \u001b[38;5;167;01mFutureWarning\u001b[39;00m,\n\u001b[1;32m   1336\u001b[0m         stacklevel\u001b[38;5;241m=\u001b[39mfind_stack_level(),\n\u001b[1;32m   1337\u001b[0m     )\n\u001b[0;32m-> 1338\u001b[0m \u001b[38;5;28;01mreturn\u001b[39;00m \u001b[38;5;28;43msuper\u001b[39;49m\u001b[43m(\u001b[49m\u001b[43m)\u001b[49m\u001b[38;5;241;43m.\u001b[39;49m\u001b[38;5;21;43m__getitem__\u001b[39;49m\u001b[43m(\u001b[49m\u001b[43mkey\u001b[49m\u001b[43m)\u001b[49m\n",
      "File \u001b[0;32m~/anaconda3/envs/standardenvironment/lib/python3.9/site-packages/pandas/core/base.py:250\u001b[0m, in \u001b[0;36mSelectionMixin.__getitem__\u001b[0;34m(self, key)\u001b[0m\n\u001b[1;32m    248\u001b[0m \u001b[38;5;28;01melse\u001b[39;00m:\n\u001b[1;32m    249\u001b[0m     \u001b[38;5;28;01mif\u001b[39;00m key \u001b[38;5;129;01mnot\u001b[39;00m \u001b[38;5;129;01min\u001b[39;00m \u001b[38;5;28mself\u001b[39m\u001b[38;5;241m.\u001b[39mobj:\n\u001b[0;32m--> 250\u001b[0m         \u001b[38;5;28;01mraise\u001b[39;00m \u001b[38;5;167;01mKeyError\u001b[39;00m(\u001b[38;5;124mf\u001b[39m\u001b[38;5;124m\"\u001b[39m\u001b[38;5;124mColumn not found: \u001b[39m\u001b[38;5;132;01m{\u001b[39;00mkey\u001b[38;5;132;01m}\u001b[39;00m\u001b[38;5;124m\"\u001b[39m)\n\u001b[1;32m    251\u001b[0m     subset \u001b[38;5;241m=\u001b[39m \u001b[38;5;28mself\u001b[39m\u001b[38;5;241m.\u001b[39mobj[key]\n\u001b[1;32m    252\u001b[0m     ndim \u001b[38;5;241m=\u001b[39m subset\u001b[38;5;241m.\u001b[39mndim\n",
      "\u001b[0;31mKeyError\u001b[0m: 'Column not found: Value'"
     ]
    }
   ],
   "source": [
    "prodn = prodn.groupby(\"Year\")[\"Value\"].sum().reset_index()  # sum the countries to get the world total for each year\n",
    "prodn"
   ]
  },
  {
   "cell_type": "code",
   "execution_count": null,
   "metadata": {
    "pycharm": {
     "name": "#%%\n"
    }
   },
   "outputs": [],
   "source": [
    "palm_oil_prodn_fig = px.line(prodn,\n",
    "                             x=\"Year\",\n",
    "                             y=\"Value\")  # insert a new column for world\n",
    "\n",
    "palm_oil_prodn_fig.update_layout(title_text=\"<b>Global Oil Palm Production<b>\",\n",
    "                                 title_font_size=40,\n",
    "                                 legend_font_size=20,\n",
    "                                 width=1400,\n",
    "                                 height=1000)  # Add figure title\n",
    "\n",
    "palm_oil_prodn_fig.update_xaxes(title_text=\"Year\",\n",
    "                                title_font=dict(size=30,\n",
    "                                                family='Verdana',\n",
    "                                                color='white'),\n",
    "                                tickfont=dict(family='Calibri',\n",
    "                                              color='white',\n",
    "                                              size=25))  # format x-axis\n",
    "\n",
    "palm_oil_prodn_fig.update_yaxes(title_text=\"<b>Palm Oil production (mt)</b>\",\n",
    "                                title_font=dict(size=30,\n",
    "                                                family='Verdana',\n",
    "                                                color='white'),\n",
    "                                tickfont=dict(family='Calibri',\n",
    "                                              color='white',\n",
    "                                              size=25))  # Format y-axes\n",
    "\n",
    "palm_oil_prodn_fig.show()\n",
    "# To-do: format plot. button to add country or region. automation"
   ]
  },
  {
   "cell_type": "markdown",
   "metadata": {
    "pycharm": {
     "name": "#%% md\n"
    }
   },
   "source": [
    "# 2) Land used for Palm Oil Production\n",
    "\n",
    "There should be a strong correlation between increased areas under cultivation for oil palm and increased production of palm oil.\n",
    "\n",
    "Total production should effectively be the sum of total hectares under cultivation and yield per hectare. Production increases are driven by increases in land under cultivation and improving (or deteriorating) yields per hectare.\n",
    "\n",
    "- plot by country over time (stacked line plot)\n",
    "- plot by country over time (geo heat map)"
   ]
  },
  {
   "cell_type": "code",
   "execution_count": null,
   "metadata": {
    "pycharm": {
     "name": "#%%\n"
    }
   },
   "outputs": [],
   "source": [
    "land = pd.read_csv(os.path.join(DATA, 'land-use-palm-oil.csv'))\n",
    "world_land = land.loc[land['Entity'] == 'World']\n",
    "oil_palm_fruit = world_land[\"Crops - Oil palm fruit - 254 - Area harvested - 5312 - ha\"]"
   ]
  },
  {
   "cell_type": "code",
   "execution_count": null,
   "metadata": {
    "pycharm": {
     "name": "#%%\n"
    }
   },
   "outputs": [],
   "source": [
    "land_fig = px.line(world_land, x=\"Year\", y=oil_palm_fruit)\n",
    "\n",
    "# Add figure title\n",
    "land_fig.update_layout(title_text=\"<b>Land under Cultivation (Palm Oil)<b>\",title_font_size=40, legend_font_size=20, width=1400, height=1000)\n",
    "\n",
    "# format x-axis\n",
    "land_fig.update_xaxes(title_text=\"</b>Year</b>\", title_font=dict(size=30, family='Verdana', color='white'), tickfont=dict(family='Calibri', color='white', size=25))\n",
    "\n",
    "# Format y-axes\n",
    "land_fig.update_yaxes(title_text=\"<b>Palm Oil Fruit (mt)</b>\", title_font=dict(size=30, family='Verdana', color='white'), tickfont=dict(family='Calibri', color='white', size=25))\n",
    "\n",
    "land_fig.show()\n"
   ]
  },
  {
   "cell_type": "code",
   "execution_count": null,
   "metadata": {
    "pycharm": {
     "name": "#%%\n"
    }
   },
   "outputs": [],
   "source": [
    "v_oil_production = pd.read_csv(os.path.join(DATA, \"vegetable_oil_production_01062022.csv\"))\n",
    "v_oil_production"
   ]
  },
  {
   "cell_type": "code",
   "execution_count": null,
   "metadata": {
    "pycharm": {
     "name": "#%%\n"
    }
   },
   "outputs": [],
   "source": [
    "v_oil_production[\"Item\"].unique()"
   ]
  },
  {
   "cell_type": "code",
   "execution_count": null,
   "metadata": {
    "pycharm": {
     "name": "#%%\n"
    }
   },
   "outputs": [],
   "source": [
    "# need to clean, pivot & plot this to replace #3, which will become #2\n",
    "# new_df columns: \"Year\", \"Oil, cottonseed\", \"Oil, linseed\", \"Oil, olive, virgin\", \"Oil, sesame\", \"Oil, sunflower\", \"Oil, groundnut\", \"Oil, palm\", \"Oil, soybean\", \"Oil, rapeseed\", \"Oil, safflower\", \"Oil, palm kernel\""
   ]
  },
  {
   "cell_type": "markdown",
   "metadata": {
    "pycharm": {
     "name": "#%% md\n"
    }
   },
   "source": [
    "# ) Vegetable Oil Production\n",
    "- plot 1: production over time by crop. currently a simple line chart. Need to turn it into a stacked area chart\n",
    "- geo-map plot showing production by country or region over time"
   ]
  },
  {
   "cell_type": "code",
   "execution_count": null,
   "metadata": {
    "pycharm": {
     "name": "#%%\n"
    }
   },
   "outputs": [],
   "source": [
    "vegetable_oil_production = pd.read_csv(os.path.join(DATA, 'vegetable-oil-production.csv'))\n",
    "vegetable_oil_production = vegetable_oil_production[vegetable_oil_production['Entity'] != 'World']\n",
    "year = vegetable_oil_production['Year'].drop_duplicates(keep='first', inplace=False)\n",
    "vegetable_oil_production.info()"
   ]
  },
  {
   "cell_type": "code",
   "execution_count": null,
   "metadata": {
    "pycharm": {
     "name": "#%%\n"
    }
   },
   "outputs": [],
   "source": [
    "veg_oil_by_country = vegetable_oil_production[~vegetable_oil_production['Code'].isnull()].copy()\n",
    "veg_oil_by_country"
   ]
  },
  {
   "cell_type": "code",
   "execution_count": null,
   "metadata": {
    "pycharm": {
     "name": "#%%\n"
    }
   },
   "outputs": [],
   "source": [
    "veg_oil_by_area = vegetable_oil_production[vegetable_oil_production['Code'].isnull()].copy()\n",
    "veg_oil_by_area"
   ]
  },
  {
   "cell_type": "code",
   "execution_count": null,
   "metadata": {
    "pycharm": {
     "name": "#%%\n"
    }
   },
   "outputs": [],
   "source": [
    "veg_oil_yearly_production = veg_oil_by_country.groupby('Year').sum()\n",
    "veg_oil_yearly_production.info()"
   ]
  },
  {
   "cell_type": "code",
   "execution_count": null,
   "metadata": {
    "pycharm": {
     "name": "#%%\n"
    }
   },
   "outputs": [],
   "source": [
    "import re\n",
    "pattern = r'(?<=Oil, ).+?(?= - \\d)'\n",
    "cols = [re.search(pattern, c, re.RegexFlag.IGNORECASE)[0] for c in veg_oil_yearly_production]\n",
    "cols = [re.sub(' ', '_', c) for c in cols]\n",
    "cols = [re.sub('\\W', '', c) for c in cols]"
   ]
  },
  {
   "cell_type": "code",
   "execution_count": null,
   "metadata": {
    "pycharm": {
     "name": "#%%\n"
    }
   },
   "outputs": [],
   "source": [
    "veg_oil_yearly_production.columns = cols\n",
    "veg_oil_yearly_production.reset_index(inplace=True)\n",
    "veg_oil_yearly_production.info()"
   ]
  },
  {
   "cell_type": "code",
   "execution_count": null,
   "metadata": {
    "pycharm": {
     "name": "#%%\n"
    }
   },
   "outputs": [],
   "source": [
    "veg_oil_prodn_fig = px.area(\n",
    "    veg_oil_yearly_production,\n",
    "    x='Year',\n",
    "    y=veg_oil_yearly_production.columns[1:]\n",
    ")\n",
    "veg_oil_prodn_fig.update_traces(textfont_size=16, hovertemplate=None)\n",
    "veg_oil_prodn_fig.update_layout(hovermode=\"x\")\n",
    "veg_oil_prodn_fig.update_layout(title_text=\"<b>Vegetable Oil Production<b>\",title_font_size=40, legend_font_size=20, width=1800, height=1400)  # Add figure title\n",
    "veg_oil_prodn_fig.update_xaxes(title_text=\"</b>Year</b>\", title_font=dict(size=30, family='Verdana', color='white'), tickfont=dict(family='Calibri', color='white', size=25))  # format x-axis\n",
    "veg_oil_prodn_fig.update_yaxes(title_text=\"<b>Palm Oil Fruit (mt)</b>\", title_font=dict(size=30, family='Verdana', color='white'), tickfont=dict(family='Calibri', color='white', size=25))  # Format y-axes\n",
    "veg_oil_prodn_fig.show()"
   ]
  },
  {
   "cell_type": "markdown",
   "metadata": {
    "pycharm": {
     "name": "#%% md\n"
    }
   },
   "source": [
    "demand has continued to grow for eddibeloils across the board. Palm oil is not the single larges source of edible oils, followed by soy and rapeseed (canola). The historical long run trends suggest no massive changes to supply or demand.\n",
    "\n",
    "THere have however been a number of \"shocks\" that have affected the oil market.\n",
    "- pandemic\n",
    "- weather\n",
    "- war in ukraine\n",
    "\n"
   ]
  },
  {
   "cell_type": "markdown",
   "metadata": {
    "pycharm": {
     "name": "#%% md\n"
    }
   },
   "source": [
    "Who uses palm oil and what is it used for?\n",
    "\n",
    "Why has the market for palm oil – and vegetable oils more broadly – increased so rapidly? What is it used for?\n",
    "\n",
    "Palm oil is a versatile product which is used in a range of products across the world:\n",
    "- Foods: over two-thirds (68%) is used in foods ranging from margarine to chocolate, pizzas, breads and cooking oils;\n",
    "- Industrial applications: 27% is used in industrial applications and consumer products such as soaps, detergents, cosmetics and cleaning agents;\n",
    "- Bioenergy: 5% is used as biofuels for transport, electricity or heat.\n",
    "\n",
    "While food products dominate globally, this breakdown varies from country-to-country. Some countries use much more palm oil for biofuels than others. In Germany, for example, bioenergy is the largest use, accounting for 41% (more than food at 40%). A push towards increased biofuel consumption in the transport sector has been driving this, despite it being worse for the environment than normal diesel.\n",
    "\n",
    "In the next section we will look at what countries produce palm oil, but here we see a map of palm oil imports. Although production is focused in only a few countries across the tropical belt, we see that palm oil is an important product across the world.\n"
   ]
  },
  {
   "cell_type": "markdown",
   "metadata": {
    "pycharm": {
     "name": "#%% md\n"
    }
   },
   "source": [
    "# Which Countries Import Palm oil\n",
    "\n"
   ]
  },
  {
   "cell_type": "markdown",
   "metadata": {
    "pycharm": {
     "name": "#%% md\n"
    }
   },
   "source": [
    "# Where is palm oil grown?\n",
    "\n",
    "Oil palm is a tropical plant species. It thrives on high rainfall, adequate sunlight and humid conditions – this means the best growing areas are along a narrow band around the equator.4 Palm oil is therefore grown in many countries across Africa, South America, and Southeast Asia. In the map we see the distribution of production across the world.\n",
    "\n",
    "Small amounts of palm oil are grown in many countries, but the global market is dominated by only two: Indonesia and Malaysia. In 2018, the world produced 72 million tonnes of oil palm. Indonesia accounted for 57% of this (41 million tonnes), and Malaysia produced 27% (20 million tonnes).\n",
    "\n",
    "84% of global palm oil production comes from Indonesia and Malaysia.\n",
    "\n",
    "In the chart we see the production of the palm oil plant across a number of countries. Other producers include Thailand, Colombia, Nigeria, Guatemala, and Ecuador. As we’d expect, all of these countries lie along the zone of ‘optimal conditions’ around the equator."
   ]
  },
  {
   "cell_type": "code",
   "execution_count": null,
   "metadata": {
    "pycharm": {
     "name": "#%%\n"
    }
   },
   "outputs": [],
   "source": [
    "veg_oil_yearly_production"
   ]
  },
  {
   "cell_type": "code",
   "execution_count": null,
   "metadata": {
    "pycharm": {
     "name": "#%%\n"
    }
   },
   "outputs": [],
   "source": [
    "vegetable_oil_production['Entity'].unique()"
   ]
  },
  {
   "cell_type": "code",
   "execution_count": null,
   "metadata": {
    "pycharm": {
     "name": "#%%\n"
    }
   },
   "outputs": [],
   "source": [
    "vegetable_oil_production['Code'].unique()"
   ]
  },
  {
   "cell_type": "code",
   "execution_count": null,
   "metadata": {
    "pycharm": {
     "name": "#%%\n"
    }
   },
   "outputs": [],
   "source": [
    "vegetable_oil_production[vegetable_oil_production['Code'].isnull()]"
   ]
  },
  {
   "cell_type": "code",
   "execution_count": null,
   "metadata": {
    "pycharm": {
     "name": "#%%\n"
    }
   },
   "outputs": [],
   "source": [
    "vegetable_oil_production[vegetable_oil_production['Entity'] == 'Australia']"
   ]
  },
  {
   "cell_type": "code",
   "execution_count": null,
   "metadata": {
    "pycharm": {
     "name": "#%%\n"
    }
   },
   "outputs": [],
   "source": [
    "vegetable_oil_production[vegetable_oil_production['Entity'] == 'New Zealand']"
   ]
  },
  {
   "cell_type": "code",
   "execution_count": null,
   "metadata": {
    "pycharm": {
     "name": "#%%\n"
    }
   },
   "outputs": [],
   "source": [
    "import plotly.graph_objects as go\n",
    "from ipywidgets import widgets\n",
    "help(go.Choropleth)"
   ]
  },
  {
   "cell_type": "code",
   "execution_count": null,
   "metadata": {
    "pycharm": {
     "name": "#%%\n"
    }
   },
   "outputs": [],
   "source": [
    "cols_to_rename = veg_oil_by_country.columns[3:]\n",
    "\n",
    "cols = [re.search(pattern, c, re.RegexFlag.IGNORECASE)[0] for c in cols_to_rename]\n",
    "cols = [re.sub(' ', '_', c) for c in cols]\n",
    "cols = [re.sub('\\W', '', c) for c in cols]\n",
    "\n",
    "veg_oil_by_country.columns = veg_oil_by_country.columns.tolist()[:3] + cols\n",
    "veg_oil_by_country"
   ]
  },
  {
   "cell_type": "code",
   "execution_count": null,
   "metadata": {
    "pycharm": {
     "name": "#%%\n"
    }
   },
   "outputs": [],
   "source": [
    "veg_oil_type = 'palm'\n",
    "fig = go.Figure(\n",
    "    data=go.Choropleth(\n",
    "        locations=veg_oil_by_country['Code'],\n",
    "        z=veg_oil_by_country[veg_oil_type],\n",
    "        locationmode='ISO-3',  #  \"ISO-3\" | \"USA-states\" | \"country names\"\n",
    "        colorscale='Viridis',\n",
    "        colorbar_title=veg_oil_type\n",
    "    )\n",
    ")\n",
    "fig.update_layout(\n",
    "    title_text = f'{veg_oil_type} Vegetable Oil Production',\n",
    ")\n",
    "\n",
    "fig.show()"
   ]
  },
  {
   "cell_type": "code",
   "execution_count": null,
   "metadata": {
    "pycharm": {
     "name": "#%%\n"
    }
   },
   "outputs": [],
   "source": [
    "# this also looks like production. need to find the data for imports and plot that\n",
    "\n",
    "geo_fig = px.choropleth(\n",
    "    veg_oil_by_country,\n",
    "    locations='Code',\n",
    "    color=veg_oil_type,\n",
    "    color_continuous_scale=px.colors.diverging.PiYG,\n",
    "    locationmode='ISO-3',\n",
    "    animation_frame='Year',\n",
    "    projection='natural earth'\n",
    ")\n",
    "geo_fig.update_layout(\n",
    "    title_text = f'{veg_oil_type} Vegetable Oil',\n",
    ")\n",
    "\n",
    "geo_fig.show()"
   ]
  },
  {
   "cell_type": "code",
   "execution_count": null,
   "metadata": {
    "pycharm": {
     "name": "#%%\n"
    }
   },
   "outputs": [],
   "source": [
    "veg_oil_by_country[veg_oil_by_country['palm'] > 40_000_000]"
   ]
  },
  {
   "cell_type": "code",
   "execution_count": null,
   "metadata": {
    "pycharm": {
     "name": "#%%\n"
    }
   },
   "outputs": [],
   "source": [
    "oil_yield = pd.read_csv(os.path.join(DATA, \"oil-yield-by-crop.csv\"))\n",
    "oil_yield.head()"
   ]
  },
  {
   "cell_type": "markdown",
   "metadata": {
    "pycharm": {
     "name": "#%% md\n"
    }
   },
   "source": [
    "# 5) Export Volumes\n",
    "are a very good way to look at total volumes. Most palm oi is exported as evidenced by comparing the importer country vs the"
   ]
  },
  {
   "cell_type": "code",
   "execution_count": null,
   "metadata": {
    "pycharm": {
     "name": "#%%\n"
    }
   },
   "outputs": [],
   "source": [
    "imports = pd.read_csv(os.path.join(DATA, 'vegetable-oil-production.csv'))\n",
    "# imports.head()\n",
    "year = imports['Year']\n",
    "imports = imports.groupby(year).sum()\n",
    "imports"
   ]
  },
  {
   "cell_type": "code",
   "execution_count": null,
   "metadata": {
    "pycharm": {
     "name": "#%%\n"
    }
   },
   "outputs": [],
   "source": [
    "oil_production = pd.read_csv(os.path.join(DATA, 'vegetable-oil-production.csv'))\n",
    "oil_production.head()"
   ]
  }
 ],
 "metadata": {
  "kernelspec": {
   "display_name": "Python 3 (ipykernel)",
   "language": "python",
   "name": "python3"
  },
  "language_info": {
   "codemirror_mode": {
    "name": "ipython",
    "version": 3
   },
   "file_extension": ".py",
   "mimetype": "text/x-python",
   "name": "python",
   "nbconvert_exporter": "python",
   "pygments_lexer": "ipython3",
   "version": "3.9.12"
  }
 },
 "nbformat": 4,
 "nbformat_minor": 1
}
