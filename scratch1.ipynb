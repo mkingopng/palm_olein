{
 "cells": [
  {
   "cell_type": "code",
   "execution_count": 12,
   "outputs": [],
   "source": [
    "import os\n",
    "import pandas as pd\n",
    "import matplotlib as mpl\n",
    "import matplotlib_inline\n",
    "import seaborn as sns\n",
    "import plotly.express as px\n",
    "from plotly.subplots import make_subplots\n",
    "from scipy.spatial.ckdtree import coo_entries\n",
    "\n",
    "DATA = 'data'"
   ],
   "metadata": {
    "collapsed": false,
    "pycharm": {
     "name": "#%%\n"
    }
   }
  },
  {
   "cell_type": "code",
   "execution_count": 13,
   "metadata": {
    "collapsed": true,
    "pycharm": {
     "name": "#%%\n"
    }
   },
   "outputs": [
    {
     "name": "stdout",
     "output_type": "stream",
     "text": [
      "<class 'pandas.core.frame.DataFrame'>\n",
      "Int64Index: 11010 entries, 0 to 11063\n",
      "Data columns (total 16 columns):\n",
      " #   Column                                                                     Non-Null Count  Dtype  \n",
      "---  ------                                                                     --------------  -----  \n",
      " 0   Entity                                                                     11010 non-null  object \n",
      " 1   Code                                                                       9269 non-null   object \n",
      " 2   Year                                                                       11010 non-null  int64  \n",
      " 3   Crops processed - Oil, soybean - 237 - Production - 5510 - tonnes          5685 non-null   float64\n",
      " 4   Crops processed - Oil, sesame - 290 - Production - 5510 - tonnes           4158 non-null   float64\n",
      " 5   Crops processed - Oil, linseed - 334 - Production - 5510 - tonnes          4333 non-null   float64\n",
      " 6   Crops processed - Oil, palm - 257 - Production - 5510 - tonnes             3196 non-null   float64\n",
      " 7   Crops processed - Oil, rapeseed - 271 - Production - 5510 - tonnes         3860 non-null   float64\n",
      " 8   Crops processed - Oil, groundnut - 244 - Production - 5510 - tonnes        6333 non-null   float64\n",
      " 9   Crops processed - Oil, cottonseed - 331 - Production - 5510 - tonnes       6441 non-null   float64\n",
      " 10  Crops processed - Oil, coconut (copra) - 252 - Production - 5510 - tonnes  6358 non-null   float64\n",
      " 11  Crops processed - Oil, olive, virgin - 261 - Production - 5510 - tonnes    2518 non-null   float64\n",
      " 12  Crops processed - Oil, safflower - 281 - Production - 5510 - tonnes        1956 non-null   float64\n",
      " 13  Crops processed - Oil, sunflower - 268 - Production - 5510 - tonnes        4851 non-null   float64\n",
      " 14  Crops processed - Oil, maize - 60 - Production - 5510 - tonnes             3789 non-null   float64\n",
      " 15  Crops processed - Oil, palm kernel - 258 - Production - 5510 - tonnes      4017 non-null   float64\n",
      "dtypes: float64(13), int64(1), object(2)\n",
      "memory usage: 1.4+ MB\n"
     ]
    }
   ],
   "source": [
    "vegetable_oil_production = pd.read_csv(os.path.join(DATA, 'vegetable-oil-production.csv'))  # need to change the code to use FAO data\n",
    "vegetable_oil_production = vegetable_oil_production[vegetable_oil_production['Entity'] != 'World']\n",
    "year = vegetable_oil_production['Year'].drop_duplicates(keep='first', inplace=False)\n",
    "vegetable_oil_production.info()"
   ]
  },
  {
   "cell_type": "code",
   "execution_count": 14,
   "outputs": [
    {
     "data": {
      "text/plain": "            Entity Code  Year  \\\n0      Afghanistan  AFG  1961   \n1      Afghanistan  AFG  1962   \n2      Afghanistan  AFG  1963   \n3      Afghanistan  AFG  1964   \n4      Afghanistan  AFG  1965   \n...            ...  ...   ...   \n11059     Zimbabwe  ZWE  1969   \n11060     Zimbabwe  ZWE  1970   \n11061     Zimbabwe  ZWE  1971   \n11062     Zimbabwe  ZWE  1972   \n11063     Zimbabwe  ZWE  1973   \n\n       Crops processed - Oil, soybean - 237 - Production - 5510 - tonnes  \\\n0                                                    NaN                   \n1                                                    NaN                   \n2                                                    NaN                   \n3                                                    NaN                   \n4                                                    NaN                   \n...                                                  ...                   \n11059                                                NaN                   \n11060                                                NaN                   \n11061                                                NaN                   \n11062                                                NaN                   \n11063                                                NaN                   \n\n       Crops processed - Oil, sesame - 290 - Production - 5510 - tonnes  \\\n0                                                 2253.0                  \n1                                                 1876.0                  \n2                                                 1831.0                  \n3                                                 2722.0                  \n4                                                 2821.0                  \n...                                                  ...                  \n11059                                                NaN                  \n11060                                                NaN                  \n11061                                                NaN                  \n11062                                                NaN                  \n11063                                                NaN                  \n\n       Crops processed - Oil, linseed - 334 - Production - 5510 - tonnes  \\\n0                                                 3531.0                   \n1                                                 3701.0                   \n2                                                 2857.0                   \n3                                                 3377.0                   \n4                                                 4327.0                   \n...                                                  ...                   \n11059                                                NaN                   \n11060                                                NaN                   \n11061                                                NaN                   \n11062                                                NaN                   \n11063                                                NaN                   \n\n       Crops processed - Oil, palm - 257 - Production - 5510 - tonnes  \\\n0                                                    NaN                \n1                                                    NaN                \n2                                                    NaN                \n3                                                    NaN                \n4                                                    NaN                \n...                                                  ...                \n11059                                                NaN                \n11060                                                NaN                \n11061                                                NaN                \n11062                                                NaN                \n11063                                                NaN                \n\n       Crops processed - Oil, rapeseed - 271 - Production - 5510 - tonnes  \\\n0                                                    NaN                    \n1                                                    NaN                    \n2                                                    NaN                    \n3                                                    NaN                    \n4                                                    NaN                    \n...                                                  ...                    \n11059                                                NaN                    \n11060                                                NaN                    \n11061                                                NaN                    \n11062                                                NaN                    \n11063                                                NaN                    \n\n       Crops processed - Oil, groundnut - 244 - Production - 5510 - tonnes  \\\n0                                                    NaN                     \n1                                                    NaN                     \n2                                                    NaN                     \n3                                                    NaN                     \n4                                                    NaN                     \n...                                                  ...                     \n11059                                             4242.0                     \n11060                                             6006.0                     \n11061                                             4284.0                     \n11062                                             7980.0                     \n11063                                             9240.0                     \n\n       Crops processed - Oil, cottonseed - 331 - Production - 5510 - tonnes  \\\n0                                                 4997.0                      \n1                                                 7716.0                      \n2                                                11742.0                      \n3                                                 7960.0                      \n4                                                 7926.0                      \n...                                                  ...                      \n11059                                             3004.0                      \n11060                                             9180.0                      \n11061                                            10926.0                      \n11062                                            11844.0                      \n11063                                            14958.0                      \n\n       Crops processed - Oil, coconut (copra) - 252 - Production - 5510 - tonnes  \\\n0                                                    NaN                           \n1                                                    NaN                           \n2                                                    NaN                           \n3                                                    NaN                           \n4                                                    NaN                           \n...                                                  ...                           \n11059                                                NaN                           \n11060                                                NaN                           \n11061                                                NaN                           \n11062                                                NaN                           \n11063                                                NaN                           \n\n       Crops processed - Oil, olive, virgin - 261 - Production - 5510 - tonnes  \\\n0                                                   82.0                         \n1                                                   90.0                         \n2                                                   82.0                         \n3                                                   90.0                         \n4                                                   82.0                         \n...                                                  ...                         \n11059                                                NaN                         \n11060                                                NaN                         \n11061                                                NaN                         \n11062                                                NaN                         \n11063                                                NaN                         \n\n       Crops processed - Oil, safflower - 281 - Production - 5510 - tonnes  \\\n0                                                    NaN                     \n1                                                    NaN                     \n2                                                    NaN                     \n3                                                    NaN                     \n4                                                    NaN                     \n...                                                  ...                     \n11059                                                NaN                     \n11060                                                NaN                     \n11061                                                NaN                     \n11062                                                NaN                     \n11063                                                NaN                     \n\n       Crops processed - Oil, sunflower - 268 - Production - 5510 - tonnes  \\\n0                                                 2938.0                     \n1                                                 3138.0                     \n2                                                 3138.0                     \n3                                                 3138.0                     \n4                                                 3238.0                     \n...                                                  ...                     \n11059                                              333.0                     \n11060                                              832.0                     \n11061                                              666.0                     \n11062                                              999.0                     \n11063                                              666.0                     \n\n       Crops processed - Oil, maize - 60 - Production - 5510 - tonnes  \\\n0                                                    NaN                \n1                                                    NaN                \n2                                                    NaN                \n3                                                    NaN                \n4                                                    NaN                \n...                                                  ...                \n11059                                             1800.0                \n11060                                             2250.0                \n11061                                             3600.0                \n11062                                             4500.0                \n11063                                             5400.0                \n\n       Crops processed - Oil, palm kernel - 258 - Production - 5510 - tonnes  \n0                                                    NaN                      \n1                                                    NaN                      \n2                                                    NaN                      \n3                                                    NaN                      \n4                                                    NaN                      \n...                                                  ...                      \n11059                                                NaN                      \n11060                                                NaN                      \n11061                                                NaN                      \n11062                                                NaN                      \n11063                                                NaN                      \n\n[9269 rows x 16 columns]",
      "text/html": "<div>\n<style scoped>\n    .dataframe tbody tr th:only-of-type {\n        vertical-align: middle;\n    }\n\n    .dataframe tbody tr th {\n        vertical-align: top;\n    }\n\n    .dataframe thead th {\n        text-align: right;\n    }\n</style>\n<table border=\"1\" class=\"dataframe\">\n  <thead>\n    <tr style=\"text-align: right;\">\n      <th></th>\n      <th>Entity</th>\n      <th>Code</th>\n      <th>Year</th>\n      <th>Crops processed - Oil, soybean - 237 - Production - 5510 - tonnes</th>\n      <th>Crops processed - Oil, sesame - 290 - Production - 5510 - tonnes</th>\n      <th>Crops processed - Oil, linseed - 334 - Production - 5510 - tonnes</th>\n      <th>Crops processed - Oil, palm - 257 - Production - 5510 - tonnes</th>\n      <th>Crops processed - Oil, rapeseed - 271 - Production - 5510 - tonnes</th>\n      <th>Crops processed - Oil, groundnut - 244 - Production - 5510 - tonnes</th>\n      <th>Crops processed - Oil, cottonseed - 331 - Production - 5510 - tonnes</th>\n      <th>Crops processed - Oil, coconut (copra) - 252 - Production - 5510 - tonnes</th>\n      <th>Crops processed - Oil, olive, virgin - 261 - Production - 5510 - tonnes</th>\n      <th>Crops processed - Oil, safflower - 281 - Production - 5510 - tonnes</th>\n      <th>Crops processed - Oil, sunflower - 268 - Production - 5510 - tonnes</th>\n      <th>Crops processed - Oil, maize - 60 - Production - 5510 - tonnes</th>\n      <th>Crops processed - Oil, palm kernel - 258 - Production - 5510 - tonnes</th>\n    </tr>\n  </thead>\n  <tbody>\n    <tr>\n      <th>0</th>\n      <td>Afghanistan</td>\n      <td>AFG</td>\n      <td>1961</td>\n      <td>NaN</td>\n      <td>2253.0</td>\n      <td>3531.0</td>\n      <td>NaN</td>\n      <td>NaN</td>\n      <td>NaN</td>\n      <td>4997.0</td>\n      <td>NaN</td>\n      <td>82.0</td>\n      <td>NaN</td>\n      <td>2938.0</td>\n      <td>NaN</td>\n      <td>NaN</td>\n    </tr>\n    <tr>\n      <th>1</th>\n      <td>Afghanistan</td>\n      <td>AFG</td>\n      <td>1962</td>\n      <td>NaN</td>\n      <td>1876.0</td>\n      <td>3701.0</td>\n      <td>NaN</td>\n      <td>NaN</td>\n      <td>NaN</td>\n      <td>7716.0</td>\n      <td>NaN</td>\n      <td>90.0</td>\n      <td>NaN</td>\n      <td>3138.0</td>\n      <td>NaN</td>\n      <td>NaN</td>\n    </tr>\n    <tr>\n      <th>2</th>\n      <td>Afghanistan</td>\n      <td>AFG</td>\n      <td>1963</td>\n      <td>NaN</td>\n      <td>1831.0</td>\n      <td>2857.0</td>\n      <td>NaN</td>\n      <td>NaN</td>\n      <td>NaN</td>\n      <td>11742.0</td>\n      <td>NaN</td>\n      <td>82.0</td>\n      <td>NaN</td>\n      <td>3138.0</td>\n      <td>NaN</td>\n      <td>NaN</td>\n    </tr>\n    <tr>\n      <th>3</th>\n      <td>Afghanistan</td>\n      <td>AFG</td>\n      <td>1964</td>\n      <td>NaN</td>\n      <td>2722.0</td>\n      <td>3377.0</td>\n      <td>NaN</td>\n      <td>NaN</td>\n      <td>NaN</td>\n      <td>7960.0</td>\n      <td>NaN</td>\n      <td>90.0</td>\n      <td>NaN</td>\n      <td>3138.0</td>\n      <td>NaN</td>\n      <td>NaN</td>\n    </tr>\n    <tr>\n      <th>4</th>\n      <td>Afghanistan</td>\n      <td>AFG</td>\n      <td>1965</td>\n      <td>NaN</td>\n      <td>2821.0</td>\n      <td>4327.0</td>\n      <td>NaN</td>\n      <td>NaN</td>\n      <td>NaN</td>\n      <td>7926.0</td>\n      <td>NaN</td>\n      <td>82.0</td>\n      <td>NaN</td>\n      <td>3238.0</td>\n      <td>NaN</td>\n      <td>NaN</td>\n    </tr>\n    <tr>\n      <th>...</th>\n      <td>...</td>\n      <td>...</td>\n      <td>...</td>\n      <td>...</td>\n      <td>...</td>\n      <td>...</td>\n      <td>...</td>\n      <td>...</td>\n      <td>...</td>\n      <td>...</td>\n      <td>...</td>\n      <td>...</td>\n      <td>...</td>\n      <td>...</td>\n      <td>...</td>\n      <td>...</td>\n    </tr>\n    <tr>\n      <th>11059</th>\n      <td>Zimbabwe</td>\n      <td>ZWE</td>\n      <td>1969</td>\n      <td>NaN</td>\n      <td>NaN</td>\n      <td>NaN</td>\n      <td>NaN</td>\n      <td>NaN</td>\n      <td>4242.0</td>\n      <td>3004.0</td>\n      <td>NaN</td>\n      <td>NaN</td>\n      <td>NaN</td>\n      <td>333.0</td>\n      <td>1800.0</td>\n      <td>NaN</td>\n    </tr>\n    <tr>\n      <th>11060</th>\n      <td>Zimbabwe</td>\n      <td>ZWE</td>\n      <td>1970</td>\n      <td>NaN</td>\n      <td>NaN</td>\n      <td>NaN</td>\n      <td>NaN</td>\n      <td>NaN</td>\n      <td>6006.0</td>\n      <td>9180.0</td>\n      <td>NaN</td>\n      <td>NaN</td>\n      <td>NaN</td>\n      <td>832.0</td>\n      <td>2250.0</td>\n      <td>NaN</td>\n    </tr>\n    <tr>\n      <th>11061</th>\n      <td>Zimbabwe</td>\n      <td>ZWE</td>\n      <td>1971</td>\n      <td>NaN</td>\n      <td>NaN</td>\n      <td>NaN</td>\n      <td>NaN</td>\n      <td>NaN</td>\n      <td>4284.0</td>\n      <td>10926.0</td>\n      <td>NaN</td>\n      <td>NaN</td>\n      <td>NaN</td>\n      <td>666.0</td>\n      <td>3600.0</td>\n      <td>NaN</td>\n    </tr>\n    <tr>\n      <th>11062</th>\n      <td>Zimbabwe</td>\n      <td>ZWE</td>\n      <td>1972</td>\n      <td>NaN</td>\n      <td>NaN</td>\n      <td>NaN</td>\n      <td>NaN</td>\n      <td>NaN</td>\n      <td>7980.0</td>\n      <td>11844.0</td>\n      <td>NaN</td>\n      <td>NaN</td>\n      <td>NaN</td>\n      <td>999.0</td>\n      <td>4500.0</td>\n      <td>NaN</td>\n    </tr>\n    <tr>\n      <th>11063</th>\n      <td>Zimbabwe</td>\n      <td>ZWE</td>\n      <td>1973</td>\n      <td>NaN</td>\n      <td>NaN</td>\n      <td>NaN</td>\n      <td>NaN</td>\n      <td>NaN</td>\n      <td>9240.0</td>\n      <td>14958.0</td>\n      <td>NaN</td>\n      <td>NaN</td>\n      <td>NaN</td>\n      <td>666.0</td>\n      <td>5400.0</td>\n      <td>NaN</td>\n    </tr>\n  </tbody>\n</table>\n<p>9269 rows × 16 columns</p>\n</div>"
     },
     "execution_count": 14,
     "metadata": {},
     "output_type": "execute_result"
    }
   ],
   "source": [
    "veg_oil_by_country = vegetable_oil_production[~vegetable_oil_production['Code'].isnull()].copy()\n",
    "veg_oil_by_country"
   ],
   "metadata": {
    "collapsed": false,
    "pycharm": {
     "name": "#%%\n"
    }
   }
  },
  {
   "cell_type": "code",
   "execution_count": 15,
   "outputs": [
    {
     "data": {
      "text/plain": "             Entity Code  Year  \\\n54           Africa  NaN  1961   \n55           Africa  NaN  1962   \n56           Africa  NaN  1963   \n57           Africa  NaN  1964   \n58           Africa  NaN  1965   \n...             ...  ...   ...   \n10812  Western Asia  NaN  2010   \n10813  Western Asia  NaN  2011   \n10814  Western Asia  NaN  2012   \n10815  Western Asia  NaN  2013   \n10816  Western Asia  NaN  2014   \n\n       Crops processed - Oil, soybean - 237 - Production - 5510 - tonnes  \\\n54                                                2337.0                   \n55                                                2893.0                   \n56                                                 853.0                   \n57                                                2312.0                   \n58                                                1984.0                   \n...                                                  ...                   \n10812                                           528876.0                   \n10813                                           455841.0                   \n10814                                           395594.0                   \n10815                                           391071.0                   \n10816                                           285538.0                   \n\n       Crops processed - Oil, sesame - 290 - Production - 5510 - tonnes  \\\n54                                               23706.0                  \n55                                               30158.0                  \n56                                               30177.0                  \n57                                               25252.0                  \n58                                               29208.0                  \n...                                                  ...                  \n10812                                            92769.0                  \n10813                                            89268.0                  \n10814                                            91205.0                  \n10815                                            82693.0                  \n10816                                            83994.0                  \n\n       Crops processed - Oil, linseed - 334 - Production - 5510 - tonnes  \\\n54                                               10917.0                   \n55                                                9627.0                   \n56                                                7144.0                   \n57                                               10791.0                   \n58                                               14285.0                   \n...                                                  ...                   \n10812                                             2270.0                   \n10813                                            12924.0                   \n10814                                            34718.0                   \n10815                                            16731.0                   \n10816                                            76222.0                   \n\n       Crops processed - Oil, palm - 257 - Production - 5510 - tonnes  \\\n54                                             1131882.0                \n55                                             1111006.0                \n56                                             1145004.0                \n57                                             1160831.0                \n58                                             1138860.0                \n...                                                  ...                \n10812                                                NaN                \n10813                                                NaN                \n10814                                                NaN                \n10815                                                NaN                \n10816                                                NaN                \n\n       Crops processed - Oil, rapeseed - 271 - Production - 5510 - tonnes  \\\n54                                               31180.0                    \n55                                               22141.0                    \n56                                               28708.0                    \n57                                               26614.0                    \n58                                               24215.0                    \n...                                                  ...                    \n10812                                           478099.0                    \n10813                                           446379.0                    \n10814                                           378278.0                    \n10815                                           369019.0                    \n10816                                           370035.0                    \n\n       Crops processed - Oil, groundnut - 244 - Production - 5510 - tonnes  \\\n54                                              448152.0                     \n55                                              517235.0                     \n56                                              577561.0                     \n57                                              552984.0                     \n58                                              646906.0                     \n...                                                  ...                     \n10812                                            11589.0                     \n10813                                            10886.0                     \n10814                                             9998.0                     \n10815                                             9577.0                     \n10816                                             7783.0                     \n\n       Crops processed - Oil, cottonseed - 331 - Production - 5510 - tonnes  \\\n54                                              166846.0                      \n55                                              163605.0                      \n56                                              211456.0                      \n57                                              180852.0                      \n58                                              242830.0                      \n...                                                  ...                      \n10812                                           286082.0                      \n10813                                           332377.0                      \n10814                                           308910.0                      \n10815                                           280947.0                      \n10816                                            87898.0                      \n\n       Crops processed - Oil, coconut (copra) - 252 - Production - 5510 - tonnes  \\\n54                                               35923.0                           \n55                                               37781.0                           \n56                                               44069.0                           \n57                                               42435.0                           \n58                                               42180.0                           \n...                                                  ...                           \n10812                                                7.0                           \n10813                                              227.0                           \n10814                                              133.0                           \n10815                                               27.0                           \n10816                                               27.0                           \n\n       Crops processed - Oil, olive, virgin - 261 - Production - 5510 - tonnes  \\\n54                                               77143.0                         \n55                                               87970.0                         \n56                                              143734.0                         \n57                                              143327.0                         \n58                                              112610.0                         \n...                                                  ...                         \n10812                                           443892.0                         \n10813                                           461490.0                         \n10814                                           471316.0                         \n10815                                           416862.0                         \n10816                                           261002.0                         \n\n       Crops processed - Oil, safflower - 281 - Production - 5510 - tonnes  \\\n54                                                3810.0                     \n55                                                3752.0                     \n56                                                3818.0                     \n57                                                3703.0                     \n58                                                3784.0                     \n...                                                  ...                     \n10812                                                0.0                     \n10813                                                0.0                     \n10814                                               37.0                     \n10815                                               42.0                     \n10816                                               50.0                     \n\n       Crops processed - Oil, sunflower - 268 - Production - 5510 - tonnes  \\\n54                                               33811.0                     \n55                                               30479.0                     \n56                                               33889.0                     \n57                                               30011.0                     \n58                                               27358.0                     \n...                                                  ...                     \n10812                                           744693.0                     \n10813                                           838192.0                     \n10814                                           795581.0                     \n10815                                           837072.0                     \n10816                                           752498.0                     \n\n       Crops processed - Oil, maize - 60 - Production - 5510 - tonnes  \\\n54                                               60192.0                \n55                                               62217.0                \n56                                               64525.0                \n57                                               62547.0                \n58                                               65229.0                \n...                                                  ...                \n10812                                            68699.0                \n10813                                            64937.0                \n10814                                            82235.0                \n10815                                            98291.0                \n10816                                           202407.0                \n\n       Crops processed - Oil, palm kernel - 258 - Production - 5510 - tonnes  \n54                                               77279.0                      \n55                                               72627.0                      \n56                                               67875.0                      \n57                                               78443.0                      \n58                                               95883.0                      \n...                                                  ...                      \n10812                                                NaN                      \n10813                                                NaN                      \n10814                                                NaN                      \n10815                                                NaN                      \n10816                                                NaN                      \n\n[1741 rows x 16 columns]",
      "text/html": "<div>\n<style scoped>\n    .dataframe tbody tr th:only-of-type {\n        vertical-align: middle;\n    }\n\n    .dataframe tbody tr th {\n        vertical-align: top;\n    }\n\n    .dataframe thead th {\n        text-align: right;\n    }\n</style>\n<table border=\"1\" class=\"dataframe\">\n  <thead>\n    <tr style=\"text-align: right;\">\n      <th></th>\n      <th>Entity</th>\n      <th>Code</th>\n      <th>Year</th>\n      <th>Crops processed - Oil, soybean - 237 - Production - 5510 - tonnes</th>\n      <th>Crops processed - Oil, sesame - 290 - Production - 5510 - tonnes</th>\n      <th>Crops processed - Oil, linseed - 334 - Production - 5510 - tonnes</th>\n      <th>Crops processed - Oil, palm - 257 - Production - 5510 - tonnes</th>\n      <th>Crops processed - Oil, rapeseed - 271 - Production - 5510 - tonnes</th>\n      <th>Crops processed - Oil, groundnut - 244 - Production - 5510 - tonnes</th>\n      <th>Crops processed - Oil, cottonseed - 331 - Production - 5510 - tonnes</th>\n      <th>Crops processed - Oil, coconut (copra) - 252 - Production - 5510 - tonnes</th>\n      <th>Crops processed - Oil, olive, virgin - 261 - Production - 5510 - tonnes</th>\n      <th>Crops processed - Oil, safflower - 281 - Production - 5510 - tonnes</th>\n      <th>Crops processed - Oil, sunflower - 268 - Production - 5510 - tonnes</th>\n      <th>Crops processed - Oil, maize - 60 - Production - 5510 - tonnes</th>\n      <th>Crops processed - Oil, palm kernel - 258 - Production - 5510 - tonnes</th>\n    </tr>\n  </thead>\n  <tbody>\n    <tr>\n      <th>54</th>\n      <td>Africa</td>\n      <td>NaN</td>\n      <td>1961</td>\n      <td>2337.0</td>\n      <td>23706.0</td>\n      <td>10917.0</td>\n      <td>1131882.0</td>\n      <td>31180.0</td>\n      <td>448152.0</td>\n      <td>166846.0</td>\n      <td>35923.0</td>\n      <td>77143.0</td>\n      <td>3810.0</td>\n      <td>33811.0</td>\n      <td>60192.0</td>\n      <td>77279.0</td>\n    </tr>\n    <tr>\n      <th>55</th>\n      <td>Africa</td>\n      <td>NaN</td>\n      <td>1962</td>\n      <td>2893.0</td>\n      <td>30158.0</td>\n      <td>9627.0</td>\n      <td>1111006.0</td>\n      <td>22141.0</td>\n      <td>517235.0</td>\n      <td>163605.0</td>\n      <td>37781.0</td>\n      <td>87970.0</td>\n      <td>3752.0</td>\n      <td>30479.0</td>\n      <td>62217.0</td>\n      <td>72627.0</td>\n    </tr>\n    <tr>\n      <th>56</th>\n      <td>Africa</td>\n      <td>NaN</td>\n      <td>1963</td>\n      <td>853.0</td>\n      <td>30177.0</td>\n      <td>7144.0</td>\n      <td>1145004.0</td>\n      <td>28708.0</td>\n      <td>577561.0</td>\n      <td>211456.0</td>\n      <td>44069.0</td>\n      <td>143734.0</td>\n      <td>3818.0</td>\n      <td>33889.0</td>\n      <td>64525.0</td>\n      <td>67875.0</td>\n    </tr>\n    <tr>\n      <th>57</th>\n      <td>Africa</td>\n      <td>NaN</td>\n      <td>1964</td>\n      <td>2312.0</td>\n      <td>25252.0</td>\n      <td>10791.0</td>\n      <td>1160831.0</td>\n      <td>26614.0</td>\n      <td>552984.0</td>\n      <td>180852.0</td>\n      <td>42435.0</td>\n      <td>143327.0</td>\n      <td>3703.0</td>\n      <td>30011.0</td>\n      <td>62547.0</td>\n      <td>78443.0</td>\n    </tr>\n    <tr>\n      <th>58</th>\n      <td>Africa</td>\n      <td>NaN</td>\n      <td>1965</td>\n      <td>1984.0</td>\n      <td>29208.0</td>\n      <td>14285.0</td>\n      <td>1138860.0</td>\n      <td>24215.0</td>\n      <td>646906.0</td>\n      <td>242830.0</td>\n      <td>42180.0</td>\n      <td>112610.0</td>\n      <td>3784.0</td>\n      <td>27358.0</td>\n      <td>65229.0</td>\n      <td>95883.0</td>\n    </tr>\n    <tr>\n      <th>...</th>\n      <td>...</td>\n      <td>...</td>\n      <td>...</td>\n      <td>...</td>\n      <td>...</td>\n      <td>...</td>\n      <td>...</td>\n      <td>...</td>\n      <td>...</td>\n      <td>...</td>\n      <td>...</td>\n      <td>...</td>\n      <td>...</td>\n      <td>...</td>\n      <td>...</td>\n      <td>...</td>\n    </tr>\n    <tr>\n      <th>10812</th>\n      <td>Western Asia</td>\n      <td>NaN</td>\n      <td>2010</td>\n      <td>528876.0</td>\n      <td>92769.0</td>\n      <td>2270.0</td>\n      <td>NaN</td>\n      <td>478099.0</td>\n      <td>11589.0</td>\n      <td>286082.0</td>\n      <td>7.0</td>\n      <td>443892.0</td>\n      <td>0.0</td>\n      <td>744693.0</td>\n      <td>68699.0</td>\n      <td>NaN</td>\n    </tr>\n    <tr>\n      <th>10813</th>\n      <td>Western Asia</td>\n      <td>NaN</td>\n      <td>2011</td>\n      <td>455841.0</td>\n      <td>89268.0</td>\n      <td>12924.0</td>\n      <td>NaN</td>\n      <td>446379.0</td>\n      <td>10886.0</td>\n      <td>332377.0</td>\n      <td>227.0</td>\n      <td>461490.0</td>\n      <td>0.0</td>\n      <td>838192.0</td>\n      <td>64937.0</td>\n      <td>NaN</td>\n    </tr>\n    <tr>\n      <th>10814</th>\n      <td>Western Asia</td>\n      <td>NaN</td>\n      <td>2012</td>\n      <td>395594.0</td>\n      <td>91205.0</td>\n      <td>34718.0</td>\n      <td>NaN</td>\n      <td>378278.0</td>\n      <td>9998.0</td>\n      <td>308910.0</td>\n      <td>133.0</td>\n      <td>471316.0</td>\n      <td>37.0</td>\n      <td>795581.0</td>\n      <td>82235.0</td>\n      <td>NaN</td>\n    </tr>\n    <tr>\n      <th>10815</th>\n      <td>Western Asia</td>\n      <td>NaN</td>\n      <td>2013</td>\n      <td>391071.0</td>\n      <td>82693.0</td>\n      <td>16731.0</td>\n      <td>NaN</td>\n      <td>369019.0</td>\n      <td>9577.0</td>\n      <td>280947.0</td>\n      <td>27.0</td>\n      <td>416862.0</td>\n      <td>42.0</td>\n      <td>837072.0</td>\n      <td>98291.0</td>\n      <td>NaN</td>\n    </tr>\n    <tr>\n      <th>10816</th>\n      <td>Western Asia</td>\n      <td>NaN</td>\n      <td>2014</td>\n      <td>285538.0</td>\n      <td>83994.0</td>\n      <td>76222.0</td>\n      <td>NaN</td>\n      <td>370035.0</td>\n      <td>7783.0</td>\n      <td>87898.0</td>\n      <td>27.0</td>\n      <td>261002.0</td>\n      <td>50.0</td>\n      <td>752498.0</td>\n      <td>202407.0</td>\n      <td>NaN</td>\n    </tr>\n  </tbody>\n</table>\n<p>1741 rows × 16 columns</p>\n</div>"
     },
     "execution_count": 15,
     "metadata": {},
     "output_type": "execute_result"
    }
   ],
   "source": [
    "veg_oil_by_area = vegetable_oil_production[vegetable_oil_production['Code'].isnull()].copy()\n",
    "veg_oil_by_area"
   ],
   "metadata": {
    "collapsed": false,
    "pycharm": {
     "name": "#%%\n"
    }
   }
  },
  {
   "cell_type": "code",
   "execution_count": 16,
   "outputs": [
    {
     "name": "stdout",
     "output_type": "stream",
     "text": [
      "<class 'pandas.core.frame.DataFrame'>\n",
      "Int64Index: 54 entries, 1961 to 2014\n",
      "Data columns (total 13 columns):\n",
      " #   Column                                                                     Non-Null Count  Dtype  \n",
      "---  ------                                                                     --------------  -----  \n",
      " 0   Crops processed - Oil, soybean - 237 - Production - 5510 - tonnes          54 non-null     float64\n",
      " 1   Crops processed - Oil, sesame - 290 - Production - 5510 - tonnes           54 non-null     float64\n",
      " 2   Crops processed - Oil, linseed - 334 - Production - 5510 - tonnes          54 non-null     float64\n",
      " 3   Crops processed - Oil, palm - 257 - Production - 5510 - tonnes             54 non-null     float64\n",
      " 4   Crops processed - Oil, rapeseed - 271 - Production - 5510 - tonnes         54 non-null     float64\n",
      " 5   Crops processed - Oil, groundnut - 244 - Production - 5510 - tonnes        54 non-null     float64\n",
      " 6   Crops processed - Oil, cottonseed - 331 - Production - 5510 - tonnes       54 non-null     float64\n",
      " 7   Crops processed - Oil, coconut (copra) - 252 - Production - 5510 - tonnes  54 non-null     float64\n",
      " 8   Crops processed - Oil, olive, virgin - 261 - Production - 5510 - tonnes    54 non-null     float64\n",
      " 9   Crops processed - Oil, safflower - 281 - Production - 5510 - tonnes        54 non-null     float64\n",
      " 10  Crops processed - Oil, sunflower - 268 - Production - 5510 - tonnes        54 non-null     float64\n",
      " 11  Crops processed - Oil, maize - 60 - Production - 5510 - tonnes             54 non-null     float64\n",
      " 12  Crops processed - Oil, palm kernel - 258 - Production - 5510 - tonnes      54 non-null     float64\n",
      "dtypes: float64(13)\n",
      "memory usage: 5.9 KB\n"
     ]
    }
   ],
   "source": [
    "veg_oil_yearly_production = veg_oil_by_country.groupby('Year').sum()\n",
    "veg_oil_yearly_production.info()"
   ],
   "metadata": {
    "collapsed": false,
    "pycharm": {
     "name": "#%%\n"
    }
   }
  },
  {
   "cell_type": "code",
   "execution_count": 17,
   "outputs": [],
   "source": [
    "import re  # wilson you're obviously using regext ot update the column headers. please explain this one to me\n",
    "pattern = r'(?<=Oil, ).+?(?= - \\d)'\n",
    "cols = [re.search(pattern, c, re.RegexFlag.IGNORECASE)[0] for c in veg_oil_yearly_production]\n",
    "cols = [re.sub(' ', '_', c) for c in cols]\n",
    "cols = [re.sub('\\W', '', c) for c in cols]"
   ],
   "metadata": {
    "collapsed": false,
    "pycharm": {
     "name": "#%%\n"
    }
   }
  },
  {
   "cell_type": "code",
   "execution_count": 18,
   "outputs": [
    {
     "name": "stdout",
     "output_type": "stream",
     "text": [
      "<class 'pandas.core.frame.DataFrame'>\n",
      "RangeIndex: 54 entries, 0 to 53\n",
      "Data columns (total 14 columns):\n",
      " #   Column         Non-Null Count  Dtype  \n",
      "---  ------         --------------  -----  \n",
      " 0   Year           54 non-null     int64  \n",
      " 1   soybean        54 non-null     float64\n",
      " 2   sesame         54 non-null     float64\n",
      " 3   linseed        54 non-null     float64\n",
      " 4   palm           54 non-null     float64\n",
      " 5   rapeseed       54 non-null     float64\n",
      " 6   groundnut      54 non-null     float64\n",
      " 7   cottonseed     54 non-null     float64\n",
      " 8   coconut_copra  54 non-null     float64\n",
      " 9   olive_virgin   54 non-null     float64\n",
      " 10  safflower      54 non-null     float64\n",
      " 11  sunflower      54 non-null     float64\n",
      " 12  maize          54 non-null     float64\n",
      " 13  palm_kernel    54 non-null     float64\n",
      "dtypes: float64(13), int64(1)\n",
      "memory usage: 6.0 KB\n"
     ]
    }
   ],
   "source": [
    "veg_oil_yearly_production.columns = cols\n",
    "veg_oil_yearly_production.reset_index(inplace=True)\n",
    "veg_oil_yearly_production.info()"
   ],
   "metadata": {
    "collapsed": false,
    "pycharm": {
     "name": "#%%\n"
    }
   }
  },
  {
   "cell_type": "code",
   "execution_count": 19,
   "outputs": [
    {
     "data": {
      "application/vnd.plotly.v1+json": {
       "data": [
        {
         "legendgroup": "soybean",
         "line": {
          "color": "#636efa"
         },
         "marker": {
          "symbol": "circle"
         },
         "mode": "lines",
         "name": "soybean",
         "orientation": "v",
         "showlegend": true,
         "stackgroup": "1",
         "x": [
          1961,
          1962,
          1963,
          1964,
          1965,
          1966,
          1967,
          1968,
          1969,
          1970,
          1971,
          1972,
          1973,
          1974,
          1975,
          1976,
          1977,
          1978,
          1979,
          1980,
          1981,
          1982,
          1983,
          1984,
          1985,
          1986,
          1987,
          1988,
          1989,
          1990,
          1991,
          1992,
          1993,
          1994,
          1995,
          1996,
          1997,
          1998,
          1999,
          2000,
          2001,
          2002,
          2003,
          2004,
          2005,
          2006,
          2007,
          2008,
          2009,
          2010,
          2011,
          2012,
          2013,
          2014
         ],
         "xaxis": "x",
         "y": [
          3037151.0,
          3314136.0,
          3558007.0,
          3538521.0,
          3825235.0,
          4316415.0,
          4615535.0,
          4626857.0,
          5049043.0,
          6268195.0,
          6590375.0,
          6666393.0,
          6795464.0,
          8246695.0,
          7726845.0,
          9563329.0,
          9530360.0,
          1.1010874E7,
          1.1901273E7,
          1.3162624E7,
          1.2941422E7,
          1.3069917E7,
          1.3795476E7,
          1.3162368E7,
          1.4046155E7,
          1.4171355E7,
          1.5459237E7,
          1.5517806E7,
          1.5139596E7,
          1.6044455E7,
          1.6118511E7,
          1.7477283E7,
          1.7898631E7,
          1.8313579E7,
          2.0305851E7,
          2.0857142E7,
          2.127323E7,
          2.4475673E7,
          2.536214E7,
          2.5987339E7,
          2.8088298E7,
          2.9412404E7,
          3.1197213E7,
          3.1059636E7,
          3.4613662E7,
          3.5367441E7,
          3.7884065E7,
          3.6416023E7,
          3.6867184E7,
          4.1140286E7,
          4.2755709E7,
          4.2604932E7,
          4.3238701E7,
          4.6119152E7
         ],
         "yaxis": "y",
         "type": "scatter",
         "textfont": {
          "size": 16
         }
        },
        {
         "legendgroup": "sesame",
         "line": {
          "color": "#EF553B"
         },
         "marker": {
          "symbol": "circle"
         },
         "mode": "lines",
         "name": "sesame",
         "orientation": "v",
         "showlegend": true,
         "stackgroup": "1",
         "x": [
          1961,
          1962,
          1963,
          1964,
          1965,
          1966,
          1967,
          1968,
          1969,
          1970,
          1971,
          1972,
          1973,
          1974,
          1975,
          1976,
          1977,
          1978,
          1979,
          1980,
          1981,
          1982,
          1983,
          1984,
          1985,
          1986,
          1987,
          1988,
          1989,
          1990,
          1991,
          1992,
          1993,
          1994,
          1995,
          1996,
          1997,
          1998,
          1999,
          2000,
          2001,
          2002,
          2003,
          2004,
          2005,
          2006,
          2007,
          2008,
          2009,
          2010,
          2011,
          2012,
          2013,
          2014
         ],
         "xaxis": "x",
         "y": [
          376688.0,
          446366.0,
          444734.0,
          464334.0,
          455541.0,
          422708.0,
          453525.0,
          484295.0,
          475000.0,
          512208.0,
          489629.0,
          413111.0,
          442071.0,
          432565.0,
          415291.0,
          423154.0,
          456168.0,
          495430.0,
          493292.0,
          476601.0,
          548697.0,
          566540.0,
          542006.0,
          587269.0,
          630525.0,
          648304.0,
          638184.0,
          650786.0,
          603176.0,
          666233.0,
          640773.0,
          645607.0,
          629823.0,
          607894.0,
          663547.0,
          725937.0,
          745452.0,
          711370.0,
          640604.0,
          703812.0,
          748372.0,
          844599.0,
          874491.0,
          904132.0,
          899992.0,
          956034.0,
          1001937.0,
          933224.0,
          982779.0,
          1043757.0,
          1097420.0,
          1193463.0,
          1449403.0,
          1651072.0
         ],
         "yaxis": "y",
         "type": "scatter",
         "textfont": {
          "size": 16
         }
        },
        {
         "legendgroup": "linseed",
         "line": {
          "color": "#00cc96"
         },
         "marker": {
          "symbol": "circle"
         },
         "mode": "lines",
         "name": "linseed",
         "orientation": "v",
         "showlegend": true,
         "stackgroup": "1",
         "x": [
          1961,
          1962,
          1963,
          1964,
          1965,
          1966,
          1967,
          1968,
          1969,
          1970,
          1971,
          1972,
          1973,
          1974,
          1975,
          1976,
          1977,
          1978,
          1979,
          1980,
          1981,
          1982,
          1983,
          1984,
          1985,
          1986,
          1987,
          1988,
          1989,
          1990,
          1991,
          1992,
          1993,
          1994,
          1995,
          1996,
          1997,
          1998,
          1999,
          2000,
          2001,
          2002,
          2003,
          2004,
          2005,
          2006,
          2007,
          2008,
          2009,
          2010,
          2011,
          2012,
          2013,
          2014
         ],
         "xaxis": "x",
         "y": [
          833972.0,
          956169.0,
          920996.0,
          927744.0,
          1028719.0,
          911148.0,
          800576.0,
          789436.0,
          803834.0,
          1016002.0,
          1017587.0,
          839143.0,
          750130.0,
          638784.0,
          666175.0,
          672970.0,
          767853.0,
          818312.0,
          783422.0,
          732868.0,
          724605.0,
          688055.0,
          765423.0,
          714290.0,
          657697.0,
          694584.0,
          785237.0,
          696054.0,
          660807.0,
          641228.0,
          649824.0,
          604566.0,
          549685.0,
          611103.0,
          656976.0,
          654161.0,
          611013.0,
          625998.0,
          655612.0,
          663917.0,
          559788.0,
          530572.0,
          562130.0,
          587480.0,
          621305.0,
          657772.0,
          565757.0,
          497666.0,
          547122.0,
          554809.0,
          546091.0,
          608665.0,
          591008.0,
          686990.0
         ],
         "yaxis": "y",
         "type": "scatter",
         "textfont": {
          "size": 16
         }
        },
        {
         "legendgroup": "palm",
         "line": {
          "color": "#ab63fa"
         },
         "marker": {
          "symbol": "circle"
         },
         "mode": "lines",
         "name": "palm",
         "orientation": "v",
         "showlegend": true,
         "stackgroup": "1",
         "x": [
          1961,
          1962,
          1963,
          1964,
          1965,
          1966,
          1967,
          1968,
          1969,
          1970,
          1971,
          1972,
          1973,
          1974,
          1975,
          1976,
          1977,
          1978,
          1979,
          1980,
          1981,
          1982,
          1983,
          1984,
          1985,
          1986,
          1987,
          1988,
          1989,
          1990,
          1991,
          1992,
          1993,
          1994,
          1995,
          1996,
          1997,
          1998,
          1999,
          2000,
          2001,
          2002,
          2003,
          2004,
          2005,
          2006,
          2007,
          2008,
          2009,
          2010,
          2011,
          2012,
          2013,
          2014
         ],
         "xaxis": "x",
         "y": [
          1479101.0,
          1476141.0,
          1535270.0,
          1570232.0,
          1576413.0,
          1666405.0,
          1669417.0,
          1823924.0,
          1942871.0,
          1937739.0,
          2160830.0,
          2314116.0,
          2422888.0,
          2821191.0,
          3153253.0,
          3356453.0,
          3598838.0,
          3881458.0,
          4576459.0,
          5132181.0,
          5363928.0,
          6273185.0,
          5910507.0,
          6963173.0,
          7728207.0,
          8422393.0,
          8679726.0,
          9418238.0,
          1.0940149E7,
          1.1616209E7,
          1.2081722E7,
          1.3090478E7,
          1.4408901E7,
          1.4973699E7,
          1.6188838E7,
          1.7310007E7,
          1.8562543E7,
          1.8528095E7,
          2.1066371E7,
          2.2598769E7,
          2.5200758E7,
          2.6486149E7,
          2.9036264E7,
          3.0441437E7,
          3.2613253E7,
          3.9822909E7,
          4.0182387E7,
          4.2856909E7,
          4.43748E7,
          4.6310154E7,
          5.0061691E7,
          5.3166351E7,
          5.4941254E7,
          5.7866872E7
         ],
         "yaxis": "y",
         "type": "scatter",
         "textfont": {
          "size": 16
         }
        },
        {
         "legendgroup": "rapeseed",
         "line": {
          "color": "#FFA15A"
         },
         "marker": {
          "symbol": "circle"
         },
         "mode": "lines",
         "name": "rapeseed",
         "orientation": "v",
         "showlegend": true,
         "stackgroup": "1",
         "x": [
          1961,
          1962,
          1963,
          1964,
          1965,
          1966,
          1967,
          1968,
          1969,
          1970,
          1971,
          1972,
          1973,
          1974,
          1975,
          1976,
          1977,
          1978,
          1979,
          1980,
          1981,
          1982,
          1983,
          1984,
          1985,
          1986,
          1987,
          1988,
          1989,
          1990,
          1991,
          1992,
          1993,
          1994,
          1995,
          1996,
          1997,
          1998,
          1999,
          2000,
          2001,
          2002,
          2003,
          2004,
          2005,
          2006,
          2007,
          2008,
          2009,
          2010,
          2011,
          2012,
          2013,
          2014
         ],
         "xaxis": "x",
         "y": [
          1094042.0,
          1158704.0,
          1117953.0,
          1076421.0,
          1533002.0,
          1525107.0,
          1634314.0,
          1805909.0,
          1704012.0,
          1866874.0,
          2367777.0,
          2310422.0,
          2574359.0,
          2433835.0,
          2651083.0,
          2676592.0,
          2709026.0,
          2935863.0,
          3535292.0,
          3675525.0,
          4376033.0,
          4651535.0,
          4980378.0,
          5386051.0,
          6077795.0,
          6298052.0,
          6939647.0,
          7381428.0,
          7622495.0,
          8288465.0,
          8574414.0,
          8895663.0,
          8798955.0,
          9661558.0,
          1.0451274E7,
          1.0782046E7,
          1.1540231E7,
          1.1370508E7,
          1.2544788E7,
          1.3501533E7,
          1.2500084E7,
          1.31031E7,
          1.2451023E7,
          1.5021901E7,
          1.6762317E7,
          1.8093701E7,
          1.7991642E7,
          1.9254974E7,
          2.1375493E7,
          2.2830196E7,
          2.3088999E7,
          2.4030996E7,
          2.4335912E7,
          2.5944831E7
         ],
         "yaxis": "y",
         "type": "scatter",
         "textfont": {
          "size": 16
         }
        },
        {
         "legendgroup": "groundnut",
         "line": {
          "color": "#19d3f3"
         },
         "marker": {
          "symbol": "circle"
         },
         "mode": "lines",
         "name": "groundnut",
         "orientation": "v",
         "showlegend": true,
         "stackgroup": "1",
         "x": [
          1961,
          1962,
          1963,
          1964,
          1965,
          1966,
          1967,
          1968,
          1969,
          1970,
          1971,
          1972,
          1973,
          1974,
          1975,
          1976,
          1977,
          1978,
          1979,
          1980,
          1981,
          1982,
          1983,
          1984,
          1985,
          1986,
          1987,
          1988,
          1989,
          1990,
          1991,
          1992,
          1993,
          1994,
          1995,
          1996,
          1997,
          1998,
          1999,
          2000,
          2001,
          2002,
          2003,
          2004,
          2005,
          2006,
          2007,
          2008,
          2009,
          2010,
          2011,
          2012,
          2013,
          2014
         ],
         "xaxis": "x",
         "y": [
          2482640.0,
          2592954.0,
          2809981.0,
          2894609.0,
          2649761.0,
          2722542.0,
          2948028.0,
          2694486.0,
          2801919.0,
          3181101.0,
          3109852.0,
          2637775.0,
          2777011.0,
          2732032.0,
          3015936.0,
          2916887.0,
          3042285.0,
          2865353.0,
          2848961.0,
          2558757.0,
          2921752.0,
          2723568.0,
          3123630.0,
          2944275.0,
          2990262.0,
          3175079.0,
          3275759.0,
          4247428.0,
          3619896.0,
          3746198.0,
          3667888.0,
          4128280.0,
          4227265.0,
          4661397.0,
          4548884.0,
          4988065.0,
          4638812.0,
          5198680.0,
          4464423.0,
          4934704.0,
          5424147.0,
          5085861.0,
          5663326.0,
          5220871.0,
          5585541.0,
          4840641.0,
          5680575.0,
          5299111.0,
          4794275.0,
          5584390.0,
          5343513.0,
          5352655.0,
          5134592.0,
          5037722.0
         ],
         "yaxis": "y",
         "type": "scatter",
         "textfont": {
          "size": 16
         }
        },
        {
         "legendgroup": "cottonseed",
         "line": {
          "color": "#FF6692"
         },
         "marker": {
          "symbol": "circle"
         },
         "mode": "lines",
         "name": "cottonseed",
         "orientation": "v",
         "showlegend": true,
         "stackgroup": "1",
         "x": [
          1961,
          1962,
          1963,
          1964,
          1965,
          1966,
          1967,
          1968,
          1969,
          1970,
          1971,
          1972,
          1973,
          1974,
          1975,
          1976,
          1977,
          1978,
          1979,
          1980,
          1981,
          1982,
          1983,
          1984,
          1985,
          1986,
          1987,
          1988,
          1989,
          1990,
          1991,
          1992,
          1993,
          1994,
          1995,
          1996,
          1997,
          1998,
          1999,
          2000,
          2001,
          2002,
          2003,
          2004,
          2005,
          2006,
          2007,
          2008,
          2009,
          2010,
          2011,
          2012,
          2013,
          2014
         ],
         "xaxis": "x",
         "y": [
          2182397.0,
          2267912.0,
          2462267.0,
          2638865.0,
          2763883.0,
          2793722.0,
          2408307.0,
          2376942.0,
          2586107.0,
          2501339.0,
          2510736.0,
          2766360.0,
          2962259.0,
          3081301.0,
          2999594.0,
          2627833.0,
          2905642.0,
          3011649.0,
          2908220.0,
          3159128.0,
          3134870.0,
          3346504.0,
          3010187.0,
          3343950.0,
          3399587.0,
          3188390.0,
          3209375.0,
          3670837.0,
          3719151.0,
          3797205.0,
          3986850.0,
          4015566.0,
          3643013.0,
          3654884.0,
          3753616.0,
          3740924.0,
          3752471.0,
          3839361.0,
          3678155.0,
          3830749.0,
          4021517.0,
          4171436.0,
          4036929.0,
          4262705.0,
          4836183.0,
          4841270.0,
          5005767.0,
          4808529.0,
          4632982.0,
          4845926.0,
          5183895.0,
          5478354.0,
          5189183.0,
          5036143.0
         ],
         "yaxis": "y",
         "type": "scatter",
         "textfont": {
          "size": 16
         }
        },
        {
         "legendgroup": "coconut_copra",
         "line": {
          "color": "#B6E880"
         },
         "marker": {
          "symbol": "circle"
         },
         "mode": "lines",
         "name": "coconut_copra",
         "orientation": "v",
         "showlegend": true,
         "stackgroup": "1",
         "x": [
          1961,
          1962,
          1963,
          1964,
          1965,
          1966,
          1967,
          1968,
          1969,
          1970,
          1971,
          1972,
          1973,
          1974,
          1975,
          1976,
          1977,
          1978,
          1979,
          1980,
          1981,
          1982,
          1983,
          1984,
          1985,
          1986,
          1987,
          1988,
          1989,
          1990,
          1991,
          1992,
          1993,
          1994,
          1995,
          1996,
          1997,
          1998,
          1999,
          2000,
          2001,
          2002,
          2003,
          2004,
          2005,
          2006,
          2007,
          2008,
          2009,
          2010,
          2011,
          2012,
          2013,
          2014
         ],
         "xaxis": "x",
         "y": [
          1656633.0,
          2014666.0,
          1952232.0,
          1866058.0,
          1923358.0,
          2120232.0,
          1989787.0,
          1910839.0,
          1885552.0,
          1977428.0,
          2317036.0,
          2578690.0,
          2264386.0,
          2078375.0,
          2694725.0,
          3286389.0,
          2847360.0,
          3031730.0,
          2613406.0,
          2758391.0,
          2858747.0,
          2890320.0,
          2849574.0,
          2384219.0,
          2659168.0,
          3440516.0,
          3096025.0,
          2835120.0,
          2703088.0,
          3417336.0,
          3003401.0,
          2944606.0,
          3135941.0,
          3064390.0,
          3720551.0,
          3142706.0,
          3414297.0,
          3571349.0,
          2782079.0,
          3468618.0,
          3806951.0,
          3268697.0,
          3435981.0,
          3636186.0,
          3479873.0,
          3326073.0,
          3527772.0,
          3459306.0,
          3373441.0,
          3940398.0,
          3281570.0,
          3380960.0,
          3290231.0,
          3175128.0
         ],
         "yaxis": "y",
         "type": "scatter",
         "textfont": {
          "size": 16
         }
        },
        {
         "legendgroup": "olive_virgin",
         "line": {
          "color": "#FF97FF"
         },
         "marker": {
          "symbol": "circle"
         },
         "mode": "lines",
         "name": "olive_virgin",
         "orientation": "v",
         "showlegend": true,
         "stackgroup": "1",
         "x": [
          1961,
          1962,
          1963,
          1964,
          1965,
          1966,
          1967,
          1968,
          1969,
          1970,
          1971,
          1972,
          1973,
          1974,
          1975,
          1976,
          1977,
          1978,
          1979,
          1980,
          1981,
          1982,
          1983,
          1984,
          1985,
          1986,
          1987,
          1988,
          1989,
          1990,
          1991,
          1992,
          1993,
          1994,
          1995,
          1996,
          1997,
          1998,
          1999,
          2000,
          2001,
          2002,
          2003,
          2004,
          2005,
          2006,
          2007,
          2008,
          2009,
          2010,
          2011,
          2012,
          2013,
          2014
         ],
         "xaxis": "x",
         "y": [
          1359340.0,
          931298.0,
          1807877.0,
          936277.0,
          1244506.0,
          1286487.0,
          1358816.0,
          1502536.0,
          1288796.0,
          1405284.0,
          1581473.0,
          1453595.0,
          1529823.0,
          1477196.0,
          1822233.0,
          1408213.0,
          1619068.0,
          1640081.0,
          1514459.0,
          1979793.0,
          1456030.0,
          1961828.0,
          1685549.0,
          1663050.0,
          1717764.0,
          1567225.0,
          1997831.0,
          1489952.0,
          1776796.0,
          1494374.0,
          2320433.0,
          1823433.0,
          1900399.0,
          1792814.0,
          1658357.0,
          2583779.0,
          2607306.0,
          2395638.0,
          2368375.0,
          2522971.0,
          2666699.0,
          2431376.0,
          3100683.0,
          2911734.0,
          2568862.0,
          2922481.0,
          2765185.0,
          2690230.0,
          3012748.0,
          3169031.0,
          3389836.0,
          2488150.0,
          3506814.0,
          3050390.0
         ],
         "yaxis": "y",
         "type": "scatter",
         "textfont": {
          "size": 16
         }
        },
        {
         "legendgroup": "safflower",
         "line": {
          "color": "#FECB52"
         },
         "marker": {
          "symbol": "circle"
         },
         "mode": "lines",
         "name": "safflower",
         "orientation": "v",
         "showlegend": true,
         "stackgroup": "1",
         "x": [
          1961,
          1962,
          1963,
          1964,
          1965,
          1966,
          1967,
          1968,
          1969,
          1970,
          1971,
          1972,
          1973,
          1974,
          1975,
          1976,
          1977,
          1978,
          1979,
          1980,
          1981,
          1982,
          1983,
          1984,
          1985,
          1986,
          1987,
          1988,
          1989,
          1990,
          1991,
          1992,
          1993,
          1994,
          1995,
          1996,
          1997,
          1998,
          1999,
          2000,
          2001,
          2002,
          2003,
          2004,
          2005,
          2006,
          2007,
          2008,
          2009,
          2010,
          2011,
          2012,
          2013,
          2014
         ],
         "xaxis": "x",
         "y": [
          91183.0,
          154331.0,
          152774.0,
          123028.0,
          124893.0,
          180332.0,
          182249.0,
          123658.0,
          137742.0,
          154979.0,
          202429.0,
          190592.0,
          141357.0,
          186750.0,
          187528.0,
          194466.0,
          239139.0,
          235679.0,
          251987.0,
          252303.0,
          279273.0,
          245905.0,
          224895.0,
          225973.0,
          214629.0,
          187301.0,
          198878.0,
          209731.0,
          219476.0,
          211064.0,
          168422.0,
          146805.0,
          178978.0,
          213628.0,
          213385.0,
          252945.0,
          268841.0,
          168576.0,
          194021.0,
          185397.0,
          150766.0,
          142350.0,
          166874.0,
          142102.0,
          130950.0,
          128706.0,
          144265.0,
          161448.0,
          140066.0,
          131803.0,
          145701.0,
          153903.0,
          119647.0,
          100751.0
         ],
         "yaxis": "y",
         "type": "scatter",
         "textfont": {
          "size": 16
         }
        },
        {
         "legendgroup": "sunflower",
         "line": {
          "color": "#636efa"
         },
         "marker": {
          "symbol": "circle"
         },
         "mode": "lines",
         "name": "sunflower",
         "orientation": "v",
         "showlegend": true,
         "stackgroup": "1",
         "x": [
          1961,
          1962,
          1963,
          1964,
          1965,
          1966,
          1967,
          1968,
          1969,
          1970,
          1971,
          1972,
          1973,
          1974,
          1975,
          1976,
          1977,
          1978,
          1979,
          1980,
          1981,
          1982,
          1983,
          1984,
          1985,
          1986,
          1987,
          1988,
          1989,
          1990,
          1991,
          1992,
          1993,
          1994,
          1995,
          1996,
          1997,
          1998,
          1999,
          2000,
          2001,
          2002,
          2003,
          2004,
          2005,
          2006,
          2007,
          2008,
          2009,
          2010,
          2011,
          2012,
          2013,
          2014
         ],
         "xaxis": "x",
         "y": [
          1945145.0,
          2291303.0,
          2408407.0,
          2362334.0,
          3022958.0,
          3032815.0,
          3507762.0,
          3674740.0,
          3653089.0,
          3651199.0,
          3599292.0,
          3627332.0,
          3576811.0,
          4382539.0,
          4168886.0,
          3434750.0,
          3685087.0,
          4556863.0,
          4882108.0,
          5118739.0,
          5014276.0,
          5158116.0,
          6083160.0,
          5991851.0,
          6528639.0,
          6820814.0,
          6640575.0,
          7231542.0,
          7576019.0,
          8001774.0,
          8082042.0,
          8161011.0,
          7693907.0,
          7422589.0,
          8662238.0,
          9144662.0,
          8964348.0,
          8729935.0,
          9431275.0,
          9761428.0,
          8247777.0,
          7865760.0,
          9267597.0,
          9865572.0,
          1.0720211E7,
          1.1535686E7,
          1.1110268E7,
          1.0936384E7,
          1.2948101E7,
          1.2574457E7,
          1.3256444E7,
          1.5050106E7,
          1.3694175E7,
          1.5848036E7
         ],
         "yaxis": "y",
         "type": "scatter",
         "textfont": {
          "size": 16
         }
        },
        {
         "legendgroup": "maize",
         "line": {
          "color": "#EF553B"
         },
         "marker": {
          "symbol": "circle"
         },
         "mode": "lines",
         "name": "maize",
         "orientation": "v",
         "showlegend": true,
         "stackgroup": "1",
         "x": [
          1961,
          1962,
          1963,
          1964,
          1965,
          1966,
          1967,
          1968,
          1969,
          1970,
          1971,
          1972,
          1973,
          1974,
          1975,
          1976,
          1977,
          1978,
          1979,
          1980,
          1981,
          1982,
          1983,
          1984,
          1985,
          1986,
          1987,
          1988,
          1989,
          1990,
          1991,
          1992,
          1993,
          1994,
          1995,
          1996,
          1997,
          1998,
          1999,
          2000,
          2001,
          2002,
          2003,
          2004,
          2005,
          2006,
          2007,
          2008,
          2009,
          2010,
          2011,
          2012,
          2013,
          2014
         ],
         "xaxis": "x",
         "y": [
          346546.0,
          364721.0,
          374168.0,
          393323.0,
          430068.0,
          435392.0,
          441913.0,
          445339.0,
          468093.0,
          486680.0,
          498231.0,
          517993.0,
          549311.0,
          569550.0,
          534521.0,
          638077.0,
          678557.0,
          727833.0,
          782175.0,
          812342.0,
          855579.0,
          904635.0,
          962232.0,
          1020379.0,
          1106018.0,
          1129288.0,
          1196897.0,
          1234610.0,
          1256466.0,
          1307686.0,
          1401197.0,
          1477546.0,
          1520520.0,
          1564558.0,
          1713607.0,
          1683476.0,
          1745349.0,
          1810746.0,
          1837358.0,
          1948601.0,
          1919449.0,
          1947313.0,
          1999861.0,
          1971357.0,
          2079472.0,
          2184284.0,
          2293577.0,
          2290101.0,
          2231273.0,
          2294473.0,
          2340635.0,
          2340771.0,
          2337769.0,
          3198727.0
         ],
         "yaxis": "y",
         "type": "scatter",
         "textfont": {
          "size": 16
         }
        },
        {
         "legendgroup": "palm_kernel",
         "line": {
          "color": "#00cc96"
         },
         "marker": {
          "symbol": "circle"
         },
         "mode": "lines",
         "name": "palm_kernel",
         "orientation": "v",
         "showlegend": true,
         "stackgroup": "1",
         "x": [
          1961,
          1962,
          1963,
          1964,
          1965,
          1966,
          1967,
          1968,
          1969,
          1970,
          1971,
          1972,
          1973,
          1974,
          1975,
          1976,
          1977,
          1978,
          1979,
          1980,
          1981,
          1982,
          1983,
          1984,
          1985,
          1986,
          1987,
          1988,
          1989,
          1990,
          1991,
          1992,
          1993,
          1994,
          1995,
          1996,
          1997,
          1998,
          1999,
          2000,
          2001,
          2002,
          2003,
          2004,
          2005,
          2006,
          2007,
          2008,
          2009,
          2010,
          2011,
          2012,
          2013,
          2014
         ],
         "xaxis": "x",
         "y": [
          476229.0,
          472833.0,
          440997.0,
          478057.0,
          497071.0,
          497999.0,
          426873.0,
          439208.0,
          491381.0,
          498467.0,
          520587.0,
          502007.0,
          484396.0,
          585931.0,
          571330.0,
          584613.0,
          641092.0,
          623551.0,
          689892.0,
          721684.0,
          758454.0,
          864318.0,
          895446.0,
          1013260.0,
          1182310.0,
          1246259.0,
          1231054.0,
          1343250.0,
          1570905.0,
          1690172.0,
          1602830.0,
          1682226.0,
          1941423.0,
          2017572.0,
          2087500.0,
          2272750.0,
          2382192.0,
          2333548.0,
          2702054.0,
          2788745.0,
          3052825.0,
          3163267.0,
          3457653.0,
          3688949.0,
          4079027.0,
          4485729.0,
          4611739.0,
          5022556.0,
          5205923.0,
          5217395.0,
          5641280.0,
          6032301.0,
          6367063.0,
          6660837.0
         ],
         "yaxis": "y",
         "type": "scatter",
         "textfont": {
          "size": 16
         }
        }
       ],
       "layout": {
        "template": {
         "data": {
          "bar": [
           {
            "error_x": {
             "color": "#f2f5fa"
            },
            "error_y": {
             "color": "#f2f5fa"
            },
            "marker": {
             "line": {
              "color": "rgb(17,17,17)",
              "width": 0.5
             },
             "pattern": {
              "fillmode": "overlay",
              "size": 10,
              "solidity": 0.2
             }
            },
            "type": "bar"
           }
          ],
          "barpolar": [
           {
            "marker": {
             "line": {
              "color": "rgb(17,17,17)",
              "width": 0.5
             },
             "pattern": {
              "fillmode": "overlay",
              "size": 10,
              "solidity": 0.2
             }
            },
            "type": "barpolar"
           }
          ],
          "carpet": [
           {
            "aaxis": {
             "endlinecolor": "#A2B1C6",
             "gridcolor": "#506784",
             "linecolor": "#506784",
             "minorgridcolor": "#506784",
             "startlinecolor": "#A2B1C6"
            },
            "baxis": {
             "endlinecolor": "#A2B1C6",
             "gridcolor": "#506784",
             "linecolor": "#506784",
             "minorgridcolor": "#506784",
             "startlinecolor": "#A2B1C6"
            },
            "type": "carpet"
           }
          ],
          "choropleth": [
           {
            "colorbar": {
             "outlinewidth": 0,
             "ticks": ""
            },
            "type": "choropleth"
           }
          ],
          "contour": [
           {
            "colorbar": {
             "outlinewidth": 0,
             "ticks": ""
            },
            "colorscale": [
             [
              0.0,
              "#0d0887"
             ],
             [
              0.1111111111111111,
              "#46039f"
             ],
             [
              0.2222222222222222,
              "#7201a8"
             ],
             [
              0.3333333333333333,
              "#9c179e"
             ],
             [
              0.4444444444444444,
              "#bd3786"
             ],
             [
              0.5555555555555556,
              "#d8576b"
             ],
             [
              0.6666666666666666,
              "#ed7953"
             ],
             [
              0.7777777777777778,
              "#fb9f3a"
             ],
             [
              0.8888888888888888,
              "#fdca26"
             ],
             [
              1.0,
              "#f0f921"
             ]
            ],
            "type": "contour"
           }
          ],
          "contourcarpet": [
           {
            "colorbar": {
             "outlinewidth": 0,
             "ticks": ""
            },
            "type": "contourcarpet"
           }
          ],
          "heatmap": [
           {
            "colorbar": {
             "outlinewidth": 0,
             "ticks": ""
            },
            "colorscale": [
             [
              0.0,
              "#0d0887"
             ],
             [
              0.1111111111111111,
              "#46039f"
             ],
             [
              0.2222222222222222,
              "#7201a8"
             ],
             [
              0.3333333333333333,
              "#9c179e"
             ],
             [
              0.4444444444444444,
              "#bd3786"
             ],
             [
              0.5555555555555556,
              "#d8576b"
             ],
             [
              0.6666666666666666,
              "#ed7953"
             ],
             [
              0.7777777777777778,
              "#fb9f3a"
             ],
             [
              0.8888888888888888,
              "#fdca26"
             ],
             [
              1.0,
              "#f0f921"
             ]
            ],
            "type": "heatmap"
           }
          ],
          "heatmapgl": [
           {
            "colorbar": {
             "outlinewidth": 0,
             "ticks": ""
            },
            "colorscale": [
             [
              0.0,
              "#0d0887"
             ],
             [
              0.1111111111111111,
              "#46039f"
             ],
             [
              0.2222222222222222,
              "#7201a8"
             ],
             [
              0.3333333333333333,
              "#9c179e"
             ],
             [
              0.4444444444444444,
              "#bd3786"
             ],
             [
              0.5555555555555556,
              "#d8576b"
             ],
             [
              0.6666666666666666,
              "#ed7953"
             ],
             [
              0.7777777777777778,
              "#fb9f3a"
             ],
             [
              0.8888888888888888,
              "#fdca26"
             ],
             [
              1.0,
              "#f0f921"
             ]
            ],
            "type": "heatmapgl"
           }
          ],
          "histogram": [
           {
            "marker": {
             "pattern": {
              "fillmode": "overlay",
              "size": 10,
              "solidity": 0.2
             }
            },
            "type": "histogram"
           }
          ],
          "histogram2d": [
           {
            "colorbar": {
             "outlinewidth": 0,
             "ticks": ""
            },
            "colorscale": [
             [
              0.0,
              "#0d0887"
             ],
             [
              0.1111111111111111,
              "#46039f"
             ],
             [
              0.2222222222222222,
              "#7201a8"
             ],
             [
              0.3333333333333333,
              "#9c179e"
             ],
             [
              0.4444444444444444,
              "#bd3786"
             ],
             [
              0.5555555555555556,
              "#d8576b"
             ],
             [
              0.6666666666666666,
              "#ed7953"
             ],
             [
              0.7777777777777778,
              "#fb9f3a"
             ],
             [
              0.8888888888888888,
              "#fdca26"
             ],
             [
              1.0,
              "#f0f921"
             ]
            ],
            "type": "histogram2d"
           }
          ],
          "histogram2dcontour": [
           {
            "colorbar": {
             "outlinewidth": 0,
             "ticks": ""
            },
            "colorscale": [
             [
              0.0,
              "#0d0887"
             ],
             [
              0.1111111111111111,
              "#46039f"
             ],
             [
              0.2222222222222222,
              "#7201a8"
             ],
             [
              0.3333333333333333,
              "#9c179e"
             ],
             [
              0.4444444444444444,
              "#bd3786"
             ],
             [
              0.5555555555555556,
              "#d8576b"
             ],
             [
              0.6666666666666666,
              "#ed7953"
             ],
             [
              0.7777777777777778,
              "#fb9f3a"
             ],
             [
              0.8888888888888888,
              "#fdca26"
             ],
             [
              1.0,
              "#f0f921"
             ]
            ],
            "type": "histogram2dcontour"
           }
          ],
          "mesh3d": [
           {
            "colorbar": {
             "outlinewidth": 0,
             "ticks": ""
            },
            "type": "mesh3d"
           }
          ],
          "parcoords": [
           {
            "line": {
             "colorbar": {
              "outlinewidth": 0,
              "ticks": ""
             }
            },
            "type": "parcoords"
           }
          ],
          "pie": [
           {
            "automargin": true,
            "type": "pie"
           }
          ],
          "scatter": [
           {
            "marker": {
             "line": {
              "color": "#283442"
             }
            },
            "type": "scatter"
           }
          ],
          "scatter3d": [
           {
            "line": {
             "colorbar": {
              "outlinewidth": 0,
              "ticks": ""
             }
            },
            "marker": {
             "colorbar": {
              "outlinewidth": 0,
              "ticks": ""
             }
            },
            "type": "scatter3d"
           }
          ],
          "scattercarpet": [
           {
            "marker": {
             "colorbar": {
              "outlinewidth": 0,
              "ticks": ""
             }
            },
            "type": "scattercarpet"
           }
          ],
          "scattergeo": [
           {
            "marker": {
             "colorbar": {
              "outlinewidth": 0,
              "ticks": ""
             }
            },
            "type": "scattergeo"
           }
          ],
          "scattergl": [
           {
            "marker": {
             "line": {
              "color": "#283442"
             }
            },
            "type": "scattergl"
           }
          ],
          "scattermapbox": [
           {
            "marker": {
             "colorbar": {
              "outlinewidth": 0,
              "ticks": ""
             }
            },
            "type": "scattermapbox"
           }
          ],
          "scatterpolar": [
           {
            "marker": {
             "colorbar": {
              "outlinewidth": 0,
              "ticks": ""
             }
            },
            "type": "scatterpolar"
           }
          ],
          "scatterpolargl": [
           {
            "marker": {
             "colorbar": {
              "outlinewidth": 0,
              "ticks": ""
             }
            },
            "type": "scatterpolargl"
           }
          ],
          "scatterternary": [
           {
            "marker": {
             "colorbar": {
              "outlinewidth": 0,
              "ticks": ""
             }
            },
            "type": "scatterternary"
           }
          ],
          "surface": [
           {
            "colorbar": {
             "outlinewidth": 0,
             "ticks": ""
            },
            "colorscale": [
             [
              0.0,
              "#0d0887"
             ],
             [
              0.1111111111111111,
              "#46039f"
             ],
             [
              0.2222222222222222,
              "#7201a8"
             ],
             [
              0.3333333333333333,
              "#9c179e"
             ],
             [
              0.4444444444444444,
              "#bd3786"
             ],
             [
              0.5555555555555556,
              "#d8576b"
             ],
             [
              0.6666666666666666,
              "#ed7953"
             ],
             [
              0.7777777777777778,
              "#fb9f3a"
             ],
             [
              0.8888888888888888,
              "#fdca26"
             ],
             [
              1.0,
              "#f0f921"
             ]
            ],
            "type": "surface"
           }
          ],
          "table": [
           {
            "cells": {
             "fill": {
              "color": "#506784"
             },
             "line": {
              "color": "rgb(17,17,17)"
             }
            },
            "header": {
             "fill": {
              "color": "#2a3f5f"
             },
             "line": {
              "color": "rgb(17,17,17)"
             }
            },
            "type": "table"
           }
          ]
         },
         "layout": {
          "annotationdefaults": {
           "arrowcolor": "#f2f5fa",
           "arrowhead": 0,
           "arrowwidth": 1
          },
          "autotypenumbers": "strict",
          "coloraxis": {
           "colorbar": {
            "outlinewidth": 0,
            "ticks": ""
           }
          },
          "colorscale": {
           "diverging": [
            [
             0,
             "#8e0152"
            ],
            [
             0.1,
             "#c51b7d"
            ],
            [
             0.2,
             "#de77ae"
            ],
            [
             0.3,
             "#f1b6da"
            ],
            [
             0.4,
             "#fde0ef"
            ],
            [
             0.5,
             "#f7f7f7"
            ],
            [
             0.6,
             "#e6f5d0"
            ],
            [
             0.7,
             "#b8e186"
            ],
            [
             0.8,
             "#7fbc41"
            ],
            [
             0.9,
             "#4d9221"
            ],
            [
             1,
             "#276419"
            ]
           ],
           "sequential": [
            [
             0.0,
             "#0d0887"
            ],
            [
             0.1111111111111111,
             "#46039f"
            ],
            [
             0.2222222222222222,
             "#7201a8"
            ],
            [
             0.3333333333333333,
             "#9c179e"
            ],
            [
             0.4444444444444444,
             "#bd3786"
            ],
            [
             0.5555555555555556,
             "#d8576b"
            ],
            [
             0.6666666666666666,
             "#ed7953"
            ],
            [
             0.7777777777777778,
             "#fb9f3a"
            ],
            [
             0.8888888888888888,
             "#fdca26"
            ],
            [
             1.0,
             "#f0f921"
            ]
           ],
           "sequentialminus": [
            [
             0.0,
             "#0d0887"
            ],
            [
             0.1111111111111111,
             "#46039f"
            ],
            [
             0.2222222222222222,
             "#7201a8"
            ],
            [
             0.3333333333333333,
             "#9c179e"
            ],
            [
             0.4444444444444444,
             "#bd3786"
            ],
            [
             0.5555555555555556,
             "#d8576b"
            ],
            [
             0.6666666666666666,
             "#ed7953"
            ],
            [
             0.7777777777777778,
             "#fb9f3a"
            ],
            [
             0.8888888888888888,
             "#fdca26"
            ],
            [
             1.0,
             "#f0f921"
            ]
           ]
          },
          "colorway": [
           "#636efa",
           "#EF553B",
           "#00cc96",
           "#ab63fa",
           "#FFA15A",
           "#19d3f3",
           "#FF6692",
           "#B6E880",
           "#FF97FF",
           "#FECB52"
          ],
          "font": {
           "color": "#f2f5fa"
          },
          "geo": {
           "bgcolor": "rgb(17,17,17)",
           "lakecolor": "rgb(17,17,17)",
           "landcolor": "rgb(17,17,17)",
           "showlakes": true,
           "showland": true,
           "subunitcolor": "#506784"
          },
          "hoverlabel": {
           "align": "left"
          },
          "hovermode": "closest",
          "mapbox": {
           "style": "dark"
          },
          "paper_bgcolor": "rgb(17,17,17)",
          "plot_bgcolor": "rgb(17,17,17)",
          "polar": {
           "angularaxis": {
            "gridcolor": "#506784",
            "linecolor": "#506784",
            "ticks": ""
           },
           "bgcolor": "rgb(17,17,17)",
           "radialaxis": {
            "gridcolor": "#506784",
            "linecolor": "#506784",
            "ticks": ""
           }
          },
          "scene": {
           "xaxis": {
            "backgroundcolor": "rgb(17,17,17)",
            "gridcolor": "#506784",
            "gridwidth": 2,
            "linecolor": "#506784",
            "showbackground": true,
            "ticks": "",
            "zerolinecolor": "#C8D4E3"
           },
           "yaxis": {
            "backgroundcolor": "rgb(17,17,17)",
            "gridcolor": "#506784",
            "gridwidth": 2,
            "linecolor": "#506784",
            "showbackground": true,
            "ticks": "",
            "zerolinecolor": "#C8D4E3"
           },
           "zaxis": {
            "backgroundcolor": "rgb(17,17,17)",
            "gridcolor": "#506784",
            "gridwidth": 2,
            "linecolor": "#506784",
            "showbackground": true,
            "ticks": "",
            "zerolinecolor": "#C8D4E3"
           }
          },
          "shapedefaults": {
           "line": {
            "color": "#f2f5fa"
           }
          },
          "sliderdefaults": {
           "bgcolor": "#C8D4E3",
           "bordercolor": "rgb(17,17,17)",
           "borderwidth": 1,
           "tickwidth": 0
          },
          "ternary": {
           "aaxis": {
            "gridcolor": "#506784",
            "linecolor": "#506784",
            "ticks": ""
           },
           "baxis": {
            "gridcolor": "#506784",
            "linecolor": "#506784",
            "ticks": ""
           },
           "bgcolor": "rgb(17,17,17)",
           "caxis": {
            "gridcolor": "#506784",
            "linecolor": "#506784",
            "ticks": ""
           }
          },
          "title": {
           "x": 0.05
          },
          "updatemenudefaults": {
           "bgcolor": "#506784",
           "borderwidth": 0
          },
          "xaxis": {
           "automargin": true,
           "gridcolor": "#283442",
           "linecolor": "#506784",
           "ticks": "",
           "title": {
            "standoff": 15
           },
           "zerolinecolor": "#283442",
           "zerolinewidth": 2
          },
          "yaxis": {
           "automargin": true,
           "gridcolor": "#283442",
           "linecolor": "#506784",
           "ticks": "",
           "title": {
            "standoff": 15
           },
           "zerolinecolor": "#283442",
           "zerolinewidth": 2
          }
         }
        },
        "xaxis": {
         "anchor": "y",
         "domain": [
          0.0,
          1.0
         ],
         "title": {
          "text": "Year"
         }
        },
        "yaxis": {
         "anchor": "x",
         "domain": [
          0.0,
          1.0
         ],
         "title": {
          "text": "value"
         }
        },
        "legend": {
         "title": {
          "text": "variable"
         },
         "tracegroupgap": 0
        },
        "margin": {
         "t": 60
        },
        "hovermode": "x"
       },
       "config": {
        "plotlyServerURL": "https://plot.ly"
       }
      },
      "text/html": "<div>                            <div id=\"05e004aa-238b-42a9-a6e1-c50b15bbbba6\" class=\"plotly-graph-div\" style=\"height:525px; width:100%;\"></div>            <script type=\"text/javascript\">                require([\"plotly\"], function(Plotly) {                    window.PLOTLYENV=window.PLOTLYENV || {};                                    if (document.getElementById(\"05e004aa-238b-42a9-a6e1-c50b15bbbba6\")) {                    Plotly.newPlot(                        \"05e004aa-238b-42a9-a6e1-c50b15bbbba6\",                        [{\"legendgroup\":\"soybean\",\"line\":{\"color\":\"#636efa\"},\"marker\":{\"symbol\":\"circle\"},\"mode\":\"lines\",\"name\":\"soybean\",\"orientation\":\"v\",\"showlegend\":true,\"stackgroup\":\"1\",\"x\":[1961,1962,1963,1964,1965,1966,1967,1968,1969,1970,1971,1972,1973,1974,1975,1976,1977,1978,1979,1980,1981,1982,1983,1984,1985,1986,1987,1988,1989,1990,1991,1992,1993,1994,1995,1996,1997,1998,1999,2000,2001,2002,2003,2004,2005,2006,2007,2008,2009,2010,2011,2012,2013,2014],\"xaxis\":\"x\",\"y\":[3037151.0,3314136.0,3558007.0,3538521.0,3825235.0,4316415.0,4615535.0,4626857.0,5049043.0,6268195.0,6590375.0,6666393.0,6795464.0,8246695.0,7726845.0,9563329.0,9530360.0,11010874.0,11901273.0,13162624.0,12941422.0,13069917.0,13795476.0,13162368.0,14046155.0,14171355.0,15459237.0,15517806.0,15139596.0,16044455.0,16118511.0,17477283.0,17898631.0,18313579.0,20305851.0,20857142.0,21273230.0,24475673.0,25362140.0,25987339.0,28088298.0,29412404.0,31197213.0,31059636.0,34613662.0,35367441.0,37884065.0,36416023.0,36867184.0,41140286.0,42755709.0,42604932.0,43238701.0,46119152.0],\"yaxis\":\"y\",\"type\":\"scatter\",\"textfont\":{\"size\":16}},{\"legendgroup\":\"sesame\",\"line\":{\"color\":\"#EF553B\"},\"marker\":{\"symbol\":\"circle\"},\"mode\":\"lines\",\"name\":\"sesame\",\"orientation\":\"v\",\"showlegend\":true,\"stackgroup\":\"1\",\"x\":[1961,1962,1963,1964,1965,1966,1967,1968,1969,1970,1971,1972,1973,1974,1975,1976,1977,1978,1979,1980,1981,1982,1983,1984,1985,1986,1987,1988,1989,1990,1991,1992,1993,1994,1995,1996,1997,1998,1999,2000,2001,2002,2003,2004,2005,2006,2007,2008,2009,2010,2011,2012,2013,2014],\"xaxis\":\"x\",\"y\":[376688.0,446366.0,444734.0,464334.0,455541.0,422708.0,453525.0,484295.0,475000.0,512208.0,489629.0,413111.0,442071.0,432565.0,415291.0,423154.0,456168.0,495430.0,493292.0,476601.0,548697.0,566540.0,542006.0,587269.0,630525.0,648304.0,638184.0,650786.0,603176.0,666233.0,640773.0,645607.0,629823.0,607894.0,663547.0,725937.0,745452.0,711370.0,640604.0,703812.0,748372.0,844599.0,874491.0,904132.0,899992.0,956034.0,1001937.0,933224.0,982779.0,1043757.0,1097420.0,1193463.0,1449403.0,1651072.0],\"yaxis\":\"y\",\"type\":\"scatter\",\"textfont\":{\"size\":16}},{\"legendgroup\":\"linseed\",\"line\":{\"color\":\"#00cc96\"},\"marker\":{\"symbol\":\"circle\"},\"mode\":\"lines\",\"name\":\"linseed\",\"orientation\":\"v\",\"showlegend\":true,\"stackgroup\":\"1\",\"x\":[1961,1962,1963,1964,1965,1966,1967,1968,1969,1970,1971,1972,1973,1974,1975,1976,1977,1978,1979,1980,1981,1982,1983,1984,1985,1986,1987,1988,1989,1990,1991,1992,1993,1994,1995,1996,1997,1998,1999,2000,2001,2002,2003,2004,2005,2006,2007,2008,2009,2010,2011,2012,2013,2014],\"xaxis\":\"x\",\"y\":[833972.0,956169.0,920996.0,927744.0,1028719.0,911148.0,800576.0,789436.0,803834.0,1016002.0,1017587.0,839143.0,750130.0,638784.0,666175.0,672970.0,767853.0,818312.0,783422.0,732868.0,724605.0,688055.0,765423.0,714290.0,657697.0,694584.0,785237.0,696054.0,660807.0,641228.0,649824.0,604566.0,549685.0,611103.0,656976.0,654161.0,611013.0,625998.0,655612.0,663917.0,559788.0,530572.0,562130.0,587480.0,621305.0,657772.0,565757.0,497666.0,547122.0,554809.0,546091.0,608665.0,591008.0,686990.0],\"yaxis\":\"y\",\"type\":\"scatter\",\"textfont\":{\"size\":16}},{\"legendgroup\":\"palm\",\"line\":{\"color\":\"#ab63fa\"},\"marker\":{\"symbol\":\"circle\"},\"mode\":\"lines\",\"name\":\"palm\",\"orientation\":\"v\",\"showlegend\":true,\"stackgroup\":\"1\",\"x\":[1961,1962,1963,1964,1965,1966,1967,1968,1969,1970,1971,1972,1973,1974,1975,1976,1977,1978,1979,1980,1981,1982,1983,1984,1985,1986,1987,1988,1989,1990,1991,1992,1993,1994,1995,1996,1997,1998,1999,2000,2001,2002,2003,2004,2005,2006,2007,2008,2009,2010,2011,2012,2013,2014],\"xaxis\":\"x\",\"y\":[1479101.0,1476141.0,1535270.0,1570232.0,1576413.0,1666405.0,1669417.0,1823924.0,1942871.0,1937739.0,2160830.0,2314116.0,2422888.0,2821191.0,3153253.0,3356453.0,3598838.0,3881458.0,4576459.0,5132181.0,5363928.0,6273185.0,5910507.0,6963173.0,7728207.0,8422393.0,8679726.0,9418238.0,10940149.0,11616209.0,12081722.0,13090478.0,14408901.0,14973699.0,16188838.0,17310007.0,18562543.0,18528095.0,21066371.0,22598769.0,25200758.0,26486149.0,29036264.0,30441437.0,32613253.0,39822909.0,40182387.0,42856909.0,44374800.0,46310154.0,50061691.0,53166351.0,54941254.0,57866872.0],\"yaxis\":\"y\",\"type\":\"scatter\",\"textfont\":{\"size\":16}},{\"legendgroup\":\"rapeseed\",\"line\":{\"color\":\"#FFA15A\"},\"marker\":{\"symbol\":\"circle\"},\"mode\":\"lines\",\"name\":\"rapeseed\",\"orientation\":\"v\",\"showlegend\":true,\"stackgroup\":\"1\",\"x\":[1961,1962,1963,1964,1965,1966,1967,1968,1969,1970,1971,1972,1973,1974,1975,1976,1977,1978,1979,1980,1981,1982,1983,1984,1985,1986,1987,1988,1989,1990,1991,1992,1993,1994,1995,1996,1997,1998,1999,2000,2001,2002,2003,2004,2005,2006,2007,2008,2009,2010,2011,2012,2013,2014],\"xaxis\":\"x\",\"y\":[1094042.0,1158704.0,1117953.0,1076421.0,1533002.0,1525107.0,1634314.0,1805909.0,1704012.0,1866874.0,2367777.0,2310422.0,2574359.0,2433835.0,2651083.0,2676592.0,2709026.0,2935863.0,3535292.0,3675525.0,4376033.0,4651535.0,4980378.0,5386051.0,6077795.0,6298052.0,6939647.0,7381428.0,7622495.0,8288465.0,8574414.0,8895663.0,8798955.0,9661558.0,10451274.0,10782046.0,11540231.0,11370508.0,12544788.0,13501533.0,12500084.0,13103100.0,12451023.0,15021901.0,16762317.0,18093701.0,17991642.0,19254974.0,21375493.0,22830196.0,23088999.0,24030996.0,24335912.0,25944831.0],\"yaxis\":\"y\",\"type\":\"scatter\",\"textfont\":{\"size\":16}},{\"legendgroup\":\"groundnut\",\"line\":{\"color\":\"#19d3f3\"},\"marker\":{\"symbol\":\"circle\"},\"mode\":\"lines\",\"name\":\"groundnut\",\"orientation\":\"v\",\"showlegend\":true,\"stackgroup\":\"1\",\"x\":[1961,1962,1963,1964,1965,1966,1967,1968,1969,1970,1971,1972,1973,1974,1975,1976,1977,1978,1979,1980,1981,1982,1983,1984,1985,1986,1987,1988,1989,1990,1991,1992,1993,1994,1995,1996,1997,1998,1999,2000,2001,2002,2003,2004,2005,2006,2007,2008,2009,2010,2011,2012,2013,2014],\"xaxis\":\"x\",\"y\":[2482640.0,2592954.0,2809981.0,2894609.0,2649761.0,2722542.0,2948028.0,2694486.0,2801919.0,3181101.0,3109852.0,2637775.0,2777011.0,2732032.0,3015936.0,2916887.0,3042285.0,2865353.0,2848961.0,2558757.0,2921752.0,2723568.0,3123630.0,2944275.0,2990262.0,3175079.0,3275759.0,4247428.0,3619896.0,3746198.0,3667888.0,4128280.0,4227265.0,4661397.0,4548884.0,4988065.0,4638812.0,5198680.0,4464423.0,4934704.0,5424147.0,5085861.0,5663326.0,5220871.0,5585541.0,4840641.0,5680575.0,5299111.0,4794275.0,5584390.0,5343513.0,5352655.0,5134592.0,5037722.0],\"yaxis\":\"y\",\"type\":\"scatter\",\"textfont\":{\"size\":16}},{\"legendgroup\":\"cottonseed\",\"line\":{\"color\":\"#FF6692\"},\"marker\":{\"symbol\":\"circle\"},\"mode\":\"lines\",\"name\":\"cottonseed\",\"orientation\":\"v\",\"showlegend\":true,\"stackgroup\":\"1\",\"x\":[1961,1962,1963,1964,1965,1966,1967,1968,1969,1970,1971,1972,1973,1974,1975,1976,1977,1978,1979,1980,1981,1982,1983,1984,1985,1986,1987,1988,1989,1990,1991,1992,1993,1994,1995,1996,1997,1998,1999,2000,2001,2002,2003,2004,2005,2006,2007,2008,2009,2010,2011,2012,2013,2014],\"xaxis\":\"x\",\"y\":[2182397.0,2267912.0,2462267.0,2638865.0,2763883.0,2793722.0,2408307.0,2376942.0,2586107.0,2501339.0,2510736.0,2766360.0,2962259.0,3081301.0,2999594.0,2627833.0,2905642.0,3011649.0,2908220.0,3159128.0,3134870.0,3346504.0,3010187.0,3343950.0,3399587.0,3188390.0,3209375.0,3670837.0,3719151.0,3797205.0,3986850.0,4015566.0,3643013.0,3654884.0,3753616.0,3740924.0,3752471.0,3839361.0,3678155.0,3830749.0,4021517.0,4171436.0,4036929.0,4262705.0,4836183.0,4841270.0,5005767.0,4808529.0,4632982.0,4845926.0,5183895.0,5478354.0,5189183.0,5036143.0],\"yaxis\":\"y\",\"type\":\"scatter\",\"textfont\":{\"size\":16}},{\"legendgroup\":\"coconut_copra\",\"line\":{\"color\":\"#B6E880\"},\"marker\":{\"symbol\":\"circle\"},\"mode\":\"lines\",\"name\":\"coconut_copra\",\"orientation\":\"v\",\"showlegend\":true,\"stackgroup\":\"1\",\"x\":[1961,1962,1963,1964,1965,1966,1967,1968,1969,1970,1971,1972,1973,1974,1975,1976,1977,1978,1979,1980,1981,1982,1983,1984,1985,1986,1987,1988,1989,1990,1991,1992,1993,1994,1995,1996,1997,1998,1999,2000,2001,2002,2003,2004,2005,2006,2007,2008,2009,2010,2011,2012,2013,2014],\"xaxis\":\"x\",\"y\":[1656633.0,2014666.0,1952232.0,1866058.0,1923358.0,2120232.0,1989787.0,1910839.0,1885552.0,1977428.0,2317036.0,2578690.0,2264386.0,2078375.0,2694725.0,3286389.0,2847360.0,3031730.0,2613406.0,2758391.0,2858747.0,2890320.0,2849574.0,2384219.0,2659168.0,3440516.0,3096025.0,2835120.0,2703088.0,3417336.0,3003401.0,2944606.0,3135941.0,3064390.0,3720551.0,3142706.0,3414297.0,3571349.0,2782079.0,3468618.0,3806951.0,3268697.0,3435981.0,3636186.0,3479873.0,3326073.0,3527772.0,3459306.0,3373441.0,3940398.0,3281570.0,3380960.0,3290231.0,3175128.0],\"yaxis\":\"y\",\"type\":\"scatter\",\"textfont\":{\"size\":16}},{\"legendgroup\":\"olive_virgin\",\"line\":{\"color\":\"#FF97FF\"},\"marker\":{\"symbol\":\"circle\"},\"mode\":\"lines\",\"name\":\"olive_virgin\",\"orientation\":\"v\",\"showlegend\":true,\"stackgroup\":\"1\",\"x\":[1961,1962,1963,1964,1965,1966,1967,1968,1969,1970,1971,1972,1973,1974,1975,1976,1977,1978,1979,1980,1981,1982,1983,1984,1985,1986,1987,1988,1989,1990,1991,1992,1993,1994,1995,1996,1997,1998,1999,2000,2001,2002,2003,2004,2005,2006,2007,2008,2009,2010,2011,2012,2013,2014],\"xaxis\":\"x\",\"y\":[1359340.0,931298.0,1807877.0,936277.0,1244506.0,1286487.0,1358816.0,1502536.0,1288796.0,1405284.0,1581473.0,1453595.0,1529823.0,1477196.0,1822233.0,1408213.0,1619068.0,1640081.0,1514459.0,1979793.0,1456030.0,1961828.0,1685549.0,1663050.0,1717764.0,1567225.0,1997831.0,1489952.0,1776796.0,1494374.0,2320433.0,1823433.0,1900399.0,1792814.0,1658357.0,2583779.0,2607306.0,2395638.0,2368375.0,2522971.0,2666699.0,2431376.0,3100683.0,2911734.0,2568862.0,2922481.0,2765185.0,2690230.0,3012748.0,3169031.0,3389836.0,2488150.0,3506814.0,3050390.0],\"yaxis\":\"y\",\"type\":\"scatter\",\"textfont\":{\"size\":16}},{\"legendgroup\":\"safflower\",\"line\":{\"color\":\"#FECB52\"},\"marker\":{\"symbol\":\"circle\"},\"mode\":\"lines\",\"name\":\"safflower\",\"orientation\":\"v\",\"showlegend\":true,\"stackgroup\":\"1\",\"x\":[1961,1962,1963,1964,1965,1966,1967,1968,1969,1970,1971,1972,1973,1974,1975,1976,1977,1978,1979,1980,1981,1982,1983,1984,1985,1986,1987,1988,1989,1990,1991,1992,1993,1994,1995,1996,1997,1998,1999,2000,2001,2002,2003,2004,2005,2006,2007,2008,2009,2010,2011,2012,2013,2014],\"xaxis\":\"x\",\"y\":[91183.0,154331.0,152774.0,123028.0,124893.0,180332.0,182249.0,123658.0,137742.0,154979.0,202429.0,190592.0,141357.0,186750.0,187528.0,194466.0,239139.0,235679.0,251987.0,252303.0,279273.0,245905.0,224895.0,225973.0,214629.0,187301.0,198878.0,209731.0,219476.0,211064.0,168422.0,146805.0,178978.0,213628.0,213385.0,252945.0,268841.0,168576.0,194021.0,185397.0,150766.0,142350.0,166874.0,142102.0,130950.0,128706.0,144265.0,161448.0,140066.0,131803.0,145701.0,153903.0,119647.0,100751.0],\"yaxis\":\"y\",\"type\":\"scatter\",\"textfont\":{\"size\":16}},{\"legendgroup\":\"sunflower\",\"line\":{\"color\":\"#636efa\"},\"marker\":{\"symbol\":\"circle\"},\"mode\":\"lines\",\"name\":\"sunflower\",\"orientation\":\"v\",\"showlegend\":true,\"stackgroup\":\"1\",\"x\":[1961,1962,1963,1964,1965,1966,1967,1968,1969,1970,1971,1972,1973,1974,1975,1976,1977,1978,1979,1980,1981,1982,1983,1984,1985,1986,1987,1988,1989,1990,1991,1992,1993,1994,1995,1996,1997,1998,1999,2000,2001,2002,2003,2004,2005,2006,2007,2008,2009,2010,2011,2012,2013,2014],\"xaxis\":\"x\",\"y\":[1945145.0,2291303.0,2408407.0,2362334.0,3022958.0,3032815.0,3507762.0,3674740.0,3653089.0,3651199.0,3599292.0,3627332.0,3576811.0,4382539.0,4168886.0,3434750.0,3685087.0,4556863.0,4882108.0,5118739.0,5014276.0,5158116.0,6083160.0,5991851.0,6528639.0,6820814.0,6640575.0,7231542.0,7576019.0,8001774.0,8082042.0,8161011.0,7693907.0,7422589.0,8662238.0,9144662.0,8964348.0,8729935.0,9431275.0,9761428.0,8247777.0,7865760.0,9267597.0,9865572.0,10720211.0,11535686.0,11110268.0,10936384.0,12948101.0,12574457.0,13256444.0,15050106.0,13694175.0,15848036.0],\"yaxis\":\"y\",\"type\":\"scatter\",\"textfont\":{\"size\":16}},{\"legendgroup\":\"maize\",\"line\":{\"color\":\"#EF553B\"},\"marker\":{\"symbol\":\"circle\"},\"mode\":\"lines\",\"name\":\"maize\",\"orientation\":\"v\",\"showlegend\":true,\"stackgroup\":\"1\",\"x\":[1961,1962,1963,1964,1965,1966,1967,1968,1969,1970,1971,1972,1973,1974,1975,1976,1977,1978,1979,1980,1981,1982,1983,1984,1985,1986,1987,1988,1989,1990,1991,1992,1993,1994,1995,1996,1997,1998,1999,2000,2001,2002,2003,2004,2005,2006,2007,2008,2009,2010,2011,2012,2013,2014],\"xaxis\":\"x\",\"y\":[346546.0,364721.0,374168.0,393323.0,430068.0,435392.0,441913.0,445339.0,468093.0,486680.0,498231.0,517993.0,549311.0,569550.0,534521.0,638077.0,678557.0,727833.0,782175.0,812342.0,855579.0,904635.0,962232.0,1020379.0,1106018.0,1129288.0,1196897.0,1234610.0,1256466.0,1307686.0,1401197.0,1477546.0,1520520.0,1564558.0,1713607.0,1683476.0,1745349.0,1810746.0,1837358.0,1948601.0,1919449.0,1947313.0,1999861.0,1971357.0,2079472.0,2184284.0,2293577.0,2290101.0,2231273.0,2294473.0,2340635.0,2340771.0,2337769.0,3198727.0],\"yaxis\":\"y\",\"type\":\"scatter\",\"textfont\":{\"size\":16}},{\"legendgroup\":\"palm_kernel\",\"line\":{\"color\":\"#00cc96\"},\"marker\":{\"symbol\":\"circle\"},\"mode\":\"lines\",\"name\":\"palm_kernel\",\"orientation\":\"v\",\"showlegend\":true,\"stackgroup\":\"1\",\"x\":[1961,1962,1963,1964,1965,1966,1967,1968,1969,1970,1971,1972,1973,1974,1975,1976,1977,1978,1979,1980,1981,1982,1983,1984,1985,1986,1987,1988,1989,1990,1991,1992,1993,1994,1995,1996,1997,1998,1999,2000,2001,2002,2003,2004,2005,2006,2007,2008,2009,2010,2011,2012,2013,2014],\"xaxis\":\"x\",\"y\":[476229.0,472833.0,440997.0,478057.0,497071.0,497999.0,426873.0,439208.0,491381.0,498467.0,520587.0,502007.0,484396.0,585931.0,571330.0,584613.0,641092.0,623551.0,689892.0,721684.0,758454.0,864318.0,895446.0,1013260.0,1182310.0,1246259.0,1231054.0,1343250.0,1570905.0,1690172.0,1602830.0,1682226.0,1941423.0,2017572.0,2087500.0,2272750.0,2382192.0,2333548.0,2702054.0,2788745.0,3052825.0,3163267.0,3457653.0,3688949.0,4079027.0,4485729.0,4611739.0,5022556.0,5205923.0,5217395.0,5641280.0,6032301.0,6367063.0,6660837.0],\"yaxis\":\"y\",\"type\":\"scatter\",\"textfont\":{\"size\":16}}],                        {\"template\":{\"data\":{\"bar\":[{\"error_x\":{\"color\":\"#f2f5fa\"},\"error_y\":{\"color\":\"#f2f5fa\"},\"marker\":{\"line\":{\"color\":\"rgb(17,17,17)\",\"width\":0.5},\"pattern\":{\"fillmode\":\"overlay\",\"size\":10,\"solidity\":0.2}},\"type\":\"bar\"}],\"barpolar\":[{\"marker\":{\"line\":{\"color\":\"rgb(17,17,17)\",\"width\":0.5},\"pattern\":{\"fillmode\":\"overlay\",\"size\":10,\"solidity\":0.2}},\"type\":\"barpolar\"}],\"carpet\":[{\"aaxis\":{\"endlinecolor\":\"#A2B1C6\",\"gridcolor\":\"#506784\",\"linecolor\":\"#506784\",\"minorgridcolor\":\"#506784\",\"startlinecolor\":\"#A2B1C6\"},\"baxis\":{\"endlinecolor\":\"#A2B1C6\",\"gridcolor\":\"#506784\",\"linecolor\":\"#506784\",\"minorgridcolor\":\"#506784\",\"startlinecolor\":\"#A2B1C6\"},\"type\":\"carpet\"}],\"choropleth\":[{\"colorbar\":{\"outlinewidth\":0,\"ticks\":\"\"},\"type\":\"choropleth\"}],\"contour\":[{\"colorbar\":{\"outlinewidth\":0,\"ticks\":\"\"},\"colorscale\":[[0.0,\"#0d0887\"],[0.1111111111111111,\"#46039f\"],[0.2222222222222222,\"#7201a8\"],[0.3333333333333333,\"#9c179e\"],[0.4444444444444444,\"#bd3786\"],[0.5555555555555556,\"#d8576b\"],[0.6666666666666666,\"#ed7953\"],[0.7777777777777778,\"#fb9f3a\"],[0.8888888888888888,\"#fdca26\"],[1.0,\"#f0f921\"]],\"type\":\"contour\"}],\"contourcarpet\":[{\"colorbar\":{\"outlinewidth\":0,\"ticks\":\"\"},\"type\":\"contourcarpet\"}],\"heatmap\":[{\"colorbar\":{\"outlinewidth\":0,\"ticks\":\"\"},\"colorscale\":[[0.0,\"#0d0887\"],[0.1111111111111111,\"#46039f\"],[0.2222222222222222,\"#7201a8\"],[0.3333333333333333,\"#9c179e\"],[0.4444444444444444,\"#bd3786\"],[0.5555555555555556,\"#d8576b\"],[0.6666666666666666,\"#ed7953\"],[0.7777777777777778,\"#fb9f3a\"],[0.8888888888888888,\"#fdca26\"],[1.0,\"#f0f921\"]],\"type\":\"heatmap\"}],\"heatmapgl\":[{\"colorbar\":{\"outlinewidth\":0,\"ticks\":\"\"},\"colorscale\":[[0.0,\"#0d0887\"],[0.1111111111111111,\"#46039f\"],[0.2222222222222222,\"#7201a8\"],[0.3333333333333333,\"#9c179e\"],[0.4444444444444444,\"#bd3786\"],[0.5555555555555556,\"#d8576b\"],[0.6666666666666666,\"#ed7953\"],[0.7777777777777778,\"#fb9f3a\"],[0.8888888888888888,\"#fdca26\"],[1.0,\"#f0f921\"]],\"type\":\"heatmapgl\"}],\"histogram\":[{\"marker\":{\"pattern\":{\"fillmode\":\"overlay\",\"size\":10,\"solidity\":0.2}},\"type\":\"histogram\"}],\"histogram2d\":[{\"colorbar\":{\"outlinewidth\":0,\"ticks\":\"\"},\"colorscale\":[[0.0,\"#0d0887\"],[0.1111111111111111,\"#46039f\"],[0.2222222222222222,\"#7201a8\"],[0.3333333333333333,\"#9c179e\"],[0.4444444444444444,\"#bd3786\"],[0.5555555555555556,\"#d8576b\"],[0.6666666666666666,\"#ed7953\"],[0.7777777777777778,\"#fb9f3a\"],[0.8888888888888888,\"#fdca26\"],[1.0,\"#f0f921\"]],\"type\":\"histogram2d\"}],\"histogram2dcontour\":[{\"colorbar\":{\"outlinewidth\":0,\"ticks\":\"\"},\"colorscale\":[[0.0,\"#0d0887\"],[0.1111111111111111,\"#46039f\"],[0.2222222222222222,\"#7201a8\"],[0.3333333333333333,\"#9c179e\"],[0.4444444444444444,\"#bd3786\"],[0.5555555555555556,\"#d8576b\"],[0.6666666666666666,\"#ed7953\"],[0.7777777777777778,\"#fb9f3a\"],[0.8888888888888888,\"#fdca26\"],[1.0,\"#f0f921\"]],\"type\":\"histogram2dcontour\"}],\"mesh3d\":[{\"colorbar\":{\"outlinewidth\":0,\"ticks\":\"\"},\"type\":\"mesh3d\"}],\"parcoords\":[{\"line\":{\"colorbar\":{\"outlinewidth\":0,\"ticks\":\"\"}},\"type\":\"parcoords\"}],\"pie\":[{\"automargin\":true,\"type\":\"pie\"}],\"scatter\":[{\"marker\":{\"line\":{\"color\":\"#283442\"}},\"type\":\"scatter\"}],\"scatter3d\":[{\"line\":{\"colorbar\":{\"outlinewidth\":0,\"ticks\":\"\"}},\"marker\":{\"colorbar\":{\"outlinewidth\":0,\"ticks\":\"\"}},\"type\":\"scatter3d\"}],\"scattercarpet\":[{\"marker\":{\"colorbar\":{\"outlinewidth\":0,\"ticks\":\"\"}},\"type\":\"scattercarpet\"}],\"scattergeo\":[{\"marker\":{\"colorbar\":{\"outlinewidth\":0,\"ticks\":\"\"}},\"type\":\"scattergeo\"}],\"scattergl\":[{\"marker\":{\"line\":{\"color\":\"#283442\"}},\"type\":\"scattergl\"}],\"scattermapbox\":[{\"marker\":{\"colorbar\":{\"outlinewidth\":0,\"ticks\":\"\"}},\"type\":\"scattermapbox\"}],\"scatterpolar\":[{\"marker\":{\"colorbar\":{\"outlinewidth\":0,\"ticks\":\"\"}},\"type\":\"scatterpolar\"}],\"scatterpolargl\":[{\"marker\":{\"colorbar\":{\"outlinewidth\":0,\"ticks\":\"\"}},\"type\":\"scatterpolargl\"}],\"scatterternary\":[{\"marker\":{\"colorbar\":{\"outlinewidth\":0,\"ticks\":\"\"}},\"type\":\"scatterternary\"}],\"surface\":[{\"colorbar\":{\"outlinewidth\":0,\"ticks\":\"\"},\"colorscale\":[[0.0,\"#0d0887\"],[0.1111111111111111,\"#46039f\"],[0.2222222222222222,\"#7201a8\"],[0.3333333333333333,\"#9c179e\"],[0.4444444444444444,\"#bd3786\"],[0.5555555555555556,\"#d8576b\"],[0.6666666666666666,\"#ed7953\"],[0.7777777777777778,\"#fb9f3a\"],[0.8888888888888888,\"#fdca26\"],[1.0,\"#f0f921\"]],\"type\":\"surface\"}],\"table\":[{\"cells\":{\"fill\":{\"color\":\"#506784\"},\"line\":{\"color\":\"rgb(17,17,17)\"}},\"header\":{\"fill\":{\"color\":\"#2a3f5f\"},\"line\":{\"color\":\"rgb(17,17,17)\"}},\"type\":\"table\"}]},\"layout\":{\"annotationdefaults\":{\"arrowcolor\":\"#f2f5fa\",\"arrowhead\":0,\"arrowwidth\":1},\"autotypenumbers\":\"strict\",\"coloraxis\":{\"colorbar\":{\"outlinewidth\":0,\"ticks\":\"\"}},\"colorscale\":{\"diverging\":[[0,\"#8e0152\"],[0.1,\"#c51b7d\"],[0.2,\"#de77ae\"],[0.3,\"#f1b6da\"],[0.4,\"#fde0ef\"],[0.5,\"#f7f7f7\"],[0.6,\"#e6f5d0\"],[0.7,\"#b8e186\"],[0.8,\"#7fbc41\"],[0.9,\"#4d9221\"],[1,\"#276419\"]],\"sequential\":[[0.0,\"#0d0887\"],[0.1111111111111111,\"#46039f\"],[0.2222222222222222,\"#7201a8\"],[0.3333333333333333,\"#9c179e\"],[0.4444444444444444,\"#bd3786\"],[0.5555555555555556,\"#d8576b\"],[0.6666666666666666,\"#ed7953\"],[0.7777777777777778,\"#fb9f3a\"],[0.8888888888888888,\"#fdca26\"],[1.0,\"#f0f921\"]],\"sequentialminus\":[[0.0,\"#0d0887\"],[0.1111111111111111,\"#46039f\"],[0.2222222222222222,\"#7201a8\"],[0.3333333333333333,\"#9c179e\"],[0.4444444444444444,\"#bd3786\"],[0.5555555555555556,\"#d8576b\"],[0.6666666666666666,\"#ed7953\"],[0.7777777777777778,\"#fb9f3a\"],[0.8888888888888888,\"#fdca26\"],[1.0,\"#f0f921\"]]},\"colorway\":[\"#636efa\",\"#EF553B\",\"#00cc96\",\"#ab63fa\",\"#FFA15A\",\"#19d3f3\",\"#FF6692\",\"#B6E880\",\"#FF97FF\",\"#FECB52\"],\"font\":{\"color\":\"#f2f5fa\"},\"geo\":{\"bgcolor\":\"rgb(17,17,17)\",\"lakecolor\":\"rgb(17,17,17)\",\"landcolor\":\"rgb(17,17,17)\",\"showlakes\":true,\"showland\":true,\"subunitcolor\":\"#506784\"},\"hoverlabel\":{\"align\":\"left\"},\"hovermode\":\"closest\",\"mapbox\":{\"style\":\"dark\"},\"paper_bgcolor\":\"rgb(17,17,17)\",\"plot_bgcolor\":\"rgb(17,17,17)\",\"polar\":{\"angularaxis\":{\"gridcolor\":\"#506784\",\"linecolor\":\"#506784\",\"ticks\":\"\"},\"bgcolor\":\"rgb(17,17,17)\",\"radialaxis\":{\"gridcolor\":\"#506784\",\"linecolor\":\"#506784\",\"ticks\":\"\"}},\"scene\":{\"xaxis\":{\"backgroundcolor\":\"rgb(17,17,17)\",\"gridcolor\":\"#506784\",\"gridwidth\":2,\"linecolor\":\"#506784\",\"showbackground\":true,\"ticks\":\"\",\"zerolinecolor\":\"#C8D4E3\"},\"yaxis\":{\"backgroundcolor\":\"rgb(17,17,17)\",\"gridcolor\":\"#506784\",\"gridwidth\":2,\"linecolor\":\"#506784\",\"showbackground\":true,\"ticks\":\"\",\"zerolinecolor\":\"#C8D4E3\"},\"zaxis\":{\"backgroundcolor\":\"rgb(17,17,17)\",\"gridcolor\":\"#506784\",\"gridwidth\":2,\"linecolor\":\"#506784\",\"showbackground\":true,\"ticks\":\"\",\"zerolinecolor\":\"#C8D4E3\"}},\"shapedefaults\":{\"line\":{\"color\":\"#f2f5fa\"}},\"sliderdefaults\":{\"bgcolor\":\"#C8D4E3\",\"bordercolor\":\"rgb(17,17,17)\",\"borderwidth\":1,\"tickwidth\":0},\"ternary\":{\"aaxis\":{\"gridcolor\":\"#506784\",\"linecolor\":\"#506784\",\"ticks\":\"\"},\"baxis\":{\"gridcolor\":\"#506784\",\"linecolor\":\"#506784\",\"ticks\":\"\"},\"bgcolor\":\"rgb(17,17,17)\",\"caxis\":{\"gridcolor\":\"#506784\",\"linecolor\":\"#506784\",\"ticks\":\"\"}},\"title\":{\"x\":0.05},\"updatemenudefaults\":{\"bgcolor\":\"#506784\",\"borderwidth\":0},\"xaxis\":{\"automargin\":true,\"gridcolor\":\"#283442\",\"linecolor\":\"#506784\",\"ticks\":\"\",\"title\":{\"standoff\":15},\"zerolinecolor\":\"#283442\",\"zerolinewidth\":2},\"yaxis\":{\"automargin\":true,\"gridcolor\":\"#283442\",\"linecolor\":\"#506784\",\"ticks\":\"\",\"title\":{\"standoff\":15},\"zerolinecolor\":\"#283442\",\"zerolinewidth\":2}}},\"xaxis\":{\"anchor\":\"y\",\"domain\":[0.0,1.0],\"title\":{\"text\":\"Year\"}},\"yaxis\":{\"anchor\":\"x\",\"domain\":[0.0,1.0],\"title\":{\"text\":\"value\"}},\"legend\":{\"title\":{\"text\":\"variable\"},\"tracegroupgap\":0},\"margin\":{\"t\":60},\"hovermode\":\"x\"},                        {\"responsive\": true}                    ).then(function(){\n                            \nvar gd = document.getElementById('05e004aa-238b-42a9-a6e1-c50b15bbbba6');\nvar x = new MutationObserver(function (mutations, observer) {{\n        var display = window.getComputedStyle(gd).display;\n        if (!display || display === 'none') {{\n            console.log([gd, 'removed!']);\n            Plotly.purge(gd);\n            observer.disconnect();\n        }}\n}});\n\n// Listen for the removal of the full notebook cells\nvar notebookContainer = gd.closest('#notebook-container');\nif (notebookContainer) {{\n    x.observe(notebookContainer, {childList: true});\n}}\n\n// Listen for the clearing of the current output cell\nvar outputEl = gd.closest('.output');\nif (outputEl) {{\n    x.observe(outputEl, {childList: true});\n}}\n\n                        })                };                });            </script>        </div>"
     },
     "metadata": {},
     "output_type": "display_data"
    }
   ],
   "source": [
    "veg_oil_fig = px.area(\n",
    "    veg_oil_yearly_production,\n",
    "    x='Year',\n",
    "    y=veg_oil_yearly_production.columns[1:]\n",
    ")\n",
    "veg_oil_fig.update_traces(textfont_size=16, hovertemplate=None)\n",
    "veg_oil_fig.update_layout(hovermode=\"x\")\n",
    "\n",
    "veg_oil_fig.show()"
   ],
   "metadata": {
    "collapsed": false,
    "pycharm": {
     "name": "#%%\n"
    }
   }
  }
 ],
 "metadata": {
  "kernelspec": {
   "display_name": "Python 3",
   "language": "python",
   "name": "python3"
  },
  "language_info": {
   "codemirror_mode": {
    "name": "ipython",
    "version": 2
   },
   "file_extension": ".py",
   "mimetype": "text/x-python",
   "name": "python",
   "nbconvert_exporter": "python",
   "pygments_lexer": "ipython2",
   "version": "2.7.6"
  }
 },
 "nbformat": 4,
 "nbformat_minor": 0
}