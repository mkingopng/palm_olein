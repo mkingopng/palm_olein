{
 "cells": [
  {
   "cell_type": "code",
   "execution_count": 33,
   "outputs": [],
   "source": [
    "import os\n",
    "import numpy as np\n",
    "import pandas as pd\n",
    "import matplotlib as mpl\n",
    "import matplotlib_inline\n",
    "import seaborn as sns\n",
    "import plotly.express as px\n",
    "from plotly.subplots import make_subplots\n",
    "import plotly.graph_objects as go"
   ],
   "metadata": {
    "collapsed": false,
    "pycharm": {
     "name": "#%%\n"
    }
   }
  },
  {
   "cell_type": "code",
   "execution_count": 34,
   "outputs": [],
   "source": [
    "DATA = 'data'"
   ],
   "metadata": {
    "collapsed": false,
    "pycharm": {
     "name": "#%%\n"
    }
   }
  },
  {
   "cell_type": "markdown",
   "source": [
    "# Problem statement\n",
    "Palm olein has grown over the last 60 years to be the worlds single largest vegetable oil crop. It makes up 35% of edible oil consumption globally, and is used in numerous industries.\n",
    "\n",
    "This is at odds with the perception among consumers that palm oil is environmentally unfriendly, and that companies are increasingly turning to alternatives.\n",
    "\n",
    "Since late 2020, palm olein prices have surged to break one record after another. Prices today are at an all-time high. It is unclear what is driving this price surge. There has been no obvious structural change to the market that could easily explain such a sustained bull market. This implies that the current prices are unsustainable and there will be a market correction at some point.\n",
    "\n",
    "In the meantime, business need to plan and the uncertainty about future prices makes this task challenging, as margins are <8% for most actors. Tha palm oil market affects many industries including foods, industrial applications (consumer goods like soaps, detergents & cosmetics) and energy. In a market where price has increased by 400% in 24 months, accurately forecasting future prices and making appropriate decisions become mission-critical.\n",
    "\n",
    "**The suppliers pricing mechanism**: the supplier sets the price for the month on the first day of the new month. The supplier closes their order book on the 21st of the current month. by the 21st of the month, purchasing must choose whether or not to place forward orders for 1-3 months at the current price, or to wait for the new price in 10 days.\n",
    "\n",
    "# Goal\n",
    "The goal of this project is:\n",
    "- to understand the drivers for the palm oil price\n",
    "- to understand the current price surge\n",
    "- to model the supply and demand factors that drive price and quantity\n",
    "- to forecast future prices over 30 - 60 - 90 day horizons\n",
    "- use naive as the benchmark\n",
    "- fourier transform or wavelet\n",
    "- pipeline should be automatic, duplication, failure"
   ],
   "metadata": {
    "collapsed": false,
    "pycharm": {
     "name": "#%% md\n"
    }
   }
  },
  {
   "cell_type": "markdown",
   "source": [
    "# Price Drivers\n",
    "\n",
    "We have major data challenges. need more data over longer periods\n",
    "\n",
    "### General\n",
    "- political policy\n",
    "- inflation (quarterly)\n",
    "- exchange rate movements (daily)\n",
    "- war in russia & geo-politics\n",
    "- economic effects of COVID flow-on to palm oil\n",
    "\n",
    "### Market\n",
    "- price of palm oil (daily)\n",
    "- price of substitute oils (daily)\n",
    "\n",
    "# Demand Side\n",
    "- general increase in the consumption of edible oils globally\n",
    "- growth in demand with the growth of specific economies in china and india.\n",
    "\n",
    "# Supply Side\n",
    "- weather: daily\n",
    "- labor shortages:\n",
    "- land clearing:?\n",
    "- output per ha:?"
   ],
   "metadata": {
    "collapsed": false,
    "pycharm": {
     "name": "#%% md\n"
    }
   }
  },
  {
   "cell_type": "markdown",
   "source": [
    "# Visualisation\n",
    "- **production of palm oil**: total world production & by country and region over time. line plot\n",
    "- **vegetable oils production**: production and by oil type, country and region over time. stacked area plot\n",
    "- **imports**: which countries import the most oil? how has it changed over time?. global map/heatmap\n",
    "- **production by country**: palm oil production by country over time. global map/heatmap\n",
    "- **production by country**: horizontal bar chart with national output at end of bar.\n",
    "- **exports**: which countries export palm oil? how has it changed over time? global map/heatmap.\n",
    "- **land used for palm oil**: how much land is used for palm oil cultivation over time? line plot.\n",
    "- **land used for vegetable oil**: how much land is used for the cultivation of oil crops, by crop, by country and region, over time? stacked area plot.\n",
    "- **oil yield by crop**: a comparison of oil yield per hectare of land cultivated by crop. shows that palm oil is the most productive per hectare. horizontal bar plot showing top 10 crops\n",
    "- **price**: palm olein and other edible oil prices and other edible oil prices. line chart"
   ],
   "metadata": {
    "collapsed": false,
    "pycharm": {
     "name": "#%% md\n"
    }
   }
  },
  {
   "cell_type": "markdown",
   "source": [
    "# Introduction\n",
    "There are a number of forces at play that make this an interesting topic\n",
    "- palm oil demand growing continuously year-on-year\n",
    "- the amount of cultivation and production has increased\n",
    "- increased land use is the primary driver of increased production volumes\n",
    "- increased yields have also contributed\n",
    "- there is an increasingly negative view of palm oil and its role in driving deforestation. \"palm oil free\" is now a prominent issue and should cause downward pressure on demand\n",
    "- labour shortages due to restrictions imposed during COVID 19 had an effect in 2020 and the \"stickiness\" of agricultural production means the effect of this will take time to work through the supply chain. This may be one of the causes behind lagging supply.\n",
    "- global shipping disruptions and delays have impacted trade broadly and palm oil is affected. This should have a dampening effect on demand\n",
    "- Public policy in indonesia constraining exports will have had a dampening effect on supply\n",
    "- El nino weather conditions will have a postive impact on supply, however the timing of this impact is unclear at this time"
   ],
   "metadata": {
    "collapsed": false,
    "pycharm": {
     "name": "#%% md\n"
    }
   }
  },
  {
   "cell_type": "markdown",
   "source": [
    "# 1) Global palm oil production\n",
    "Palm oil production has increased rapidly over the past 50 years. In 1970, the world was producing only 2 million tonnes. This is now 35 times higher: in 2018 the world produced 71 million tonnes. The change in global production is shown in the chart.3\n",
    "\n",
    "The rise of palm oil follows the rapid increase in demand for vegetable oils more broadly. The breakdown of global vegetable oil production by crop is shown in the stacked area chart. Global production increased ten-fold since the 1960s – from 17 to 170 million tonnes in 2014. As we will see later in this article, **more recent data for 2018 comes to 218 million tonnes**.\n",
    "\n",
    "The story of palm oil is less about it as an isolated commodity, but more about the story of the rising demand for vegetable oils. Palm oil is a very productive crop. It produces 36% of the world’s oil, but uses less than 9% of croplands devoted to oil production. It has favourable production costs and is among the cheapest edible oils. Palm Oil has therefore been a natural choice to meet this demand.\n",
    "\n",
    "Production of palm oil has increased by **4800% over the last 60 years**. The growth has occurred to meet rising demands for vegetable oils in general. Palm oil's growth is a function of increased demand for edible oils, combined with palm oil's favourable cost of production.\n"
   ],
   "metadata": {
    "collapsed": false,
    "pycharm": {
     "name": "#%% md\n"
    }
   }
  },
  {
   "cell_type": "code",
   "execution_count": 35,
   "outputs": [],
   "source": [
    "production = pd.read_csv(os.path.join(DATA, \"palm-oil-production.csv\"))\n",
    "world_df = production.loc[production['Entity'] == 'World']"
   ],
   "metadata": {
    "collapsed": false,
    "pycharm": {
     "name": "#%%\n"
    }
   }
  },
  {
   "cell_type": "code",
   "execution_count": 83,
   "outputs": [
    {
     "data": {
      "application/vnd.plotly.v1+json": {
       "data": [
        {
         "hovertemplate": "Year=%{x}<br>Crops - Oil, palm - 257 - Production - 5510 - tonnes=%{y}<extra></extra>",
         "legendgroup": "",
         "line": {
          "color": "#636efa",
          "dash": "solid"
         },
         "marker": {
          "symbol": "circle"
         },
         "mode": "lines",
         "name": "",
         "orientation": "v",
         "showlegend": false,
         "x": [
          1961,
          1962,
          1963,
          1964,
          1965,
          1966,
          1967,
          1968,
          1969,
          1970,
          1971,
          1972,
          1973,
          1974,
          1975,
          1976,
          1977,
          1978,
          1979,
          1980,
          1981,
          1982,
          1983,
          1984,
          1985,
          1986,
          1987,
          1988,
          1989,
          1990,
          1991,
          1992,
          1993,
          1994,
          1995,
          1996,
          1997,
          1998,
          1999,
          2000,
          2001,
          2002,
          2003,
          2004,
          2005,
          2006,
          2007,
          2008,
          2009,
          2010,
          2011,
          2012,
          2013,
          2014,
          2015,
          2016,
          2017,
          2018
         ],
         "xaxis": "x",
         "y": [
          1478901,
          1475941,
          1535070,
          1570032,
          1576213,
          1666205,
          1669217,
          1823724,
          1942471,
          1937339,
          2159330,
          2308616,
          2412388,
          2810191,
          3130953,
          3321918,
          3561794,
          3840547,
          4528449,
          5082953,
          5295847,
          6173947,
          5806853,
          6822507,
          7585207,
          8275833,
          8536727,
          9293011,
          10787059,
          11449105,
          11879204,
          12857624,
          14155115,
          14719162,
          15935864,
          17009521,
          18279798,
          18206018,
          20724971,
          22216169,
          24823746,
          26124647,
          28665433,
          30049419,
          32254707,
          39408195,
          39762987,
          42352911,
          43871702,
          45781555,
          50349524,
          52375870,
          55219557,
          57260155,
          59800434,
          58156889,
          65860608,
          71453193
         ],
         "yaxis": "y",
         "type": "scatter"
        }
       ],
       "layout": {
        "template": {
         "data": {
          "bar": [
           {
            "error_x": {
             "color": "#f2f5fa"
            },
            "error_y": {
             "color": "#f2f5fa"
            },
            "marker": {
             "line": {
              "color": "rgb(17,17,17)",
              "width": 0.5
             },
             "pattern": {
              "fillmode": "overlay",
              "size": 10,
              "solidity": 0.2
             }
            },
            "type": "bar"
           }
          ],
          "barpolar": [
           {
            "marker": {
             "line": {
              "color": "rgb(17,17,17)",
              "width": 0.5
             },
             "pattern": {
              "fillmode": "overlay",
              "size": 10,
              "solidity": 0.2
             }
            },
            "type": "barpolar"
           }
          ],
          "carpet": [
           {
            "aaxis": {
             "endlinecolor": "#A2B1C6",
             "gridcolor": "#506784",
             "linecolor": "#506784",
             "minorgridcolor": "#506784",
             "startlinecolor": "#A2B1C6"
            },
            "baxis": {
             "endlinecolor": "#A2B1C6",
             "gridcolor": "#506784",
             "linecolor": "#506784",
             "minorgridcolor": "#506784",
             "startlinecolor": "#A2B1C6"
            },
            "type": "carpet"
           }
          ],
          "choropleth": [
           {
            "colorbar": {
             "outlinewidth": 0,
             "ticks": ""
            },
            "type": "choropleth"
           }
          ],
          "contour": [
           {
            "colorbar": {
             "outlinewidth": 0,
             "ticks": ""
            },
            "colorscale": [
             [
              0.0,
              "#0d0887"
             ],
             [
              0.1111111111111111,
              "#46039f"
             ],
             [
              0.2222222222222222,
              "#7201a8"
             ],
             [
              0.3333333333333333,
              "#9c179e"
             ],
             [
              0.4444444444444444,
              "#bd3786"
             ],
             [
              0.5555555555555556,
              "#d8576b"
             ],
             [
              0.6666666666666666,
              "#ed7953"
             ],
             [
              0.7777777777777778,
              "#fb9f3a"
             ],
             [
              0.8888888888888888,
              "#fdca26"
             ],
             [
              1.0,
              "#f0f921"
             ]
            ],
            "type": "contour"
           }
          ],
          "contourcarpet": [
           {
            "colorbar": {
             "outlinewidth": 0,
             "ticks": ""
            },
            "type": "contourcarpet"
           }
          ],
          "heatmap": [
           {
            "colorbar": {
             "outlinewidth": 0,
             "ticks": ""
            },
            "colorscale": [
             [
              0.0,
              "#0d0887"
             ],
             [
              0.1111111111111111,
              "#46039f"
             ],
             [
              0.2222222222222222,
              "#7201a8"
             ],
             [
              0.3333333333333333,
              "#9c179e"
             ],
             [
              0.4444444444444444,
              "#bd3786"
             ],
             [
              0.5555555555555556,
              "#d8576b"
             ],
             [
              0.6666666666666666,
              "#ed7953"
             ],
             [
              0.7777777777777778,
              "#fb9f3a"
             ],
             [
              0.8888888888888888,
              "#fdca26"
             ],
             [
              1.0,
              "#f0f921"
             ]
            ],
            "type": "heatmap"
           }
          ],
          "heatmapgl": [
           {
            "colorbar": {
             "outlinewidth": 0,
             "ticks": ""
            },
            "colorscale": [
             [
              0.0,
              "#0d0887"
             ],
             [
              0.1111111111111111,
              "#46039f"
             ],
             [
              0.2222222222222222,
              "#7201a8"
             ],
             [
              0.3333333333333333,
              "#9c179e"
             ],
             [
              0.4444444444444444,
              "#bd3786"
             ],
             [
              0.5555555555555556,
              "#d8576b"
             ],
             [
              0.6666666666666666,
              "#ed7953"
             ],
             [
              0.7777777777777778,
              "#fb9f3a"
             ],
             [
              0.8888888888888888,
              "#fdca26"
             ],
             [
              1.0,
              "#f0f921"
             ]
            ],
            "type": "heatmapgl"
           }
          ],
          "histogram": [
           {
            "marker": {
             "pattern": {
              "fillmode": "overlay",
              "size": 10,
              "solidity": 0.2
             }
            },
            "type": "histogram"
           }
          ],
          "histogram2d": [
           {
            "colorbar": {
             "outlinewidth": 0,
             "ticks": ""
            },
            "colorscale": [
             [
              0.0,
              "#0d0887"
             ],
             [
              0.1111111111111111,
              "#46039f"
             ],
             [
              0.2222222222222222,
              "#7201a8"
             ],
             [
              0.3333333333333333,
              "#9c179e"
             ],
             [
              0.4444444444444444,
              "#bd3786"
             ],
             [
              0.5555555555555556,
              "#d8576b"
             ],
             [
              0.6666666666666666,
              "#ed7953"
             ],
             [
              0.7777777777777778,
              "#fb9f3a"
             ],
             [
              0.8888888888888888,
              "#fdca26"
             ],
             [
              1.0,
              "#f0f921"
             ]
            ],
            "type": "histogram2d"
           }
          ],
          "histogram2dcontour": [
           {
            "colorbar": {
             "outlinewidth": 0,
             "ticks": ""
            },
            "colorscale": [
             [
              0.0,
              "#0d0887"
             ],
             [
              0.1111111111111111,
              "#46039f"
             ],
             [
              0.2222222222222222,
              "#7201a8"
             ],
             [
              0.3333333333333333,
              "#9c179e"
             ],
             [
              0.4444444444444444,
              "#bd3786"
             ],
             [
              0.5555555555555556,
              "#d8576b"
             ],
             [
              0.6666666666666666,
              "#ed7953"
             ],
             [
              0.7777777777777778,
              "#fb9f3a"
             ],
             [
              0.8888888888888888,
              "#fdca26"
             ],
             [
              1.0,
              "#f0f921"
             ]
            ],
            "type": "histogram2dcontour"
           }
          ],
          "mesh3d": [
           {
            "colorbar": {
             "outlinewidth": 0,
             "ticks": ""
            },
            "type": "mesh3d"
           }
          ],
          "parcoords": [
           {
            "line": {
             "colorbar": {
              "outlinewidth": 0,
              "ticks": ""
             }
            },
            "type": "parcoords"
           }
          ],
          "pie": [
           {
            "automargin": true,
            "type": "pie"
           }
          ],
          "scatter": [
           {
            "marker": {
             "line": {
              "color": "#283442"
             }
            },
            "type": "scatter"
           }
          ],
          "scatter3d": [
           {
            "line": {
             "colorbar": {
              "outlinewidth": 0,
              "ticks": ""
             }
            },
            "marker": {
             "colorbar": {
              "outlinewidth": 0,
              "ticks": ""
             }
            },
            "type": "scatter3d"
           }
          ],
          "scattercarpet": [
           {
            "marker": {
             "colorbar": {
              "outlinewidth": 0,
              "ticks": ""
             }
            },
            "type": "scattercarpet"
           }
          ],
          "scattergeo": [
           {
            "marker": {
             "colorbar": {
              "outlinewidth": 0,
              "ticks": ""
             }
            },
            "type": "scattergeo"
           }
          ],
          "scattergl": [
           {
            "marker": {
             "line": {
              "color": "#283442"
             }
            },
            "type": "scattergl"
           }
          ],
          "scattermapbox": [
           {
            "marker": {
             "colorbar": {
              "outlinewidth": 0,
              "ticks": ""
             }
            },
            "type": "scattermapbox"
           }
          ],
          "scatterpolar": [
           {
            "marker": {
             "colorbar": {
              "outlinewidth": 0,
              "ticks": ""
             }
            },
            "type": "scatterpolar"
           }
          ],
          "scatterpolargl": [
           {
            "marker": {
             "colorbar": {
              "outlinewidth": 0,
              "ticks": ""
             }
            },
            "type": "scatterpolargl"
           }
          ],
          "scatterternary": [
           {
            "marker": {
             "colorbar": {
              "outlinewidth": 0,
              "ticks": ""
             }
            },
            "type": "scatterternary"
           }
          ],
          "surface": [
           {
            "colorbar": {
             "outlinewidth": 0,
             "ticks": ""
            },
            "colorscale": [
             [
              0.0,
              "#0d0887"
             ],
             [
              0.1111111111111111,
              "#46039f"
             ],
             [
              0.2222222222222222,
              "#7201a8"
             ],
             [
              0.3333333333333333,
              "#9c179e"
             ],
             [
              0.4444444444444444,
              "#bd3786"
             ],
             [
              0.5555555555555556,
              "#d8576b"
             ],
             [
              0.6666666666666666,
              "#ed7953"
             ],
             [
              0.7777777777777778,
              "#fb9f3a"
             ],
             [
              0.8888888888888888,
              "#fdca26"
             ],
             [
              1.0,
              "#f0f921"
             ]
            ],
            "type": "surface"
           }
          ],
          "table": [
           {
            "cells": {
             "fill": {
              "color": "#506784"
             },
             "line": {
              "color": "rgb(17,17,17)"
             }
            },
            "header": {
             "fill": {
              "color": "#2a3f5f"
             },
             "line": {
              "color": "rgb(17,17,17)"
             }
            },
            "type": "table"
           }
          ]
         },
         "layout": {
          "annotationdefaults": {
           "arrowcolor": "#f2f5fa",
           "arrowhead": 0,
           "arrowwidth": 1
          },
          "autotypenumbers": "strict",
          "coloraxis": {
           "colorbar": {
            "outlinewidth": 0,
            "ticks": ""
           }
          },
          "colorscale": {
           "diverging": [
            [
             0,
             "#8e0152"
            ],
            [
             0.1,
             "#c51b7d"
            ],
            [
             0.2,
             "#de77ae"
            ],
            [
             0.3,
             "#f1b6da"
            ],
            [
             0.4,
             "#fde0ef"
            ],
            [
             0.5,
             "#f7f7f7"
            ],
            [
             0.6,
             "#e6f5d0"
            ],
            [
             0.7,
             "#b8e186"
            ],
            [
             0.8,
             "#7fbc41"
            ],
            [
             0.9,
             "#4d9221"
            ],
            [
             1,
             "#276419"
            ]
           ],
           "sequential": [
            [
             0.0,
             "#0d0887"
            ],
            [
             0.1111111111111111,
             "#46039f"
            ],
            [
             0.2222222222222222,
             "#7201a8"
            ],
            [
             0.3333333333333333,
             "#9c179e"
            ],
            [
             0.4444444444444444,
             "#bd3786"
            ],
            [
             0.5555555555555556,
             "#d8576b"
            ],
            [
             0.6666666666666666,
             "#ed7953"
            ],
            [
             0.7777777777777778,
             "#fb9f3a"
            ],
            [
             0.8888888888888888,
             "#fdca26"
            ],
            [
             1.0,
             "#f0f921"
            ]
           ],
           "sequentialminus": [
            [
             0.0,
             "#0d0887"
            ],
            [
             0.1111111111111111,
             "#46039f"
            ],
            [
             0.2222222222222222,
             "#7201a8"
            ],
            [
             0.3333333333333333,
             "#9c179e"
            ],
            [
             0.4444444444444444,
             "#bd3786"
            ],
            [
             0.5555555555555556,
             "#d8576b"
            ],
            [
             0.6666666666666666,
             "#ed7953"
            ],
            [
             0.7777777777777778,
             "#fb9f3a"
            ],
            [
             0.8888888888888888,
             "#fdca26"
            ],
            [
             1.0,
             "#f0f921"
            ]
           ]
          },
          "colorway": [
           "#636efa",
           "#EF553B",
           "#00cc96",
           "#ab63fa",
           "#FFA15A",
           "#19d3f3",
           "#FF6692",
           "#B6E880",
           "#FF97FF",
           "#FECB52"
          ],
          "font": {
           "color": "#f2f5fa"
          },
          "geo": {
           "bgcolor": "rgb(17,17,17)",
           "lakecolor": "rgb(17,17,17)",
           "landcolor": "rgb(17,17,17)",
           "showlakes": true,
           "showland": true,
           "subunitcolor": "#506784"
          },
          "hoverlabel": {
           "align": "left"
          },
          "hovermode": "closest",
          "mapbox": {
           "style": "dark"
          },
          "paper_bgcolor": "rgb(17,17,17)",
          "plot_bgcolor": "rgb(17,17,17)",
          "polar": {
           "angularaxis": {
            "gridcolor": "#506784",
            "linecolor": "#506784",
            "ticks": ""
           },
           "bgcolor": "rgb(17,17,17)",
           "radialaxis": {
            "gridcolor": "#506784",
            "linecolor": "#506784",
            "ticks": ""
           }
          },
          "scene": {
           "xaxis": {
            "backgroundcolor": "rgb(17,17,17)",
            "gridcolor": "#506784",
            "gridwidth": 2,
            "linecolor": "#506784",
            "showbackground": true,
            "ticks": "",
            "zerolinecolor": "#C8D4E3"
           },
           "yaxis": {
            "backgroundcolor": "rgb(17,17,17)",
            "gridcolor": "#506784",
            "gridwidth": 2,
            "linecolor": "#506784",
            "showbackground": true,
            "ticks": "",
            "zerolinecolor": "#C8D4E3"
           },
           "zaxis": {
            "backgroundcolor": "rgb(17,17,17)",
            "gridcolor": "#506784",
            "gridwidth": 2,
            "linecolor": "#506784",
            "showbackground": true,
            "ticks": "",
            "zerolinecolor": "#C8D4E3"
           }
          },
          "shapedefaults": {
           "line": {
            "color": "#f2f5fa"
           }
          },
          "sliderdefaults": {
           "bgcolor": "#C8D4E3",
           "bordercolor": "rgb(17,17,17)",
           "borderwidth": 1,
           "tickwidth": 0
          },
          "ternary": {
           "aaxis": {
            "gridcolor": "#506784",
            "linecolor": "#506784",
            "ticks": ""
           },
           "baxis": {
            "gridcolor": "#506784",
            "linecolor": "#506784",
            "ticks": ""
           },
           "bgcolor": "rgb(17,17,17)",
           "caxis": {
            "gridcolor": "#506784",
            "linecolor": "#506784",
            "ticks": ""
           }
          },
          "title": {
           "x": 0.05
          },
          "updatemenudefaults": {
           "bgcolor": "#506784",
           "borderwidth": 0
          },
          "xaxis": {
           "automargin": true,
           "gridcolor": "#283442",
           "linecolor": "#506784",
           "ticks": "",
           "title": {
            "standoff": 15
           },
           "zerolinecolor": "#283442",
           "zerolinewidth": 2
          },
          "yaxis": {
           "automargin": true,
           "gridcolor": "#283442",
           "linecolor": "#506784",
           "ticks": "",
           "title": {
            "standoff": 15
           },
           "zerolinecolor": "#283442",
           "zerolinewidth": 2
          }
         }
        },
        "xaxis": {
         "anchor": "y",
         "domain": [
          0.0,
          1.0
         ],
         "title": {
          "text": "Year",
          "font": {
           "size": 30,
           "family": "Verdana",
           "color": "white"
          }
         },
         "tickfont": {
          "family": "Calibri",
          "color": "white",
          "size": 25
         }
        },
        "yaxis": {
         "anchor": "x",
         "domain": [
          0.0,
          1.0
         ],
         "title": {
          "text": "<b>Palm Oil production (mt)</b>",
          "font": {
           "size": 30,
           "family": "Verdana",
           "color": "white"
          }
         },
         "tickfont": {
          "family": "Calibri",
          "color": "white",
          "size": 25
         }
        },
        "legend": {
         "tracegroupgap": 0,
         "font": {
          "size": 20
         }
        },
        "margin": {
         "t": 60
        },
        "title": {
         "font": {
          "size": 40
         },
         "text": "<b>Global Oil Palm Fruit Production<b>"
        },
        "width": 1400,
        "height": 1000
       },
       "config": {
        "plotlyServerURL": "https://plot.ly"
       }
      },
      "text/html": "<div>                            <div id=\"e57023c6-a10a-4289-bbba-c5758e4dee3f\" class=\"plotly-graph-div\" style=\"height:1000px; width:1400px;\"></div>            <script type=\"text/javascript\">                require([\"plotly\"], function(Plotly) {                    window.PLOTLYENV=window.PLOTLYENV || {};                                    if (document.getElementById(\"e57023c6-a10a-4289-bbba-c5758e4dee3f\")) {                    Plotly.newPlot(                        \"e57023c6-a10a-4289-bbba-c5758e4dee3f\",                        [{\"hovertemplate\":\"Year=%{x}<br>Crops - Oil, palm - 257 - Production - 5510 - tonnes=%{y}<extra></extra>\",\"legendgroup\":\"\",\"line\":{\"color\":\"#636efa\",\"dash\":\"solid\"},\"marker\":{\"symbol\":\"circle\"},\"mode\":\"lines\",\"name\":\"\",\"orientation\":\"v\",\"showlegend\":false,\"x\":[1961,1962,1963,1964,1965,1966,1967,1968,1969,1970,1971,1972,1973,1974,1975,1976,1977,1978,1979,1980,1981,1982,1983,1984,1985,1986,1987,1988,1989,1990,1991,1992,1993,1994,1995,1996,1997,1998,1999,2000,2001,2002,2003,2004,2005,2006,2007,2008,2009,2010,2011,2012,2013,2014,2015,2016,2017,2018],\"xaxis\":\"x\",\"y\":[1478901,1475941,1535070,1570032,1576213,1666205,1669217,1823724,1942471,1937339,2159330,2308616,2412388,2810191,3130953,3321918,3561794,3840547,4528449,5082953,5295847,6173947,5806853,6822507,7585207,8275833,8536727,9293011,10787059,11449105,11879204,12857624,14155115,14719162,15935864,17009521,18279798,18206018,20724971,22216169,24823746,26124647,28665433,30049419,32254707,39408195,39762987,42352911,43871702,45781555,50349524,52375870,55219557,57260155,59800434,58156889,65860608,71453193],\"yaxis\":\"y\",\"type\":\"scatter\"}],                        {\"template\":{\"data\":{\"bar\":[{\"error_x\":{\"color\":\"#f2f5fa\"},\"error_y\":{\"color\":\"#f2f5fa\"},\"marker\":{\"line\":{\"color\":\"rgb(17,17,17)\",\"width\":0.5},\"pattern\":{\"fillmode\":\"overlay\",\"size\":10,\"solidity\":0.2}},\"type\":\"bar\"}],\"barpolar\":[{\"marker\":{\"line\":{\"color\":\"rgb(17,17,17)\",\"width\":0.5},\"pattern\":{\"fillmode\":\"overlay\",\"size\":10,\"solidity\":0.2}},\"type\":\"barpolar\"}],\"carpet\":[{\"aaxis\":{\"endlinecolor\":\"#A2B1C6\",\"gridcolor\":\"#506784\",\"linecolor\":\"#506784\",\"minorgridcolor\":\"#506784\",\"startlinecolor\":\"#A2B1C6\"},\"baxis\":{\"endlinecolor\":\"#A2B1C6\",\"gridcolor\":\"#506784\",\"linecolor\":\"#506784\",\"minorgridcolor\":\"#506784\",\"startlinecolor\":\"#A2B1C6\"},\"type\":\"carpet\"}],\"choropleth\":[{\"colorbar\":{\"outlinewidth\":0,\"ticks\":\"\"},\"type\":\"choropleth\"}],\"contour\":[{\"colorbar\":{\"outlinewidth\":0,\"ticks\":\"\"},\"colorscale\":[[0.0,\"#0d0887\"],[0.1111111111111111,\"#46039f\"],[0.2222222222222222,\"#7201a8\"],[0.3333333333333333,\"#9c179e\"],[0.4444444444444444,\"#bd3786\"],[0.5555555555555556,\"#d8576b\"],[0.6666666666666666,\"#ed7953\"],[0.7777777777777778,\"#fb9f3a\"],[0.8888888888888888,\"#fdca26\"],[1.0,\"#f0f921\"]],\"type\":\"contour\"}],\"contourcarpet\":[{\"colorbar\":{\"outlinewidth\":0,\"ticks\":\"\"},\"type\":\"contourcarpet\"}],\"heatmap\":[{\"colorbar\":{\"outlinewidth\":0,\"ticks\":\"\"},\"colorscale\":[[0.0,\"#0d0887\"],[0.1111111111111111,\"#46039f\"],[0.2222222222222222,\"#7201a8\"],[0.3333333333333333,\"#9c179e\"],[0.4444444444444444,\"#bd3786\"],[0.5555555555555556,\"#d8576b\"],[0.6666666666666666,\"#ed7953\"],[0.7777777777777778,\"#fb9f3a\"],[0.8888888888888888,\"#fdca26\"],[1.0,\"#f0f921\"]],\"type\":\"heatmap\"}],\"heatmapgl\":[{\"colorbar\":{\"outlinewidth\":0,\"ticks\":\"\"},\"colorscale\":[[0.0,\"#0d0887\"],[0.1111111111111111,\"#46039f\"],[0.2222222222222222,\"#7201a8\"],[0.3333333333333333,\"#9c179e\"],[0.4444444444444444,\"#bd3786\"],[0.5555555555555556,\"#d8576b\"],[0.6666666666666666,\"#ed7953\"],[0.7777777777777778,\"#fb9f3a\"],[0.8888888888888888,\"#fdca26\"],[1.0,\"#f0f921\"]],\"type\":\"heatmapgl\"}],\"histogram\":[{\"marker\":{\"pattern\":{\"fillmode\":\"overlay\",\"size\":10,\"solidity\":0.2}},\"type\":\"histogram\"}],\"histogram2d\":[{\"colorbar\":{\"outlinewidth\":0,\"ticks\":\"\"},\"colorscale\":[[0.0,\"#0d0887\"],[0.1111111111111111,\"#46039f\"],[0.2222222222222222,\"#7201a8\"],[0.3333333333333333,\"#9c179e\"],[0.4444444444444444,\"#bd3786\"],[0.5555555555555556,\"#d8576b\"],[0.6666666666666666,\"#ed7953\"],[0.7777777777777778,\"#fb9f3a\"],[0.8888888888888888,\"#fdca26\"],[1.0,\"#f0f921\"]],\"type\":\"histogram2d\"}],\"histogram2dcontour\":[{\"colorbar\":{\"outlinewidth\":0,\"ticks\":\"\"},\"colorscale\":[[0.0,\"#0d0887\"],[0.1111111111111111,\"#46039f\"],[0.2222222222222222,\"#7201a8\"],[0.3333333333333333,\"#9c179e\"],[0.4444444444444444,\"#bd3786\"],[0.5555555555555556,\"#d8576b\"],[0.6666666666666666,\"#ed7953\"],[0.7777777777777778,\"#fb9f3a\"],[0.8888888888888888,\"#fdca26\"],[1.0,\"#f0f921\"]],\"type\":\"histogram2dcontour\"}],\"mesh3d\":[{\"colorbar\":{\"outlinewidth\":0,\"ticks\":\"\"},\"type\":\"mesh3d\"}],\"parcoords\":[{\"line\":{\"colorbar\":{\"outlinewidth\":0,\"ticks\":\"\"}},\"type\":\"parcoords\"}],\"pie\":[{\"automargin\":true,\"type\":\"pie\"}],\"scatter\":[{\"marker\":{\"line\":{\"color\":\"#283442\"}},\"type\":\"scatter\"}],\"scatter3d\":[{\"line\":{\"colorbar\":{\"outlinewidth\":0,\"ticks\":\"\"}},\"marker\":{\"colorbar\":{\"outlinewidth\":0,\"ticks\":\"\"}},\"type\":\"scatter3d\"}],\"scattercarpet\":[{\"marker\":{\"colorbar\":{\"outlinewidth\":0,\"ticks\":\"\"}},\"type\":\"scattercarpet\"}],\"scattergeo\":[{\"marker\":{\"colorbar\":{\"outlinewidth\":0,\"ticks\":\"\"}},\"type\":\"scattergeo\"}],\"scattergl\":[{\"marker\":{\"line\":{\"color\":\"#283442\"}},\"type\":\"scattergl\"}],\"scattermapbox\":[{\"marker\":{\"colorbar\":{\"outlinewidth\":0,\"ticks\":\"\"}},\"type\":\"scattermapbox\"}],\"scatterpolar\":[{\"marker\":{\"colorbar\":{\"outlinewidth\":0,\"ticks\":\"\"}},\"type\":\"scatterpolar\"}],\"scatterpolargl\":[{\"marker\":{\"colorbar\":{\"outlinewidth\":0,\"ticks\":\"\"}},\"type\":\"scatterpolargl\"}],\"scatterternary\":[{\"marker\":{\"colorbar\":{\"outlinewidth\":0,\"ticks\":\"\"}},\"type\":\"scatterternary\"}],\"surface\":[{\"colorbar\":{\"outlinewidth\":0,\"ticks\":\"\"},\"colorscale\":[[0.0,\"#0d0887\"],[0.1111111111111111,\"#46039f\"],[0.2222222222222222,\"#7201a8\"],[0.3333333333333333,\"#9c179e\"],[0.4444444444444444,\"#bd3786\"],[0.5555555555555556,\"#d8576b\"],[0.6666666666666666,\"#ed7953\"],[0.7777777777777778,\"#fb9f3a\"],[0.8888888888888888,\"#fdca26\"],[1.0,\"#f0f921\"]],\"type\":\"surface\"}],\"table\":[{\"cells\":{\"fill\":{\"color\":\"#506784\"},\"line\":{\"color\":\"rgb(17,17,17)\"}},\"header\":{\"fill\":{\"color\":\"#2a3f5f\"},\"line\":{\"color\":\"rgb(17,17,17)\"}},\"type\":\"table\"}]},\"layout\":{\"annotationdefaults\":{\"arrowcolor\":\"#f2f5fa\",\"arrowhead\":0,\"arrowwidth\":1},\"autotypenumbers\":\"strict\",\"coloraxis\":{\"colorbar\":{\"outlinewidth\":0,\"ticks\":\"\"}},\"colorscale\":{\"diverging\":[[0,\"#8e0152\"],[0.1,\"#c51b7d\"],[0.2,\"#de77ae\"],[0.3,\"#f1b6da\"],[0.4,\"#fde0ef\"],[0.5,\"#f7f7f7\"],[0.6,\"#e6f5d0\"],[0.7,\"#b8e186\"],[0.8,\"#7fbc41\"],[0.9,\"#4d9221\"],[1,\"#276419\"]],\"sequential\":[[0.0,\"#0d0887\"],[0.1111111111111111,\"#46039f\"],[0.2222222222222222,\"#7201a8\"],[0.3333333333333333,\"#9c179e\"],[0.4444444444444444,\"#bd3786\"],[0.5555555555555556,\"#d8576b\"],[0.6666666666666666,\"#ed7953\"],[0.7777777777777778,\"#fb9f3a\"],[0.8888888888888888,\"#fdca26\"],[1.0,\"#f0f921\"]],\"sequentialminus\":[[0.0,\"#0d0887\"],[0.1111111111111111,\"#46039f\"],[0.2222222222222222,\"#7201a8\"],[0.3333333333333333,\"#9c179e\"],[0.4444444444444444,\"#bd3786\"],[0.5555555555555556,\"#d8576b\"],[0.6666666666666666,\"#ed7953\"],[0.7777777777777778,\"#fb9f3a\"],[0.8888888888888888,\"#fdca26\"],[1.0,\"#f0f921\"]]},\"colorway\":[\"#636efa\",\"#EF553B\",\"#00cc96\",\"#ab63fa\",\"#FFA15A\",\"#19d3f3\",\"#FF6692\",\"#B6E880\",\"#FF97FF\",\"#FECB52\"],\"font\":{\"color\":\"#f2f5fa\"},\"geo\":{\"bgcolor\":\"rgb(17,17,17)\",\"lakecolor\":\"rgb(17,17,17)\",\"landcolor\":\"rgb(17,17,17)\",\"showlakes\":true,\"showland\":true,\"subunitcolor\":\"#506784\"},\"hoverlabel\":{\"align\":\"left\"},\"hovermode\":\"closest\",\"mapbox\":{\"style\":\"dark\"},\"paper_bgcolor\":\"rgb(17,17,17)\",\"plot_bgcolor\":\"rgb(17,17,17)\",\"polar\":{\"angularaxis\":{\"gridcolor\":\"#506784\",\"linecolor\":\"#506784\",\"ticks\":\"\"},\"bgcolor\":\"rgb(17,17,17)\",\"radialaxis\":{\"gridcolor\":\"#506784\",\"linecolor\":\"#506784\",\"ticks\":\"\"}},\"scene\":{\"xaxis\":{\"backgroundcolor\":\"rgb(17,17,17)\",\"gridcolor\":\"#506784\",\"gridwidth\":2,\"linecolor\":\"#506784\",\"showbackground\":true,\"ticks\":\"\",\"zerolinecolor\":\"#C8D4E3\"},\"yaxis\":{\"backgroundcolor\":\"rgb(17,17,17)\",\"gridcolor\":\"#506784\",\"gridwidth\":2,\"linecolor\":\"#506784\",\"showbackground\":true,\"ticks\":\"\",\"zerolinecolor\":\"#C8D4E3\"},\"zaxis\":{\"backgroundcolor\":\"rgb(17,17,17)\",\"gridcolor\":\"#506784\",\"gridwidth\":2,\"linecolor\":\"#506784\",\"showbackground\":true,\"ticks\":\"\",\"zerolinecolor\":\"#C8D4E3\"}},\"shapedefaults\":{\"line\":{\"color\":\"#f2f5fa\"}},\"sliderdefaults\":{\"bgcolor\":\"#C8D4E3\",\"bordercolor\":\"rgb(17,17,17)\",\"borderwidth\":1,\"tickwidth\":0},\"ternary\":{\"aaxis\":{\"gridcolor\":\"#506784\",\"linecolor\":\"#506784\",\"ticks\":\"\"},\"baxis\":{\"gridcolor\":\"#506784\",\"linecolor\":\"#506784\",\"ticks\":\"\"},\"bgcolor\":\"rgb(17,17,17)\",\"caxis\":{\"gridcolor\":\"#506784\",\"linecolor\":\"#506784\",\"ticks\":\"\"}},\"title\":{\"x\":0.05},\"updatemenudefaults\":{\"bgcolor\":\"#506784\",\"borderwidth\":0},\"xaxis\":{\"automargin\":true,\"gridcolor\":\"#283442\",\"linecolor\":\"#506784\",\"ticks\":\"\",\"title\":{\"standoff\":15},\"zerolinecolor\":\"#283442\",\"zerolinewidth\":2},\"yaxis\":{\"automargin\":true,\"gridcolor\":\"#283442\",\"linecolor\":\"#506784\",\"ticks\":\"\",\"title\":{\"standoff\":15},\"zerolinecolor\":\"#283442\",\"zerolinewidth\":2}}},\"xaxis\":{\"anchor\":\"y\",\"domain\":[0.0,1.0],\"title\":{\"text\":\"Year\",\"font\":{\"size\":30,\"family\":\"Verdana\",\"color\":\"white\"}},\"tickfont\":{\"family\":\"Calibri\",\"color\":\"white\",\"size\":25}},\"yaxis\":{\"anchor\":\"x\",\"domain\":[0.0,1.0],\"title\":{\"text\":\"<b>Palm Oil production (mt)</b>\",\"font\":{\"size\":30,\"family\":\"Verdana\",\"color\":\"white\"}},\"tickfont\":{\"family\":\"Calibri\",\"color\":\"white\",\"size\":25}},\"legend\":{\"tracegroupgap\":0,\"font\":{\"size\":20}},\"margin\":{\"t\":60},\"title\":{\"font\":{\"size\":40},\"text\":\"<b>Global Oil Palm Fruit Production<b>\"},\"width\":1400,\"height\":1000},                        {\"responsive\": true}                    ).then(function(){\n                            \nvar gd = document.getElementById('e57023c6-a10a-4289-bbba-c5758e4dee3f');\nvar x = new MutationObserver(function (mutations, observer) {{\n        var display = window.getComputedStyle(gd).display;\n        if (!display || display === 'none') {{\n            console.log([gd, 'removed!']);\n            Plotly.purge(gd);\n            observer.disconnect();\n        }}\n}});\n\n// Listen for the removal of the full notebook cells\nvar notebookContainer = gd.closest('#notebook-container');\nif (notebookContainer) {{\n    x.observe(notebookContainer, {childList: true});\n}}\n\n// Listen for the clearing of the current output cell\nvar outputEl = gd.closest('.output');\nif (outputEl) {{\n    x.observe(outputEl, {childList: true});\n}}\n\n                        })                };                });            </script>        </div>"
     },
     "metadata": {},
     "output_type": "display_data"
    }
   ],
   "source": [
    "palm_oil_prodn_fig = px.line(world_df, x=\"Year\", y=\"Crops - Oil, palm - 257 - Production - 5510 - tonnes\")\n",
    "\n",
    "# Add figure title\n",
    "palm_oil_prodn_fig.update_layout(title_text=\"<b>Global Oil Palm Fruit Production<b>\",title_font_size=40, legend_font_size=20, width=1400, height=1000)\n",
    "\n",
    "# format x-axis\n",
    "palm_oil_prodn_fig.update_xaxes(title_text=\"Year\", title_font=dict(size=30, family='Verdana', color='white'), tickfont=dict(family='Calibri', color='white', size=25))\n",
    "\n",
    "# Format y-axes\n",
    "palm_oil_prodn_fig.update_yaxes(title_text=\"<b>Palm Oil production (mt)</b>\", title_font=dict(size=30, family='Verdana', color='white'), tickfont=dict(family='Calibri', color='white', size=25))\n",
    "\n",
    "palm_oil_prodn_fig.show()\n",
    "# To-do: format plot. button to add country or region. automation"
   ],
   "metadata": {
    "collapsed": false,
    "pycharm": {
     "name": "#%%\n"
    }
   }
  },
  {
   "cell_type": "markdown",
   "source": [
    "- 1961 = 1,478,901mt\n",
    "- 2018 = 71,453,193mt\n",
    "- 48x increase in 57 years\n",
    "\n",
    "need to include a drop down menu to select countries and regions"
   ],
   "metadata": {
    "collapsed": false,
    "pycharm": {
     "name": "#%% md\n"
    }
   }
  },
  {
   "cell_type": "markdown",
   "source": [
    "# 2) Land used for Palm Oil Production\n",
    "\n",
    "There should be a strong correlation between increased areas under cultivation for oil palm and increased production of palm oil.\n",
    "\n",
    "Total production should effectively be the sum of total hectares under cultivation and yield per hectare. Production increases are driven by increases in land under cultivation and improving (or deteriorating) yields per hectare.\n",
    "\n",
    "- plot by country over time (stacked line plot)\n",
    "- plot by country over time (geo heat map)"
   ],
   "metadata": {
    "collapsed": false,
    "pycharm": {
     "name": "#%% md\n"
    }
   }
  },
  {
   "cell_type": "code",
   "execution_count": 37,
   "outputs": [],
   "source": [
    "land = pd.read_csv(os.path.join(DATA, 'land-use-palm-oil.csv'))\n",
    "world_land = land.loc[land['Entity'] == 'World']\n",
    "oil_palm_fruit = world_land[\"Crops - Oil palm fruit - 254 - Area harvested - 5312 - ha\"]"
   ],
   "metadata": {
    "collapsed": false,
    "pycharm": {
     "name": "#%%\n"
    }
   }
  },
  {
   "cell_type": "code",
   "execution_count": 85,
   "outputs": [
    {
     "data": {
      "application/vnd.plotly.v1+json": {
       "data": [
        {
         "hovertemplate": "Year=%{x}<br>Crops - Oil palm fruit - 254 - Area harvested - 5312 - ha=%{y}<extra></extra>",
         "legendgroup": "",
         "line": {
          "color": "#636efa",
          "dash": "solid"
         },
         "marker": {
          "symbol": "circle"
         },
         "mode": "lines",
         "name": "",
         "orientation": "v",
         "showlegend": false,
         "x": [
          1961,
          1962,
          1963,
          1964,
          1965,
          1966,
          1967,
          1968,
          1969,
          1970,
          1971,
          1972,
          1973,
          1974,
          1975,
          1976,
          1977,
          1978,
          1979,
          1980,
          1981,
          1982,
          1983,
          1984,
          1985,
          1986,
          1987,
          1988,
          1989,
          1990,
          1991,
          1992,
          1993,
          1994,
          1995,
          1996,
          1997,
          1998,
          1999,
          2000,
          2001,
          2002,
          2003,
          2004,
          2005,
          2006,
          2007,
          2008,
          2009,
          2010,
          2011,
          2012,
          2013,
          2014,
          2015,
          2016,
          2017,
          2018
         ],
         "xaxis": "x",
         "y": [
          3621037,
          3422412,
          3517630,
          3540825,
          3617385,
          3523670,
          3081995,
          3185274,
          3295732,
          3263027,
          3311979,
          3210852,
          3263026,
          3498230,
          3539154,
          3593114,
          3722319,
          3718311,
          4155088,
          4276828,
          4077535,
          4190963,
          4225265,
          4668824,
          4898899,
          5146653,
          5301514,
          5577146,
          5857284,
          6115211,
          6804335,
          7197393,
          7533612,
          7858343,
          8358624,
          8819358,
          9231671,
          9637496,
          10004661,
          10386924,
          10856276,
          11679813,
          12283549,
          12798576,
          13460999,
          13859768,
          14566794,
          15368615,
          16158445,
          16878176,
          17543879,
          18266282,
          18657777,
          19414980,
          20263351,
          18560904,
          18744464,
          18917400
         ],
         "yaxis": "y",
         "type": "scatter"
        }
       ],
       "layout": {
        "template": {
         "data": {
          "bar": [
           {
            "error_x": {
             "color": "#f2f5fa"
            },
            "error_y": {
             "color": "#f2f5fa"
            },
            "marker": {
             "line": {
              "color": "rgb(17,17,17)",
              "width": 0.5
             },
             "pattern": {
              "fillmode": "overlay",
              "size": 10,
              "solidity": 0.2
             }
            },
            "type": "bar"
           }
          ],
          "barpolar": [
           {
            "marker": {
             "line": {
              "color": "rgb(17,17,17)",
              "width": 0.5
             },
             "pattern": {
              "fillmode": "overlay",
              "size": 10,
              "solidity": 0.2
             }
            },
            "type": "barpolar"
           }
          ],
          "carpet": [
           {
            "aaxis": {
             "endlinecolor": "#A2B1C6",
             "gridcolor": "#506784",
             "linecolor": "#506784",
             "minorgridcolor": "#506784",
             "startlinecolor": "#A2B1C6"
            },
            "baxis": {
             "endlinecolor": "#A2B1C6",
             "gridcolor": "#506784",
             "linecolor": "#506784",
             "minorgridcolor": "#506784",
             "startlinecolor": "#A2B1C6"
            },
            "type": "carpet"
           }
          ],
          "choropleth": [
           {
            "colorbar": {
             "outlinewidth": 0,
             "ticks": ""
            },
            "type": "choropleth"
           }
          ],
          "contour": [
           {
            "colorbar": {
             "outlinewidth": 0,
             "ticks": ""
            },
            "colorscale": [
             [
              0.0,
              "#0d0887"
             ],
             [
              0.1111111111111111,
              "#46039f"
             ],
             [
              0.2222222222222222,
              "#7201a8"
             ],
             [
              0.3333333333333333,
              "#9c179e"
             ],
             [
              0.4444444444444444,
              "#bd3786"
             ],
             [
              0.5555555555555556,
              "#d8576b"
             ],
             [
              0.6666666666666666,
              "#ed7953"
             ],
             [
              0.7777777777777778,
              "#fb9f3a"
             ],
             [
              0.8888888888888888,
              "#fdca26"
             ],
             [
              1.0,
              "#f0f921"
             ]
            ],
            "type": "contour"
           }
          ],
          "contourcarpet": [
           {
            "colorbar": {
             "outlinewidth": 0,
             "ticks": ""
            },
            "type": "contourcarpet"
           }
          ],
          "heatmap": [
           {
            "colorbar": {
             "outlinewidth": 0,
             "ticks": ""
            },
            "colorscale": [
             [
              0.0,
              "#0d0887"
             ],
             [
              0.1111111111111111,
              "#46039f"
             ],
             [
              0.2222222222222222,
              "#7201a8"
             ],
             [
              0.3333333333333333,
              "#9c179e"
             ],
             [
              0.4444444444444444,
              "#bd3786"
             ],
             [
              0.5555555555555556,
              "#d8576b"
             ],
             [
              0.6666666666666666,
              "#ed7953"
             ],
             [
              0.7777777777777778,
              "#fb9f3a"
             ],
             [
              0.8888888888888888,
              "#fdca26"
             ],
             [
              1.0,
              "#f0f921"
             ]
            ],
            "type": "heatmap"
           }
          ],
          "heatmapgl": [
           {
            "colorbar": {
             "outlinewidth": 0,
             "ticks": ""
            },
            "colorscale": [
             [
              0.0,
              "#0d0887"
             ],
             [
              0.1111111111111111,
              "#46039f"
             ],
             [
              0.2222222222222222,
              "#7201a8"
             ],
             [
              0.3333333333333333,
              "#9c179e"
             ],
             [
              0.4444444444444444,
              "#bd3786"
             ],
             [
              0.5555555555555556,
              "#d8576b"
             ],
             [
              0.6666666666666666,
              "#ed7953"
             ],
             [
              0.7777777777777778,
              "#fb9f3a"
             ],
             [
              0.8888888888888888,
              "#fdca26"
             ],
             [
              1.0,
              "#f0f921"
             ]
            ],
            "type": "heatmapgl"
           }
          ],
          "histogram": [
           {
            "marker": {
             "pattern": {
              "fillmode": "overlay",
              "size": 10,
              "solidity": 0.2
             }
            },
            "type": "histogram"
           }
          ],
          "histogram2d": [
           {
            "colorbar": {
             "outlinewidth": 0,
             "ticks": ""
            },
            "colorscale": [
             [
              0.0,
              "#0d0887"
             ],
             [
              0.1111111111111111,
              "#46039f"
             ],
             [
              0.2222222222222222,
              "#7201a8"
             ],
             [
              0.3333333333333333,
              "#9c179e"
             ],
             [
              0.4444444444444444,
              "#bd3786"
             ],
             [
              0.5555555555555556,
              "#d8576b"
             ],
             [
              0.6666666666666666,
              "#ed7953"
             ],
             [
              0.7777777777777778,
              "#fb9f3a"
             ],
             [
              0.8888888888888888,
              "#fdca26"
             ],
             [
              1.0,
              "#f0f921"
             ]
            ],
            "type": "histogram2d"
           }
          ],
          "histogram2dcontour": [
           {
            "colorbar": {
             "outlinewidth": 0,
             "ticks": ""
            },
            "colorscale": [
             [
              0.0,
              "#0d0887"
             ],
             [
              0.1111111111111111,
              "#46039f"
             ],
             [
              0.2222222222222222,
              "#7201a8"
             ],
             [
              0.3333333333333333,
              "#9c179e"
             ],
             [
              0.4444444444444444,
              "#bd3786"
             ],
             [
              0.5555555555555556,
              "#d8576b"
             ],
             [
              0.6666666666666666,
              "#ed7953"
             ],
             [
              0.7777777777777778,
              "#fb9f3a"
             ],
             [
              0.8888888888888888,
              "#fdca26"
             ],
             [
              1.0,
              "#f0f921"
             ]
            ],
            "type": "histogram2dcontour"
           }
          ],
          "mesh3d": [
           {
            "colorbar": {
             "outlinewidth": 0,
             "ticks": ""
            },
            "type": "mesh3d"
           }
          ],
          "parcoords": [
           {
            "line": {
             "colorbar": {
              "outlinewidth": 0,
              "ticks": ""
             }
            },
            "type": "parcoords"
           }
          ],
          "pie": [
           {
            "automargin": true,
            "type": "pie"
           }
          ],
          "scatter": [
           {
            "marker": {
             "line": {
              "color": "#283442"
             }
            },
            "type": "scatter"
           }
          ],
          "scatter3d": [
           {
            "line": {
             "colorbar": {
              "outlinewidth": 0,
              "ticks": ""
             }
            },
            "marker": {
             "colorbar": {
              "outlinewidth": 0,
              "ticks": ""
             }
            },
            "type": "scatter3d"
           }
          ],
          "scattercarpet": [
           {
            "marker": {
             "colorbar": {
              "outlinewidth": 0,
              "ticks": ""
             }
            },
            "type": "scattercarpet"
           }
          ],
          "scattergeo": [
           {
            "marker": {
             "colorbar": {
              "outlinewidth": 0,
              "ticks": ""
             }
            },
            "type": "scattergeo"
           }
          ],
          "scattergl": [
           {
            "marker": {
             "line": {
              "color": "#283442"
             }
            },
            "type": "scattergl"
           }
          ],
          "scattermapbox": [
           {
            "marker": {
             "colorbar": {
              "outlinewidth": 0,
              "ticks": ""
             }
            },
            "type": "scattermapbox"
           }
          ],
          "scatterpolar": [
           {
            "marker": {
             "colorbar": {
              "outlinewidth": 0,
              "ticks": ""
             }
            },
            "type": "scatterpolar"
           }
          ],
          "scatterpolargl": [
           {
            "marker": {
             "colorbar": {
              "outlinewidth": 0,
              "ticks": ""
             }
            },
            "type": "scatterpolargl"
           }
          ],
          "scatterternary": [
           {
            "marker": {
             "colorbar": {
              "outlinewidth": 0,
              "ticks": ""
             }
            },
            "type": "scatterternary"
           }
          ],
          "surface": [
           {
            "colorbar": {
             "outlinewidth": 0,
             "ticks": ""
            },
            "colorscale": [
             [
              0.0,
              "#0d0887"
             ],
             [
              0.1111111111111111,
              "#46039f"
             ],
             [
              0.2222222222222222,
              "#7201a8"
             ],
             [
              0.3333333333333333,
              "#9c179e"
             ],
             [
              0.4444444444444444,
              "#bd3786"
             ],
             [
              0.5555555555555556,
              "#d8576b"
             ],
             [
              0.6666666666666666,
              "#ed7953"
             ],
             [
              0.7777777777777778,
              "#fb9f3a"
             ],
             [
              0.8888888888888888,
              "#fdca26"
             ],
             [
              1.0,
              "#f0f921"
             ]
            ],
            "type": "surface"
           }
          ],
          "table": [
           {
            "cells": {
             "fill": {
              "color": "#506784"
             },
             "line": {
              "color": "rgb(17,17,17)"
             }
            },
            "header": {
             "fill": {
              "color": "#2a3f5f"
             },
             "line": {
              "color": "rgb(17,17,17)"
             }
            },
            "type": "table"
           }
          ]
         },
         "layout": {
          "annotationdefaults": {
           "arrowcolor": "#f2f5fa",
           "arrowhead": 0,
           "arrowwidth": 1
          },
          "autotypenumbers": "strict",
          "coloraxis": {
           "colorbar": {
            "outlinewidth": 0,
            "ticks": ""
           }
          },
          "colorscale": {
           "diverging": [
            [
             0,
             "#8e0152"
            ],
            [
             0.1,
             "#c51b7d"
            ],
            [
             0.2,
             "#de77ae"
            ],
            [
             0.3,
             "#f1b6da"
            ],
            [
             0.4,
             "#fde0ef"
            ],
            [
             0.5,
             "#f7f7f7"
            ],
            [
             0.6,
             "#e6f5d0"
            ],
            [
             0.7,
             "#b8e186"
            ],
            [
             0.8,
             "#7fbc41"
            ],
            [
             0.9,
             "#4d9221"
            ],
            [
             1,
             "#276419"
            ]
           ],
           "sequential": [
            [
             0.0,
             "#0d0887"
            ],
            [
             0.1111111111111111,
             "#46039f"
            ],
            [
             0.2222222222222222,
             "#7201a8"
            ],
            [
             0.3333333333333333,
             "#9c179e"
            ],
            [
             0.4444444444444444,
             "#bd3786"
            ],
            [
             0.5555555555555556,
             "#d8576b"
            ],
            [
             0.6666666666666666,
             "#ed7953"
            ],
            [
             0.7777777777777778,
             "#fb9f3a"
            ],
            [
             0.8888888888888888,
             "#fdca26"
            ],
            [
             1.0,
             "#f0f921"
            ]
           ],
           "sequentialminus": [
            [
             0.0,
             "#0d0887"
            ],
            [
             0.1111111111111111,
             "#46039f"
            ],
            [
             0.2222222222222222,
             "#7201a8"
            ],
            [
             0.3333333333333333,
             "#9c179e"
            ],
            [
             0.4444444444444444,
             "#bd3786"
            ],
            [
             0.5555555555555556,
             "#d8576b"
            ],
            [
             0.6666666666666666,
             "#ed7953"
            ],
            [
             0.7777777777777778,
             "#fb9f3a"
            ],
            [
             0.8888888888888888,
             "#fdca26"
            ],
            [
             1.0,
             "#f0f921"
            ]
           ]
          },
          "colorway": [
           "#636efa",
           "#EF553B",
           "#00cc96",
           "#ab63fa",
           "#FFA15A",
           "#19d3f3",
           "#FF6692",
           "#B6E880",
           "#FF97FF",
           "#FECB52"
          ],
          "font": {
           "color": "#f2f5fa"
          },
          "geo": {
           "bgcolor": "rgb(17,17,17)",
           "lakecolor": "rgb(17,17,17)",
           "landcolor": "rgb(17,17,17)",
           "showlakes": true,
           "showland": true,
           "subunitcolor": "#506784"
          },
          "hoverlabel": {
           "align": "left"
          },
          "hovermode": "closest",
          "mapbox": {
           "style": "dark"
          },
          "paper_bgcolor": "rgb(17,17,17)",
          "plot_bgcolor": "rgb(17,17,17)",
          "polar": {
           "angularaxis": {
            "gridcolor": "#506784",
            "linecolor": "#506784",
            "ticks": ""
           },
           "bgcolor": "rgb(17,17,17)",
           "radialaxis": {
            "gridcolor": "#506784",
            "linecolor": "#506784",
            "ticks": ""
           }
          },
          "scene": {
           "xaxis": {
            "backgroundcolor": "rgb(17,17,17)",
            "gridcolor": "#506784",
            "gridwidth": 2,
            "linecolor": "#506784",
            "showbackground": true,
            "ticks": "",
            "zerolinecolor": "#C8D4E3"
           },
           "yaxis": {
            "backgroundcolor": "rgb(17,17,17)",
            "gridcolor": "#506784",
            "gridwidth": 2,
            "linecolor": "#506784",
            "showbackground": true,
            "ticks": "",
            "zerolinecolor": "#C8D4E3"
           },
           "zaxis": {
            "backgroundcolor": "rgb(17,17,17)",
            "gridcolor": "#506784",
            "gridwidth": 2,
            "linecolor": "#506784",
            "showbackground": true,
            "ticks": "",
            "zerolinecolor": "#C8D4E3"
           }
          },
          "shapedefaults": {
           "line": {
            "color": "#f2f5fa"
           }
          },
          "sliderdefaults": {
           "bgcolor": "#C8D4E3",
           "bordercolor": "rgb(17,17,17)",
           "borderwidth": 1,
           "tickwidth": 0
          },
          "ternary": {
           "aaxis": {
            "gridcolor": "#506784",
            "linecolor": "#506784",
            "ticks": ""
           },
           "baxis": {
            "gridcolor": "#506784",
            "linecolor": "#506784",
            "ticks": ""
           },
           "bgcolor": "rgb(17,17,17)",
           "caxis": {
            "gridcolor": "#506784",
            "linecolor": "#506784",
            "ticks": ""
           }
          },
          "title": {
           "x": 0.05
          },
          "updatemenudefaults": {
           "bgcolor": "#506784",
           "borderwidth": 0
          },
          "xaxis": {
           "automargin": true,
           "gridcolor": "#283442",
           "linecolor": "#506784",
           "ticks": "",
           "title": {
            "standoff": 15
           },
           "zerolinecolor": "#283442",
           "zerolinewidth": 2
          },
          "yaxis": {
           "automargin": true,
           "gridcolor": "#283442",
           "linecolor": "#506784",
           "ticks": "",
           "title": {
            "standoff": 15
           },
           "zerolinecolor": "#283442",
           "zerolinewidth": 2
          }
         }
        },
        "xaxis": {
         "anchor": "y",
         "domain": [
          0.0,
          1.0
         ],
         "title": {
          "text": "</b>Year</b>",
          "font": {
           "size": 30,
           "family": "Verdana",
           "color": "white"
          }
         },
         "tickfont": {
          "family": "Calibri",
          "color": "white",
          "size": 25
         }
        },
        "yaxis": {
         "anchor": "x",
         "domain": [
          0.0,
          1.0
         ],
         "title": {
          "text": "<b>Palm Oil Fruit (mt)</b>",
          "font": {
           "size": 30,
           "family": "Verdana",
           "color": "white"
          }
         },
         "tickfont": {
          "family": "Calibri",
          "color": "white",
          "size": 25
         }
        },
        "legend": {
         "tracegroupgap": 0,
         "font": {
          "size": 20
         }
        },
        "margin": {
         "t": 60
        },
        "title": {
         "font": {
          "size": 40
         },
         "text": "<b>Land under Cultivation (Palm Oil)<b>"
        },
        "width": 1400,
        "height": 1000
       },
       "config": {
        "plotlyServerURL": "https://plot.ly"
       }
      },
      "text/html": "<div>                            <div id=\"a018ab4c-b28b-4098-ac64-336332b4bd5f\" class=\"plotly-graph-div\" style=\"height:1000px; width:1400px;\"></div>            <script type=\"text/javascript\">                require([\"plotly\"], function(Plotly) {                    window.PLOTLYENV=window.PLOTLYENV || {};                                    if (document.getElementById(\"a018ab4c-b28b-4098-ac64-336332b4bd5f\")) {                    Plotly.newPlot(                        \"a018ab4c-b28b-4098-ac64-336332b4bd5f\",                        [{\"hovertemplate\":\"Year=%{x}<br>Crops - Oil palm fruit - 254 - Area harvested - 5312 - ha=%{y}<extra></extra>\",\"legendgroup\":\"\",\"line\":{\"color\":\"#636efa\",\"dash\":\"solid\"},\"marker\":{\"symbol\":\"circle\"},\"mode\":\"lines\",\"name\":\"\",\"orientation\":\"v\",\"showlegend\":false,\"x\":[1961,1962,1963,1964,1965,1966,1967,1968,1969,1970,1971,1972,1973,1974,1975,1976,1977,1978,1979,1980,1981,1982,1983,1984,1985,1986,1987,1988,1989,1990,1991,1992,1993,1994,1995,1996,1997,1998,1999,2000,2001,2002,2003,2004,2005,2006,2007,2008,2009,2010,2011,2012,2013,2014,2015,2016,2017,2018],\"xaxis\":\"x\",\"y\":[3621037,3422412,3517630,3540825,3617385,3523670,3081995,3185274,3295732,3263027,3311979,3210852,3263026,3498230,3539154,3593114,3722319,3718311,4155088,4276828,4077535,4190963,4225265,4668824,4898899,5146653,5301514,5577146,5857284,6115211,6804335,7197393,7533612,7858343,8358624,8819358,9231671,9637496,10004661,10386924,10856276,11679813,12283549,12798576,13460999,13859768,14566794,15368615,16158445,16878176,17543879,18266282,18657777,19414980,20263351,18560904,18744464,18917400],\"yaxis\":\"y\",\"type\":\"scatter\"}],                        {\"template\":{\"data\":{\"bar\":[{\"error_x\":{\"color\":\"#f2f5fa\"},\"error_y\":{\"color\":\"#f2f5fa\"},\"marker\":{\"line\":{\"color\":\"rgb(17,17,17)\",\"width\":0.5},\"pattern\":{\"fillmode\":\"overlay\",\"size\":10,\"solidity\":0.2}},\"type\":\"bar\"}],\"barpolar\":[{\"marker\":{\"line\":{\"color\":\"rgb(17,17,17)\",\"width\":0.5},\"pattern\":{\"fillmode\":\"overlay\",\"size\":10,\"solidity\":0.2}},\"type\":\"barpolar\"}],\"carpet\":[{\"aaxis\":{\"endlinecolor\":\"#A2B1C6\",\"gridcolor\":\"#506784\",\"linecolor\":\"#506784\",\"minorgridcolor\":\"#506784\",\"startlinecolor\":\"#A2B1C6\"},\"baxis\":{\"endlinecolor\":\"#A2B1C6\",\"gridcolor\":\"#506784\",\"linecolor\":\"#506784\",\"minorgridcolor\":\"#506784\",\"startlinecolor\":\"#A2B1C6\"},\"type\":\"carpet\"}],\"choropleth\":[{\"colorbar\":{\"outlinewidth\":0,\"ticks\":\"\"},\"type\":\"choropleth\"}],\"contour\":[{\"colorbar\":{\"outlinewidth\":0,\"ticks\":\"\"},\"colorscale\":[[0.0,\"#0d0887\"],[0.1111111111111111,\"#46039f\"],[0.2222222222222222,\"#7201a8\"],[0.3333333333333333,\"#9c179e\"],[0.4444444444444444,\"#bd3786\"],[0.5555555555555556,\"#d8576b\"],[0.6666666666666666,\"#ed7953\"],[0.7777777777777778,\"#fb9f3a\"],[0.8888888888888888,\"#fdca26\"],[1.0,\"#f0f921\"]],\"type\":\"contour\"}],\"contourcarpet\":[{\"colorbar\":{\"outlinewidth\":0,\"ticks\":\"\"},\"type\":\"contourcarpet\"}],\"heatmap\":[{\"colorbar\":{\"outlinewidth\":0,\"ticks\":\"\"},\"colorscale\":[[0.0,\"#0d0887\"],[0.1111111111111111,\"#46039f\"],[0.2222222222222222,\"#7201a8\"],[0.3333333333333333,\"#9c179e\"],[0.4444444444444444,\"#bd3786\"],[0.5555555555555556,\"#d8576b\"],[0.6666666666666666,\"#ed7953\"],[0.7777777777777778,\"#fb9f3a\"],[0.8888888888888888,\"#fdca26\"],[1.0,\"#f0f921\"]],\"type\":\"heatmap\"}],\"heatmapgl\":[{\"colorbar\":{\"outlinewidth\":0,\"ticks\":\"\"},\"colorscale\":[[0.0,\"#0d0887\"],[0.1111111111111111,\"#46039f\"],[0.2222222222222222,\"#7201a8\"],[0.3333333333333333,\"#9c179e\"],[0.4444444444444444,\"#bd3786\"],[0.5555555555555556,\"#d8576b\"],[0.6666666666666666,\"#ed7953\"],[0.7777777777777778,\"#fb9f3a\"],[0.8888888888888888,\"#fdca26\"],[1.0,\"#f0f921\"]],\"type\":\"heatmapgl\"}],\"histogram\":[{\"marker\":{\"pattern\":{\"fillmode\":\"overlay\",\"size\":10,\"solidity\":0.2}},\"type\":\"histogram\"}],\"histogram2d\":[{\"colorbar\":{\"outlinewidth\":0,\"ticks\":\"\"},\"colorscale\":[[0.0,\"#0d0887\"],[0.1111111111111111,\"#46039f\"],[0.2222222222222222,\"#7201a8\"],[0.3333333333333333,\"#9c179e\"],[0.4444444444444444,\"#bd3786\"],[0.5555555555555556,\"#d8576b\"],[0.6666666666666666,\"#ed7953\"],[0.7777777777777778,\"#fb9f3a\"],[0.8888888888888888,\"#fdca26\"],[1.0,\"#f0f921\"]],\"type\":\"histogram2d\"}],\"histogram2dcontour\":[{\"colorbar\":{\"outlinewidth\":0,\"ticks\":\"\"},\"colorscale\":[[0.0,\"#0d0887\"],[0.1111111111111111,\"#46039f\"],[0.2222222222222222,\"#7201a8\"],[0.3333333333333333,\"#9c179e\"],[0.4444444444444444,\"#bd3786\"],[0.5555555555555556,\"#d8576b\"],[0.6666666666666666,\"#ed7953\"],[0.7777777777777778,\"#fb9f3a\"],[0.8888888888888888,\"#fdca26\"],[1.0,\"#f0f921\"]],\"type\":\"histogram2dcontour\"}],\"mesh3d\":[{\"colorbar\":{\"outlinewidth\":0,\"ticks\":\"\"},\"type\":\"mesh3d\"}],\"parcoords\":[{\"line\":{\"colorbar\":{\"outlinewidth\":0,\"ticks\":\"\"}},\"type\":\"parcoords\"}],\"pie\":[{\"automargin\":true,\"type\":\"pie\"}],\"scatter\":[{\"marker\":{\"line\":{\"color\":\"#283442\"}},\"type\":\"scatter\"}],\"scatter3d\":[{\"line\":{\"colorbar\":{\"outlinewidth\":0,\"ticks\":\"\"}},\"marker\":{\"colorbar\":{\"outlinewidth\":0,\"ticks\":\"\"}},\"type\":\"scatter3d\"}],\"scattercarpet\":[{\"marker\":{\"colorbar\":{\"outlinewidth\":0,\"ticks\":\"\"}},\"type\":\"scattercarpet\"}],\"scattergeo\":[{\"marker\":{\"colorbar\":{\"outlinewidth\":0,\"ticks\":\"\"}},\"type\":\"scattergeo\"}],\"scattergl\":[{\"marker\":{\"line\":{\"color\":\"#283442\"}},\"type\":\"scattergl\"}],\"scattermapbox\":[{\"marker\":{\"colorbar\":{\"outlinewidth\":0,\"ticks\":\"\"}},\"type\":\"scattermapbox\"}],\"scatterpolar\":[{\"marker\":{\"colorbar\":{\"outlinewidth\":0,\"ticks\":\"\"}},\"type\":\"scatterpolar\"}],\"scatterpolargl\":[{\"marker\":{\"colorbar\":{\"outlinewidth\":0,\"ticks\":\"\"}},\"type\":\"scatterpolargl\"}],\"scatterternary\":[{\"marker\":{\"colorbar\":{\"outlinewidth\":0,\"ticks\":\"\"}},\"type\":\"scatterternary\"}],\"surface\":[{\"colorbar\":{\"outlinewidth\":0,\"ticks\":\"\"},\"colorscale\":[[0.0,\"#0d0887\"],[0.1111111111111111,\"#46039f\"],[0.2222222222222222,\"#7201a8\"],[0.3333333333333333,\"#9c179e\"],[0.4444444444444444,\"#bd3786\"],[0.5555555555555556,\"#d8576b\"],[0.6666666666666666,\"#ed7953\"],[0.7777777777777778,\"#fb9f3a\"],[0.8888888888888888,\"#fdca26\"],[1.0,\"#f0f921\"]],\"type\":\"surface\"}],\"table\":[{\"cells\":{\"fill\":{\"color\":\"#506784\"},\"line\":{\"color\":\"rgb(17,17,17)\"}},\"header\":{\"fill\":{\"color\":\"#2a3f5f\"},\"line\":{\"color\":\"rgb(17,17,17)\"}},\"type\":\"table\"}]},\"layout\":{\"annotationdefaults\":{\"arrowcolor\":\"#f2f5fa\",\"arrowhead\":0,\"arrowwidth\":1},\"autotypenumbers\":\"strict\",\"coloraxis\":{\"colorbar\":{\"outlinewidth\":0,\"ticks\":\"\"}},\"colorscale\":{\"diverging\":[[0,\"#8e0152\"],[0.1,\"#c51b7d\"],[0.2,\"#de77ae\"],[0.3,\"#f1b6da\"],[0.4,\"#fde0ef\"],[0.5,\"#f7f7f7\"],[0.6,\"#e6f5d0\"],[0.7,\"#b8e186\"],[0.8,\"#7fbc41\"],[0.9,\"#4d9221\"],[1,\"#276419\"]],\"sequential\":[[0.0,\"#0d0887\"],[0.1111111111111111,\"#46039f\"],[0.2222222222222222,\"#7201a8\"],[0.3333333333333333,\"#9c179e\"],[0.4444444444444444,\"#bd3786\"],[0.5555555555555556,\"#d8576b\"],[0.6666666666666666,\"#ed7953\"],[0.7777777777777778,\"#fb9f3a\"],[0.8888888888888888,\"#fdca26\"],[1.0,\"#f0f921\"]],\"sequentialminus\":[[0.0,\"#0d0887\"],[0.1111111111111111,\"#46039f\"],[0.2222222222222222,\"#7201a8\"],[0.3333333333333333,\"#9c179e\"],[0.4444444444444444,\"#bd3786\"],[0.5555555555555556,\"#d8576b\"],[0.6666666666666666,\"#ed7953\"],[0.7777777777777778,\"#fb9f3a\"],[0.8888888888888888,\"#fdca26\"],[1.0,\"#f0f921\"]]},\"colorway\":[\"#636efa\",\"#EF553B\",\"#00cc96\",\"#ab63fa\",\"#FFA15A\",\"#19d3f3\",\"#FF6692\",\"#B6E880\",\"#FF97FF\",\"#FECB52\"],\"font\":{\"color\":\"#f2f5fa\"},\"geo\":{\"bgcolor\":\"rgb(17,17,17)\",\"lakecolor\":\"rgb(17,17,17)\",\"landcolor\":\"rgb(17,17,17)\",\"showlakes\":true,\"showland\":true,\"subunitcolor\":\"#506784\"},\"hoverlabel\":{\"align\":\"left\"},\"hovermode\":\"closest\",\"mapbox\":{\"style\":\"dark\"},\"paper_bgcolor\":\"rgb(17,17,17)\",\"plot_bgcolor\":\"rgb(17,17,17)\",\"polar\":{\"angularaxis\":{\"gridcolor\":\"#506784\",\"linecolor\":\"#506784\",\"ticks\":\"\"},\"bgcolor\":\"rgb(17,17,17)\",\"radialaxis\":{\"gridcolor\":\"#506784\",\"linecolor\":\"#506784\",\"ticks\":\"\"}},\"scene\":{\"xaxis\":{\"backgroundcolor\":\"rgb(17,17,17)\",\"gridcolor\":\"#506784\",\"gridwidth\":2,\"linecolor\":\"#506784\",\"showbackground\":true,\"ticks\":\"\",\"zerolinecolor\":\"#C8D4E3\"},\"yaxis\":{\"backgroundcolor\":\"rgb(17,17,17)\",\"gridcolor\":\"#506784\",\"gridwidth\":2,\"linecolor\":\"#506784\",\"showbackground\":true,\"ticks\":\"\",\"zerolinecolor\":\"#C8D4E3\"},\"zaxis\":{\"backgroundcolor\":\"rgb(17,17,17)\",\"gridcolor\":\"#506784\",\"gridwidth\":2,\"linecolor\":\"#506784\",\"showbackground\":true,\"ticks\":\"\",\"zerolinecolor\":\"#C8D4E3\"}},\"shapedefaults\":{\"line\":{\"color\":\"#f2f5fa\"}},\"sliderdefaults\":{\"bgcolor\":\"#C8D4E3\",\"bordercolor\":\"rgb(17,17,17)\",\"borderwidth\":1,\"tickwidth\":0},\"ternary\":{\"aaxis\":{\"gridcolor\":\"#506784\",\"linecolor\":\"#506784\",\"ticks\":\"\"},\"baxis\":{\"gridcolor\":\"#506784\",\"linecolor\":\"#506784\",\"ticks\":\"\"},\"bgcolor\":\"rgb(17,17,17)\",\"caxis\":{\"gridcolor\":\"#506784\",\"linecolor\":\"#506784\",\"ticks\":\"\"}},\"title\":{\"x\":0.05},\"updatemenudefaults\":{\"bgcolor\":\"#506784\",\"borderwidth\":0},\"xaxis\":{\"automargin\":true,\"gridcolor\":\"#283442\",\"linecolor\":\"#506784\",\"ticks\":\"\",\"title\":{\"standoff\":15},\"zerolinecolor\":\"#283442\",\"zerolinewidth\":2},\"yaxis\":{\"automargin\":true,\"gridcolor\":\"#283442\",\"linecolor\":\"#506784\",\"ticks\":\"\",\"title\":{\"standoff\":15},\"zerolinecolor\":\"#283442\",\"zerolinewidth\":2}}},\"xaxis\":{\"anchor\":\"y\",\"domain\":[0.0,1.0],\"title\":{\"text\":\"</b>Year</b>\",\"font\":{\"size\":30,\"family\":\"Verdana\",\"color\":\"white\"}},\"tickfont\":{\"family\":\"Calibri\",\"color\":\"white\",\"size\":25}},\"yaxis\":{\"anchor\":\"x\",\"domain\":[0.0,1.0],\"title\":{\"text\":\"<b>Palm Oil Fruit (mt)</b>\",\"font\":{\"size\":30,\"family\":\"Verdana\",\"color\":\"white\"}},\"tickfont\":{\"family\":\"Calibri\",\"color\":\"white\",\"size\":25}},\"legend\":{\"tracegroupgap\":0,\"font\":{\"size\":20}},\"margin\":{\"t\":60},\"title\":{\"font\":{\"size\":40},\"text\":\"<b>Land under Cultivation (Palm Oil)<b>\"},\"width\":1400,\"height\":1000},                        {\"responsive\": true}                    ).then(function(){\n                            \nvar gd = document.getElementById('a018ab4c-b28b-4098-ac64-336332b4bd5f');\nvar x = new MutationObserver(function (mutations, observer) {{\n        var display = window.getComputedStyle(gd).display;\n        if (!display || display === 'none') {{\n            console.log([gd, 'removed!']);\n            Plotly.purge(gd);\n            observer.disconnect();\n        }}\n}});\n\n// Listen for the removal of the full notebook cells\nvar notebookContainer = gd.closest('#notebook-container');\nif (notebookContainer) {{\n    x.observe(notebookContainer, {childList: true});\n}}\n\n// Listen for the clearing of the current output cell\nvar outputEl = gd.closest('.output');\nif (outputEl) {{\n    x.observe(outputEl, {childList: true});\n}}\n\n                        })                };                });            </script>        </div>"
     },
     "metadata": {},
     "output_type": "display_data"
    }
   ],
   "source": [
    "land_fig = px.line(world_land, x=\"Year\", y=oil_palm_fruit)\n",
    "\n",
    "# Add figure title\n",
    "land_fig.update_layout(title_text=\"<b>Land under Cultivation (Palm Oil)<b>\",title_font_size=40, legend_font_size=20, width=1400, height=1000)\n",
    "\n",
    "# format x-axis\n",
    "land_fig.update_xaxes(title_text=\"</b>Year</b>\", title_font=dict(size=30, family='Verdana', color='white'), tickfont=dict(family='Calibri', color='white', size=25))\n",
    "\n",
    "# Format y-axes\n",
    "land_fig.update_yaxes(title_text=\"<b>Palm Oil Fruit (mt)</b>\", title_font=dict(size=30, family='Verdana', color='white'), tickfont=dict(family='Calibri', color='white', size=25))\n",
    "\n",
    "land_fig.show()\n"
   ],
   "metadata": {
    "collapsed": false,
    "pycharm": {
     "name": "#%%\n"
    }
   }
  },
  {
   "cell_type": "markdown",
   "source": [
    "# 3) Vegetable Oil Production\n",
    "- plot 1: production over time by crop. currently a simple line chart. Need to turn it into a stacked area chart\n",
    "- geo-map plot showing production by country or region over time"
   ],
   "metadata": {
    "collapsed": false,
    "pycharm": {
     "name": "#%% md\n"
    }
   }
  },
  {
   "cell_type": "code",
   "execution_count": 39,
   "outputs": [
    {
     "name": "stdout",
     "output_type": "stream",
     "text": [
      "<class 'pandas.core.frame.DataFrame'>\n",
      "RangeIndex: 11064 entries, 0 to 11063\n",
      "Data columns (total 16 columns):\n",
      " #   Column                                                                     Non-Null Count  Dtype  \n",
      "---  ------                                                                     --------------  -----  \n",
      " 0   Entity                                                                     11064 non-null  object \n",
      " 1   Code                                                                       9323 non-null   object \n",
      " 2   Year                                                                       11064 non-null  int64  \n",
      " 3   Crops processed - Oil, soybean - 237 - Production - 5510 - tonnes          5739 non-null   float64\n",
      " 4   Crops processed - Oil, sesame - 290 - Production - 5510 - tonnes           4212 non-null   float64\n",
      " 5   Crops processed - Oil, linseed - 334 - Production - 5510 - tonnes          4387 non-null   float64\n",
      " 6   Crops processed - Oil, palm - 257 - Production - 5510 - tonnes             3250 non-null   float64\n",
      " 7   Crops processed - Oil, rapeseed - 271 - Production - 5510 - tonnes         3914 non-null   float64\n",
      " 8   Crops processed - Oil, groundnut - 244 - Production - 5510 - tonnes        6387 non-null   float64\n",
      " 9   Crops processed - Oil, cottonseed - 331 - Production - 5510 - tonnes       6495 non-null   float64\n",
      " 10  Crops processed - Oil, coconut (copra) - 252 - Production - 5510 - tonnes  6412 non-null   float64\n",
      " 11  Crops processed - Oil, olive, virgin - 261 - Production - 5510 - tonnes    2572 non-null   float64\n",
      " 12  Crops processed - Oil, safflower - 281 - Production - 5510 - tonnes        2010 non-null   float64\n",
      " 13  Crops processed - Oil, sunflower - 268 - Production - 5510 - tonnes        4905 non-null   float64\n",
      " 14  Crops processed - Oil, maize - 60 - Production - 5510 - tonnes             3843 non-null   float64\n",
      " 15  Crops processed - Oil, palm kernel - 258 - Production - 5510 - tonnes      4071 non-null   float64\n",
      "dtypes: float64(13), int64(1), object(2)\n",
      "memory usage: 1.4+ MB\n"
     ]
    }
   ],
   "source": [
    "vegetable_oil_production = pd.read_csv(os.path.join(DATA, 'vegetable-oil-production.csv'))\n",
    "year = vegetable_oil_production['Year'].drop_duplicates(keep='first', inplace=False)\n",
    "vegetable_oil_production.info()"
   ],
   "metadata": {
    "collapsed": false,
    "pycharm": {
     "name": "#%%\n"
    }
   }
  },
  {
   "cell_type": "code",
   "execution_count": 40,
   "outputs": [
    {
     "name": "stdout",
     "output_type": "stream",
     "text": [
      "<class 'pandas.core.frame.DataFrame'>\n",
      "Int64Index: 54 entries, 1961 to 2014\n",
      "Data columns (total 13 columns):\n",
      " #   Column                                                                     Non-Null Count  Dtype  \n",
      "---  ------                                                                     --------------  -----  \n",
      " 0   Crops processed - Oil, soybean - 237 - Production - 5510 - tonnes          54 non-null     float64\n",
      " 1   Crops processed - Oil, sesame - 290 - Production - 5510 - tonnes           54 non-null     float64\n",
      " 2   Crops processed - Oil, linseed - 334 - Production - 5510 - tonnes          54 non-null     float64\n",
      " 3   Crops processed - Oil, palm - 257 - Production - 5510 - tonnes             54 non-null     float64\n",
      " 4   Crops processed - Oil, rapeseed - 271 - Production - 5510 - tonnes         54 non-null     float64\n",
      " 5   Crops processed - Oil, groundnut - 244 - Production - 5510 - tonnes        54 non-null     float64\n",
      " 6   Crops processed - Oil, cottonseed - 331 - Production - 5510 - tonnes       54 non-null     float64\n",
      " 7   Crops processed - Oil, coconut (copra) - 252 - Production - 5510 - tonnes  54 non-null     float64\n",
      " 8   Crops processed - Oil, olive, virgin - 261 - Production - 5510 - tonnes    54 non-null     float64\n",
      " 9   Crops processed - Oil, safflower - 281 - Production - 5510 - tonnes        54 non-null     float64\n",
      " 10  Crops processed - Oil, sunflower - 268 - Production - 5510 - tonnes        54 non-null     float64\n",
      " 11  Crops processed - Oil, maize - 60 - Production - 5510 - tonnes             54 non-null     float64\n",
      " 12  Crops processed - Oil, palm kernel - 258 - Production - 5510 - tonnes      54 non-null     float64\n",
      "dtypes: float64(13)\n",
      "memory usage: 5.9 KB\n"
     ]
    }
   ],
   "source": [
    "veg_oil_yearly_production = vegetable_oil_production.groupby('Year').sum()\n",
    "veg_oil_yearly_production.info()"
   ],
   "metadata": {
    "collapsed": false,
    "pycharm": {
     "name": "#%%\n"
    }
   }
  },
  {
   "cell_type": "code",
   "execution_count": 41,
   "outputs": [],
   "source": [
    "import re\n",
    "pattern = r'(?<=Oil, ).+?(?= - \\d)'\n",
    "cols = [re.search(pattern, c, re.RegexFlag.IGNORECASE)[0] for c in veg_oil_yearly_production]\n",
    "cols = [re.sub(' ', '_', c) for c in cols]\n",
    "cols = [re.sub('\\W', '', c) for c in cols]"
   ],
   "metadata": {
    "collapsed": false,
    "pycharm": {
     "name": "#%%\n"
    }
   }
  },
  {
   "cell_type": "code",
   "execution_count": 42,
   "outputs": [
    {
     "name": "stdout",
     "output_type": "stream",
     "text": [
      "<class 'pandas.core.frame.DataFrame'>\n",
      "RangeIndex: 54 entries, 0 to 53\n",
      "Data columns (total 14 columns):\n",
      " #   Column         Non-Null Count  Dtype  \n",
      "---  ------         --------------  -----  \n",
      " 0   Year           54 non-null     int64  \n",
      " 1   soybean        54 non-null     float64\n",
      " 2   sesame         54 non-null     float64\n",
      " 3   linseed        54 non-null     float64\n",
      " 4   palm           54 non-null     float64\n",
      " 5   rapeseed       54 non-null     float64\n",
      " 6   groundnut      54 non-null     float64\n",
      " 7   cottonseed     54 non-null     float64\n",
      " 8   coconut_copra  54 non-null     float64\n",
      " 9   olive_virgin   54 non-null     float64\n",
      " 10  safflower      54 non-null     float64\n",
      " 11  sunflower      54 non-null     float64\n",
      " 12  maize          54 non-null     float64\n",
      " 13  palm_kernel    54 non-null     float64\n",
      "dtypes: float64(13), int64(1)\n",
      "memory usage: 6.0 KB\n"
     ]
    }
   ],
   "source": [
    "veg_oil_yearly_production.columns = cols\n",
    "veg_oil_yearly_production.reset_index(inplace=True)\n",
    "veg_oil_yearly_production.info()"
   ],
   "metadata": {
    "collapsed": false,
    "pycharm": {
     "name": "#%%\n"
    }
   }
  },
  {
   "cell_type": "code",
   "execution_count": 80,
   "outputs": [
    {
     "data": {
      "application/vnd.plotly.v1+json": {
       "data": [
        {
         "legendgroup": "soybean",
         "line": {
          "color": "#636efa"
         },
         "marker": {
          "symbol": "circle"
         },
         "mode": "lines",
         "name": "soybean",
         "orientation": "v",
         "showlegend": true,
         "stackgroup": "1",
         "x": [
          1961,
          1962,
          1963,
          1964,
          1965,
          1966,
          1967,
          1968,
          1969,
          1970,
          1971,
          1972,
          1973,
          1974,
          1975,
          1976,
          1977,
          1978,
          1979,
          1980,
          1981,
          1982,
          1983,
          1984,
          1985,
          1986,
          1987,
          1988,
          1989,
          1990,
          1991,
          1992,
          1993,
          1994,
          1995,
          1996,
          1997,
          1998,
          1999,
          2000,
          2001,
          2002,
          2003,
          2004,
          2005,
          2006,
          2007,
          2008,
          2009,
          2010,
          2011,
          2012,
          2013,
          2014
         ],
         "xaxis": "x",
         "y": [
          1.2563566E7,
          1.3777553E7,
          1.4725863E7,
          1.4743503E7,
          1.5993252E7,
          1.8080003E7,
          1.9360549E7,
          1.9411049E7,
          2.1180907E7,
          2.6414015E7,
          2.7788797E7,
          2.8165323E7,
          2.8815944E7,
          3.5394482E7,
          3.3059363E7,
          4.0745678E7,
          4.0541584E7,
          4.7028454E7,
          5.0725826E7,
          5.5868068E7,
          5.4792527E7,
          5.5799176E7,
          5.8547652E7,
          5.5555111E7,
          5.9211397E7,
          5.9541476E7,
          6.5013309E7,
          6.4784416E7,
          6.2951454E7,
          6.6619479E7,
          6.6874789E7,
          7.2694494E7,
          7.387848E7,
          7.5814367E7,
          8.3925585E7,
          8.6031894E7,
          8.8065461E7,
          1.01225057E8,
          1.04483415E8,
          1.06223944E8,
          1.15015107E8,
          1.20453925E8,
          1.27744007E8,
          1.26705891E8,
          1.40932389E8,
          1.43873758E8,
          1.53936329E8,
          1.48150773E8,
          1.49679183E8,
          1.66997512E8,
          1.73478187E8,
          1.72808758E8,
          1.75908241E8,
          1.87580776E8
         ],
         "yaxis": "y",
         "type": "scatter",
         "textfont": {
          "size": 16
         }
        },
        {
         "legendgroup": "sesame",
         "line": {
          "color": "#EF553B"
         },
         "marker": {
          "symbol": "circle"
         },
         "mode": "lines",
         "name": "sesame",
         "orientation": "v",
         "showlegend": true,
         "stackgroup": "1",
         "x": [
          1961,
          1962,
          1963,
          1964,
          1965,
          1966,
          1967,
          1968,
          1969,
          1970,
          1971,
          1972,
          1973,
          1974,
          1975,
          1976,
          1977,
          1978,
          1979,
          1980,
          1981,
          1982,
          1983,
          1984,
          1985,
          1986,
          1987,
          1988,
          1989,
          1990,
          1991,
          1992,
          1993,
          1994,
          1995,
          1996,
          1997,
          1998,
          1999,
          2000,
          2001,
          2002,
          2003,
          2004,
          2005,
          2006,
          2007,
          2008,
          2009,
          2010,
          2011,
          2012,
          2013,
          2014
         ],
         "xaxis": "x",
         "y": [
          1762131.0,
          2090167.0,
          2103291.0,
          2117241.0,
          2155306.0,
          2036072.0,
          2182103.0,
          2362568.0,
          2284582.0,
          2786629.0,
          2697345.0,
          2395421.0,
          2336401.0,
          2285433.0,
          2238831.0,
          2182835.0,
          2405850.0,
          2596440.0,
          2682001.0,
          2513845.0,
          2856213.0,
          2846032.0,
          2767524.0,
          2891868.0,
          3062592.0,
          3218301.0,
          3142431.0,
          3169340.0,
          2843342.0,
          3075466.0,
          2912115.0,
          2890313.0,
          2953642.0,
          2829518.0,
          3179542.0,
          3460390.0,
          3570824.0,
          3464657.0,
          3007746.0,
          3462907.0,
          3676821.0,
          4100829.0,
          4286703.0,
          4561775.0,
          4549836.0,
          4864740.0,
          5280042.0,
          4924807.0,
          5149218.0,
          5428818.0,
          5544287.0,
          5977807.0,
          7506753.0,
          8708881.0
         ],
         "yaxis": "y",
         "type": "scatter",
         "textfont": {
          "size": 16
         }
        },
        {
         "legendgroup": "linseed",
         "line": {
          "color": "#00cc96"
         },
         "marker": {
          "symbol": "circle"
         },
         "mode": "lines",
         "name": "linseed",
         "orientation": "v",
         "showlegend": true,
         "stackgroup": "1",
         "x": [
          1961,
          1962,
          1963,
          1964,
          1965,
          1966,
          1967,
          1968,
          1969,
          1970,
          1971,
          1972,
          1973,
          1974,
          1975,
          1976,
          1977,
          1978,
          1979,
          1980,
          1981,
          1982,
          1983,
          1984,
          1985,
          1986,
          1987,
          1988,
          1989,
          1990,
          1991,
          1992,
          1993,
          1994,
          1995,
          1996,
          1997,
          1998,
          1999,
          2000,
          2001,
          2002,
          2003,
          2004,
          2005,
          2006,
          2007,
          2008,
          2009,
          2010,
          2011,
          2012,
          2013,
          2014
         ],
         "xaxis": "x",
         "y": [
          3605247.0,
          4059024.0,
          3896389.0,
          3952174.0,
          4375128.0,
          3965364.0,
          3504699.0,
          3480347.0,
          3543701.0,
          4423724.0,
          4455081.0,
          3781408.0,
          3289140.0,
          2767630.0,
          2884430.0,
          2854314.0,
          3275082.0,
          3532781.0,
          3398374.0,
          3179099.0,
          3139275.0,
          2980526.0,
          3294125.0,
          3104407.0,
          2932273.0,
          3148086.0,
          3561041.0,
          3115016.0,
          2920493.0,
          2835327.0,
          2959443.0,
          2830658.0,
          2613801.0,
          2972339.0,
          3263927.0,
          3315150.0,
          3123733.0,
          3124615.0,
          3333020.0,
          2956100.0,
          2553726.0,
          2404767.0,
          2544986.0,
          2635877.0,
          2830406.0,
          2987174.0,
          2616189.0,
          2344184.0,
          2518343.0,
          2528167.0,
          2478775.0,
          2768785.0,
          2705129.0,
          3062440.0
         ],
         "yaxis": "y",
         "type": "scatter",
         "textfont": {
          "size": 16
         }
        },
        {
         "legendgroup": "palm",
         "line": {
          "color": "#ab63fa"
         },
         "marker": {
          "symbol": "circle"
         },
         "mode": "lines",
         "name": "palm",
         "orientation": "v",
         "showlegend": true,
         "stackgroup": "1",
         "x": [
          1961,
          1962,
          1963,
          1964,
          1965,
          1966,
          1967,
          1968,
          1969,
          1970,
          1971,
          1972,
          1973,
          1974,
          1975,
          1976,
          1977,
          1978,
          1979,
          1980,
          1981,
          1982,
          1983,
          1984,
          1985,
          1986,
          1987,
          1988,
          1989,
          1990,
          1991,
          1992,
          1993,
          1994,
          1995,
          1996,
          1997,
          1998,
          1999,
          2000,
          2001,
          2002,
          2003,
          2004,
          2005,
          2006,
          2007,
          2008,
          2009,
          2010,
          2011,
          2012,
          2013,
          2014
         ],
         "xaxis": "x",
         "y": [
          6708734.0,
          6712690.0,
          6947784.0,
          7076191.0,
          7011976.0,
          7395521.0,
          7486559.0,
          8210069.0,
          8731743.0,
          8703692.0,
          9557570.0,
          1.0131993E7,
          1.0539225E7,
          1.2188966E7,
          1.3540027E7,
          1.4305836E7,
          1.5227153E7,
          1.6372048E7,
          1.9130226E7,
          2.1434661E7,
          2.2263946E7,
          2.5830964E7,
          2.4364205E7,
          2.8507694E7,
          3.1576906E7,
          3.435665E7,
          3.5431153E7,
          3.8441274E7,
          4.4455324E7,
          4.7205467E7,
          4.8993138E7,
          5.2985897E7,
          5.8226002E7,
          6.0477224E7,
          6.5388635E7,
          6.976518E7,
          7.4783933E7,
          7.4545873E7,
          8.4675447E7,
          9.0720708E7,
          1.01131243E8,
          1.06337016E8,
          1.16515969E8,
          1.22203298E8,
          1.31014076E8,
          1.59798368E8,
          1.6124121E8,
          1.71769242E8,
          1.77880388E8,
          1.85619438E8,
          2.00603844E8,
          2.13527781E8,
          2.20702265E8,
          2.32335106E8
         ],
         "yaxis": "y",
         "type": "scatter",
         "textfont": {
          "size": 16
         }
        },
        {
         "legendgroup": "rapeseed",
         "line": {
          "color": "#FFA15A"
         },
         "marker": {
          "symbol": "circle"
         },
         "mode": "lines",
         "name": "rapeseed",
         "orientation": "v",
         "showlegend": true,
         "stackgroup": "1",
         "x": [
          1961,
          1962,
          1963,
          1964,
          1965,
          1966,
          1967,
          1968,
          1969,
          1970,
          1971,
          1972,
          1973,
          1974,
          1975,
          1976,
          1977,
          1978,
          1979,
          1980,
          1981,
          1982,
          1983,
          1984,
          1985,
          1986,
          1987,
          1988,
          1989,
          1990,
          1991,
          1992,
          1993,
          1994,
          1995,
          1996,
          1997,
          1998,
          1999,
          2000,
          2001,
          2002,
          2003,
          2004,
          2005,
          2006,
          2007,
          2008,
          2009,
          2010,
          2011,
          2012,
          2013,
          2014
         ],
         "xaxis": "x",
         "y": [
          4840867.0,
          5174853.0,
          4961239.0,
          4836472.0,
          6780248.0,
          6757745.0,
          7332706.0,
          8080160.0,
          7641357.0,
          8332219.0,
          1.0606748E7,
          1.0383549E7,
          1.1495087E7,
          1.084987E7,
          1.1642352E7,
          1.1796293E7,
          1.2026756E7,
          1.2858841E7,
          1.5537178E7,
          1.6224462E7,
          1.9297018E7,
          2.0341501E7,
          2.1799776E7,
          2.3820181E7,
          2.7373887E7,
          2.8180261E7,
          3.1440702E7,
          3.376365E7,
          3.4756105E7,
          3.7618301E7,
          3.8842898E7,
          4.0006624E7,
          3.8931991E7,
          4.3019442E7,
          4.6684551E7,
          4.7656277E7,
          5.0709545E7,
          5.0550888E7,
          5.6268699E7,
          5.9057983E7,
          5.469525E7,
          5.7298127E7,
          5.4570626E7,
          6.5468817E7,
          7.3277123E7,
          7.9090297E7,
          7.9076057E7,
          8.5253712E7,
          9.4622013E7,
          1.00898103E8,
          1.01464328E8,
          1.05917559E8,
          1.07029386E8,
          1.14378329E8
         ],
         "yaxis": "y",
         "type": "scatter",
         "textfont": {
          "size": 16
         }
        },
        {
         "legendgroup": "groundnut",
         "line": {
          "color": "#19d3f3"
         },
         "marker": {
          "symbol": "circle"
         },
         "mode": "lines",
         "name": "groundnut",
         "orientation": "v",
         "showlegend": true,
         "stackgroup": "1",
         "x": [
          1961,
          1962,
          1963,
          1964,
          1965,
          1966,
          1967,
          1968,
          1969,
          1970,
          1971,
          1972,
          1973,
          1974,
          1975,
          1976,
          1977,
          1978,
          1979,
          1980,
          1981,
          1982,
          1983,
          1984,
          1985,
          1986,
          1987,
          1988,
          1989,
          1990,
          1991,
          1992,
          1993,
          1994,
          1995,
          1996,
          1997,
          1998,
          1999,
          2000,
          2001,
          2002,
          2003,
          2004,
          2005,
          2006,
          2007,
          2008,
          2009,
          2010,
          2011,
          2012,
          2013,
          2014
         ],
         "xaxis": "x",
         "y": [
          1.1234153E7,
          1.1774274E7,
          1.2955374E7,
          1.3222081E7,
          1.2167658E7,
          1.24843E7,
          1.3346223E7,
          1.250553E7,
          1.283412E7,
          1.4398952E7,
          1.387815E7,
          1.214238E7,
          1.2856143E7,
          1.2819942E7,
          1.392719E7,
          1.3840442E7,
          1.4595364E7,
          1.3671582E7,
          1.3692341E7,
          1.2201461E7,
          1.3358561E7,
          1.265861E7,
          1.4153782E7,
          1.3091234E7,
          1.3367344E7,
          1.4245467E7,
          1.483212E7,
          1.8847878E7,
          1.5921844E7,
          1.6449112E7,
          1.5945234E7,
          1.7880017E7,
          1.8221195E7,
          2.0259822E7,
          1.9863327E7,
          2.1748184E7,
          2.0617895E7,
          2.2969014E7,
          1.992619E7,
          2.1916581E7,
          2.4019024E7,
          2.2761241E7,
          2.4441627E7,
          2.2599665E7,
          2.3829812E7,
          2.0833151E7,
          2.4328557E7,
          2.3018871E7,
          2.1402483E7,
          2.449726E7,
          2.4058111E7,
          2.3467423E7,
          2.2703634E7,
          2.254419E7
         ],
         "yaxis": "y",
         "type": "scatter",
         "textfont": {
          "size": 16
         }
        },
        {
         "legendgroup": "cottonseed",
         "line": {
          "color": "#FF6692"
         },
         "marker": {
          "symbol": "circle"
         },
         "mode": "lines",
         "name": "cottonseed",
         "orientation": "v",
         "showlegend": true,
         "stackgroup": "1",
         "x": [
          1961,
          1962,
          1963,
          1964,
          1965,
          1966,
          1967,
          1968,
          1969,
          1970,
          1971,
          1972,
          1973,
          1974,
          1975,
          1976,
          1977,
          1978,
          1979,
          1980,
          1981,
          1982,
          1983,
          1984,
          1985,
          1986,
          1987,
          1988,
          1989,
          1990,
          1991,
          1992,
          1993,
          1994,
          1995,
          1996,
          1997,
          1998,
          1999,
          2000,
          2001,
          2002,
          2003,
          2004,
          2005,
          2006,
          2007,
          2008,
          2009,
          2010,
          2011,
          2012,
          2013,
          2014
         ],
         "xaxis": "x",
         "y": [
          9230397.0,
          9653376.0,
          1.0483243E7,
          1.1163961E7,
          1.1763107E7,
          1.1877619E7,
          1.0318935E7,
          1.0198331E7,
          1.1136005E7,
          1.0847887E7,
          1.0884735E7,
          1.1974915E7,
          1.2721843E7,
          1.3333777E7,
          1.2973657E7,
          1.1301293E7,
          1.2495607E7,
          1.3011099E7,
          1.2532625E7,
          1.3538809E7,
          1.3443666E7,
          1.4364399E7,
          1.2941131E7,
          1.44538E7,
          1.4709281E7,
          1.3753221E7,
          1.4035939E7,
          1.5943112E7,
          1.606385E7,
          1.6264601E7,
          1.7111547E7,
          1.7788872E7,
          1.60574E7,
          1.610586E7,
          1.6511882E7,
          1.6503836E7,
          1.654345E7,
          1.6781767E7,
          1.6188523E7,
          1.6840645E7,
          1.7727527E7,
          1.831888E7,
          1.7791833E7,
          1.8833484E7,
          2.127221E7,
          2.1200154E7,
          2.1710882E7,
          2.0848783E7,
          2.0111713E7,
          2.0854337E7,
          2.228105E7,
          2.3723912E7,
          2.2469918E7,
          2.1885999E7
         ],
         "yaxis": "y",
         "type": "scatter",
         "textfont": {
          "size": 16
         }
        },
        {
         "legendgroup": "coconut_copra",
         "line": {
          "color": "#B6E880"
         },
         "marker": {
          "symbol": "circle"
         },
         "mode": "lines",
         "name": "coconut_copra",
         "orientation": "v",
         "showlegend": true,
         "stackgroup": "1",
         "x": [
          1961,
          1962,
          1963,
          1964,
          1965,
          1966,
          1967,
          1968,
          1969,
          1970,
          1971,
          1972,
          1973,
          1974,
          1975,
          1976,
          1977,
          1978,
          1979,
          1980,
          1981,
          1982,
          1983,
          1984,
          1985,
          1986,
          1987,
          1988,
          1989,
          1990,
          1991,
          1992,
          1993,
          1994,
          1995,
          1996,
          1997,
          1998,
          1999,
          2000,
          2001,
          2002,
          2003,
          2004,
          2005,
          2006,
          2007,
          2008,
          2009,
          2010,
          2011,
          2012,
          2013,
          2014
         ],
         "xaxis": "x",
         "y": [
          7354670.0,
          8749060.0,
          8475221.0,
          8165172.0,
          8443615.0,
          9289872.0,
          8741430.0,
          8229023.0,
          8099855.0,
          8320713.0,
          9817505.0,
          1.1003287E7,
          9534161.0,
          8609934.0,
          1.1486628E7,
          1.3907804E7,
          1.2008046E7,
          1.2695411E7,
          1.0876906E7,
          1.131452E7,
          1.1740999E7,
          1.1891968E7,
          1.1640093E7,
          9727434.0,
          1.0905525E7,
          1.4085134E7,
          1.2647582E7,
          1.1588098E7,
          1.1089739E7,
          1.3997153E7,
          1.2300916E7,
          1.2019176E7,
          1.2813135E7,
          1.2565096E7,
          1.5212795E7,
          1.2863889E7,
          1.4019862E7,
          1.4608082E7,
          1.1523852E7,
          1.4112872E7,
          1.5510543E7,
          1.3274543E7,
          1.389928E7,
          1.4720757E7,
          1.4074339E7,
          1.344145E7,
          1.4234821E7,
          1.3945884E7,
          1.3661183E7,
          1.5891459E7,
          1.3236071E7,
          1.367438E7,
          1.3315449E7,
          1.289531E7
         ],
         "yaxis": "y",
         "type": "scatter",
         "textfont": {
          "size": 16
         }
        },
        {
         "legendgroup": "olive_virgin",
         "line": {
          "color": "#FF97FF"
         },
         "marker": {
          "symbol": "circle"
         },
         "mode": "lines",
         "name": "olive_virgin",
         "orientation": "v",
         "showlegend": true,
         "stackgroup": "1",
         "x": [
          1961,
          1962,
          1963,
          1964,
          1965,
          1966,
          1967,
          1968,
          1969,
          1970,
          1971,
          1972,
          1973,
          1974,
          1975,
          1976,
          1977,
          1978,
          1979,
          1980,
          1981,
          1982,
          1983,
          1984,
          1985,
          1986,
          1987,
          1988,
          1989,
          1990,
          1991,
          1992,
          1993,
          1994,
          1995,
          1996,
          1997,
          1998,
          1999,
          2000,
          2001,
          2002,
          2003,
          2004,
          2005,
          2006,
          2007,
          2008,
          2009,
          2010,
          2011,
          2012,
          2013,
          2014
         ],
         "xaxis": "x",
         "y": [
          6608670.0,
          4533310.0,
          8856432.0,
          4481156.0,
          6078829.0,
          6190790.0,
          6608902.0,
          7262915.0,
          6294838.0,
          6841166.0,
          7767049.0,
          6991685.0,
          7499508.0,
          7121188.0,
          8893016.0,
          6710583.0,
          7932180.0,
          7878802.0,
          7399634.0,
          9568870.0,
          7099928.0,
          9478495.0,
          8289221.0,
          8130250.0,
          8419362.0,
          7576151.0,
          9852161.0,
          7222508.0,
          8787008.0,
          7256242.0,
          1.1446715E7,
          8883853.0,
          9342431.0,
          8653765.0,
          8121082.0,
          1.2510086E7,
          1.2818028E7,
          1.1602462E7,
          1.1590156E7,
          1.218827E7,
          1.3094182E7,
          1.1739051E7,
          1.5229768E7,
          1.4095041E7,
          1.2484884E7,
          1.4122724E7,
          1.3497972E7,
          1.3070188E7,
          1.4624278E7,
          1.5335072E7,
          1.6392939E7,
          1.1874398E7,
          1.7005585E7,
          1.488707E7
         ],
         "yaxis": "y",
         "type": "scatter",
         "textfont": {
          "size": 16
         }
        },
        {
         "legendgroup": "safflower",
         "line": {
          "color": "#FECB52"
         },
         "marker": {
          "symbol": "circle"
         },
         "mode": "lines",
         "name": "safflower",
         "orientation": "v",
         "showlegend": true,
         "stackgroup": "1",
         "x": [
          1961,
          1962,
          1963,
          1964,
          1965,
          1966,
          1967,
          1968,
          1969,
          1970,
          1971,
          1972,
          1973,
          1974,
          1975,
          1976,
          1977,
          1978,
          1979,
          1980,
          1981,
          1982,
          1983,
          1984,
          1985,
          1986,
          1987,
          1988,
          1989,
          1990,
          1991,
          1992,
          1993,
          1994,
          1995,
          1996,
          1997,
          1998,
          1999,
          2000,
          2001,
          2002,
          2003,
          2004,
          2005,
          2006,
          2007,
          2008,
          2009,
          2010,
          2011,
          2012,
          2013,
          2014
         ],
         "xaxis": "x",
         "y": [
          388947.0,
          641181.0,
          635618.0,
          516356.0,
          524554.0,
          748605.0,
          766063.0,
          528304.0,
          578457.0,
          648149.0,
          844048.0,
          791558.0,
          592011.0,
          769948.0,
          784548.0,
          805972.0,
          979169.0,
          974030.0,
          1043427.0,
          1036810.0,
          1140819.0,
          1011419.0,
          925366.0,
          938302.0,
          888656.0,
          776168.0,
          822493.0,
          874931.0,
          910579.0,
          878792.0,
          705560.0,
          623866.0,
          726628.0,
          866583.0,
          864706.0,
          1032295.0,
          1087875.0,
          688628.0,
          792254.0,
          751258.0,
          610924.0,
          576093.0,
          678959.0,
          579888.0,
          535363.0,
          524463.0,
          586656.0,
          654159.0,
          571524.0,
          541108.0,
          599291.0,
          632407.0,
          498844.0,
          419257.0
         ],
         "yaxis": "y",
         "type": "scatter",
         "textfont": {
          "size": 16
         }
        },
        {
         "legendgroup": "sunflower",
         "line": {
          "color": "#636efa"
         },
         "marker": {
          "symbol": "circle"
         },
         "mode": "lines",
         "name": "sunflower",
         "orientation": "v",
         "showlegend": true,
         "stackgroup": "1",
         "x": [
          1961,
          1962,
          1963,
          1964,
          1965,
          1966,
          1967,
          1968,
          1969,
          1970,
          1971,
          1972,
          1973,
          1974,
          1975,
          1976,
          1977,
          1978,
          1979,
          1980,
          1981,
          1982,
          1983,
          1984,
          1985,
          1986,
          1987,
          1988,
          1989,
          1990,
          1991,
          1992,
          1993,
          1994,
          1995,
          1996,
          1997,
          1998,
          1999,
          2000,
          2001,
          2002,
          2003,
          2004,
          2005,
          2006,
          2007,
          2008,
          2009,
          2010,
          2011,
          2012,
          2013,
          2014
         ],
         "xaxis": "x",
         "y": [
          8131734.0,
          9552219.0,
          1.005605E7,
          9881294.0,
          1.2519604E7,
          1.2591332E7,
          1.462118E7,
          1.5323309E7,
          1.5288671E7,
          1.532115E7,
          1.5087254E7,
          1.5287338E7,
          1.5130893E7,
          1.833443E7,
          1.7522126E7,
          1.4604608E7,
          1.5751874E7,
          1.9442653E7,
          2.0942602E7,
          2.2251774E7,
          2.1806769E7,
          2.2494587E7,
          2.646533E7,
          2.5984166E7,
          2.8392255E7,
          2.98405E7,
          2.9601251E7,
          3.2136554E7,
          3.3351194E7,
          3.5014557E7,
          3.5222085E7,
          3.6122307E7,
          3.3920605E7,
          3.3088465E7,
          3.8297247E7,
          4.0688331E7,
          4.0398837E7,
          3.8844991E7,
          4.1488728E7,
          4.2328058E7,
          3.6231677E7,
          3.428302E7,
          4.0205078E7,
          4.2921591E7,
          4.6228097E7,
          4.9719483E7,
          4.8033983E7,
          4.7381348E7,
          5.6352067E7,
          5.4478931E7,
          5.762457E7,
          6.4640983E7,
          5.9104675E7,
          6.8298532E7
         ],
         "yaxis": "y",
         "type": "scatter",
         "textfont": {
          "size": 16
         }
        },
        {
         "legendgroup": "maize",
         "line": {
          "color": "#EF553B"
         },
         "marker": {
          "symbol": "circle"
         },
         "mode": "lines",
         "name": "maize",
         "orientation": "v",
         "showlegend": true,
         "stackgroup": "1",
         "x": [
          1961,
          1962,
          1963,
          1964,
          1965,
          1966,
          1967,
          1968,
          1969,
          1970,
          1971,
          1972,
          1973,
          1974,
          1975,
          1976,
          1977,
          1978,
          1979,
          1980,
          1981,
          1982,
          1983,
          1984,
          1985,
          1986,
          1987,
          1988,
          1989,
          1990,
          1991,
          1992,
          1993,
          1994,
          1995,
          1996,
          1997,
          1998,
          1999,
          2000,
          2001,
          2002,
          2003,
          2004,
          2005,
          2006,
          2007,
          2008,
          2009,
          2010,
          2011,
          2012,
          2013,
          2014
         ],
         "xaxis": "x",
         "y": [
          1465322.0,
          1540017.0,
          1584599.0,
          1669078.0,
          1831634.0,
          1852351.0,
          1883002.0,
          1892525.0,
          1987756.0,
          2080306.0,
          2135098.0,
          2225765.0,
          2370819.0,
          2464751.0,
          2316524.0,
          2743046.0,
          2924475.0,
          3152111.0,
          3391643.0,
          3551125.0,
          3753828.0,
          3966409.0,
          4220726.0,
          4474252.0,
          4877720.0,
          4963419.0,
          5251035.0,
          5420837.0,
          5494349.0,
          5702470.0,
          6073797.0,
          6388601.0,
          6588824.0,
          6774412.0,
          7501230.0,
          7283743.0,
          7547256.0,
          7821515.0,
          7928935.0,
          8150092.0,
          8043752.0,
          8162932.0,
          8374617.0,
          8272293.0,
          8720244.0,
          9149699.0,
          9598474.0,
          9589274.0,
          9357336.0,
          9630952.0,
          9817403.0,
          9816837.0,
          9790233.0,
          1.3241527E7
         ],
         "yaxis": "y",
         "type": "scatter",
         "textfont": {
          "size": 16
         }
        },
        {
         "legendgroup": "palm_kernel",
         "line": {
          "color": "#00cc96"
         },
         "marker": {
          "symbol": "circle"
         },
         "mode": "lines",
         "name": "palm_kernel",
         "orientation": "v",
         "showlegend": true,
         "stackgroup": "1",
         "x": [
          1961,
          1962,
          1963,
          1964,
          1965,
          1966,
          1967,
          1968,
          1969,
          1970,
          1971,
          1972,
          1973,
          1974,
          1975,
          1976,
          1977,
          1978,
          1979,
          1980,
          1981,
          1982,
          1983,
          1984,
          1985,
          1986,
          1987,
          1988,
          1989,
          1990,
          1991,
          1992,
          1993,
          1994,
          1995,
          1996,
          1997,
          1998,
          1999,
          2000,
          2001,
          2002,
          2003,
          2004,
          2005,
          2006,
          2007,
          2008,
          2009,
          2010,
          2011,
          2012,
          2013,
          2014
         ],
         "xaxis": "x",
         "y": [
          2392785.0,
          2378154.0,
          2199279.0,
          2396552.0,
          2469792.0,
          2441664.0,
          2044249.0,
          2127513.0,
          2340698.0,
          2337788.0,
          2474599.0,
          2344331.0,
          2213033.0,
          2673874.0,
          2586835.0,
          2662576.0,
          2882009.0,
          2716424.0,
          2971789.0,
          3141359.0,
          3235215.0,
          3670983.0,
          3779946.0,
          4244348.0,
          4925463.0,
          5173555.0,
          5120111.0,
          5569931.0,
          6457394.0,
          6928734.0,
          6577514.0,
          6889316.0,
          7933931.0,
          8246954.0,
          8540769.0,
          9267612.0,
          9712665.0,
          9500340.0,
          1.0962174E7,
          1.1285575E7,
          1.2355079E7,
          1.2787055E7,
          1.3965366E7,
          1.48955E7,
          1.6477558E7,
          1.8109911E7,
          1.8619413E7,
          2.0261081E7,
          2.0993904E7,
          2.1036304E7,
          2.2752852E7,
          2.4350456E7,
          2.5678463E7,
          2.6822254E7
         ],
         "yaxis": "y",
         "type": "scatter",
         "textfont": {
          "size": 16
         }
        }
       ],
       "layout": {
        "template": {
         "data": {
          "bar": [
           {
            "error_x": {
             "color": "#f2f5fa"
            },
            "error_y": {
             "color": "#f2f5fa"
            },
            "marker": {
             "line": {
              "color": "rgb(17,17,17)",
              "width": 0.5
             },
             "pattern": {
              "fillmode": "overlay",
              "size": 10,
              "solidity": 0.2
             }
            },
            "type": "bar"
           }
          ],
          "barpolar": [
           {
            "marker": {
             "line": {
              "color": "rgb(17,17,17)",
              "width": 0.5
             },
             "pattern": {
              "fillmode": "overlay",
              "size": 10,
              "solidity": 0.2
             }
            },
            "type": "barpolar"
           }
          ],
          "carpet": [
           {
            "aaxis": {
             "endlinecolor": "#A2B1C6",
             "gridcolor": "#506784",
             "linecolor": "#506784",
             "minorgridcolor": "#506784",
             "startlinecolor": "#A2B1C6"
            },
            "baxis": {
             "endlinecolor": "#A2B1C6",
             "gridcolor": "#506784",
             "linecolor": "#506784",
             "minorgridcolor": "#506784",
             "startlinecolor": "#A2B1C6"
            },
            "type": "carpet"
           }
          ],
          "choropleth": [
           {
            "colorbar": {
             "outlinewidth": 0,
             "ticks": ""
            },
            "type": "choropleth"
           }
          ],
          "contour": [
           {
            "colorbar": {
             "outlinewidth": 0,
             "ticks": ""
            },
            "colorscale": [
             [
              0.0,
              "#0d0887"
             ],
             [
              0.1111111111111111,
              "#46039f"
             ],
             [
              0.2222222222222222,
              "#7201a8"
             ],
             [
              0.3333333333333333,
              "#9c179e"
             ],
             [
              0.4444444444444444,
              "#bd3786"
             ],
             [
              0.5555555555555556,
              "#d8576b"
             ],
             [
              0.6666666666666666,
              "#ed7953"
             ],
             [
              0.7777777777777778,
              "#fb9f3a"
             ],
             [
              0.8888888888888888,
              "#fdca26"
             ],
             [
              1.0,
              "#f0f921"
             ]
            ],
            "type": "contour"
           }
          ],
          "contourcarpet": [
           {
            "colorbar": {
             "outlinewidth": 0,
             "ticks": ""
            },
            "type": "contourcarpet"
           }
          ],
          "heatmap": [
           {
            "colorbar": {
             "outlinewidth": 0,
             "ticks": ""
            },
            "colorscale": [
             [
              0.0,
              "#0d0887"
             ],
             [
              0.1111111111111111,
              "#46039f"
             ],
             [
              0.2222222222222222,
              "#7201a8"
             ],
             [
              0.3333333333333333,
              "#9c179e"
             ],
             [
              0.4444444444444444,
              "#bd3786"
             ],
             [
              0.5555555555555556,
              "#d8576b"
             ],
             [
              0.6666666666666666,
              "#ed7953"
             ],
             [
              0.7777777777777778,
              "#fb9f3a"
             ],
             [
              0.8888888888888888,
              "#fdca26"
             ],
             [
              1.0,
              "#f0f921"
             ]
            ],
            "type": "heatmap"
           }
          ],
          "heatmapgl": [
           {
            "colorbar": {
             "outlinewidth": 0,
             "ticks": ""
            },
            "colorscale": [
             [
              0.0,
              "#0d0887"
             ],
             [
              0.1111111111111111,
              "#46039f"
             ],
             [
              0.2222222222222222,
              "#7201a8"
             ],
             [
              0.3333333333333333,
              "#9c179e"
             ],
             [
              0.4444444444444444,
              "#bd3786"
             ],
             [
              0.5555555555555556,
              "#d8576b"
             ],
             [
              0.6666666666666666,
              "#ed7953"
             ],
             [
              0.7777777777777778,
              "#fb9f3a"
             ],
             [
              0.8888888888888888,
              "#fdca26"
             ],
             [
              1.0,
              "#f0f921"
             ]
            ],
            "type": "heatmapgl"
           }
          ],
          "histogram": [
           {
            "marker": {
             "pattern": {
              "fillmode": "overlay",
              "size": 10,
              "solidity": 0.2
             }
            },
            "type": "histogram"
           }
          ],
          "histogram2d": [
           {
            "colorbar": {
             "outlinewidth": 0,
             "ticks": ""
            },
            "colorscale": [
             [
              0.0,
              "#0d0887"
             ],
             [
              0.1111111111111111,
              "#46039f"
             ],
             [
              0.2222222222222222,
              "#7201a8"
             ],
             [
              0.3333333333333333,
              "#9c179e"
             ],
             [
              0.4444444444444444,
              "#bd3786"
             ],
             [
              0.5555555555555556,
              "#d8576b"
             ],
             [
              0.6666666666666666,
              "#ed7953"
             ],
             [
              0.7777777777777778,
              "#fb9f3a"
             ],
             [
              0.8888888888888888,
              "#fdca26"
             ],
             [
              1.0,
              "#f0f921"
             ]
            ],
            "type": "histogram2d"
           }
          ],
          "histogram2dcontour": [
           {
            "colorbar": {
             "outlinewidth": 0,
             "ticks": ""
            },
            "colorscale": [
             [
              0.0,
              "#0d0887"
             ],
             [
              0.1111111111111111,
              "#46039f"
             ],
             [
              0.2222222222222222,
              "#7201a8"
             ],
             [
              0.3333333333333333,
              "#9c179e"
             ],
             [
              0.4444444444444444,
              "#bd3786"
             ],
             [
              0.5555555555555556,
              "#d8576b"
             ],
             [
              0.6666666666666666,
              "#ed7953"
             ],
             [
              0.7777777777777778,
              "#fb9f3a"
             ],
             [
              0.8888888888888888,
              "#fdca26"
             ],
             [
              1.0,
              "#f0f921"
             ]
            ],
            "type": "histogram2dcontour"
           }
          ],
          "mesh3d": [
           {
            "colorbar": {
             "outlinewidth": 0,
             "ticks": ""
            },
            "type": "mesh3d"
           }
          ],
          "parcoords": [
           {
            "line": {
             "colorbar": {
              "outlinewidth": 0,
              "ticks": ""
             }
            },
            "type": "parcoords"
           }
          ],
          "pie": [
           {
            "automargin": true,
            "type": "pie"
           }
          ],
          "scatter": [
           {
            "marker": {
             "line": {
              "color": "#283442"
             }
            },
            "type": "scatter"
           }
          ],
          "scatter3d": [
           {
            "line": {
             "colorbar": {
              "outlinewidth": 0,
              "ticks": ""
             }
            },
            "marker": {
             "colorbar": {
              "outlinewidth": 0,
              "ticks": ""
             }
            },
            "type": "scatter3d"
           }
          ],
          "scattercarpet": [
           {
            "marker": {
             "colorbar": {
              "outlinewidth": 0,
              "ticks": ""
             }
            },
            "type": "scattercarpet"
           }
          ],
          "scattergeo": [
           {
            "marker": {
             "colorbar": {
              "outlinewidth": 0,
              "ticks": ""
             }
            },
            "type": "scattergeo"
           }
          ],
          "scattergl": [
           {
            "marker": {
             "line": {
              "color": "#283442"
             }
            },
            "type": "scattergl"
           }
          ],
          "scattermapbox": [
           {
            "marker": {
             "colorbar": {
              "outlinewidth": 0,
              "ticks": ""
             }
            },
            "type": "scattermapbox"
           }
          ],
          "scatterpolar": [
           {
            "marker": {
             "colorbar": {
              "outlinewidth": 0,
              "ticks": ""
             }
            },
            "type": "scatterpolar"
           }
          ],
          "scatterpolargl": [
           {
            "marker": {
             "colorbar": {
              "outlinewidth": 0,
              "ticks": ""
             }
            },
            "type": "scatterpolargl"
           }
          ],
          "scatterternary": [
           {
            "marker": {
             "colorbar": {
              "outlinewidth": 0,
              "ticks": ""
             }
            },
            "type": "scatterternary"
           }
          ],
          "surface": [
           {
            "colorbar": {
             "outlinewidth": 0,
             "ticks": ""
            },
            "colorscale": [
             [
              0.0,
              "#0d0887"
             ],
             [
              0.1111111111111111,
              "#46039f"
             ],
             [
              0.2222222222222222,
              "#7201a8"
             ],
             [
              0.3333333333333333,
              "#9c179e"
             ],
             [
              0.4444444444444444,
              "#bd3786"
             ],
             [
              0.5555555555555556,
              "#d8576b"
             ],
             [
              0.6666666666666666,
              "#ed7953"
             ],
             [
              0.7777777777777778,
              "#fb9f3a"
             ],
             [
              0.8888888888888888,
              "#fdca26"
             ],
             [
              1.0,
              "#f0f921"
             ]
            ],
            "type": "surface"
           }
          ],
          "table": [
           {
            "cells": {
             "fill": {
              "color": "#506784"
             },
             "line": {
              "color": "rgb(17,17,17)"
             }
            },
            "header": {
             "fill": {
              "color": "#2a3f5f"
             },
             "line": {
              "color": "rgb(17,17,17)"
             }
            },
            "type": "table"
           }
          ]
         },
         "layout": {
          "annotationdefaults": {
           "arrowcolor": "#f2f5fa",
           "arrowhead": 0,
           "arrowwidth": 1
          },
          "autotypenumbers": "strict",
          "coloraxis": {
           "colorbar": {
            "outlinewidth": 0,
            "ticks": ""
           }
          },
          "colorscale": {
           "diverging": [
            [
             0,
             "#8e0152"
            ],
            [
             0.1,
             "#c51b7d"
            ],
            [
             0.2,
             "#de77ae"
            ],
            [
             0.3,
             "#f1b6da"
            ],
            [
             0.4,
             "#fde0ef"
            ],
            [
             0.5,
             "#f7f7f7"
            ],
            [
             0.6,
             "#e6f5d0"
            ],
            [
             0.7,
             "#b8e186"
            ],
            [
             0.8,
             "#7fbc41"
            ],
            [
             0.9,
             "#4d9221"
            ],
            [
             1,
             "#276419"
            ]
           ],
           "sequential": [
            [
             0.0,
             "#0d0887"
            ],
            [
             0.1111111111111111,
             "#46039f"
            ],
            [
             0.2222222222222222,
             "#7201a8"
            ],
            [
             0.3333333333333333,
             "#9c179e"
            ],
            [
             0.4444444444444444,
             "#bd3786"
            ],
            [
             0.5555555555555556,
             "#d8576b"
            ],
            [
             0.6666666666666666,
             "#ed7953"
            ],
            [
             0.7777777777777778,
             "#fb9f3a"
            ],
            [
             0.8888888888888888,
             "#fdca26"
            ],
            [
             1.0,
             "#f0f921"
            ]
           ],
           "sequentialminus": [
            [
             0.0,
             "#0d0887"
            ],
            [
             0.1111111111111111,
             "#46039f"
            ],
            [
             0.2222222222222222,
             "#7201a8"
            ],
            [
             0.3333333333333333,
             "#9c179e"
            ],
            [
             0.4444444444444444,
             "#bd3786"
            ],
            [
             0.5555555555555556,
             "#d8576b"
            ],
            [
             0.6666666666666666,
             "#ed7953"
            ],
            [
             0.7777777777777778,
             "#fb9f3a"
            ],
            [
             0.8888888888888888,
             "#fdca26"
            ],
            [
             1.0,
             "#f0f921"
            ]
           ]
          },
          "colorway": [
           "#636efa",
           "#EF553B",
           "#00cc96",
           "#ab63fa",
           "#FFA15A",
           "#19d3f3",
           "#FF6692",
           "#B6E880",
           "#FF97FF",
           "#FECB52"
          ],
          "font": {
           "color": "#f2f5fa"
          },
          "geo": {
           "bgcolor": "rgb(17,17,17)",
           "lakecolor": "rgb(17,17,17)",
           "landcolor": "rgb(17,17,17)",
           "showlakes": true,
           "showland": true,
           "subunitcolor": "#506784"
          },
          "hoverlabel": {
           "align": "left"
          },
          "hovermode": "closest",
          "mapbox": {
           "style": "dark"
          },
          "paper_bgcolor": "rgb(17,17,17)",
          "plot_bgcolor": "rgb(17,17,17)",
          "polar": {
           "angularaxis": {
            "gridcolor": "#506784",
            "linecolor": "#506784",
            "ticks": ""
           },
           "bgcolor": "rgb(17,17,17)",
           "radialaxis": {
            "gridcolor": "#506784",
            "linecolor": "#506784",
            "ticks": ""
           }
          },
          "scene": {
           "xaxis": {
            "backgroundcolor": "rgb(17,17,17)",
            "gridcolor": "#506784",
            "gridwidth": 2,
            "linecolor": "#506784",
            "showbackground": true,
            "ticks": "",
            "zerolinecolor": "#C8D4E3"
           },
           "yaxis": {
            "backgroundcolor": "rgb(17,17,17)",
            "gridcolor": "#506784",
            "gridwidth": 2,
            "linecolor": "#506784",
            "showbackground": true,
            "ticks": "",
            "zerolinecolor": "#C8D4E3"
           },
           "zaxis": {
            "backgroundcolor": "rgb(17,17,17)",
            "gridcolor": "#506784",
            "gridwidth": 2,
            "linecolor": "#506784",
            "showbackground": true,
            "ticks": "",
            "zerolinecolor": "#C8D4E3"
           }
          },
          "shapedefaults": {
           "line": {
            "color": "#f2f5fa"
           }
          },
          "sliderdefaults": {
           "bgcolor": "#C8D4E3",
           "bordercolor": "rgb(17,17,17)",
           "borderwidth": 1,
           "tickwidth": 0
          },
          "ternary": {
           "aaxis": {
            "gridcolor": "#506784",
            "linecolor": "#506784",
            "ticks": ""
           },
           "baxis": {
            "gridcolor": "#506784",
            "linecolor": "#506784",
            "ticks": ""
           },
           "bgcolor": "rgb(17,17,17)",
           "caxis": {
            "gridcolor": "#506784",
            "linecolor": "#506784",
            "ticks": ""
           }
          },
          "title": {
           "x": 0.05
          },
          "updatemenudefaults": {
           "bgcolor": "#506784",
           "borderwidth": 0
          },
          "xaxis": {
           "automargin": true,
           "gridcolor": "#283442",
           "linecolor": "#506784",
           "ticks": "",
           "title": {
            "standoff": 15
           },
           "zerolinecolor": "#283442",
           "zerolinewidth": 2
          },
          "yaxis": {
           "automargin": true,
           "gridcolor": "#283442",
           "linecolor": "#506784",
           "ticks": "",
           "title": {
            "standoff": 15
           },
           "zerolinecolor": "#283442",
           "zerolinewidth": 2
          }
         }
        },
        "xaxis": {
         "anchor": "y",
         "domain": [
          0.0,
          1.0
         ],
         "title": {
          "text": "</b>Year</b>",
          "font": {
           "size": 30,
           "family": "Verdana",
           "color": "white"
          }
         },
         "tickfont": {
          "family": "Calibri",
          "color": "white",
          "size": 25
         }
        },
        "yaxis": {
         "anchor": "x",
         "domain": [
          0.0,
          1.0
         ],
         "title": {
          "text": "<b>Palm Oil Fruit (mt)</b>",
          "font": {
           "size": 30,
           "family": "Verdana",
           "color": "white"
          }
         },
         "tickfont": {
          "family": "Calibri",
          "color": "white",
          "size": 25
         }
        },
        "legend": {
         "title": {
          "text": "variable"
         },
         "tracegroupgap": 0,
         "font": {
          "size": 20
         }
        },
        "margin": {
         "t": 60
        },
        "hovermode": "x",
        "title": {
         "font": {
          "size": 40
         },
         "text": "<b>Vegetable Oil Production<b>"
        },
        "width": 1800,
        "height": 1400
       },
       "config": {
        "plotlyServerURL": "https://plot.ly"
       }
      },
      "text/html": "<div>                            <div id=\"f6a7b4ef-0244-426e-aa93-46e04a3bc04f\" class=\"plotly-graph-div\" style=\"height:1400px; width:1800px;\"></div>            <script type=\"text/javascript\">                require([\"plotly\"], function(Plotly) {                    window.PLOTLYENV=window.PLOTLYENV || {};                                    if (document.getElementById(\"f6a7b4ef-0244-426e-aa93-46e04a3bc04f\")) {                    Plotly.newPlot(                        \"f6a7b4ef-0244-426e-aa93-46e04a3bc04f\",                        [{\"legendgroup\":\"soybean\",\"line\":{\"color\":\"#636efa\"},\"marker\":{\"symbol\":\"circle\"},\"mode\":\"lines\",\"name\":\"soybean\",\"orientation\":\"v\",\"showlegend\":true,\"stackgroup\":\"1\",\"x\":[1961,1962,1963,1964,1965,1966,1967,1968,1969,1970,1971,1972,1973,1974,1975,1976,1977,1978,1979,1980,1981,1982,1983,1984,1985,1986,1987,1988,1989,1990,1991,1992,1993,1994,1995,1996,1997,1998,1999,2000,2001,2002,2003,2004,2005,2006,2007,2008,2009,2010,2011,2012,2013,2014],\"xaxis\":\"x\",\"y\":[12563566.0,13777553.0,14725863.0,14743503.0,15993252.0,18080003.0,19360549.0,19411049.0,21180907.0,26414015.0,27788797.0,28165323.0,28815944.0,35394482.0,33059363.0,40745678.0,40541584.0,47028454.0,50725826.0,55868068.0,54792527.0,55799176.0,58547652.0,55555111.0,59211397.0,59541476.0,65013309.0,64784416.0,62951454.0,66619479.0,66874789.0,72694494.0,73878480.0,75814367.0,83925585.0,86031894.0,88065461.0,101225057.0,104483415.0,106223944.0,115015107.0,120453925.0,127744007.0,126705891.0,140932389.0,143873758.0,153936329.0,148150773.0,149679183.0,166997512.0,173478187.0,172808758.0,175908241.0,187580776.0],\"yaxis\":\"y\",\"type\":\"scatter\",\"textfont\":{\"size\":16}},{\"legendgroup\":\"sesame\",\"line\":{\"color\":\"#EF553B\"},\"marker\":{\"symbol\":\"circle\"},\"mode\":\"lines\",\"name\":\"sesame\",\"orientation\":\"v\",\"showlegend\":true,\"stackgroup\":\"1\",\"x\":[1961,1962,1963,1964,1965,1966,1967,1968,1969,1970,1971,1972,1973,1974,1975,1976,1977,1978,1979,1980,1981,1982,1983,1984,1985,1986,1987,1988,1989,1990,1991,1992,1993,1994,1995,1996,1997,1998,1999,2000,2001,2002,2003,2004,2005,2006,2007,2008,2009,2010,2011,2012,2013,2014],\"xaxis\":\"x\",\"y\":[1762131.0,2090167.0,2103291.0,2117241.0,2155306.0,2036072.0,2182103.0,2362568.0,2284582.0,2786629.0,2697345.0,2395421.0,2336401.0,2285433.0,2238831.0,2182835.0,2405850.0,2596440.0,2682001.0,2513845.0,2856213.0,2846032.0,2767524.0,2891868.0,3062592.0,3218301.0,3142431.0,3169340.0,2843342.0,3075466.0,2912115.0,2890313.0,2953642.0,2829518.0,3179542.0,3460390.0,3570824.0,3464657.0,3007746.0,3462907.0,3676821.0,4100829.0,4286703.0,4561775.0,4549836.0,4864740.0,5280042.0,4924807.0,5149218.0,5428818.0,5544287.0,5977807.0,7506753.0,8708881.0],\"yaxis\":\"y\",\"type\":\"scatter\",\"textfont\":{\"size\":16}},{\"legendgroup\":\"linseed\",\"line\":{\"color\":\"#00cc96\"},\"marker\":{\"symbol\":\"circle\"},\"mode\":\"lines\",\"name\":\"linseed\",\"orientation\":\"v\",\"showlegend\":true,\"stackgroup\":\"1\",\"x\":[1961,1962,1963,1964,1965,1966,1967,1968,1969,1970,1971,1972,1973,1974,1975,1976,1977,1978,1979,1980,1981,1982,1983,1984,1985,1986,1987,1988,1989,1990,1991,1992,1993,1994,1995,1996,1997,1998,1999,2000,2001,2002,2003,2004,2005,2006,2007,2008,2009,2010,2011,2012,2013,2014],\"xaxis\":\"x\",\"y\":[3605247.0,4059024.0,3896389.0,3952174.0,4375128.0,3965364.0,3504699.0,3480347.0,3543701.0,4423724.0,4455081.0,3781408.0,3289140.0,2767630.0,2884430.0,2854314.0,3275082.0,3532781.0,3398374.0,3179099.0,3139275.0,2980526.0,3294125.0,3104407.0,2932273.0,3148086.0,3561041.0,3115016.0,2920493.0,2835327.0,2959443.0,2830658.0,2613801.0,2972339.0,3263927.0,3315150.0,3123733.0,3124615.0,3333020.0,2956100.0,2553726.0,2404767.0,2544986.0,2635877.0,2830406.0,2987174.0,2616189.0,2344184.0,2518343.0,2528167.0,2478775.0,2768785.0,2705129.0,3062440.0],\"yaxis\":\"y\",\"type\":\"scatter\",\"textfont\":{\"size\":16}},{\"legendgroup\":\"palm\",\"line\":{\"color\":\"#ab63fa\"},\"marker\":{\"symbol\":\"circle\"},\"mode\":\"lines\",\"name\":\"palm\",\"orientation\":\"v\",\"showlegend\":true,\"stackgroup\":\"1\",\"x\":[1961,1962,1963,1964,1965,1966,1967,1968,1969,1970,1971,1972,1973,1974,1975,1976,1977,1978,1979,1980,1981,1982,1983,1984,1985,1986,1987,1988,1989,1990,1991,1992,1993,1994,1995,1996,1997,1998,1999,2000,2001,2002,2003,2004,2005,2006,2007,2008,2009,2010,2011,2012,2013,2014],\"xaxis\":\"x\",\"y\":[6708734.0,6712690.0,6947784.0,7076191.0,7011976.0,7395521.0,7486559.0,8210069.0,8731743.0,8703692.0,9557570.0,10131993.0,10539225.0,12188966.0,13540027.0,14305836.0,15227153.0,16372048.0,19130226.0,21434661.0,22263946.0,25830964.0,24364205.0,28507694.0,31576906.0,34356650.0,35431153.0,38441274.0,44455324.0,47205467.0,48993138.0,52985897.0,58226002.0,60477224.0,65388635.0,69765180.0,74783933.0,74545873.0,84675447.0,90720708.0,101131243.0,106337016.0,116515969.0,122203298.0,131014076.0,159798368.0,161241210.0,171769242.0,177880388.0,185619438.0,200603844.0,213527781.0,220702265.0,232335106.0],\"yaxis\":\"y\",\"type\":\"scatter\",\"textfont\":{\"size\":16}},{\"legendgroup\":\"rapeseed\",\"line\":{\"color\":\"#FFA15A\"},\"marker\":{\"symbol\":\"circle\"},\"mode\":\"lines\",\"name\":\"rapeseed\",\"orientation\":\"v\",\"showlegend\":true,\"stackgroup\":\"1\",\"x\":[1961,1962,1963,1964,1965,1966,1967,1968,1969,1970,1971,1972,1973,1974,1975,1976,1977,1978,1979,1980,1981,1982,1983,1984,1985,1986,1987,1988,1989,1990,1991,1992,1993,1994,1995,1996,1997,1998,1999,2000,2001,2002,2003,2004,2005,2006,2007,2008,2009,2010,2011,2012,2013,2014],\"xaxis\":\"x\",\"y\":[4840867.0,5174853.0,4961239.0,4836472.0,6780248.0,6757745.0,7332706.0,8080160.0,7641357.0,8332219.0,10606748.0,10383549.0,11495087.0,10849870.0,11642352.0,11796293.0,12026756.0,12858841.0,15537178.0,16224462.0,19297018.0,20341501.0,21799776.0,23820181.0,27373887.0,28180261.0,31440702.0,33763650.0,34756105.0,37618301.0,38842898.0,40006624.0,38931991.0,43019442.0,46684551.0,47656277.0,50709545.0,50550888.0,56268699.0,59057983.0,54695250.0,57298127.0,54570626.0,65468817.0,73277123.0,79090297.0,79076057.0,85253712.0,94622013.0,100898103.0,101464328.0,105917559.0,107029386.0,114378329.0],\"yaxis\":\"y\",\"type\":\"scatter\",\"textfont\":{\"size\":16}},{\"legendgroup\":\"groundnut\",\"line\":{\"color\":\"#19d3f3\"},\"marker\":{\"symbol\":\"circle\"},\"mode\":\"lines\",\"name\":\"groundnut\",\"orientation\":\"v\",\"showlegend\":true,\"stackgroup\":\"1\",\"x\":[1961,1962,1963,1964,1965,1966,1967,1968,1969,1970,1971,1972,1973,1974,1975,1976,1977,1978,1979,1980,1981,1982,1983,1984,1985,1986,1987,1988,1989,1990,1991,1992,1993,1994,1995,1996,1997,1998,1999,2000,2001,2002,2003,2004,2005,2006,2007,2008,2009,2010,2011,2012,2013,2014],\"xaxis\":\"x\",\"y\":[11234153.0,11774274.0,12955374.0,13222081.0,12167658.0,12484300.0,13346223.0,12505530.0,12834120.0,14398952.0,13878150.0,12142380.0,12856143.0,12819942.0,13927190.0,13840442.0,14595364.0,13671582.0,13692341.0,12201461.0,13358561.0,12658610.0,14153782.0,13091234.0,13367344.0,14245467.0,14832120.0,18847878.0,15921844.0,16449112.0,15945234.0,17880017.0,18221195.0,20259822.0,19863327.0,21748184.0,20617895.0,22969014.0,19926190.0,21916581.0,24019024.0,22761241.0,24441627.0,22599665.0,23829812.0,20833151.0,24328557.0,23018871.0,21402483.0,24497260.0,24058111.0,23467423.0,22703634.0,22544190.0],\"yaxis\":\"y\",\"type\":\"scatter\",\"textfont\":{\"size\":16}},{\"legendgroup\":\"cottonseed\",\"line\":{\"color\":\"#FF6692\"},\"marker\":{\"symbol\":\"circle\"},\"mode\":\"lines\",\"name\":\"cottonseed\",\"orientation\":\"v\",\"showlegend\":true,\"stackgroup\":\"1\",\"x\":[1961,1962,1963,1964,1965,1966,1967,1968,1969,1970,1971,1972,1973,1974,1975,1976,1977,1978,1979,1980,1981,1982,1983,1984,1985,1986,1987,1988,1989,1990,1991,1992,1993,1994,1995,1996,1997,1998,1999,2000,2001,2002,2003,2004,2005,2006,2007,2008,2009,2010,2011,2012,2013,2014],\"xaxis\":\"x\",\"y\":[9230397.0,9653376.0,10483243.0,11163961.0,11763107.0,11877619.0,10318935.0,10198331.0,11136005.0,10847887.0,10884735.0,11974915.0,12721843.0,13333777.0,12973657.0,11301293.0,12495607.0,13011099.0,12532625.0,13538809.0,13443666.0,14364399.0,12941131.0,14453800.0,14709281.0,13753221.0,14035939.0,15943112.0,16063850.0,16264601.0,17111547.0,17788872.0,16057400.0,16105860.0,16511882.0,16503836.0,16543450.0,16781767.0,16188523.0,16840645.0,17727527.0,18318880.0,17791833.0,18833484.0,21272210.0,21200154.0,21710882.0,20848783.0,20111713.0,20854337.0,22281050.0,23723912.0,22469918.0,21885999.0],\"yaxis\":\"y\",\"type\":\"scatter\",\"textfont\":{\"size\":16}},{\"legendgroup\":\"coconut_copra\",\"line\":{\"color\":\"#B6E880\"},\"marker\":{\"symbol\":\"circle\"},\"mode\":\"lines\",\"name\":\"coconut_copra\",\"orientation\":\"v\",\"showlegend\":true,\"stackgroup\":\"1\",\"x\":[1961,1962,1963,1964,1965,1966,1967,1968,1969,1970,1971,1972,1973,1974,1975,1976,1977,1978,1979,1980,1981,1982,1983,1984,1985,1986,1987,1988,1989,1990,1991,1992,1993,1994,1995,1996,1997,1998,1999,2000,2001,2002,2003,2004,2005,2006,2007,2008,2009,2010,2011,2012,2013,2014],\"xaxis\":\"x\",\"y\":[7354670.0,8749060.0,8475221.0,8165172.0,8443615.0,9289872.0,8741430.0,8229023.0,8099855.0,8320713.0,9817505.0,11003287.0,9534161.0,8609934.0,11486628.0,13907804.0,12008046.0,12695411.0,10876906.0,11314520.0,11740999.0,11891968.0,11640093.0,9727434.0,10905525.0,14085134.0,12647582.0,11588098.0,11089739.0,13997153.0,12300916.0,12019176.0,12813135.0,12565096.0,15212795.0,12863889.0,14019862.0,14608082.0,11523852.0,14112872.0,15510543.0,13274543.0,13899280.0,14720757.0,14074339.0,13441450.0,14234821.0,13945884.0,13661183.0,15891459.0,13236071.0,13674380.0,13315449.0,12895310.0],\"yaxis\":\"y\",\"type\":\"scatter\",\"textfont\":{\"size\":16}},{\"legendgroup\":\"olive_virgin\",\"line\":{\"color\":\"#FF97FF\"},\"marker\":{\"symbol\":\"circle\"},\"mode\":\"lines\",\"name\":\"olive_virgin\",\"orientation\":\"v\",\"showlegend\":true,\"stackgroup\":\"1\",\"x\":[1961,1962,1963,1964,1965,1966,1967,1968,1969,1970,1971,1972,1973,1974,1975,1976,1977,1978,1979,1980,1981,1982,1983,1984,1985,1986,1987,1988,1989,1990,1991,1992,1993,1994,1995,1996,1997,1998,1999,2000,2001,2002,2003,2004,2005,2006,2007,2008,2009,2010,2011,2012,2013,2014],\"xaxis\":\"x\",\"y\":[6608670.0,4533310.0,8856432.0,4481156.0,6078829.0,6190790.0,6608902.0,7262915.0,6294838.0,6841166.0,7767049.0,6991685.0,7499508.0,7121188.0,8893016.0,6710583.0,7932180.0,7878802.0,7399634.0,9568870.0,7099928.0,9478495.0,8289221.0,8130250.0,8419362.0,7576151.0,9852161.0,7222508.0,8787008.0,7256242.0,11446715.0,8883853.0,9342431.0,8653765.0,8121082.0,12510086.0,12818028.0,11602462.0,11590156.0,12188270.0,13094182.0,11739051.0,15229768.0,14095041.0,12484884.0,14122724.0,13497972.0,13070188.0,14624278.0,15335072.0,16392939.0,11874398.0,17005585.0,14887070.0],\"yaxis\":\"y\",\"type\":\"scatter\",\"textfont\":{\"size\":16}},{\"legendgroup\":\"safflower\",\"line\":{\"color\":\"#FECB52\"},\"marker\":{\"symbol\":\"circle\"},\"mode\":\"lines\",\"name\":\"safflower\",\"orientation\":\"v\",\"showlegend\":true,\"stackgroup\":\"1\",\"x\":[1961,1962,1963,1964,1965,1966,1967,1968,1969,1970,1971,1972,1973,1974,1975,1976,1977,1978,1979,1980,1981,1982,1983,1984,1985,1986,1987,1988,1989,1990,1991,1992,1993,1994,1995,1996,1997,1998,1999,2000,2001,2002,2003,2004,2005,2006,2007,2008,2009,2010,2011,2012,2013,2014],\"xaxis\":\"x\",\"y\":[388947.0,641181.0,635618.0,516356.0,524554.0,748605.0,766063.0,528304.0,578457.0,648149.0,844048.0,791558.0,592011.0,769948.0,784548.0,805972.0,979169.0,974030.0,1043427.0,1036810.0,1140819.0,1011419.0,925366.0,938302.0,888656.0,776168.0,822493.0,874931.0,910579.0,878792.0,705560.0,623866.0,726628.0,866583.0,864706.0,1032295.0,1087875.0,688628.0,792254.0,751258.0,610924.0,576093.0,678959.0,579888.0,535363.0,524463.0,586656.0,654159.0,571524.0,541108.0,599291.0,632407.0,498844.0,419257.0],\"yaxis\":\"y\",\"type\":\"scatter\",\"textfont\":{\"size\":16}},{\"legendgroup\":\"sunflower\",\"line\":{\"color\":\"#636efa\"},\"marker\":{\"symbol\":\"circle\"},\"mode\":\"lines\",\"name\":\"sunflower\",\"orientation\":\"v\",\"showlegend\":true,\"stackgroup\":\"1\",\"x\":[1961,1962,1963,1964,1965,1966,1967,1968,1969,1970,1971,1972,1973,1974,1975,1976,1977,1978,1979,1980,1981,1982,1983,1984,1985,1986,1987,1988,1989,1990,1991,1992,1993,1994,1995,1996,1997,1998,1999,2000,2001,2002,2003,2004,2005,2006,2007,2008,2009,2010,2011,2012,2013,2014],\"xaxis\":\"x\",\"y\":[8131734.0,9552219.0,10056050.0,9881294.0,12519604.0,12591332.0,14621180.0,15323309.0,15288671.0,15321150.0,15087254.0,15287338.0,15130893.0,18334430.0,17522126.0,14604608.0,15751874.0,19442653.0,20942602.0,22251774.0,21806769.0,22494587.0,26465330.0,25984166.0,28392255.0,29840500.0,29601251.0,32136554.0,33351194.0,35014557.0,35222085.0,36122307.0,33920605.0,33088465.0,38297247.0,40688331.0,40398837.0,38844991.0,41488728.0,42328058.0,36231677.0,34283020.0,40205078.0,42921591.0,46228097.0,49719483.0,48033983.0,47381348.0,56352067.0,54478931.0,57624570.0,64640983.0,59104675.0,68298532.0],\"yaxis\":\"y\",\"type\":\"scatter\",\"textfont\":{\"size\":16}},{\"legendgroup\":\"maize\",\"line\":{\"color\":\"#EF553B\"},\"marker\":{\"symbol\":\"circle\"},\"mode\":\"lines\",\"name\":\"maize\",\"orientation\":\"v\",\"showlegend\":true,\"stackgroup\":\"1\",\"x\":[1961,1962,1963,1964,1965,1966,1967,1968,1969,1970,1971,1972,1973,1974,1975,1976,1977,1978,1979,1980,1981,1982,1983,1984,1985,1986,1987,1988,1989,1990,1991,1992,1993,1994,1995,1996,1997,1998,1999,2000,2001,2002,2003,2004,2005,2006,2007,2008,2009,2010,2011,2012,2013,2014],\"xaxis\":\"x\",\"y\":[1465322.0,1540017.0,1584599.0,1669078.0,1831634.0,1852351.0,1883002.0,1892525.0,1987756.0,2080306.0,2135098.0,2225765.0,2370819.0,2464751.0,2316524.0,2743046.0,2924475.0,3152111.0,3391643.0,3551125.0,3753828.0,3966409.0,4220726.0,4474252.0,4877720.0,4963419.0,5251035.0,5420837.0,5494349.0,5702470.0,6073797.0,6388601.0,6588824.0,6774412.0,7501230.0,7283743.0,7547256.0,7821515.0,7928935.0,8150092.0,8043752.0,8162932.0,8374617.0,8272293.0,8720244.0,9149699.0,9598474.0,9589274.0,9357336.0,9630952.0,9817403.0,9816837.0,9790233.0,13241527.0],\"yaxis\":\"y\",\"type\":\"scatter\",\"textfont\":{\"size\":16}},{\"legendgroup\":\"palm_kernel\",\"line\":{\"color\":\"#00cc96\"},\"marker\":{\"symbol\":\"circle\"},\"mode\":\"lines\",\"name\":\"palm_kernel\",\"orientation\":\"v\",\"showlegend\":true,\"stackgroup\":\"1\",\"x\":[1961,1962,1963,1964,1965,1966,1967,1968,1969,1970,1971,1972,1973,1974,1975,1976,1977,1978,1979,1980,1981,1982,1983,1984,1985,1986,1987,1988,1989,1990,1991,1992,1993,1994,1995,1996,1997,1998,1999,2000,2001,2002,2003,2004,2005,2006,2007,2008,2009,2010,2011,2012,2013,2014],\"xaxis\":\"x\",\"y\":[2392785.0,2378154.0,2199279.0,2396552.0,2469792.0,2441664.0,2044249.0,2127513.0,2340698.0,2337788.0,2474599.0,2344331.0,2213033.0,2673874.0,2586835.0,2662576.0,2882009.0,2716424.0,2971789.0,3141359.0,3235215.0,3670983.0,3779946.0,4244348.0,4925463.0,5173555.0,5120111.0,5569931.0,6457394.0,6928734.0,6577514.0,6889316.0,7933931.0,8246954.0,8540769.0,9267612.0,9712665.0,9500340.0,10962174.0,11285575.0,12355079.0,12787055.0,13965366.0,14895500.0,16477558.0,18109911.0,18619413.0,20261081.0,20993904.0,21036304.0,22752852.0,24350456.0,25678463.0,26822254.0],\"yaxis\":\"y\",\"type\":\"scatter\",\"textfont\":{\"size\":16}}],                        {\"template\":{\"data\":{\"bar\":[{\"error_x\":{\"color\":\"#f2f5fa\"},\"error_y\":{\"color\":\"#f2f5fa\"},\"marker\":{\"line\":{\"color\":\"rgb(17,17,17)\",\"width\":0.5},\"pattern\":{\"fillmode\":\"overlay\",\"size\":10,\"solidity\":0.2}},\"type\":\"bar\"}],\"barpolar\":[{\"marker\":{\"line\":{\"color\":\"rgb(17,17,17)\",\"width\":0.5},\"pattern\":{\"fillmode\":\"overlay\",\"size\":10,\"solidity\":0.2}},\"type\":\"barpolar\"}],\"carpet\":[{\"aaxis\":{\"endlinecolor\":\"#A2B1C6\",\"gridcolor\":\"#506784\",\"linecolor\":\"#506784\",\"minorgridcolor\":\"#506784\",\"startlinecolor\":\"#A2B1C6\"},\"baxis\":{\"endlinecolor\":\"#A2B1C6\",\"gridcolor\":\"#506784\",\"linecolor\":\"#506784\",\"minorgridcolor\":\"#506784\",\"startlinecolor\":\"#A2B1C6\"},\"type\":\"carpet\"}],\"choropleth\":[{\"colorbar\":{\"outlinewidth\":0,\"ticks\":\"\"},\"type\":\"choropleth\"}],\"contour\":[{\"colorbar\":{\"outlinewidth\":0,\"ticks\":\"\"},\"colorscale\":[[0.0,\"#0d0887\"],[0.1111111111111111,\"#46039f\"],[0.2222222222222222,\"#7201a8\"],[0.3333333333333333,\"#9c179e\"],[0.4444444444444444,\"#bd3786\"],[0.5555555555555556,\"#d8576b\"],[0.6666666666666666,\"#ed7953\"],[0.7777777777777778,\"#fb9f3a\"],[0.8888888888888888,\"#fdca26\"],[1.0,\"#f0f921\"]],\"type\":\"contour\"}],\"contourcarpet\":[{\"colorbar\":{\"outlinewidth\":0,\"ticks\":\"\"},\"type\":\"contourcarpet\"}],\"heatmap\":[{\"colorbar\":{\"outlinewidth\":0,\"ticks\":\"\"},\"colorscale\":[[0.0,\"#0d0887\"],[0.1111111111111111,\"#46039f\"],[0.2222222222222222,\"#7201a8\"],[0.3333333333333333,\"#9c179e\"],[0.4444444444444444,\"#bd3786\"],[0.5555555555555556,\"#d8576b\"],[0.6666666666666666,\"#ed7953\"],[0.7777777777777778,\"#fb9f3a\"],[0.8888888888888888,\"#fdca26\"],[1.0,\"#f0f921\"]],\"type\":\"heatmap\"}],\"heatmapgl\":[{\"colorbar\":{\"outlinewidth\":0,\"ticks\":\"\"},\"colorscale\":[[0.0,\"#0d0887\"],[0.1111111111111111,\"#46039f\"],[0.2222222222222222,\"#7201a8\"],[0.3333333333333333,\"#9c179e\"],[0.4444444444444444,\"#bd3786\"],[0.5555555555555556,\"#d8576b\"],[0.6666666666666666,\"#ed7953\"],[0.7777777777777778,\"#fb9f3a\"],[0.8888888888888888,\"#fdca26\"],[1.0,\"#f0f921\"]],\"type\":\"heatmapgl\"}],\"histogram\":[{\"marker\":{\"pattern\":{\"fillmode\":\"overlay\",\"size\":10,\"solidity\":0.2}},\"type\":\"histogram\"}],\"histogram2d\":[{\"colorbar\":{\"outlinewidth\":0,\"ticks\":\"\"},\"colorscale\":[[0.0,\"#0d0887\"],[0.1111111111111111,\"#46039f\"],[0.2222222222222222,\"#7201a8\"],[0.3333333333333333,\"#9c179e\"],[0.4444444444444444,\"#bd3786\"],[0.5555555555555556,\"#d8576b\"],[0.6666666666666666,\"#ed7953\"],[0.7777777777777778,\"#fb9f3a\"],[0.8888888888888888,\"#fdca26\"],[1.0,\"#f0f921\"]],\"type\":\"histogram2d\"}],\"histogram2dcontour\":[{\"colorbar\":{\"outlinewidth\":0,\"ticks\":\"\"},\"colorscale\":[[0.0,\"#0d0887\"],[0.1111111111111111,\"#46039f\"],[0.2222222222222222,\"#7201a8\"],[0.3333333333333333,\"#9c179e\"],[0.4444444444444444,\"#bd3786\"],[0.5555555555555556,\"#d8576b\"],[0.6666666666666666,\"#ed7953\"],[0.7777777777777778,\"#fb9f3a\"],[0.8888888888888888,\"#fdca26\"],[1.0,\"#f0f921\"]],\"type\":\"histogram2dcontour\"}],\"mesh3d\":[{\"colorbar\":{\"outlinewidth\":0,\"ticks\":\"\"},\"type\":\"mesh3d\"}],\"parcoords\":[{\"line\":{\"colorbar\":{\"outlinewidth\":0,\"ticks\":\"\"}},\"type\":\"parcoords\"}],\"pie\":[{\"automargin\":true,\"type\":\"pie\"}],\"scatter\":[{\"marker\":{\"line\":{\"color\":\"#283442\"}},\"type\":\"scatter\"}],\"scatter3d\":[{\"line\":{\"colorbar\":{\"outlinewidth\":0,\"ticks\":\"\"}},\"marker\":{\"colorbar\":{\"outlinewidth\":0,\"ticks\":\"\"}},\"type\":\"scatter3d\"}],\"scattercarpet\":[{\"marker\":{\"colorbar\":{\"outlinewidth\":0,\"ticks\":\"\"}},\"type\":\"scattercarpet\"}],\"scattergeo\":[{\"marker\":{\"colorbar\":{\"outlinewidth\":0,\"ticks\":\"\"}},\"type\":\"scattergeo\"}],\"scattergl\":[{\"marker\":{\"line\":{\"color\":\"#283442\"}},\"type\":\"scattergl\"}],\"scattermapbox\":[{\"marker\":{\"colorbar\":{\"outlinewidth\":0,\"ticks\":\"\"}},\"type\":\"scattermapbox\"}],\"scatterpolar\":[{\"marker\":{\"colorbar\":{\"outlinewidth\":0,\"ticks\":\"\"}},\"type\":\"scatterpolar\"}],\"scatterpolargl\":[{\"marker\":{\"colorbar\":{\"outlinewidth\":0,\"ticks\":\"\"}},\"type\":\"scatterpolargl\"}],\"scatterternary\":[{\"marker\":{\"colorbar\":{\"outlinewidth\":0,\"ticks\":\"\"}},\"type\":\"scatterternary\"}],\"surface\":[{\"colorbar\":{\"outlinewidth\":0,\"ticks\":\"\"},\"colorscale\":[[0.0,\"#0d0887\"],[0.1111111111111111,\"#46039f\"],[0.2222222222222222,\"#7201a8\"],[0.3333333333333333,\"#9c179e\"],[0.4444444444444444,\"#bd3786\"],[0.5555555555555556,\"#d8576b\"],[0.6666666666666666,\"#ed7953\"],[0.7777777777777778,\"#fb9f3a\"],[0.8888888888888888,\"#fdca26\"],[1.0,\"#f0f921\"]],\"type\":\"surface\"}],\"table\":[{\"cells\":{\"fill\":{\"color\":\"#506784\"},\"line\":{\"color\":\"rgb(17,17,17)\"}},\"header\":{\"fill\":{\"color\":\"#2a3f5f\"},\"line\":{\"color\":\"rgb(17,17,17)\"}},\"type\":\"table\"}]},\"layout\":{\"annotationdefaults\":{\"arrowcolor\":\"#f2f5fa\",\"arrowhead\":0,\"arrowwidth\":1},\"autotypenumbers\":\"strict\",\"coloraxis\":{\"colorbar\":{\"outlinewidth\":0,\"ticks\":\"\"}},\"colorscale\":{\"diverging\":[[0,\"#8e0152\"],[0.1,\"#c51b7d\"],[0.2,\"#de77ae\"],[0.3,\"#f1b6da\"],[0.4,\"#fde0ef\"],[0.5,\"#f7f7f7\"],[0.6,\"#e6f5d0\"],[0.7,\"#b8e186\"],[0.8,\"#7fbc41\"],[0.9,\"#4d9221\"],[1,\"#276419\"]],\"sequential\":[[0.0,\"#0d0887\"],[0.1111111111111111,\"#46039f\"],[0.2222222222222222,\"#7201a8\"],[0.3333333333333333,\"#9c179e\"],[0.4444444444444444,\"#bd3786\"],[0.5555555555555556,\"#d8576b\"],[0.6666666666666666,\"#ed7953\"],[0.7777777777777778,\"#fb9f3a\"],[0.8888888888888888,\"#fdca26\"],[1.0,\"#f0f921\"]],\"sequentialminus\":[[0.0,\"#0d0887\"],[0.1111111111111111,\"#46039f\"],[0.2222222222222222,\"#7201a8\"],[0.3333333333333333,\"#9c179e\"],[0.4444444444444444,\"#bd3786\"],[0.5555555555555556,\"#d8576b\"],[0.6666666666666666,\"#ed7953\"],[0.7777777777777778,\"#fb9f3a\"],[0.8888888888888888,\"#fdca26\"],[1.0,\"#f0f921\"]]},\"colorway\":[\"#636efa\",\"#EF553B\",\"#00cc96\",\"#ab63fa\",\"#FFA15A\",\"#19d3f3\",\"#FF6692\",\"#B6E880\",\"#FF97FF\",\"#FECB52\"],\"font\":{\"color\":\"#f2f5fa\"},\"geo\":{\"bgcolor\":\"rgb(17,17,17)\",\"lakecolor\":\"rgb(17,17,17)\",\"landcolor\":\"rgb(17,17,17)\",\"showlakes\":true,\"showland\":true,\"subunitcolor\":\"#506784\"},\"hoverlabel\":{\"align\":\"left\"},\"hovermode\":\"closest\",\"mapbox\":{\"style\":\"dark\"},\"paper_bgcolor\":\"rgb(17,17,17)\",\"plot_bgcolor\":\"rgb(17,17,17)\",\"polar\":{\"angularaxis\":{\"gridcolor\":\"#506784\",\"linecolor\":\"#506784\",\"ticks\":\"\"},\"bgcolor\":\"rgb(17,17,17)\",\"radialaxis\":{\"gridcolor\":\"#506784\",\"linecolor\":\"#506784\",\"ticks\":\"\"}},\"scene\":{\"xaxis\":{\"backgroundcolor\":\"rgb(17,17,17)\",\"gridcolor\":\"#506784\",\"gridwidth\":2,\"linecolor\":\"#506784\",\"showbackground\":true,\"ticks\":\"\",\"zerolinecolor\":\"#C8D4E3\"},\"yaxis\":{\"backgroundcolor\":\"rgb(17,17,17)\",\"gridcolor\":\"#506784\",\"gridwidth\":2,\"linecolor\":\"#506784\",\"showbackground\":true,\"ticks\":\"\",\"zerolinecolor\":\"#C8D4E3\"},\"zaxis\":{\"backgroundcolor\":\"rgb(17,17,17)\",\"gridcolor\":\"#506784\",\"gridwidth\":2,\"linecolor\":\"#506784\",\"showbackground\":true,\"ticks\":\"\",\"zerolinecolor\":\"#C8D4E3\"}},\"shapedefaults\":{\"line\":{\"color\":\"#f2f5fa\"}},\"sliderdefaults\":{\"bgcolor\":\"#C8D4E3\",\"bordercolor\":\"rgb(17,17,17)\",\"borderwidth\":1,\"tickwidth\":0},\"ternary\":{\"aaxis\":{\"gridcolor\":\"#506784\",\"linecolor\":\"#506784\",\"ticks\":\"\"},\"baxis\":{\"gridcolor\":\"#506784\",\"linecolor\":\"#506784\",\"ticks\":\"\"},\"bgcolor\":\"rgb(17,17,17)\",\"caxis\":{\"gridcolor\":\"#506784\",\"linecolor\":\"#506784\",\"ticks\":\"\"}},\"title\":{\"x\":0.05},\"updatemenudefaults\":{\"bgcolor\":\"#506784\",\"borderwidth\":0},\"xaxis\":{\"automargin\":true,\"gridcolor\":\"#283442\",\"linecolor\":\"#506784\",\"ticks\":\"\",\"title\":{\"standoff\":15},\"zerolinecolor\":\"#283442\",\"zerolinewidth\":2},\"yaxis\":{\"automargin\":true,\"gridcolor\":\"#283442\",\"linecolor\":\"#506784\",\"ticks\":\"\",\"title\":{\"standoff\":15},\"zerolinecolor\":\"#283442\",\"zerolinewidth\":2}}},\"xaxis\":{\"anchor\":\"y\",\"domain\":[0.0,1.0],\"title\":{\"text\":\"</b>Year</b>\",\"font\":{\"size\":30,\"family\":\"Verdana\",\"color\":\"white\"}},\"tickfont\":{\"family\":\"Calibri\",\"color\":\"white\",\"size\":25}},\"yaxis\":{\"anchor\":\"x\",\"domain\":[0.0,1.0],\"title\":{\"text\":\"<b>Palm Oil Fruit (mt)</b>\",\"font\":{\"size\":30,\"family\":\"Verdana\",\"color\":\"white\"}},\"tickfont\":{\"family\":\"Calibri\",\"color\":\"white\",\"size\":25}},\"legend\":{\"title\":{\"text\":\"variable\"},\"tracegroupgap\":0,\"font\":{\"size\":20}},\"margin\":{\"t\":60},\"hovermode\":\"x\",\"title\":{\"font\":{\"size\":40},\"text\":\"<b>Vegetable Oil Production<b>\"},\"width\":1800,\"height\":1400},                        {\"responsive\": true}                    ).then(function(){\n                            \nvar gd = document.getElementById('f6a7b4ef-0244-426e-aa93-46e04a3bc04f');\nvar x = new MutationObserver(function (mutations, observer) {{\n        var display = window.getComputedStyle(gd).display;\n        if (!display || display === 'none') {{\n            console.log([gd, 'removed!']);\n            Plotly.purge(gd);\n            observer.disconnect();\n        }}\n}});\n\n// Listen for the removal of the full notebook cells\nvar notebookContainer = gd.closest('#notebook-container');\nif (notebookContainer) {{\n    x.observe(notebookContainer, {childList: true});\n}}\n\n// Listen for the clearing of the current output cell\nvar outputEl = gd.closest('.output');\nif (outputEl) {{\n    x.observe(outputEl, {childList: true});\n}}\n\n                        })                };                });            </script>        </div>"
     },
     "metadata": {},
     "output_type": "display_data"
    }
   ],
   "source": [
    "veg_oil_prodn_fig = px.area(\n",
    "    veg_oil_yearly_production,\n",
    "    x='Year',\n",
    "    y=veg_oil_yearly_production.columns[1:]\n",
    ")\n",
    "veg_oil_prodn_fig.update_traces(textfont_size=16, hovertemplate=None)\n",
    "veg_oil_prodn_fig.update_layout(hovermode=\"x\")\n",
    "veg_oil_prodn_fig.update_layout(title_text=\"<b>Vegetable Oil Production<b>\",title_font_size=40, legend_font_size=20, width=1800, height=1400)  # Add figure title\n",
    "veg_oil_prodn_fig.update_xaxes(title_text=\"</b>Year</b>\", title_font=dict(size=30, family='Verdana', color='white'), tickfont=dict(family='Calibri', color='white', size=25))  # format x-axis\n",
    "veg_oil_prodn_fig.update_yaxes(title_text=\"<b>Palm Oil Fruit (mt)</b>\", title_font=dict(size=30, family='Verdana', color='white'), tickfont=dict(family='Calibri', color='white', size=25))  # Format y-axes\n",
    "veg_oil_prodn_fig.show()"
   ],
   "metadata": {
    "collapsed": false,
    "pycharm": {
     "name": "#%%\n"
    }
   }
  },
  {
   "cell_type": "markdown",
   "source": [
    "demand has continued to grow for eddibeloils across the board. Palm oil is not the single larges source of edible oils, followed by soy and rapeseed (canola). The historical long run trends suggest no massive changes to supply or demand.\n",
    "\n",
    "THere have however been a number of \"shocks\" that have affected the oil market.\n",
    "- pandemic\n",
    "- weather\n",
    "- war in ukraine\n",
    "\n"
   ],
   "metadata": {
    "collapsed": false,
    "pycharm": {
     "name": "#%% md\n"
    }
   }
  },
  {
   "cell_type": "markdown",
   "source": [
    "Who uses palm oil and what is it used for?\n",
    "\n",
    "Why has the market for palm oil – and vegetable oils more broadly – increased so rapidly? What is it used for?\n",
    "\n",
    "Palm oil is a versatile product which is used in a range of products across the world:\n",
    "- Foods: over two-thirds (68%) is used in foods ranging from margarine to chocolate, pizzas, breads and cooking oils;\n",
    "- Industrial applications: 27% is used in industrial applications and consumer products such as soaps, detergents, cosmetics and cleaning agents;\n",
    "- Bioenergy: 5% is used as biofuels for transport, electricity or heat.\n",
    "\n",
    "While food products dominate globally, this breakdown varies from country-to-country. Some countries use much more palm oil for biofuels than others. In Germany, for example, bioenergy is the largest use, accounting for 41% (more than food at 40%). A push towards increased biofuel consumption in the transport sector has been driving this, despite it being worse for the environment than normal diesel.\n",
    "\n",
    "In the next section we will look at what countries produce palm oil, but here we see a map of palm oil imports. Although production is focused in only a few countries across the tropical belt, we see that palm oil is an important product across the world.\n"
   ],
   "metadata": {
    "collapsed": false,
    "pycharm": {
     "name": "#%% md\n"
    }
   }
  },
  {
   "cell_type": "code",
   "execution_count": 44,
   "outputs": [
    {
     "data": {
      "text/plain": "           Entity  Code  Year  Oil yield (t/ha)\n0     Coconut Oil   NaN  2018          0.257735\n1  Cottonseed Oil   NaN  2018          0.141688\n2   Groundnut Oil   NaN  2018          0.183447\n3       Olive Oil   NaN  2018          0.339773\n4        Palm Oil   NaN  2018          2.835088",
      "text/html": "<div>\n<style scoped>\n    .dataframe tbody tr th:only-of-type {\n        vertical-align: middle;\n    }\n\n    .dataframe tbody tr th {\n        vertical-align: top;\n    }\n\n    .dataframe thead th {\n        text-align: right;\n    }\n</style>\n<table border=\"1\" class=\"dataframe\">\n  <thead>\n    <tr style=\"text-align: right;\">\n      <th></th>\n      <th>Entity</th>\n      <th>Code</th>\n      <th>Year</th>\n      <th>Oil yield (t/ha)</th>\n    </tr>\n  </thead>\n  <tbody>\n    <tr>\n      <th>0</th>\n      <td>Coconut Oil</td>\n      <td>NaN</td>\n      <td>2018</td>\n      <td>0.257735</td>\n    </tr>\n    <tr>\n      <th>1</th>\n      <td>Cottonseed Oil</td>\n      <td>NaN</td>\n      <td>2018</td>\n      <td>0.141688</td>\n    </tr>\n    <tr>\n      <th>2</th>\n      <td>Groundnut Oil</td>\n      <td>NaN</td>\n      <td>2018</td>\n      <td>0.183447</td>\n    </tr>\n    <tr>\n      <th>3</th>\n      <td>Olive Oil</td>\n      <td>NaN</td>\n      <td>2018</td>\n      <td>0.339773</td>\n    </tr>\n    <tr>\n      <th>4</th>\n      <td>Palm Oil</td>\n      <td>NaN</td>\n      <td>2018</td>\n      <td>2.835088</td>\n    </tr>\n  </tbody>\n</table>\n</div>"
     },
     "execution_count": 44,
     "metadata": {},
     "output_type": "execute_result"
    }
   ],
   "source": [
    "oil_yield = pd.read_csv(os.path.join(DATA, \"oil-yield-by-crop.csv\"))\n",
    "oil_yield.head()"
   ],
   "metadata": {
    "collapsed": false,
    "pycharm": {
     "name": "#%%\n"
    }
   }
  },
  {
   "cell_type": "markdown",
   "source": [
    "# Where is palm oil grown?\n",
    "\n",
    "Oil palm is a tropical plant species. It thrives on high rainfall, adequate sunlight and humid conditions – this means the best growing areas are along a narrow band around the equator.4 Palm oil is therefore grown in many countries across Africa, South America, and Southeast Asia. In the map we see the distribution of production across the world.\n",
    "\n",
    "Small amounts of palm oil are grown in many countries, but the global market is dominated by only two: Indonesia and Malaysia. In 2018, the world produced 72 million tonnes of oil palm. Indonesia accounted for 57% of this (41 million tonnes), and Malaysia produced 27% (20 million tonnes).\n",
    "\n",
    "84% of global palm oil production comes from Indonesia and Malaysia.\n",
    "\n",
    "In the chart we see the production of the palm oil plant across a number of countries. Other producers include Thailand, Colombia, Nigeria, Guatemala, and Ecuador. As we’d expect, all of these countries lie along the zone of ‘optimal conditions’ around the equator."
   ],
   "metadata": {
    "collapsed": false,
    "pycharm": {
     "name": "#%% md\n"
    }
   }
  },
  {
   "cell_type": "markdown",
   "source": [
    "# 4) Price"
   ],
   "metadata": {
    "collapsed": false,
    "pycharm": {
     "name": "#%% md\n"
    }
   }
  },
  {
   "cell_type": "code",
   "execution_count": 45,
   "outputs": [
    {
     "data": {
      "text/plain": "  DAILY PRICES  Palm olein RBD Mal FOB US$\n0     02/01/20                       790.0\n1     03/01/20                       790.0\n2     04/01/20                         NaN\n3     05/01/20                         NaN\n4     06/01/20                       785.0",
      "text/html": "<div>\n<style scoped>\n    .dataframe tbody tr th:only-of-type {\n        vertical-align: middle;\n    }\n\n    .dataframe tbody tr th {\n        vertical-align: top;\n    }\n\n    .dataframe thead th {\n        text-align: right;\n    }\n</style>\n<table border=\"1\" class=\"dataframe\">\n  <thead>\n    <tr style=\"text-align: right;\">\n      <th></th>\n      <th>DAILY PRICES</th>\n      <th>Palm olein RBD Mal FOB US$</th>\n    </tr>\n  </thead>\n  <tbody>\n    <tr>\n      <th>0</th>\n      <td>02/01/20</td>\n      <td>790.0</td>\n    </tr>\n    <tr>\n      <th>1</th>\n      <td>03/01/20</td>\n      <td>790.0</td>\n    </tr>\n    <tr>\n      <th>2</th>\n      <td>04/01/20</td>\n      <td>NaN</td>\n    </tr>\n    <tr>\n      <th>3</th>\n      <td>05/01/20</td>\n      <td>NaN</td>\n    </tr>\n    <tr>\n      <th>4</th>\n      <td>06/01/20</td>\n      <td>785.0</td>\n    </tr>\n  </tbody>\n</table>\n</div>"
     },
     "execution_count": 45,
     "metadata": {},
     "output_type": "execute_result"
    }
   ],
   "source": [
    "price = pd.read_csv(os.path.join(DATA, 'palm oil prices 021020 - 290422.csv'))\n",
    "price.head()"
   ],
   "metadata": {
    "collapsed": false,
    "pycharm": {
     "name": "#%%\n"
    }
   }
  },
  {
   "cell_type": "markdown",
   "source": [
    "I need to find more data. Ideally daily price data back to 1961"
   ],
   "metadata": {
    "collapsed": false,
    "pycharm": {
     "name": "#%% md\n"
    }
   }
  },
  {
   "cell_type": "code",
   "execution_count": 46,
   "outputs": [
    {
     "data": {
      "application/vnd.plotly.v1+json": {
       "data": [
        {
         "hovertemplate": "DAILY PRICES=%{x}<br>Palm olein RBD Mal FOB US$=%{y}<extra></extra>",
         "legendgroup": "",
         "line": {
          "color": "#636efa",
          "dash": "solid"
         },
         "marker": {
          "symbol": "circle"
         },
         "mode": "lines",
         "name": "",
         "orientation": "v",
         "showlegend": false,
         "x": [
          "02/01/20",
          "03/01/20",
          "04/01/20",
          "05/01/20",
          "06/01/20",
          "07/01/20",
          "08/01/20",
          "09/01/20",
          "10/01/20",
          "11/01/20",
          "12/01/20",
          "13/01/20",
          "14/01/20",
          "15/01/20",
          "16/01/20",
          "17/01/20",
          "18/01/20",
          "19/01/20",
          "20/01/20",
          "21/01/20",
          "22/01/20",
          "23/01/20",
          "24/01/20",
          "25/01/20",
          "26/01/20",
          "27/01/20",
          "28/01/20",
          "29/01/20",
          "30/01/20",
          "31/01/20",
          "01/02/20",
          "02/02/20",
          "03/02/20",
          "04/02/20",
          "05/02/20",
          "06/02/20",
          "07/02/20",
          "08/02/20",
          "09/02/20",
          "10/02/20",
          "11/02/20",
          "12/02/20",
          "13/02/20",
          "14/02/20",
          "15/02/20",
          "16/02/20",
          "17/02/20",
          "18/02/20",
          "19/02/20",
          "20/02/20",
          "21/02/20",
          "22/02/20",
          "23/02/20",
          "24/02/20",
          "25/02/20",
          "26/02/20",
          "27/02/20",
          "28/02/20",
          "29/02/20",
          "01/03/20",
          "02/03/20",
          "03/03/20",
          "04/03/20",
          "05/03/20",
          "06/03/20",
          "07/03/20",
          "08/03/20",
          "09/03/20",
          "10/03/20",
          "11/03/20",
          "12/03/20",
          "13/03/20",
          "14/03/20",
          "15/03/20",
          "16/03/20",
          "17/03/20",
          "18/03/20",
          "19/03/20",
          "20/03/20",
          "21/03/20",
          "22/03/20",
          "23/03/20",
          "24/03/20",
          "25/03/20",
          "26/03/20",
          "27/03/20",
          "28/03/20",
          "29/03/20",
          "30/03/20",
          "31/03/20",
          "01/04/20",
          "02/04/20",
          "03/04/20",
          "04/04/20",
          "05/04/20",
          "06/04/20",
          "07/04/20",
          "08/04/20",
          "09/04/20",
          "10/04/20",
          "11/04/20",
          "12/04/20",
          "13/04/20",
          "14/04/20",
          "15/04/20",
          "16/04/20",
          "17/04/20",
          "18/04/20",
          "19/04/20",
          "20/04/20",
          "21/04/20",
          "22/04/20",
          "23/04/20",
          "24/04/20",
          "25/04/20",
          "26/04/20",
          "27/04/20",
          "28/04/20",
          "29/04/20",
          "30/04/20",
          "01/05/20",
          "02/05/20",
          "03/05/20",
          "04/05/20",
          "05/05/20",
          "06/05/20",
          "07/05/20",
          "08/05/20",
          "09/05/20",
          "10/05/20",
          "11/05/20",
          "12/05/20",
          "13/05/20",
          "14/05/20",
          "15/05/20",
          "16/05/20",
          "17/05/20",
          "18/05/20",
          "19/05/20",
          "20/05/20",
          "21/05/20",
          "22/05/20",
          "23/05/20",
          "24/05/20",
          "25/05/20",
          "26/05/20",
          "27/05/20",
          "28/05/20",
          "29/05/20",
          "30/05/20",
          "31/05/20",
          "01/06/20",
          "02/06/20",
          "03/06/20",
          "04/06/20",
          "05/06/20",
          "06/06/20",
          "07/06/20",
          "08/06/20",
          "09/06/20",
          "10/06/20",
          "11/06/20",
          "12/06/20",
          "13/06/20",
          "14/06/20",
          "15/06/20",
          "16/06/20",
          "17/06/20",
          "18/06/20",
          "19/06/20",
          "20/06/20",
          "21/06/20",
          "22/06/20",
          "23/06/20",
          "24/06/20",
          "25/06/20",
          "26/06/20",
          "27/06/20",
          "28/06/20",
          "29/06/20",
          "30/06/20",
          "01/07/20",
          "02/07/20",
          "03/07/20",
          "04/07/20",
          "05/07/20",
          "06/07/20",
          "07/07/20",
          "08/07/20",
          "09/07/20",
          "10/07/20",
          "11/07/20",
          "12/07/20",
          "13/07/20",
          "14/07/20",
          "15/07/20",
          "16/07/20",
          "17/07/20",
          "18/07/20",
          "19/07/20",
          "20/07/20",
          "21/07/20",
          "22/07/20",
          "23/07/20",
          "24/07/20",
          "25/07/20",
          "26/07/20",
          "27/07/20",
          "28/07/20",
          "29/07/20",
          "30/07/20",
          "31/07/20",
          "01/08/20",
          "02/08/20",
          "03/08/20",
          "04/08/20",
          "05/08/20",
          "06/08/20",
          "07/08/20",
          "08/08/20",
          "09/08/20",
          "10/08/20",
          "11/08/20",
          "12/08/20",
          "13/08/20",
          "14/08/20",
          "15/08/20",
          "16/08/20",
          "17/08/20",
          "18/08/20",
          "19/08/20",
          "20/08/20",
          "21/08/20",
          "22/08/20",
          "23/08/20",
          "24/08/20",
          "25/08/20",
          "26/08/20",
          "27/08/20",
          "28/08/20",
          "29/08/20",
          "30/08/20",
          "31/08/20",
          "01/09/20",
          "02/09/20",
          "03/09/20",
          "04/09/20",
          "05/09/20",
          "06/09/20",
          "07/09/20",
          "08/09/20",
          "09/09/20",
          "10/09/20",
          "11/09/20",
          "12/09/20",
          "13/09/20",
          "14/09/20",
          "15/09/20",
          "16/09/20",
          "17/09/20",
          "18/09/20",
          "19/09/20",
          "20/09/20",
          "21/09/20",
          "22/09/20",
          "23/09/20",
          "24/09/20",
          "25/09/20",
          "26/09/20",
          "27/09/20",
          "28/09/20",
          "29/09/20",
          "30/09/20",
          "01/10/20",
          "02/10/20",
          "03/10/20",
          "04/10/20",
          "05/10/20",
          "06/10/20",
          "07/10/20",
          "08/10/20",
          "09/10/20",
          "10/10/20",
          "11/10/20",
          "12/10/20",
          "13/10/20",
          "14/10/20",
          "15/10/20",
          "16/10/20",
          "17/10/20",
          "18/10/20",
          "19/10/20",
          "20/10/20",
          "21/10/20",
          "22/10/20",
          "23/10/20",
          "24/10/20",
          "25/10/20",
          "26/10/20",
          "27/10/20",
          "28/10/20",
          "29/10/20",
          "30/10/20",
          "31/10/20",
          "01/11/20",
          "02/11/20",
          "03/11/20",
          "04/11/20",
          "05/11/20",
          "06/11/20",
          "07/11/20",
          "08/11/20",
          "09/11/20",
          "10/11/20",
          "11/11/20",
          "12/11/20",
          "13/11/20",
          "14/11/20",
          "15/11/20",
          "16/11/20",
          "17/11/20",
          "18/11/20",
          "19/11/20",
          "20/11/20",
          "21/11/20",
          "22/11/20",
          "23/11/20",
          "24/11/20",
          "25/11/20",
          "26/11/20",
          "27/11/20",
          "28/11/20",
          "29/11/20",
          "30/11/20",
          "01/12/20",
          "02/12/20",
          "03/12/20",
          "04/12/20",
          "05/12/20",
          "06/12/20",
          "07/12/20",
          "08/12/20",
          "09/12/20",
          "10/12/20",
          "11/12/20",
          "12/12/20",
          "13/12/20",
          "14/12/20",
          "15/12/20",
          "16/12/20",
          "17/12/20",
          "18/12/20",
          "19/12/20",
          "20/12/20",
          "21/12/20",
          "22/12/20",
          "23/12/20",
          "24/12/20",
          "25/12/20",
          "26/12/20",
          "27/12/20",
          "28/12/20",
          "29/12/20",
          "30/12/20",
          "31/12/20",
          "01/01/21",
          "02/01/21",
          "03/01/21",
          "04/01/21",
          "05/01/21",
          "06/01/21",
          "07/01/21",
          "08/01/21",
          "09/01/21",
          "10/01/21",
          "11/01/21",
          "12/01/21",
          "13/01/21",
          "14/01/21",
          "15/01/21",
          "16/01/21",
          "17/01/21",
          "18/01/21",
          "19/01/21",
          "20/01/21",
          "21/01/21",
          "22/01/21",
          "23/01/21",
          "24/01/21",
          "25/01/21",
          "26/01/21",
          "27/01/21",
          "28/01/21",
          "29/01/21",
          "30/01/21",
          "31/01/21",
          "01/02/21",
          "02/02/21",
          "03/02/21",
          "04/02/21",
          "05/02/21",
          "06/02/21",
          "07/02/21",
          "08/02/21",
          "09/02/21",
          "10/02/21",
          "11/02/21",
          "12/02/21",
          "13/02/21",
          "14/02/21",
          "15/02/21",
          "16/02/21",
          "17/02/21",
          "18/02/21",
          "19/02/21",
          "20/02/21",
          "21/02/21",
          "22/02/21",
          "23/02/21",
          "24/02/21",
          "25/02/21",
          "26/02/21",
          "27/02/21",
          "28/02/21",
          "01/03/21",
          "02/03/21",
          "03/03/21",
          "04/03/21",
          "05/03/21",
          "06/03/21",
          "07/03/21",
          "08/03/21",
          "09/03/21",
          "10/03/21",
          "11/03/21",
          "12/03/21",
          "13/03/21",
          "14/03/21",
          "15/03/21",
          "16/03/21",
          "17/03/21",
          "18/03/21",
          "19/03/21",
          "20/03/21",
          "21/03/21",
          "22/03/21",
          "23/03/21",
          "24/03/21",
          "25/03/21",
          "26/03/21",
          "27/03/21",
          "28/03/21",
          "29/03/21",
          "30/03/21",
          "31/03/21",
          "01/04/21",
          "02/04/21",
          "03/04/21",
          "04/04/21",
          "05/04/21",
          "06/04/21",
          "07/04/21",
          "08/04/21",
          "09/04/21",
          "10/04/21",
          "11/04/21",
          "12/04/21",
          "13/04/21",
          "14/04/21",
          "15/04/21",
          "16/04/21",
          "17/04/21",
          "18/04/21",
          "19/04/21",
          "20/04/21",
          "21/04/21",
          "22/04/21",
          "23/04/21",
          "24/04/21",
          "25/04/21",
          "26/04/21",
          "27/04/21",
          "28/04/21",
          "29/04/21",
          "30/04/21",
          "01/05/21",
          "02/05/21",
          "03/05/21",
          "04/05/21",
          "05/05/21",
          "06/05/21",
          "07/05/21",
          "08/05/21",
          "09/05/21",
          "10/05/21",
          "11/05/21",
          "12/05/21",
          "13/05/21",
          "14/05/21",
          "15/05/21",
          "16/05/21",
          "17/05/21",
          "18/05/21",
          "19/05/21",
          "20/05/21",
          "21/05/21",
          "22/05/21",
          "23/05/21",
          "24/05/21",
          "25/05/21",
          "26/05/21",
          "27/05/21",
          "28/05/21",
          "29/05/21",
          "30/05/21",
          "31/05/21",
          "01/06/21",
          "02/06/21",
          "03/06/21",
          "04/06/21",
          "05/06/21",
          "06/06/21",
          "07/06/21",
          "08/06/21",
          "09/06/21",
          "10/06/21",
          "11/06/21",
          "12/06/21",
          "13/06/21",
          "14/06/21",
          "15/06/21",
          "16/06/21",
          "17/06/21",
          "18/06/21",
          "19/06/21",
          "20/06/21",
          "21/06/21",
          "22/06/21",
          "23/06/21",
          "24/06/21",
          "25/06/21",
          "26/06/21",
          "27/06/21",
          "28/06/21",
          "29/06/21",
          "30/06/21",
          "01/07/21",
          "02/07/21",
          "03/07/21",
          "04/07/21",
          "05/07/21",
          "06/07/21",
          "07/07/21",
          "08/07/21",
          "09/07/21",
          null,
          "11/07/21",
          "12/07/21",
          "13/07/21",
          "14/07/21",
          "15/07/21",
          "16/07/21",
          "17/07/21",
          "18/07/21",
          "19/07/21",
          "20/07/21",
          "21/07/21",
          "22/07/21",
          "23/07/21",
          "24/07/21",
          "25/07/21",
          "26/07/21",
          "27/07/21",
          "28/07/21",
          "29/07/21",
          "30/07/21",
          "31/07/21",
          "01/08/21",
          "02/08/21",
          "03/08/21",
          "04/08/21",
          "05/08/21",
          "06/08/21",
          "07/08/21",
          "08/08/21",
          "09/08/21",
          "10/08/21",
          "11/08/21",
          "12/08/21",
          "13/08/21",
          "14/08/21",
          "15/08/21",
          "16/08/21",
          "17/08/21",
          "18/08/21",
          "19/08/21",
          "20/08/21",
          "21/08/21",
          "22/08/21",
          "23/08/21",
          "24/08/21",
          "25/08/21",
          "26/08/21",
          "27/08/21",
          "28/08/21",
          "29/08/21",
          "30/08/21",
          "31/08/21",
          "01/09/21",
          "02/09/21",
          "03/09/21",
          "04/09/21",
          "05/09/21",
          "06/09/21",
          "07/09/21",
          "08/09/21",
          "09/09/21",
          "10/09/21",
          "11/09/21",
          "12/09/21",
          "13/09/21",
          "14/09/21",
          "15/09/21",
          "16/09/21",
          "17/09/21",
          "18/09/21",
          "19/09/21",
          "20/09/21",
          "21/09/21",
          "22/09/21",
          "23/09/21",
          "24/09/21",
          "25/09/21",
          "26/09/21",
          "27/09/21",
          "28/09/21",
          "29/09/21",
          "30/09/21",
          "01/10/21",
          "02/10/21",
          "03/10/21",
          "04/10/21",
          "05/10/21",
          "06/10/21",
          "07/10/21",
          "08/10/21",
          "09/10/21",
          "10/10/21",
          "11/10/21",
          "12/10/21",
          "13/10/21",
          "14/10/21",
          "15/10/21",
          "16/10/21",
          "17/10/21",
          "18/10/21",
          "19/10/21",
          "20/10/21",
          "21/10/21",
          "22/10/21",
          "23/10/21",
          "24/10/21",
          "25/10/21",
          "26/10/21",
          "27/10/21",
          "28/10/21",
          "29/10/21",
          "30/10/21",
          "31/10/21",
          "01/11/21",
          "02/11/21",
          "03/11/21",
          "04/11/21",
          "05/11/21",
          "06/11/21",
          "07/11/21",
          "08/11/21",
          "09/11/21",
          "10/11/21",
          "11/11/21",
          "12/11/21",
          "13/11/21",
          "14/11/21",
          "15/11/21",
          "16/11/21",
          "17/11/21",
          "18/11/21",
          "19/11/21",
          "20/11/21",
          "21/11/21",
          "22/11/21",
          "23/11/21",
          "24/11/21",
          "25/11/21",
          "26/11/21",
          "27/11/21",
          "28/11/21",
          "29/11/21",
          "30/11/21",
          "01/12/21",
          "02/12/21",
          "03/12/21",
          "04/12/21",
          "05/12/21",
          "06/12/21",
          "07/12/21",
          "08/12/21",
          "09/12/21",
          "10/12/21",
          "11/12/21",
          "12/12/21",
          "13/12/21",
          "14/12/21",
          "15/12/21",
          "16/12/21",
          "17/12/21",
          "18/12/21",
          "19/12/21",
          "20/12/21",
          "21/12/21",
          "22/12/21",
          "23/12/21",
          "24/12/21",
          "25/12/21",
          "26/12/21",
          "27/12/21",
          "28/12/21",
          "29/12/21",
          "30/12/21",
          "31/12/21",
          "01/01/22",
          "02/01/22",
          "03/01/22",
          "04/01/22",
          "05/01/22",
          "06/01/22",
          "07/01/22",
          "08/01/22",
          "09/01/22",
          "10/01/22",
          "11/01/22",
          "12/01/22",
          "13/01/22",
          "14/01/22",
          "15/01/22",
          "16/01/22",
          "17/01/22",
          "18/01/22",
          "19/01/22",
          "20/01/22",
          "21/01/22",
          "22/01/22",
          "23/01/22",
          "24/01/22",
          "25/01/22",
          "26/01/22",
          "27/01/22",
          "28/01/22",
          "29/01/22",
          "30/01/22",
          "31/01/22",
          "01/02/22",
          "02/02/22",
          "03/02/22",
          "04/02/22",
          "05/02/22",
          "06/02/22",
          "07/02/22",
          "08/02/22",
          "09/02/22",
          "10/02/22",
          "11/02/22",
          "12/02/22",
          "13/02/22",
          "14/02/22",
          "15/02/22",
          "16/02/22",
          "17/02/22",
          "18/02/22",
          "19/02/22",
          "20/02/22",
          "21/02/22",
          "22/02/22",
          "23/02/22",
          "24/02/22",
          "25/02/22",
          "26/02/22",
          "27/02/22",
          "28/02/22",
          "01/03/22",
          "02/03/22",
          "03/03/22",
          "04/03/22",
          "05/03/22",
          "06/03/22",
          "07/03/22",
          "08/03/22",
          "09/03/22",
          "10/03/22",
          "11/03/22",
          "12/03/22",
          "13/03/22",
          "14/03/22",
          "15/03/22",
          "16/03/22",
          "17/03/22",
          "18/03/22",
          "19/03/22",
          "20/03/22",
          "21/03/22",
          "22/03/22",
          "23/03/22",
          "24/03/22",
          "25/03/22",
          "26/03/22",
          "27/03/22",
          "28/03/22",
          "29/03/22",
          "30/03/22",
          "31/03/22",
          "01/04/22",
          "02/04/22",
          "03/04/22",
          "04/04/22",
          "05/04/22",
          "06/04/22",
          "07/04/22",
          "08/04/22",
          "09/04/22",
          "10/04/22",
          "11/04/22",
          "12/04/22",
          "13/04/22",
          "14/04/22",
          "15/04/22",
          "16/04/22",
          "17/04/22",
          "18/04/22",
          "19/04/22",
          "20/04/22",
          "21/04/22",
          "22/04/22",
          "23/04/22",
          "24/04/22",
          "25/04/22",
          "26/04/22",
          "27/04/22",
          "28/04/22",
          "29/04/22"
         ],
         "xaxis": "x",
         "y": [
          790.0,
          790.0,
          null,
          null,
          785.0,
          788.0,
          785.0,
          795.0,
          798.0,
          null,
          null,
          793.0,
          780.0,
          770.0,
          765.0,
          758.0,
          null,
          null,
          765.0,
          755.0,
          780.0,
          768.0,
          763.0,
          null,
          null,
          null,
          690.0,
          715.0,
          700.0,
          685.0,
          null,
          null,
          685.0,
          693.0,
          720.0,
          735.0,
          728.0,
          null,
          null,
          715.0,
          700.0,
          698.0,
          683.0,
          683.0,
          null,
          null,
          688.0,
          683.0,
          670.0,
          667.0,
          670.0,
          null,
          null,
          650.0,
          640.0,
          625.0,
          635.0,
          605.0,
          null,
          null,
          605.0,
          610.0,
          628.0,
          638.0,
          617.0,
          null,
          null,
          580.0,
          590.0,
          580.0,
          573.0,
          582.0,
          null,
          null,
          565.0,
          567.0,
          570.0,
          555.0,
          570.0,
          null,
          null,
          565.0,
          583.0,
          595.0,
          595.0,
          605.0,
          null,
          null,
          610.0,
          610.0,
          600.0,
          595.0,
          585.0,
          null,
          null,
          580.0,
          590.0,
          594.0,
          598.0,
          null,
          null,
          null,
          578.0,
          570.0,
          575.0,
          572.0,
          563.0,
          null,
          null,
          560.0,
          535.0,
          535.0,
          540.0,
          535.0,
          null,
          null,
          525.0,
          520.0,
          528.0,
          538.0,
          null,
          null,
          null,
          525.0,
          523.0,
          515.0,
          515.0,
          528.0,
          null,
          null,
          null,
          515.0,
          518.0,
          515.0,
          523.0,
          null,
          null,
          532.0,
          538.0,
          530.0,
          null,
          537.0,
          null,
          null,
          null,
          null,
          560.0,
          558.0,
          565.0,
          null,
          null,
          580.0,
          587.0,
          600.0,
          595.0,
          590.0,
          null,
          null,
          null,
          595.0,
          593.0,
          600.0,
          605.0,
          null,
          null,
          600.0,
          610.0,
          608.0,
          610.0,
          640.0,
          null,
          null,
          635.0,
          630.0,
          628.0,
          620.0,
          615.0,
          null,
          null,
          605.0,
          600.0,
          600.0,
          603.0,
          600.0,
          null,
          null,
          608.0,
          605.0,
          610.0,
          610.0,
          615.0,
          null,
          null,
          620.0,
          630.0,
          635.0,
          638.0,
          663.0,
          null,
          null,
          673.0,
          678.0,
          686.0,
          690.0,
          715.0,
          null,
          null,
          700.0,
          675.0,
          688.0,
          690.0,
          null,
          null,
          705.0,
          717.0,
          713.0,
          723.0,
          725.0,
          null,
          null,
          715.0,
          710.0,
          715.0,
          723.0,
          710.0,
          null,
          null,
          null,
          712.0,
          715.0,
          718.0,
          718.0,
          712.0,
          null,
          null,
          703.0,
          700.0,
          701.0,
          706.0,
          723.0,
          null,
          null,
          null,
          733.0,
          733.0,
          753.0,
          740.0,
          null,
          null,
          735.0,
          745.0,
          735.0,
          735.0,
          733.0,
          null,
          null,
          748.0,
          760.0,
          null,
          780.0,
          798.0,
          null,
          null,
          788.0,
          770.0,
          745.0,
          728.0,
          740.0,
          null,
          null,
          743.0,
          740.0,
          730.0,
          745.0,
          730.0,
          null,
          null,
          733.0,
          745.0,
          740.0,
          740.0,
          758.0,
          null,
          null,
          778.0,
          780.0,
          775.0,
          763.0,
          763.0,
          null,
          null,
          745.0,
          758.0,
          770.0,
          778.0,
          775.0,
          null,
          null,
          805.0,
          810.0,
          828.0,
          825.0,
          823.0,
          null,
          null,
          820.0,
          842.0,
          845.0,
          870.0,
          835.0,
          null,
          null,
          843.0,
          855.0,
          868.0,
          880.0,
          880.0,
          null,
          null,
          880.0,
          875.0,
          893.0,
          890.0,
          885.0,
          null,
          null,
          880.0,
          872.0,
          875.0,
          873.0,
          888.0,
          null,
          null,
          875.0,
          885.0,
          878.0,
          885.0,
          935.0,
          null,
          null,
          920.0,
          920.0,
          915.0,
          900.0,
          900.0,
          null,
          null,
          910.0,
          898.0,
          912.0,
          915.0,
          928.0,
          null,
          null,
          920.0,
          930.0,
          965.0,
          990.0,
          null,
          null,
          null,
          983.0,
          975.0,
          993.0,
          995.0,
          null,
          null,
          null,
          1030.0,
          1030.0,
          1040.0,
          1020.0,
          1025.0,
          null,
          null,
          1020.0,
          1000.0,
          1010.0,
          985.0,
          975.0,
          null,
          null,
          968.0,
          945.0,
          935.0,
          945.0,
          950.0,
          null,
          null,
          938.0,
          930.0,
          970.0,
          973.0,
          1020.0,
          null,
          null,
          null,
          1005.0,
          970.0,
          1000.0,
          1005.0,
          null,
          null,
          1010.0,
          1025.0,
          1035.0,
          1015.0,
          null,
          null,
          null,
          1050.0,
          1050.0,
          1055.0,
          1020.0,
          1020.0,
          null,
          null,
          1025.0,
          1030.0,
          1025.0,
          1043.0,
          1030.0,
          null,
          null,
          1020.0,
          1005.0,
          1005.0,
          1010.0,
          1020.0,
          null,
          null,
          1035.0,
          1030.0,
          1045.0,
          1060.0,
          1080.0,
          null,
          null,
          1085.0,
          1065.0,
          1070.0,
          1055.0,
          1040.0,
          null,
          null,
          1060.0,
          1080.0,
          1070.0,
          1055.0,
          1025.0,
          null,
          null,
          1035.0,
          1005.0,
          1015.0,
          1040.0,
          null,
          null,
          null,
          null,
          1055.0,
          1073.0,
          1020.0,
          1035.0,
          null,
          null,
          1015.0,
          1030.0,
          1030.0,
          1040.0,
          1060.0,
          null,
          null,
          1060.0,
          1080.0,
          1110.0,
          1130.0,
          1125.0,
          null,
          null,
          1120.0,
          1165.0,
          1140.0,
          1140.0,
          1125.0,
          null,
          null,
          1160.0,
          1110.0,
          1118.0,
          1138.0,
          1180.0,
          null,
          null,
          1170.0,
          1160.0,
          1200.0,
          null,
          null,
          null,
          null,
          null,
          1185.0,
          1215.0,
          1190.0,
          1160.0,
          1140.0,
          null,
          null,
          1110.0,
          1135.0,
          null,
          1110.0,
          1120.0,
          null,
          null,
          1090.0,
          1055.0,
          1090.0,
          1110.0,
          1100.0,
          null,
          null,
          1078.0,
          1050.0,
          1050.0,
          1005.0,
          null,
          null,
          935.0,
          957.0,
          950.0,
          940.0,
          960.0,
          null,
          null,
          955.0,
          950.0,
          975.0,
          975.0,
          995.0,
          null,
          null,
          990.0,
          995.0,
          1005.0,
          1015.0,
          1005.0,
          null,
          null,
          1025.0,
          1020.0,
          1000.0,
          995.0,
          1020.0,
          null,
          null,
          1015.0,
          1030.0,
          1050.0,
          1080.0,
          1090.0,
          null,
          null,
          1095.0,
          null,
          1095.0,
          1100.0,
          1130.0,
          null,
          null,
          1145.0,
          1160.0,
          1145.0,
          1165.0,
          1160.0,
          null,
          null,
          1113.0,
          1120.0,
          1145.0,
          1140.0,
          1145.0,
          null,
          null,
          1120.0,
          1110.0,
          1160.0,
          1155.0,
          1155.0,
          null,
          null,
          1170.0,
          1160.0,
          1150.0,
          1145.0,
          1155.0,
          null,
          null,
          1165.0,
          1155.0,
          1170.0,
          1175.0,
          1165.0,
          null,
          null,
          1170.0,
          null,
          1165.0,
          1150.0,
          1148.0,
          null,
          null,
          1140.0,
          1170.0,
          1180.0,
          1170.0,
          1150.0,
          null,
          null,
          1165.0,
          1168.0,
          1190.0,
          1190.0,
          1175.0,
          null,
          null,
          1150.0,
          1155.0,
          1175.0,
          1200.0,
          1195.0,
          null,
          null,
          1120.86,
          1125.5,
          1125.5,
          1154.42,
          1136.74,
          null,
          null,
          1159.08,
          1190.53,
          1210.9,
          1203.78,
          1233.13,
          null,
          null,
          1236.21,
          1223.38,
          1264.18,
          1242.18,
          1240.98,
          null,
          null,
          1240.56,
          null,
          1273.58,
          1252.77,
          1250.12,
          null,
          null,
          1263.16,
          1283.42,
          1275.73,
          1279.52,
          1304.52,
          null,
          null,
          1299.77,
          1301.68,
          1311.18,
          null,
          1278.61,
          null,
          null,
          1282.55,
          1267.62,
          1299.63,
          1285.99,
          1301.31,
          null,
          null,
          1295.21,
          1259.0,
          1274.23,
          1302.4,
          1299.63,
          null,
          null,
          1289.21,
          1259.59,
          1269.21,
          1261.38,
          1242.98,
          null,
          null,
          1246.2,
          1238.15,
          1223.4,
          1238.42,
          1239.37,
          null,
          null,
          1238.42,
          1239.37,
          1243.93,
          1235.62,
          1244.39,
          null,
          null,
          1239.91,
          1217.39,
          1134.75,
          1159.4,
          1156.57,
          null,
          null,
          1125.52,
          1153.14,
          1170.29,
          1181.43,
          1220.74,
          null,
          null,
          1215.63,
          1247.94,
          1233.14,
          1233.09,
          1238.36,
          null,
          null,
          1260.4,
          1268.04,
          1296.53,
          1278.66,
          1266.33,
          null,
          null,
          1277.62,
          1264.46,
          1256.57,
          1276.19,
          1268.4,
          null,
          null,
          1271.66,
          null,
          1276.65,
          1289.24,
          1314.7,
          null,
          null,
          1298.16,
          1301.67,
          1313.61,
          1337.22,
          1384.96,
          1337.22,
          1384.96,
          1382.15,
          null,
          null,
          1365.84,
          1382.7,
          null,
          null,
          1350.44,
          1330.05,
          1377.6,
          1372.06,
          1384.41,
          null,
          null,
          1416.3,
          1401.0,
          1392.97,
          1424.96,
          1435.26,
          null,
          null,
          1477.93,
          1518.1,
          1554.41,
          1686.98,
          null,
          null,
          1599.52,
          1774.68,
          1946.82,
          1864.14,
          1779.53,
          null,
          null,
          1622.79,
          1729.71,
          1674.36,
          1820.16,
          1834.03,
          1755.87,
          null,
          null,
          1661.36,
          1730.45,
          1643.79,
          1561.91,
          1458.62,
          null,
          null,
          1486.33,
          1534.69,
          1587.12,
          1541.3,
          1571.31,
          null,
          null,
          1573.75,
          1555.0,
          1519.13,
          1511.22,
          null,
          null,
          null,
          1509.66,
          1565.12,
          1581.02,
          1566.98,
          1582.61,
          null,
          null,
          1599.1,
          1627.69,
          1615.18,
          1611.72,
          1610.2,
          null,
          null,
          1611.94,
          null,
          1583.61,
          1586.58,
          1588.67,
          null,
          null,
          1612.02,
          1636.76,
          1779.13,
          1718.28,
          1764.79
         ],
         "yaxis": "y",
         "type": "scatter"
        }
       ],
       "layout": {
        "template": {
         "data": {
          "bar": [
           {
            "error_x": {
             "color": "#f2f5fa"
            },
            "error_y": {
             "color": "#f2f5fa"
            },
            "marker": {
             "line": {
              "color": "rgb(17,17,17)",
              "width": 0.5
             },
             "pattern": {
              "fillmode": "overlay",
              "size": 10,
              "solidity": 0.2
             }
            },
            "type": "bar"
           }
          ],
          "barpolar": [
           {
            "marker": {
             "line": {
              "color": "rgb(17,17,17)",
              "width": 0.5
             },
             "pattern": {
              "fillmode": "overlay",
              "size": 10,
              "solidity": 0.2
             }
            },
            "type": "barpolar"
           }
          ],
          "carpet": [
           {
            "aaxis": {
             "endlinecolor": "#A2B1C6",
             "gridcolor": "#506784",
             "linecolor": "#506784",
             "minorgridcolor": "#506784",
             "startlinecolor": "#A2B1C6"
            },
            "baxis": {
             "endlinecolor": "#A2B1C6",
             "gridcolor": "#506784",
             "linecolor": "#506784",
             "minorgridcolor": "#506784",
             "startlinecolor": "#A2B1C6"
            },
            "type": "carpet"
           }
          ],
          "choropleth": [
           {
            "colorbar": {
             "outlinewidth": 0,
             "ticks": ""
            },
            "type": "choropleth"
           }
          ],
          "contour": [
           {
            "colorbar": {
             "outlinewidth": 0,
             "ticks": ""
            },
            "colorscale": [
             [
              0.0,
              "#0d0887"
             ],
             [
              0.1111111111111111,
              "#46039f"
             ],
             [
              0.2222222222222222,
              "#7201a8"
             ],
             [
              0.3333333333333333,
              "#9c179e"
             ],
             [
              0.4444444444444444,
              "#bd3786"
             ],
             [
              0.5555555555555556,
              "#d8576b"
             ],
             [
              0.6666666666666666,
              "#ed7953"
             ],
             [
              0.7777777777777778,
              "#fb9f3a"
             ],
             [
              0.8888888888888888,
              "#fdca26"
             ],
             [
              1.0,
              "#f0f921"
             ]
            ],
            "type": "contour"
           }
          ],
          "contourcarpet": [
           {
            "colorbar": {
             "outlinewidth": 0,
             "ticks": ""
            },
            "type": "contourcarpet"
           }
          ],
          "heatmap": [
           {
            "colorbar": {
             "outlinewidth": 0,
             "ticks": ""
            },
            "colorscale": [
             [
              0.0,
              "#0d0887"
             ],
             [
              0.1111111111111111,
              "#46039f"
             ],
             [
              0.2222222222222222,
              "#7201a8"
             ],
             [
              0.3333333333333333,
              "#9c179e"
             ],
             [
              0.4444444444444444,
              "#bd3786"
             ],
             [
              0.5555555555555556,
              "#d8576b"
             ],
             [
              0.6666666666666666,
              "#ed7953"
             ],
             [
              0.7777777777777778,
              "#fb9f3a"
             ],
             [
              0.8888888888888888,
              "#fdca26"
             ],
             [
              1.0,
              "#f0f921"
             ]
            ],
            "type": "heatmap"
           }
          ],
          "heatmapgl": [
           {
            "colorbar": {
             "outlinewidth": 0,
             "ticks": ""
            },
            "colorscale": [
             [
              0.0,
              "#0d0887"
             ],
             [
              0.1111111111111111,
              "#46039f"
             ],
             [
              0.2222222222222222,
              "#7201a8"
             ],
             [
              0.3333333333333333,
              "#9c179e"
             ],
             [
              0.4444444444444444,
              "#bd3786"
             ],
             [
              0.5555555555555556,
              "#d8576b"
             ],
             [
              0.6666666666666666,
              "#ed7953"
             ],
             [
              0.7777777777777778,
              "#fb9f3a"
             ],
             [
              0.8888888888888888,
              "#fdca26"
             ],
             [
              1.0,
              "#f0f921"
             ]
            ],
            "type": "heatmapgl"
           }
          ],
          "histogram": [
           {
            "marker": {
             "pattern": {
              "fillmode": "overlay",
              "size": 10,
              "solidity": 0.2
             }
            },
            "type": "histogram"
           }
          ],
          "histogram2d": [
           {
            "colorbar": {
             "outlinewidth": 0,
             "ticks": ""
            },
            "colorscale": [
             [
              0.0,
              "#0d0887"
             ],
             [
              0.1111111111111111,
              "#46039f"
             ],
             [
              0.2222222222222222,
              "#7201a8"
             ],
             [
              0.3333333333333333,
              "#9c179e"
             ],
             [
              0.4444444444444444,
              "#bd3786"
             ],
             [
              0.5555555555555556,
              "#d8576b"
             ],
             [
              0.6666666666666666,
              "#ed7953"
             ],
             [
              0.7777777777777778,
              "#fb9f3a"
             ],
             [
              0.8888888888888888,
              "#fdca26"
             ],
             [
              1.0,
              "#f0f921"
             ]
            ],
            "type": "histogram2d"
           }
          ],
          "histogram2dcontour": [
           {
            "colorbar": {
             "outlinewidth": 0,
             "ticks": ""
            },
            "colorscale": [
             [
              0.0,
              "#0d0887"
             ],
             [
              0.1111111111111111,
              "#46039f"
             ],
             [
              0.2222222222222222,
              "#7201a8"
             ],
             [
              0.3333333333333333,
              "#9c179e"
             ],
             [
              0.4444444444444444,
              "#bd3786"
             ],
             [
              0.5555555555555556,
              "#d8576b"
             ],
             [
              0.6666666666666666,
              "#ed7953"
             ],
             [
              0.7777777777777778,
              "#fb9f3a"
             ],
             [
              0.8888888888888888,
              "#fdca26"
             ],
             [
              1.0,
              "#f0f921"
             ]
            ],
            "type": "histogram2dcontour"
           }
          ],
          "mesh3d": [
           {
            "colorbar": {
             "outlinewidth": 0,
             "ticks": ""
            },
            "type": "mesh3d"
           }
          ],
          "parcoords": [
           {
            "line": {
             "colorbar": {
              "outlinewidth": 0,
              "ticks": ""
             }
            },
            "type": "parcoords"
           }
          ],
          "pie": [
           {
            "automargin": true,
            "type": "pie"
           }
          ],
          "scatter": [
           {
            "marker": {
             "line": {
              "color": "#283442"
             }
            },
            "type": "scatter"
           }
          ],
          "scatter3d": [
           {
            "line": {
             "colorbar": {
              "outlinewidth": 0,
              "ticks": ""
             }
            },
            "marker": {
             "colorbar": {
              "outlinewidth": 0,
              "ticks": ""
             }
            },
            "type": "scatter3d"
           }
          ],
          "scattercarpet": [
           {
            "marker": {
             "colorbar": {
              "outlinewidth": 0,
              "ticks": ""
             }
            },
            "type": "scattercarpet"
           }
          ],
          "scattergeo": [
           {
            "marker": {
             "colorbar": {
              "outlinewidth": 0,
              "ticks": ""
             }
            },
            "type": "scattergeo"
           }
          ],
          "scattergl": [
           {
            "marker": {
             "line": {
              "color": "#283442"
             }
            },
            "type": "scattergl"
           }
          ],
          "scattermapbox": [
           {
            "marker": {
             "colorbar": {
              "outlinewidth": 0,
              "ticks": ""
             }
            },
            "type": "scattermapbox"
           }
          ],
          "scatterpolar": [
           {
            "marker": {
             "colorbar": {
              "outlinewidth": 0,
              "ticks": ""
             }
            },
            "type": "scatterpolar"
           }
          ],
          "scatterpolargl": [
           {
            "marker": {
             "colorbar": {
              "outlinewidth": 0,
              "ticks": ""
             }
            },
            "type": "scatterpolargl"
           }
          ],
          "scatterternary": [
           {
            "marker": {
             "colorbar": {
              "outlinewidth": 0,
              "ticks": ""
             }
            },
            "type": "scatterternary"
           }
          ],
          "surface": [
           {
            "colorbar": {
             "outlinewidth": 0,
             "ticks": ""
            },
            "colorscale": [
             [
              0.0,
              "#0d0887"
             ],
             [
              0.1111111111111111,
              "#46039f"
             ],
             [
              0.2222222222222222,
              "#7201a8"
             ],
             [
              0.3333333333333333,
              "#9c179e"
             ],
             [
              0.4444444444444444,
              "#bd3786"
             ],
             [
              0.5555555555555556,
              "#d8576b"
             ],
             [
              0.6666666666666666,
              "#ed7953"
             ],
             [
              0.7777777777777778,
              "#fb9f3a"
             ],
             [
              0.8888888888888888,
              "#fdca26"
             ],
             [
              1.0,
              "#f0f921"
             ]
            ],
            "type": "surface"
           }
          ],
          "table": [
           {
            "cells": {
             "fill": {
              "color": "#506784"
             },
             "line": {
              "color": "rgb(17,17,17)"
             }
            },
            "header": {
             "fill": {
              "color": "#2a3f5f"
             },
             "line": {
              "color": "rgb(17,17,17)"
             }
            },
            "type": "table"
           }
          ]
         },
         "layout": {
          "annotationdefaults": {
           "arrowcolor": "#f2f5fa",
           "arrowhead": 0,
           "arrowwidth": 1
          },
          "autotypenumbers": "strict",
          "coloraxis": {
           "colorbar": {
            "outlinewidth": 0,
            "ticks": ""
           }
          },
          "colorscale": {
           "diverging": [
            [
             0,
             "#8e0152"
            ],
            [
             0.1,
             "#c51b7d"
            ],
            [
             0.2,
             "#de77ae"
            ],
            [
             0.3,
             "#f1b6da"
            ],
            [
             0.4,
             "#fde0ef"
            ],
            [
             0.5,
             "#f7f7f7"
            ],
            [
             0.6,
             "#e6f5d0"
            ],
            [
             0.7,
             "#b8e186"
            ],
            [
             0.8,
             "#7fbc41"
            ],
            [
             0.9,
             "#4d9221"
            ],
            [
             1,
             "#276419"
            ]
           ],
           "sequential": [
            [
             0.0,
             "#0d0887"
            ],
            [
             0.1111111111111111,
             "#46039f"
            ],
            [
             0.2222222222222222,
             "#7201a8"
            ],
            [
             0.3333333333333333,
             "#9c179e"
            ],
            [
             0.4444444444444444,
             "#bd3786"
            ],
            [
             0.5555555555555556,
             "#d8576b"
            ],
            [
             0.6666666666666666,
             "#ed7953"
            ],
            [
             0.7777777777777778,
             "#fb9f3a"
            ],
            [
             0.8888888888888888,
             "#fdca26"
            ],
            [
             1.0,
             "#f0f921"
            ]
           ],
           "sequentialminus": [
            [
             0.0,
             "#0d0887"
            ],
            [
             0.1111111111111111,
             "#46039f"
            ],
            [
             0.2222222222222222,
             "#7201a8"
            ],
            [
             0.3333333333333333,
             "#9c179e"
            ],
            [
             0.4444444444444444,
             "#bd3786"
            ],
            [
             0.5555555555555556,
             "#d8576b"
            ],
            [
             0.6666666666666666,
             "#ed7953"
            ],
            [
             0.7777777777777778,
             "#fb9f3a"
            ],
            [
             0.8888888888888888,
             "#fdca26"
            ],
            [
             1.0,
             "#f0f921"
            ]
           ]
          },
          "colorway": [
           "#636efa",
           "#EF553B",
           "#00cc96",
           "#ab63fa",
           "#FFA15A",
           "#19d3f3",
           "#FF6692",
           "#B6E880",
           "#FF97FF",
           "#FECB52"
          ],
          "font": {
           "color": "#f2f5fa"
          },
          "geo": {
           "bgcolor": "rgb(17,17,17)",
           "lakecolor": "rgb(17,17,17)",
           "landcolor": "rgb(17,17,17)",
           "showlakes": true,
           "showland": true,
           "subunitcolor": "#506784"
          },
          "hoverlabel": {
           "align": "left"
          },
          "hovermode": "closest",
          "mapbox": {
           "style": "dark"
          },
          "paper_bgcolor": "rgb(17,17,17)",
          "plot_bgcolor": "rgb(17,17,17)",
          "polar": {
           "angularaxis": {
            "gridcolor": "#506784",
            "linecolor": "#506784",
            "ticks": ""
           },
           "bgcolor": "rgb(17,17,17)",
           "radialaxis": {
            "gridcolor": "#506784",
            "linecolor": "#506784",
            "ticks": ""
           }
          },
          "scene": {
           "xaxis": {
            "backgroundcolor": "rgb(17,17,17)",
            "gridcolor": "#506784",
            "gridwidth": 2,
            "linecolor": "#506784",
            "showbackground": true,
            "ticks": "",
            "zerolinecolor": "#C8D4E3"
           },
           "yaxis": {
            "backgroundcolor": "rgb(17,17,17)",
            "gridcolor": "#506784",
            "gridwidth": 2,
            "linecolor": "#506784",
            "showbackground": true,
            "ticks": "",
            "zerolinecolor": "#C8D4E3"
           },
           "zaxis": {
            "backgroundcolor": "rgb(17,17,17)",
            "gridcolor": "#506784",
            "gridwidth": 2,
            "linecolor": "#506784",
            "showbackground": true,
            "ticks": "",
            "zerolinecolor": "#C8D4E3"
           }
          },
          "shapedefaults": {
           "line": {
            "color": "#f2f5fa"
           }
          },
          "sliderdefaults": {
           "bgcolor": "#C8D4E3",
           "bordercolor": "rgb(17,17,17)",
           "borderwidth": 1,
           "tickwidth": 0
          },
          "ternary": {
           "aaxis": {
            "gridcolor": "#506784",
            "linecolor": "#506784",
            "ticks": ""
           },
           "baxis": {
            "gridcolor": "#506784",
            "linecolor": "#506784",
            "ticks": ""
           },
           "bgcolor": "rgb(17,17,17)",
           "caxis": {
            "gridcolor": "#506784",
            "linecolor": "#506784",
            "ticks": ""
           }
          },
          "title": {
           "x": 0.05
          },
          "updatemenudefaults": {
           "bgcolor": "#506784",
           "borderwidth": 0
          },
          "xaxis": {
           "automargin": true,
           "gridcolor": "#283442",
           "linecolor": "#506784",
           "ticks": "",
           "title": {
            "standoff": 15
           },
           "zerolinecolor": "#283442",
           "zerolinewidth": 2
          },
          "yaxis": {
           "automargin": true,
           "gridcolor": "#283442",
           "linecolor": "#506784",
           "ticks": "",
           "title": {
            "standoff": 15
           },
           "zerolinecolor": "#283442",
           "zerolinewidth": 2
          }
         }
        },
        "xaxis": {
         "anchor": "y",
         "domain": [
          0.0,
          1.0
         ],
         "title": {
          "text": "DAILY PRICES"
         }
        },
        "yaxis": {
         "anchor": "x",
         "domain": [
          0.0,
          1.0
         ],
         "title": {
          "text": "Palm olein RBD Mal FOB US$"
         }
        },
        "legend": {
         "tracegroupgap": 0
        },
        "title": {
         "text": "Palm Olein Price"
        }
       },
       "config": {
        "plotlyServerURL": "https://plot.ly"
       }
      },
      "text/html": "<div>                            <div id=\"d7920fcd-46ec-4e8c-869c-4a70e68ee3fd\" class=\"plotly-graph-div\" style=\"height:525px; width:100%;\"></div>            <script type=\"text/javascript\">                require([\"plotly\"], function(Plotly) {                    window.PLOTLYENV=window.PLOTLYENV || {};                                    if (document.getElementById(\"d7920fcd-46ec-4e8c-869c-4a70e68ee3fd\")) {                    Plotly.newPlot(                        \"d7920fcd-46ec-4e8c-869c-4a70e68ee3fd\",                        [{\"hovertemplate\":\"DAILY PRICES=%{x}<br>Palm olein RBD Mal FOB US$=%{y}<extra></extra>\",\"legendgroup\":\"\",\"line\":{\"color\":\"#636efa\",\"dash\":\"solid\"},\"marker\":{\"symbol\":\"circle\"},\"mode\":\"lines\",\"name\":\"\",\"orientation\":\"v\",\"showlegend\":false,\"x\":[\"02/01/20\",\"03/01/20\",\"04/01/20\",\"05/01/20\",\"06/01/20\",\"07/01/20\",\"08/01/20\",\"09/01/20\",\"10/01/20\",\"11/01/20\",\"12/01/20\",\"13/01/20\",\"14/01/20\",\"15/01/20\",\"16/01/20\",\"17/01/20\",\"18/01/20\",\"19/01/20\",\"20/01/20\",\"21/01/20\",\"22/01/20\",\"23/01/20\",\"24/01/20\",\"25/01/20\",\"26/01/20\",\"27/01/20\",\"28/01/20\",\"29/01/20\",\"30/01/20\",\"31/01/20\",\"01/02/20\",\"02/02/20\",\"03/02/20\",\"04/02/20\",\"05/02/20\",\"06/02/20\",\"07/02/20\",\"08/02/20\",\"09/02/20\",\"10/02/20\",\"11/02/20\",\"12/02/20\",\"13/02/20\",\"14/02/20\",\"15/02/20\",\"16/02/20\",\"17/02/20\",\"18/02/20\",\"19/02/20\",\"20/02/20\",\"21/02/20\",\"22/02/20\",\"23/02/20\",\"24/02/20\",\"25/02/20\",\"26/02/20\",\"27/02/20\",\"28/02/20\",\"29/02/20\",\"01/03/20\",\"02/03/20\",\"03/03/20\",\"04/03/20\",\"05/03/20\",\"06/03/20\",\"07/03/20\",\"08/03/20\",\"09/03/20\",\"10/03/20\",\"11/03/20\",\"12/03/20\",\"13/03/20\",\"14/03/20\",\"15/03/20\",\"16/03/20\",\"17/03/20\",\"18/03/20\",\"19/03/20\",\"20/03/20\",\"21/03/20\",\"22/03/20\",\"23/03/20\",\"24/03/20\",\"25/03/20\",\"26/03/20\",\"27/03/20\",\"28/03/20\",\"29/03/20\",\"30/03/20\",\"31/03/20\",\"01/04/20\",\"02/04/20\",\"03/04/20\",\"04/04/20\",\"05/04/20\",\"06/04/20\",\"07/04/20\",\"08/04/20\",\"09/04/20\",\"10/04/20\",\"11/04/20\",\"12/04/20\",\"13/04/20\",\"14/04/20\",\"15/04/20\",\"16/04/20\",\"17/04/20\",\"18/04/20\",\"19/04/20\",\"20/04/20\",\"21/04/20\",\"22/04/20\",\"23/04/20\",\"24/04/20\",\"25/04/20\",\"26/04/20\",\"27/04/20\",\"28/04/20\",\"29/04/20\",\"30/04/20\",\"01/05/20\",\"02/05/20\",\"03/05/20\",\"04/05/20\",\"05/05/20\",\"06/05/20\",\"07/05/20\",\"08/05/20\",\"09/05/20\",\"10/05/20\",\"11/05/20\",\"12/05/20\",\"13/05/20\",\"14/05/20\",\"15/05/20\",\"16/05/20\",\"17/05/20\",\"18/05/20\",\"19/05/20\",\"20/05/20\",\"21/05/20\",\"22/05/20\",\"23/05/20\",\"24/05/20\",\"25/05/20\",\"26/05/20\",\"27/05/20\",\"28/05/20\",\"29/05/20\",\"30/05/20\",\"31/05/20\",\"01/06/20\",\"02/06/20\",\"03/06/20\",\"04/06/20\",\"05/06/20\",\"06/06/20\",\"07/06/20\",\"08/06/20\",\"09/06/20\",\"10/06/20\",\"11/06/20\",\"12/06/20\",\"13/06/20\",\"14/06/20\",\"15/06/20\",\"16/06/20\",\"17/06/20\",\"18/06/20\",\"19/06/20\",\"20/06/20\",\"21/06/20\",\"22/06/20\",\"23/06/20\",\"24/06/20\",\"25/06/20\",\"26/06/20\",\"27/06/20\",\"28/06/20\",\"29/06/20\",\"30/06/20\",\"01/07/20\",\"02/07/20\",\"03/07/20\",\"04/07/20\",\"05/07/20\",\"06/07/20\",\"07/07/20\",\"08/07/20\",\"09/07/20\",\"10/07/20\",\"11/07/20\",\"12/07/20\",\"13/07/20\",\"14/07/20\",\"15/07/20\",\"16/07/20\",\"17/07/20\",\"18/07/20\",\"19/07/20\",\"20/07/20\",\"21/07/20\",\"22/07/20\",\"23/07/20\",\"24/07/20\",\"25/07/20\",\"26/07/20\",\"27/07/20\",\"28/07/20\",\"29/07/20\",\"30/07/20\",\"31/07/20\",\"01/08/20\",\"02/08/20\",\"03/08/20\",\"04/08/20\",\"05/08/20\",\"06/08/20\",\"07/08/20\",\"08/08/20\",\"09/08/20\",\"10/08/20\",\"11/08/20\",\"12/08/20\",\"13/08/20\",\"14/08/20\",\"15/08/20\",\"16/08/20\",\"17/08/20\",\"18/08/20\",\"19/08/20\",\"20/08/20\",\"21/08/20\",\"22/08/20\",\"23/08/20\",\"24/08/20\",\"25/08/20\",\"26/08/20\",\"27/08/20\",\"28/08/20\",\"29/08/20\",\"30/08/20\",\"31/08/20\",\"01/09/20\",\"02/09/20\",\"03/09/20\",\"04/09/20\",\"05/09/20\",\"06/09/20\",\"07/09/20\",\"08/09/20\",\"09/09/20\",\"10/09/20\",\"11/09/20\",\"12/09/20\",\"13/09/20\",\"14/09/20\",\"15/09/20\",\"16/09/20\",\"17/09/20\",\"18/09/20\",\"19/09/20\",\"20/09/20\",\"21/09/20\",\"22/09/20\",\"23/09/20\",\"24/09/20\",\"25/09/20\",\"26/09/20\",\"27/09/20\",\"28/09/20\",\"29/09/20\",\"30/09/20\",\"01/10/20\",\"02/10/20\",\"03/10/20\",\"04/10/20\",\"05/10/20\",\"06/10/20\",\"07/10/20\",\"08/10/20\",\"09/10/20\",\"10/10/20\",\"11/10/20\",\"12/10/20\",\"13/10/20\",\"14/10/20\",\"15/10/20\",\"16/10/20\",\"17/10/20\",\"18/10/20\",\"19/10/20\",\"20/10/20\",\"21/10/20\",\"22/10/20\",\"23/10/20\",\"24/10/20\",\"25/10/20\",\"26/10/20\",\"27/10/20\",\"28/10/20\",\"29/10/20\",\"30/10/20\",\"31/10/20\",\"01/11/20\",\"02/11/20\",\"03/11/20\",\"04/11/20\",\"05/11/20\",\"06/11/20\",\"07/11/20\",\"08/11/20\",\"09/11/20\",\"10/11/20\",\"11/11/20\",\"12/11/20\",\"13/11/20\",\"14/11/20\",\"15/11/20\",\"16/11/20\",\"17/11/20\",\"18/11/20\",\"19/11/20\",\"20/11/20\",\"21/11/20\",\"22/11/20\",\"23/11/20\",\"24/11/20\",\"25/11/20\",\"26/11/20\",\"27/11/20\",\"28/11/20\",\"29/11/20\",\"30/11/20\",\"01/12/20\",\"02/12/20\",\"03/12/20\",\"04/12/20\",\"05/12/20\",\"06/12/20\",\"07/12/20\",\"08/12/20\",\"09/12/20\",\"10/12/20\",\"11/12/20\",\"12/12/20\",\"13/12/20\",\"14/12/20\",\"15/12/20\",\"16/12/20\",\"17/12/20\",\"18/12/20\",\"19/12/20\",\"20/12/20\",\"21/12/20\",\"22/12/20\",\"23/12/20\",\"24/12/20\",\"25/12/20\",\"26/12/20\",\"27/12/20\",\"28/12/20\",\"29/12/20\",\"30/12/20\",\"31/12/20\",\"01/01/21\",\"02/01/21\",\"03/01/21\",\"04/01/21\",\"05/01/21\",\"06/01/21\",\"07/01/21\",\"08/01/21\",\"09/01/21\",\"10/01/21\",\"11/01/21\",\"12/01/21\",\"13/01/21\",\"14/01/21\",\"15/01/21\",\"16/01/21\",\"17/01/21\",\"18/01/21\",\"19/01/21\",\"20/01/21\",\"21/01/21\",\"22/01/21\",\"23/01/21\",\"24/01/21\",\"25/01/21\",\"26/01/21\",\"27/01/21\",\"28/01/21\",\"29/01/21\",\"30/01/21\",\"31/01/21\",\"01/02/21\",\"02/02/21\",\"03/02/21\",\"04/02/21\",\"05/02/21\",\"06/02/21\",\"07/02/21\",\"08/02/21\",\"09/02/21\",\"10/02/21\",\"11/02/21\",\"12/02/21\",\"13/02/21\",\"14/02/21\",\"15/02/21\",\"16/02/21\",\"17/02/21\",\"18/02/21\",\"19/02/21\",\"20/02/21\",\"21/02/21\",\"22/02/21\",\"23/02/21\",\"24/02/21\",\"25/02/21\",\"26/02/21\",\"27/02/21\",\"28/02/21\",\"01/03/21\",\"02/03/21\",\"03/03/21\",\"04/03/21\",\"05/03/21\",\"06/03/21\",\"07/03/21\",\"08/03/21\",\"09/03/21\",\"10/03/21\",\"11/03/21\",\"12/03/21\",\"13/03/21\",\"14/03/21\",\"15/03/21\",\"16/03/21\",\"17/03/21\",\"18/03/21\",\"19/03/21\",\"20/03/21\",\"21/03/21\",\"22/03/21\",\"23/03/21\",\"24/03/21\",\"25/03/21\",\"26/03/21\",\"27/03/21\",\"28/03/21\",\"29/03/21\",\"30/03/21\",\"31/03/21\",\"01/04/21\",\"02/04/21\",\"03/04/21\",\"04/04/21\",\"05/04/21\",\"06/04/21\",\"07/04/21\",\"08/04/21\",\"09/04/21\",\"10/04/21\",\"11/04/21\",\"12/04/21\",\"13/04/21\",\"14/04/21\",\"15/04/21\",\"16/04/21\",\"17/04/21\",\"18/04/21\",\"19/04/21\",\"20/04/21\",\"21/04/21\",\"22/04/21\",\"23/04/21\",\"24/04/21\",\"25/04/21\",\"26/04/21\",\"27/04/21\",\"28/04/21\",\"29/04/21\",\"30/04/21\",\"01/05/21\",\"02/05/21\",\"03/05/21\",\"04/05/21\",\"05/05/21\",\"06/05/21\",\"07/05/21\",\"08/05/21\",\"09/05/21\",\"10/05/21\",\"11/05/21\",\"12/05/21\",\"13/05/21\",\"14/05/21\",\"15/05/21\",\"16/05/21\",\"17/05/21\",\"18/05/21\",\"19/05/21\",\"20/05/21\",\"21/05/21\",\"22/05/21\",\"23/05/21\",\"24/05/21\",\"25/05/21\",\"26/05/21\",\"27/05/21\",\"28/05/21\",\"29/05/21\",\"30/05/21\",\"31/05/21\",\"01/06/21\",\"02/06/21\",\"03/06/21\",\"04/06/21\",\"05/06/21\",\"06/06/21\",\"07/06/21\",\"08/06/21\",\"09/06/21\",\"10/06/21\",\"11/06/21\",\"12/06/21\",\"13/06/21\",\"14/06/21\",\"15/06/21\",\"16/06/21\",\"17/06/21\",\"18/06/21\",\"19/06/21\",\"20/06/21\",\"21/06/21\",\"22/06/21\",\"23/06/21\",\"24/06/21\",\"25/06/21\",\"26/06/21\",\"27/06/21\",\"28/06/21\",\"29/06/21\",\"30/06/21\",\"01/07/21\",\"02/07/21\",\"03/07/21\",\"04/07/21\",\"05/07/21\",\"06/07/21\",\"07/07/21\",\"08/07/21\",\"09/07/21\",null,\"11/07/21\",\"12/07/21\",\"13/07/21\",\"14/07/21\",\"15/07/21\",\"16/07/21\",\"17/07/21\",\"18/07/21\",\"19/07/21\",\"20/07/21\",\"21/07/21\",\"22/07/21\",\"23/07/21\",\"24/07/21\",\"25/07/21\",\"26/07/21\",\"27/07/21\",\"28/07/21\",\"29/07/21\",\"30/07/21\",\"31/07/21\",\"01/08/21\",\"02/08/21\",\"03/08/21\",\"04/08/21\",\"05/08/21\",\"06/08/21\",\"07/08/21\",\"08/08/21\",\"09/08/21\",\"10/08/21\",\"11/08/21\",\"12/08/21\",\"13/08/21\",\"14/08/21\",\"15/08/21\",\"16/08/21\",\"17/08/21\",\"18/08/21\",\"19/08/21\",\"20/08/21\",\"21/08/21\",\"22/08/21\",\"23/08/21\",\"24/08/21\",\"25/08/21\",\"26/08/21\",\"27/08/21\",\"28/08/21\",\"29/08/21\",\"30/08/21\",\"31/08/21\",\"01/09/21\",\"02/09/21\",\"03/09/21\",\"04/09/21\",\"05/09/21\",\"06/09/21\",\"07/09/21\",\"08/09/21\",\"09/09/21\",\"10/09/21\",\"11/09/21\",\"12/09/21\",\"13/09/21\",\"14/09/21\",\"15/09/21\",\"16/09/21\",\"17/09/21\",\"18/09/21\",\"19/09/21\",\"20/09/21\",\"21/09/21\",\"22/09/21\",\"23/09/21\",\"24/09/21\",\"25/09/21\",\"26/09/21\",\"27/09/21\",\"28/09/21\",\"29/09/21\",\"30/09/21\",\"01/10/21\",\"02/10/21\",\"03/10/21\",\"04/10/21\",\"05/10/21\",\"06/10/21\",\"07/10/21\",\"08/10/21\",\"09/10/21\",\"10/10/21\",\"11/10/21\",\"12/10/21\",\"13/10/21\",\"14/10/21\",\"15/10/21\",\"16/10/21\",\"17/10/21\",\"18/10/21\",\"19/10/21\",\"20/10/21\",\"21/10/21\",\"22/10/21\",\"23/10/21\",\"24/10/21\",\"25/10/21\",\"26/10/21\",\"27/10/21\",\"28/10/21\",\"29/10/21\",\"30/10/21\",\"31/10/21\",\"01/11/21\",\"02/11/21\",\"03/11/21\",\"04/11/21\",\"05/11/21\",\"06/11/21\",\"07/11/21\",\"08/11/21\",\"09/11/21\",\"10/11/21\",\"11/11/21\",\"12/11/21\",\"13/11/21\",\"14/11/21\",\"15/11/21\",\"16/11/21\",\"17/11/21\",\"18/11/21\",\"19/11/21\",\"20/11/21\",\"21/11/21\",\"22/11/21\",\"23/11/21\",\"24/11/21\",\"25/11/21\",\"26/11/21\",\"27/11/21\",\"28/11/21\",\"29/11/21\",\"30/11/21\",\"01/12/21\",\"02/12/21\",\"03/12/21\",\"04/12/21\",\"05/12/21\",\"06/12/21\",\"07/12/21\",\"08/12/21\",\"09/12/21\",\"10/12/21\",\"11/12/21\",\"12/12/21\",\"13/12/21\",\"14/12/21\",\"15/12/21\",\"16/12/21\",\"17/12/21\",\"18/12/21\",\"19/12/21\",\"20/12/21\",\"21/12/21\",\"22/12/21\",\"23/12/21\",\"24/12/21\",\"25/12/21\",\"26/12/21\",\"27/12/21\",\"28/12/21\",\"29/12/21\",\"30/12/21\",\"31/12/21\",\"01/01/22\",\"02/01/22\",\"03/01/22\",\"04/01/22\",\"05/01/22\",\"06/01/22\",\"07/01/22\",\"08/01/22\",\"09/01/22\",\"10/01/22\",\"11/01/22\",\"12/01/22\",\"13/01/22\",\"14/01/22\",\"15/01/22\",\"16/01/22\",\"17/01/22\",\"18/01/22\",\"19/01/22\",\"20/01/22\",\"21/01/22\",\"22/01/22\",\"23/01/22\",\"24/01/22\",\"25/01/22\",\"26/01/22\",\"27/01/22\",\"28/01/22\",\"29/01/22\",\"30/01/22\",\"31/01/22\",\"01/02/22\",\"02/02/22\",\"03/02/22\",\"04/02/22\",\"05/02/22\",\"06/02/22\",\"07/02/22\",\"08/02/22\",\"09/02/22\",\"10/02/22\",\"11/02/22\",\"12/02/22\",\"13/02/22\",\"14/02/22\",\"15/02/22\",\"16/02/22\",\"17/02/22\",\"18/02/22\",\"19/02/22\",\"20/02/22\",\"21/02/22\",\"22/02/22\",\"23/02/22\",\"24/02/22\",\"25/02/22\",\"26/02/22\",\"27/02/22\",\"28/02/22\",\"01/03/22\",\"02/03/22\",\"03/03/22\",\"04/03/22\",\"05/03/22\",\"06/03/22\",\"07/03/22\",\"08/03/22\",\"09/03/22\",\"10/03/22\",\"11/03/22\",\"12/03/22\",\"13/03/22\",\"14/03/22\",\"15/03/22\",\"16/03/22\",\"17/03/22\",\"18/03/22\",\"19/03/22\",\"20/03/22\",\"21/03/22\",\"22/03/22\",\"23/03/22\",\"24/03/22\",\"25/03/22\",\"26/03/22\",\"27/03/22\",\"28/03/22\",\"29/03/22\",\"30/03/22\",\"31/03/22\",\"01/04/22\",\"02/04/22\",\"03/04/22\",\"04/04/22\",\"05/04/22\",\"06/04/22\",\"07/04/22\",\"08/04/22\",\"09/04/22\",\"10/04/22\",\"11/04/22\",\"12/04/22\",\"13/04/22\",\"14/04/22\",\"15/04/22\",\"16/04/22\",\"17/04/22\",\"18/04/22\",\"19/04/22\",\"20/04/22\",\"21/04/22\",\"22/04/22\",\"23/04/22\",\"24/04/22\",\"25/04/22\",\"26/04/22\",\"27/04/22\",\"28/04/22\",\"29/04/22\"],\"xaxis\":\"x\",\"y\":[790.0,790.0,null,null,785.0,788.0,785.0,795.0,798.0,null,null,793.0,780.0,770.0,765.0,758.0,null,null,765.0,755.0,780.0,768.0,763.0,null,null,null,690.0,715.0,700.0,685.0,null,null,685.0,693.0,720.0,735.0,728.0,null,null,715.0,700.0,698.0,683.0,683.0,null,null,688.0,683.0,670.0,667.0,670.0,null,null,650.0,640.0,625.0,635.0,605.0,null,null,605.0,610.0,628.0,638.0,617.0,null,null,580.0,590.0,580.0,573.0,582.0,null,null,565.0,567.0,570.0,555.0,570.0,null,null,565.0,583.0,595.0,595.0,605.0,null,null,610.0,610.0,600.0,595.0,585.0,null,null,580.0,590.0,594.0,598.0,null,null,null,578.0,570.0,575.0,572.0,563.0,null,null,560.0,535.0,535.0,540.0,535.0,null,null,525.0,520.0,528.0,538.0,null,null,null,525.0,523.0,515.0,515.0,528.0,null,null,null,515.0,518.0,515.0,523.0,null,null,532.0,538.0,530.0,null,537.0,null,null,null,null,560.0,558.0,565.0,null,null,580.0,587.0,600.0,595.0,590.0,null,null,null,595.0,593.0,600.0,605.0,null,null,600.0,610.0,608.0,610.0,640.0,null,null,635.0,630.0,628.0,620.0,615.0,null,null,605.0,600.0,600.0,603.0,600.0,null,null,608.0,605.0,610.0,610.0,615.0,null,null,620.0,630.0,635.0,638.0,663.0,null,null,673.0,678.0,686.0,690.0,715.0,null,null,700.0,675.0,688.0,690.0,null,null,705.0,717.0,713.0,723.0,725.0,null,null,715.0,710.0,715.0,723.0,710.0,null,null,null,712.0,715.0,718.0,718.0,712.0,null,null,703.0,700.0,701.0,706.0,723.0,null,null,null,733.0,733.0,753.0,740.0,null,null,735.0,745.0,735.0,735.0,733.0,null,null,748.0,760.0,null,780.0,798.0,null,null,788.0,770.0,745.0,728.0,740.0,null,null,743.0,740.0,730.0,745.0,730.0,null,null,733.0,745.0,740.0,740.0,758.0,null,null,778.0,780.0,775.0,763.0,763.0,null,null,745.0,758.0,770.0,778.0,775.0,null,null,805.0,810.0,828.0,825.0,823.0,null,null,820.0,842.0,845.0,870.0,835.0,null,null,843.0,855.0,868.0,880.0,880.0,null,null,880.0,875.0,893.0,890.0,885.0,null,null,880.0,872.0,875.0,873.0,888.0,null,null,875.0,885.0,878.0,885.0,935.0,null,null,920.0,920.0,915.0,900.0,900.0,null,null,910.0,898.0,912.0,915.0,928.0,null,null,920.0,930.0,965.0,990.0,null,null,null,983.0,975.0,993.0,995.0,null,null,null,1030.0,1030.0,1040.0,1020.0,1025.0,null,null,1020.0,1000.0,1010.0,985.0,975.0,null,null,968.0,945.0,935.0,945.0,950.0,null,null,938.0,930.0,970.0,973.0,1020.0,null,null,null,1005.0,970.0,1000.0,1005.0,null,null,1010.0,1025.0,1035.0,1015.0,null,null,null,1050.0,1050.0,1055.0,1020.0,1020.0,null,null,1025.0,1030.0,1025.0,1043.0,1030.0,null,null,1020.0,1005.0,1005.0,1010.0,1020.0,null,null,1035.0,1030.0,1045.0,1060.0,1080.0,null,null,1085.0,1065.0,1070.0,1055.0,1040.0,null,null,1060.0,1080.0,1070.0,1055.0,1025.0,null,null,1035.0,1005.0,1015.0,1040.0,null,null,null,null,1055.0,1073.0,1020.0,1035.0,null,null,1015.0,1030.0,1030.0,1040.0,1060.0,null,null,1060.0,1080.0,1110.0,1130.0,1125.0,null,null,1120.0,1165.0,1140.0,1140.0,1125.0,null,null,1160.0,1110.0,1118.0,1138.0,1180.0,null,null,1170.0,1160.0,1200.0,null,null,null,null,null,1185.0,1215.0,1190.0,1160.0,1140.0,null,null,1110.0,1135.0,null,1110.0,1120.0,null,null,1090.0,1055.0,1090.0,1110.0,1100.0,null,null,1078.0,1050.0,1050.0,1005.0,null,null,935.0,957.0,950.0,940.0,960.0,null,null,955.0,950.0,975.0,975.0,995.0,null,null,990.0,995.0,1005.0,1015.0,1005.0,null,null,1025.0,1020.0,1000.0,995.0,1020.0,null,null,1015.0,1030.0,1050.0,1080.0,1090.0,null,null,1095.0,null,1095.0,1100.0,1130.0,null,null,1145.0,1160.0,1145.0,1165.0,1160.0,null,null,1113.0,1120.0,1145.0,1140.0,1145.0,null,null,1120.0,1110.0,1160.0,1155.0,1155.0,null,null,1170.0,1160.0,1150.0,1145.0,1155.0,null,null,1165.0,1155.0,1170.0,1175.0,1165.0,null,null,1170.0,null,1165.0,1150.0,1148.0,null,null,1140.0,1170.0,1180.0,1170.0,1150.0,null,null,1165.0,1168.0,1190.0,1190.0,1175.0,null,null,1150.0,1155.0,1175.0,1200.0,1195.0,null,null,1120.86,1125.5,1125.5,1154.42,1136.74,null,null,1159.08,1190.53,1210.9,1203.78,1233.13,null,null,1236.21,1223.38,1264.18,1242.18,1240.98,null,null,1240.56,null,1273.58,1252.77,1250.12,null,null,1263.16,1283.42,1275.73,1279.52,1304.52,null,null,1299.77,1301.68,1311.18,null,1278.61,null,null,1282.55,1267.62,1299.63,1285.99,1301.31,null,null,1295.21,1259.0,1274.23,1302.4,1299.63,null,null,1289.21,1259.59,1269.21,1261.38,1242.98,null,null,1246.2,1238.15,1223.4,1238.42,1239.37,null,null,1238.42,1239.37,1243.93,1235.62,1244.39,null,null,1239.91,1217.39,1134.75,1159.4,1156.57,null,null,1125.52,1153.14,1170.29,1181.43,1220.74,null,null,1215.63,1247.94,1233.14,1233.09,1238.36,null,null,1260.4,1268.04,1296.53,1278.66,1266.33,null,null,1277.62,1264.46,1256.57,1276.19,1268.4,null,null,1271.66,null,1276.65,1289.24,1314.7,null,null,1298.16,1301.67,1313.61,1337.22,1384.96,1337.22,1384.96,1382.15,null,null,1365.84,1382.7,null,null,1350.44,1330.05,1377.6,1372.06,1384.41,null,null,1416.3,1401.0,1392.97,1424.96,1435.26,null,null,1477.93,1518.1,1554.41,1686.98,null,null,1599.52,1774.68,1946.82,1864.14,1779.53,null,null,1622.79,1729.71,1674.36,1820.16,1834.03,1755.87,null,null,1661.36,1730.45,1643.79,1561.91,1458.62,null,null,1486.33,1534.69,1587.12,1541.3,1571.31,null,null,1573.75,1555.0,1519.13,1511.22,null,null,null,1509.66,1565.12,1581.02,1566.98,1582.61,null,null,1599.1,1627.69,1615.18,1611.72,1610.2,null,null,1611.94,null,1583.61,1586.58,1588.67,null,null,1612.02,1636.76,1779.13,1718.28,1764.79],\"yaxis\":\"y\",\"type\":\"scatter\"}],                        {\"template\":{\"data\":{\"bar\":[{\"error_x\":{\"color\":\"#f2f5fa\"},\"error_y\":{\"color\":\"#f2f5fa\"},\"marker\":{\"line\":{\"color\":\"rgb(17,17,17)\",\"width\":0.5},\"pattern\":{\"fillmode\":\"overlay\",\"size\":10,\"solidity\":0.2}},\"type\":\"bar\"}],\"barpolar\":[{\"marker\":{\"line\":{\"color\":\"rgb(17,17,17)\",\"width\":0.5},\"pattern\":{\"fillmode\":\"overlay\",\"size\":10,\"solidity\":0.2}},\"type\":\"barpolar\"}],\"carpet\":[{\"aaxis\":{\"endlinecolor\":\"#A2B1C6\",\"gridcolor\":\"#506784\",\"linecolor\":\"#506784\",\"minorgridcolor\":\"#506784\",\"startlinecolor\":\"#A2B1C6\"},\"baxis\":{\"endlinecolor\":\"#A2B1C6\",\"gridcolor\":\"#506784\",\"linecolor\":\"#506784\",\"minorgridcolor\":\"#506784\",\"startlinecolor\":\"#A2B1C6\"},\"type\":\"carpet\"}],\"choropleth\":[{\"colorbar\":{\"outlinewidth\":0,\"ticks\":\"\"},\"type\":\"choropleth\"}],\"contour\":[{\"colorbar\":{\"outlinewidth\":0,\"ticks\":\"\"},\"colorscale\":[[0.0,\"#0d0887\"],[0.1111111111111111,\"#46039f\"],[0.2222222222222222,\"#7201a8\"],[0.3333333333333333,\"#9c179e\"],[0.4444444444444444,\"#bd3786\"],[0.5555555555555556,\"#d8576b\"],[0.6666666666666666,\"#ed7953\"],[0.7777777777777778,\"#fb9f3a\"],[0.8888888888888888,\"#fdca26\"],[1.0,\"#f0f921\"]],\"type\":\"contour\"}],\"contourcarpet\":[{\"colorbar\":{\"outlinewidth\":0,\"ticks\":\"\"},\"type\":\"contourcarpet\"}],\"heatmap\":[{\"colorbar\":{\"outlinewidth\":0,\"ticks\":\"\"},\"colorscale\":[[0.0,\"#0d0887\"],[0.1111111111111111,\"#46039f\"],[0.2222222222222222,\"#7201a8\"],[0.3333333333333333,\"#9c179e\"],[0.4444444444444444,\"#bd3786\"],[0.5555555555555556,\"#d8576b\"],[0.6666666666666666,\"#ed7953\"],[0.7777777777777778,\"#fb9f3a\"],[0.8888888888888888,\"#fdca26\"],[1.0,\"#f0f921\"]],\"type\":\"heatmap\"}],\"heatmapgl\":[{\"colorbar\":{\"outlinewidth\":0,\"ticks\":\"\"},\"colorscale\":[[0.0,\"#0d0887\"],[0.1111111111111111,\"#46039f\"],[0.2222222222222222,\"#7201a8\"],[0.3333333333333333,\"#9c179e\"],[0.4444444444444444,\"#bd3786\"],[0.5555555555555556,\"#d8576b\"],[0.6666666666666666,\"#ed7953\"],[0.7777777777777778,\"#fb9f3a\"],[0.8888888888888888,\"#fdca26\"],[1.0,\"#f0f921\"]],\"type\":\"heatmapgl\"}],\"histogram\":[{\"marker\":{\"pattern\":{\"fillmode\":\"overlay\",\"size\":10,\"solidity\":0.2}},\"type\":\"histogram\"}],\"histogram2d\":[{\"colorbar\":{\"outlinewidth\":0,\"ticks\":\"\"},\"colorscale\":[[0.0,\"#0d0887\"],[0.1111111111111111,\"#46039f\"],[0.2222222222222222,\"#7201a8\"],[0.3333333333333333,\"#9c179e\"],[0.4444444444444444,\"#bd3786\"],[0.5555555555555556,\"#d8576b\"],[0.6666666666666666,\"#ed7953\"],[0.7777777777777778,\"#fb9f3a\"],[0.8888888888888888,\"#fdca26\"],[1.0,\"#f0f921\"]],\"type\":\"histogram2d\"}],\"histogram2dcontour\":[{\"colorbar\":{\"outlinewidth\":0,\"ticks\":\"\"},\"colorscale\":[[0.0,\"#0d0887\"],[0.1111111111111111,\"#46039f\"],[0.2222222222222222,\"#7201a8\"],[0.3333333333333333,\"#9c179e\"],[0.4444444444444444,\"#bd3786\"],[0.5555555555555556,\"#d8576b\"],[0.6666666666666666,\"#ed7953\"],[0.7777777777777778,\"#fb9f3a\"],[0.8888888888888888,\"#fdca26\"],[1.0,\"#f0f921\"]],\"type\":\"histogram2dcontour\"}],\"mesh3d\":[{\"colorbar\":{\"outlinewidth\":0,\"ticks\":\"\"},\"type\":\"mesh3d\"}],\"parcoords\":[{\"line\":{\"colorbar\":{\"outlinewidth\":0,\"ticks\":\"\"}},\"type\":\"parcoords\"}],\"pie\":[{\"automargin\":true,\"type\":\"pie\"}],\"scatter\":[{\"marker\":{\"line\":{\"color\":\"#283442\"}},\"type\":\"scatter\"}],\"scatter3d\":[{\"line\":{\"colorbar\":{\"outlinewidth\":0,\"ticks\":\"\"}},\"marker\":{\"colorbar\":{\"outlinewidth\":0,\"ticks\":\"\"}},\"type\":\"scatter3d\"}],\"scattercarpet\":[{\"marker\":{\"colorbar\":{\"outlinewidth\":0,\"ticks\":\"\"}},\"type\":\"scattercarpet\"}],\"scattergeo\":[{\"marker\":{\"colorbar\":{\"outlinewidth\":0,\"ticks\":\"\"}},\"type\":\"scattergeo\"}],\"scattergl\":[{\"marker\":{\"line\":{\"color\":\"#283442\"}},\"type\":\"scattergl\"}],\"scattermapbox\":[{\"marker\":{\"colorbar\":{\"outlinewidth\":0,\"ticks\":\"\"}},\"type\":\"scattermapbox\"}],\"scatterpolar\":[{\"marker\":{\"colorbar\":{\"outlinewidth\":0,\"ticks\":\"\"}},\"type\":\"scatterpolar\"}],\"scatterpolargl\":[{\"marker\":{\"colorbar\":{\"outlinewidth\":0,\"ticks\":\"\"}},\"type\":\"scatterpolargl\"}],\"scatterternary\":[{\"marker\":{\"colorbar\":{\"outlinewidth\":0,\"ticks\":\"\"}},\"type\":\"scatterternary\"}],\"surface\":[{\"colorbar\":{\"outlinewidth\":0,\"ticks\":\"\"},\"colorscale\":[[0.0,\"#0d0887\"],[0.1111111111111111,\"#46039f\"],[0.2222222222222222,\"#7201a8\"],[0.3333333333333333,\"#9c179e\"],[0.4444444444444444,\"#bd3786\"],[0.5555555555555556,\"#d8576b\"],[0.6666666666666666,\"#ed7953\"],[0.7777777777777778,\"#fb9f3a\"],[0.8888888888888888,\"#fdca26\"],[1.0,\"#f0f921\"]],\"type\":\"surface\"}],\"table\":[{\"cells\":{\"fill\":{\"color\":\"#506784\"},\"line\":{\"color\":\"rgb(17,17,17)\"}},\"header\":{\"fill\":{\"color\":\"#2a3f5f\"},\"line\":{\"color\":\"rgb(17,17,17)\"}},\"type\":\"table\"}]},\"layout\":{\"annotationdefaults\":{\"arrowcolor\":\"#f2f5fa\",\"arrowhead\":0,\"arrowwidth\":1},\"autotypenumbers\":\"strict\",\"coloraxis\":{\"colorbar\":{\"outlinewidth\":0,\"ticks\":\"\"}},\"colorscale\":{\"diverging\":[[0,\"#8e0152\"],[0.1,\"#c51b7d\"],[0.2,\"#de77ae\"],[0.3,\"#f1b6da\"],[0.4,\"#fde0ef\"],[0.5,\"#f7f7f7\"],[0.6,\"#e6f5d0\"],[0.7,\"#b8e186\"],[0.8,\"#7fbc41\"],[0.9,\"#4d9221\"],[1,\"#276419\"]],\"sequential\":[[0.0,\"#0d0887\"],[0.1111111111111111,\"#46039f\"],[0.2222222222222222,\"#7201a8\"],[0.3333333333333333,\"#9c179e\"],[0.4444444444444444,\"#bd3786\"],[0.5555555555555556,\"#d8576b\"],[0.6666666666666666,\"#ed7953\"],[0.7777777777777778,\"#fb9f3a\"],[0.8888888888888888,\"#fdca26\"],[1.0,\"#f0f921\"]],\"sequentialminus\":[[0.0,\"#0d0887\"],[0.1111111111111111,\"#46039f\"],[0.2222222222222222,\"#7201a8\"],[0.3333333333333333,\"#9c179e\"],[0.4444444444444444,\"#bd3786\"],[0.5555555555555556,\"#d8576b\"],[0.6666666666666666,\"#ed7953\"],[0.7777777777777778,\"#fb9f3a\"],[0.8888888888888888,\"#fdca26\"],[1.0,\"#f0f921\"]]},\"colorway\":[\"#636efa\",\"#EF553B\",\"#00cc96\",\"#ab63fa\",\"#FFA15A\",\"#19d3f3\",\"#FF6692\",\"#B6E880\",\"#FF97FF\",\"#FECB52\"],\"font\":{\"color\":\"#f2f5fa\"},\"geo\":{\"bgcolor\":\"rgb(17,17,17)\",\"lakecolor\":\"rgb(17,17,17)\",\"landcolor\":\"rgb(17,17,17)\",\"showlakes\":true,\"showland\":true,\"subunitcolor\":\"#506784\"},\"hoverlabel\":{\"align\":\"left\"},\"hovermode\":\"closest\",\"mapbox\":{\"style\":\"dark\"},\"paper_bgcolor\":\"rgb(17,17,17)\",\"plot_bgcolor\":\"rgb(17,17,17)\",\"polar\":{\"angularaxis\":{\"gridcolor\":\"#506784\",\"linecolor\":\"#506784\",\"ticks\":\"\"},\"bgcolor\":\"rgb(17,17,17)\",\"radialaxis\":{\"gridcolor\":\"#506784\",\"linecolor\":\"#506784\",\"ticks\":\"\"}},\"scene\":{\"xaxis\":{\"backgroundcolor\":\"rgb(17,17,17)\",\"gridcolor\":\"#506784\",\"gridwidth\":2,\"linecolor\":\"#506784\",\"showbackground\":true,\"ticks\":\"\",\"zerolinecolor\":\"#C8D4E3\"},\"yaxis\":{\"backgroundcolor\":\"rgb(17,17,17)\",\"gridcolor\":\"#506784\",\"gridwidth\":2,\"linecolor\":\"#506784\",\"showbackground\":true,\"ticks\":\"\",\"zerolinecolor\":\"#C8D4E3\"},\"zaxis\":{\"backgroundcolor\":\"rgb(17,17,17)\",\"gridcolor\":\"#506784\",\"gridwidth\":2,\"linecolor\":\"#506784\",\"showbackground\":true,\"ticks\":\"\",\"zerolinecolor\":\"#C8D4E3\"}},\"shapedefaults\":{\"line\":{\"color\":\"#f2f5fa\"}},\"sliderdefaults\":{\"bgcolor\":\"#C8D4E3\",\"bordercolor\":\"rgb(17,17,17)\",\"borderwidth\":1,\"tickwidth\":0},\"ternary\":{\"aaxis\":{\"gridcolor\":\"#506784\",\"linecolor\":\"#506784\",\"ticks\":\"\"},\"baxis\":{\"gridcolor\":\"#506784\",\"linecolor\":\"#506784\",\"ticks\":\"\"},\"bgcolor\":\"rgb(17,17,17)\",\"caxis\":{\"gridcolor\":\"#506784\",\"linecolor\":\"#506784\",\"ticks\":\"\"}},\"title\":{\"x\":0.05},\"updatemenudefaults\":{\"bgcolor\":\"#506784\",\"borderwidth\":0},\"xaxis\":{\"automargin\":true,\"gridcolor\":\"#283442\",\"linecolor\":\"#506784\",\"ticks\":\"\",\"title\":{\"standoff\":15},\"zerolinecolor\":\"#283442\",\"zerolinewidth\":2},\"yaxis\":{\"automargin\":true,\"gridcolor\":\"#283442\",\"linecolor\":\"#506784\",\"ticks\":\"\",\"title\":{\"standoff\":15},\"zerolinecolor\":\"#283442\",\"zerolinewidth\":2}}},\"xaxis\":{\"anchor\":\"y\",\"domain\":[0.0,1.0],\"title\":{\"text\":\"DAILY PRICES\"}},\"yaxis\":{\"anchor\":\"x\",\"domain\":[0.0,1.0],\"title\":{\"text\":\"Palm olein RBD Mal FOB US$\"}},\"legend\":{\"tracegroupgap\":0},\"title\":{\"text\":\"Palm Olein Price\"}},                        {\"responsive\": true}                    ).then(function(){\n                            \nvar gd = document.getElementById('d7920fcd-46ec-4e8c-869c-4a70e68ee3fd');\nvar x = new MutationObserver(function (mutations, observer) {{\n        var display = window.getComputedStyle(gd).display;\n        if (!display || display === 'none') {{\n            console.log([gd, 'removed!']);\n            Plotly.purge(gd);\n            observer.disconnect();\n        }}\n}});\n\n// Listen for the removal of the full notebook cells\nvar notebookContainer = gd.closest('#notebook-container');\nif (notebookContainer) {{\n    x.observe(notebookContainer, {childList: true});\n}}\n\n// Listen for the clearing of the current output cell\nvar outputEl = gd.closest('.output');\nif (outputEl) {{\n    x.observe(outputEl, {childList: true});\n}}\n\n                        })                };                });            </script>        </div>"
     },
     "metadata": {},
     "output_type": "display_data"
    }
   ],
   "source": [
    "fig = px.line(price, x='DAILY PRICES', y='Palm olein RBD Mal FOB US$', title='Palm Olein Price')\n",
    "fig.show()\n",
    "# format this"
   ],
   "metadata": {
    "collapsed": false,
    "pycharm": {
     "name": "#%%\n"
    }
   }
  },
  {
   "cell_type": "code",
   "execution_count": 47,
   "outputs": [
    {
     "data": {
      "text/plain": "(849, 2)"
     },
     "execution_count": 47,
     "metadata": {},
     "output_type": "execute_result"
    }
   ],
   "source": [
    "price.shape"
   ],
   "metadata": {
    "collapsed": false,
    "pycharm": {
     "name": "#%%\n"
    }
   }
  },
  {
   "cell_type": "code",
   "execution_count": 48,
   "outputs": [],
   "source": [
    "# line chart horizontal, no hover text"
   ],
   "metadata": {
    "collapsed": false,
    "pycharm": {
     "name": "#%%\n"
    }
   }
  },
  {
   "cell_type": "markdown",
   "source": [
    "# 5) Export Volumes\n",
    "are a very good way to look at total volumes. Most palm oi is exported as evidenced by comparing the importer country vs the"
   ],
   "metadata": {
    "collapsed": false,
    "pycharm": {
     "name": "#%% md\n"
    }
   }
  },
  {
   "cell_type": "code",
   "execution_count": 49,
   "outputs": [],
   "source": [
    "# stacked line chart with hover text"
   ],
   "metadata": {
    "collapsed": false,
    "pycharm": {
     "name": "#%%\n"
    }
   }
  },
  {
   "cell_type": "markdown",
   "source": [
    "# 6) Key Import Markets"
   ],
   "metadata": {
    "collapsed": false,
    "pycharm": {
     "name": "#%% md\n"
    }
   }
  },
  {
   "cell_type": "code",
   "execution_count": 50,
   "outputs": [
    {
     "data": {
      "text/plain": "        Entity Code  Year  \\\n0  Afghanistan  AFG  2014   \n1  Afghanistan  AFG  2015   \n2  Afghanistan  AFG  2016   \n3  Afghanistan  AFG  2017   \n4      Albania  ALB  2014   \n\n   New Food Balances - Palm Oil - 2577 - Import Quantity - 5611 - 1000 tonnes  \n0                                             145000                           \n1                                             153000                           \n2                                             161000                           \n3                                             175000                           \n4                                               1000                           ",
      "text/html": "<div>\n<style scoped>\n    .dataframe tbody tr th:only-of-type {\n        vertical-align: middle;\n    }\n\n    .dataframe tbody tr th {\n        vertical-align: top;\n    }\n\n    .dataframe thead th {\n        text-align: right;\n    }\n</style>\n<table border=\"1\" class=\"dataframe\">\n  <thead>\n    <tr style=\"text-align: right;\">\n      <th></th>\n      <th>Entity</th>\n      <th>Code</th>\n      <th>Year</th>\n      <th>New Food Balances - Palm Oil - 2577 - Import Quantity - 5611 - 1000 tonnes</th>\n    </tr>\n  </thead>\n  <tbody>\n    <tr>\n      <th>0</th>\n      <td>Afghanistan</td>\n      <td>AFG</td>\n      <td>2014</td>\n      <td>145000</td>\n    </tr>\n    <tr>\n      <th>1</th>\n      <td>Afghanistan</td>\n      <td>AFG</td>\n      <td>2015</td>\n      <td>153000</td>\n    </tr>\n    <tr>\n      <th>2</th>\n      <td>Afghanistan</td>\n      <td>AFG</td>\n      <td>2016</td>\n      <td>161000</td>\n    </tr>\n    <tr>\n      <th>3</th>\n      <td>Afghanistan</td>\n      <td>AFG</td>\n      <td>2017</td>\n      <td>175000</td>\n    </tr>\n    <tr>\n      <th>4</th>\n      <td>Albania</td>\n      <td>ALB</td>\n      <td>2014</td>\n      <td>1000</td>\n    </tr>\n  </tbody>\n</table>\n</div>"
     },
     "execution_count": 50,
     "metadata": {},
     "output_type": "execute_result"
    }
   ],
   "source": [
    "imports = pd.read_csv(os.path.join(DATA, 'palm-oil-imports.csv'))\n",
    "imports.head()"
   ],
   "metadata": {
    "collapsed": false,
    "pycharm": {
     "name": "#%%\n"
    }
   }
  },
  {
   "cell_type": "code",
   "execution_count": 51,
   "outputs": [
    {
     "data": {
      "text/plain": "(688, 4)"
     },
     "execution_count": 51,
     "metadata": {},
     "output_type": "execute_result"
    }
   ],
   "source": [
    "imports.shape"
   ],
   "metadata": {
    "collapsed": false,
    "pycharm": {
     "name": "#%%\n"
    }
   }
  },
  {
   "cell_type": "code",
   "execution_count": 52,
   "outputs": [
    {
     "data": {
      "text/plain": "      Crops processed - Oil, soybean - 237 - Production - 5510 - tonnes  \\\nYear                                                                      \n1961                                         12563566.0                   \n1962                                         13777553.0                   \n1963                                         14725863.0                   \n1964                                         14743503.0                   \n1965                                         15993252.0                   \n1966                                         18080003.0                   \n1967                                         19360549.0                   \n1968                                         19411049.0                   \n1969                                         21180907.0                   \n1970                                         26414015.0                   \n1971                                         27788797.0                   \n1972                                         28165323.0                   \n1973                                         28815944.0                   \n1974                                         35394482.0                   \n1975                                         33059363.0                   \n1976                                         40745678.0                   \n1977                                         40541584.0                   \n1978                                         47028454.0                   \n1979                                         50725826.0                   \n1980                                         55868068.0                   \n1981                                         54792527.0                   \n1982                                         55799176.0                   \n1983                                         58547652.0                   \n1984                                         55555111.0                   \n1985                                         59211397.0                   \n1986                                         59541476.0                   \n1987                                         65013309.0                   \n1988                                         64784416.0                   \n1989                                         62951454.0                   \n1990                                         66619479.0                   \n1991                                         66874789.0                   \n1992                                         72694494.0                   \n1993                                         73878480.0                   \n1994                                         75814367.0                   \n1995                                         83925585.0                   \n1996                                         86031894.0                   \n1997                                         88065461.0                   \n1998                                        101225057.0                   \n1999                                        104483415.0                   \n2000                                        106223944.0                   \n2001                                        115015107.0                   \n2002                                        120453925.0                   \n2003                                        127744007.0                   \n2004                                        126705891.0                   \n2005                                        140932389.0                   \n2006                                        143873758.0                   \n2007                                        153936329.0                   \n2008                                        148150773.0                   \n2009                                        149679183.0                   \n2010                                        166997512.0                   \n2011                                        173478187.0                   \n2012                                        172808758.0                   \n2013                                        175908241.0                   \n2014                                        187580776.0                   \n\n      Crops processed - Oil, sesame - 290 - Production - 5510 - tonnes  \\\nYear                                                                     \n1961                                          1762131.0                  \n1962                                          2090167.0                  \n1963                                          2103291.0                  \n1964                                          2117241.0                  \n1965                                          2155306.0                  \n1966                                          2036072.0                  \n1967                                          2182103.0                  \n1968                                          2362568.0                  \n1969                                          2284582.0                  \n1970                                          2786629.0                  \n1971                                          2697345.0                  \n1972                                          2395421.0                  \n1973                                          2336401.0                  \n1974                                          2285433.0                  \n1975                                          2238831.0                  \n1976                                          2182835.0                  \n1977                                          2405850.0                  \n1978                                          2596440.0                  \n1979                                          2682001.0                  \n1980                                          2513845.0                  \n1981                                          2856213.0                  \n1982                                          2846032.0                  \n1983                                          2767524.0                  \n1984                                          2891868.0                  \n1985                                          3062592.0                  \n1986                                          3218301.0                  \n1987                                          3142431.0                  \n1988                                          3169340.0                  \n1989                                          2843342.0                  \n1990                                          3075466.0                  \n1991                                          2912115.0                  \n1992                                          2890313.0                  \n1993                                          2953642.0                  \n1994                                          2829518.0                  \n1995                                          3179542.0                  \n1996                                          3460390.0                  \n1997                                          3570824.0                  \n1998                                          3464657.0                  \n1999                                          3007746.0                  \n2000                                          3462907.0                  \n2001                                          3676821.0                  \n2002                                          4100829.0                  \n2003                                          4286703.0                  \n2004                                          4561775.0                  \n2005                                          4549836.0                  \n2006                                          4864740.0                  \n2007                                          5280042.0                  \n2008                                          4924807.0                  \n2009                                          5149218.0                  \n2010                                          5428818.0                  \n2011                                          5544287.0                  \n2012                                          5977807.0                  \n2013                                          7506753.0                  \n2014                                          8708881.0                  \n\n      Crops processed - Oil, linseed - 334 - Production - 5510 - tonnes  \\\nYear                                                                      \n1961                                          3605247.0                   \n1962                                          4059024.0                   \n1963                                          3896389.0                   \n1964                                          3952174.0                   \n1965                                          4375128.0                   \n1966                                          3965364.0                   \n1967                                          3504699.0                   \n1968                                          3480347.0                   \n1969                                          3543701.0                   \n1970                                          4423724.0                   \n1971                                          4455081.0                   \n1972                                          3781408.0                   \n1973                                          3289140.0                   \n1974                                          2767630.0                   \n1975                                          2884430.0                   \n1976                                          2854314.0                   \n1977                                          3275082.0                   \n1978                                          3532781.0                   \n1979                                          3398374.0                   \n1980                                          3179099.0                   \n1981                                          3139275.0                   \n1982                                          2980526.0                   \n1983                                          3294125.0                   \n1984                                          3104407.0                   \n1985                                          2932273.0                   \n1986                                          3148086.0                   \n1987                                          3561041.0                   \n1988                                          3115016.0                   \n1989                                          2920493.0                   \n1990                                          2835327.0                   \n1991                                          2959443.0                   \n1992                                          2830658.0                   \n1993                                          2613801.0                   \n1994                                          2972339.0                   \n1995                                          3263927.0                   \n1996                                          3315150.0                   \n1997                                          3123733.0                   \n1998                                          3124615.0                   \n1999                                          3333020.0                   \n2000                                          2956100.0                   \n2001                                          2553726.0                   \n2002                                          2404767.0                   \n2003                                          2544986.0                   \n2004                                          2635877.0                   \n2005                                          2830406.0                   \n2006                                          2987174.0                   \n2007                                          2616189.0                   \n2008                                          2344184.0                   \n2009                                          2518343.0                   \n2010                                          2528167.0                   \n2011                                          2478775.0                   \n2012                                          2768785.0                   \n2013                                          2705129.0                   \n2014                                          3062440.0                   \n\n      Crops processed - Oil, palm - 257 - Production - 5510 - tonnes  \\\nYear                                                                   \n1961                                          6708734.0                \n1962                                          6712690.0                \n1963                                          6947784.0                \n1964                                          7076191.0                \n1965                                          7011976.0                \n1966                                          7395521.0                \n1967                                          7486559.0                \n1968                                          8210069.0                \n1969                                          8731743.0                \n1970                                          8703692.0                \n1971                                          9557570.0                \n1972                                         10131993.0                \n1973                                         10539225.0                \n1974                                         12188966.0                \n1975                                         13540027.0                \n1976                                         14305836.0                \n1977                                         15227153.0                \n1978                                         16372048.0                \n1979                                         19130226.0                \n1980                                         21434661.0                \n1981                                         22263946.0                \n1982                                         25830964.0                \n1983                                         24364205.0                \n1984                                         28507694.0                \n1985                                         31576906.0                \n1986                                         34356650.0                \n1987                                         35431153.0                \n1988                                         38441274.0                \n1989                                         44455324.0                \n1990                                         47205467.0                \n1991                                         48993138.0                \n1992                                         52985897.0                \n1993                                         58226002.0                \n1994                                         60477224.0                \n1995                                         65388635.0                \n1996                                         69765180.0                \n1997                                         74783933.0                \n1998                                         74545873.0                \n1999                                         84675447.0                \n2000                                         90720708.0                \n2001                                        101131243.0                \n2002                                        106337016.0                \n2003                                        116515969.0                \n2004                                        122203298.0                \n2005                                        131014076.0                \n2006                                        159798368.0                \n2007                                        161241210.0                \n2008                                        171769242.0                \n2009                                        177880388.0                \n2010                                        185619438.0                \n2011                                        200603844.0                \n2012                                        213527781.0                \n2013                                        220702265.0                \n2014                                        232335106.0                \n\n      Crops processed - Oil, rapeseed - 271 - Production - 5510 - tonnes  \\\nYear                                                                       \n1961                                          4840867.0                    \n1962                                          5174853.0                    \n1963                                          4961239.0                    \n1964                                          4836472.0                    \n1965                                          6780248.0                    \n1966                                          6757745.0                    \n1967                                          7332706.0                    \n1968                                          8080160.0                    \n1969                                          7641357.0                    \n1970                                          8332219.0                    \n1971                                         10606748.0                    \n1972                                         10383549.0                    \n1973                                         11495087.0                    \n1974                                         10849870.0                    \n1975                                         11642352.0                    \n1976                                         11796293.0                    \n1977                                         12026756.0                    \n1978                                         12858841.0                    \n1979                                         15537178.0                    \n1980                                         16224462.0                    \n1981                                         19297018.0                    \n1982                                         20341501.0                    \n1983                                         21799776.0                    \n1984                                         23820181.0                    \n1985                                         27373887.0                    \n1986                                         28180261.0                    \n1987                                         31440702.0                    \n1988                                         33763650.0                    \n1989                                         34756105.0                    \n1990                                         37618301.0                    \n1991                                         38842898.0                    \n1992                                         40006624.0                    \n1993                                         38931991.0                    \n1994                                         43019442.0                    \n1995                                         46684551.0                    \n1996                                         47656277.0                    \n1997                                         50709545.0                    \n1998                                         50550888.0                    \n1999                                         56268699.0                    \n2000                                         59057983.0                    \n2001                                         54695250.0                    \n2002                                         57298127.0                    \n2003                                         54570626.0                    \n2004                                         65468817.0                    \n2005                                         73277123.0                    \n2006                                         79090297.0                    \n2007                                         79076057.0                    \n2008                                         85253712.0                    \n2009                                         94622013.0                    \n2010                                        100898103.0                    \n2011                                        101464328.0                    \n2012                                        105917559.0                    \n2013                                        107029386.0                    \n2014                                        114378329.0                    \n\n      Crops processed - Oil, groundnut - 244 - Production - 5510 - tonnes  \\\nYear                                                                        \n1961                                         11234153.0                     \n1962                                         11774274.0                     \n1963                                         12955374.0                     \n1964                                         13222081.0                     \n1965                                         12167658.0                     \n1966                                         12484300.0                     \n1967                                         13346223.0                     \n1968                                         12505530.0                     \n1969                                         12834120.0                     \n1970                                         14398952.0                     \n1971                                         13878150.0                     \n1972                                         12142380.0                     \n1973                                         12856143.0                     \n1974                                         12819942.0                     \n1975                                         13927190.0                     \n1976                                         13840442.0                     \n1977                                         14595364.0                     \n1978                                         13671582.0                     \n1979                                         13692341.0                     \n1980                                         12201461.0                     \n1981                                         13358561.0                     \n1982                                         12658610.0                     \n1983                                         14153782.0                     \n1984                                         13091234.0                     \n1985                                         13367344.0                     \n1986                                         14245467.0                     \n1987                                         14832120.0                     \n1988                                         18847878.0                     \n1989                                         15921844.0                     \n1990                                         16449112.0                     \n1991                                         15945234.0                     \n1992                                         17880017.0                     \n1993                                         18221195.0                     \n1994                                         20259822.0                     \n1995                                         19863327.0                     \n1996                                         21748184.0                     \n1997                                         20617895.0                     \n1998                                         22969014.0                     \n1999                                         19926190.0                     \n2000                                         21916581.0                     \n2001                                         24019024.0                     \n2002                                         22761241.0                     \n2003                                         24441627.0                     \n2004                                         22599665.0                     \n2005                                         23829812.0                     \n2006                                         20833151.0                     \n2007                                         24328557.0                     \n2008                                         23018871.0                     \n2009                                         21402483.0                     \n2010                                         24497260.0                     \n2011                                         24058111.0                     \n2012                                         23467423.0                     \n2013                                         22703634.0                     \n2014                                         22544190.0                     \n\n      Crops processed - Oil, cottonseed - 331 - Production - 5510 - tonnes  \\\nYear                                                                         \n1961                                          9230397.0                      \n1962                                          9653376.0                      \n1963                                         10483243.0                      \n1964                                         11163961.0                      \n1965                                         11763107.0                      \n1966                                         11877619.0                      \n1967                                         10318935.0                      \n1968                                         10198331.0                      \n1969                                         11136005.0                      \n1970                                         10847887.0                      \n1971                                         10884735.0                      \n1972                                         11974915.0                      \n1973                                         12721843.0                      \n1974                                         13333777.0                      \n1975                                         12973657.0                      \n1976                                         11301293.0                      \n1977                                         12495607.0                      \n1978                                         13011099.0                      \n1979                                         12532625.0                      \n1980                                         13538809.0                      \n1981                                         13443666.0                      \n1982                                         14364399.0                      \n1983                                         12941131.0                      \n1984                                         14453800.0                      \n1985                                         14709281.0                      \n1986                                         13753221.0                      \n1987                                         14035939.0                      \n1988                                         15943112.0                      \n1989                                         16063850.0                      \n1990                                         16264601.0                      \n1991                                         17111547.0                      \n1992                                         17788872.0                      \n1993                                         16057400.0                      \n1994                                         16105860.0                      \n1995                                         16511882.0                      \n1996                                         16503836.0                      \n1997                                         16543450.0                      \n1998                                         16781767.0                      \n1999                                         16188523.0                      \n2000                                         16840645.0                      \n2001                                         17727527.0                      \n2002                                         18318880.0                      \n2003                                         17791833.0                      \n2004                                         18833484.0                      \n2005                                         21272210.0                      \n2006                                         21200154.0                      \n2007                                         21710882.0                      \n2008                                         20848783.0                      \n2009                                         20111713.0                      \n2010                                         20854337.0                      \n2011                                         22281050.0                      \n2012                                         23723912.0                      \n2013                                         22469918.0                      \n2014                                         21885999.0                      \n\n      Crops processed - Oil, coconut (copra) - 252 - Production - 5510 - tonnes  \\\nYear                                                                              \n1961                                          7354670.0                           \n1962                                          8749060.0                           \n1963                                          8475221.0                           \n1964                                          8165172.0                           \n1965                                          8443615.0                           \n1966                                          9289872.0                           \n1967                                          8741430.0                           \n1968                                          8229023.0                           \n1969                                          8099855.0                           \n1970                                          8320713.0                           \n1971                                          9817505.0                           \n1972                                         11003287.0                           \n1973                                          9534161.0                           \n1974                                          8609934.0                           \n1975                                         11486628.0                           \n1976                                         13907804.0                           \n1977                                         12008046.0                           \n1978                                         12695411.0                           \n1979                                         10876906.0                           \n1980                                         11314520.0                           \n1981                                         11740999.0                           \n1982                                         11891968.0                           \n1983                                         11640093.0                           \n1984                                          9727434.0                           \n1985                                         10905525.0                           \n1986                                         14085134.0                           \n1987                                         12647582.0                           \n1988                                         11588098.0                           \n1989                                         11089739.0                           \n1990                                         13997153.0                           \n1991                                         12300916.0                           \n1992                                         12019176.0                           \n1993                                         12813135.0                           \n1994                                         12565096.0                           \n1995                                         15212795.0                           \n1996                                         12863889.0                           \n1997                                         14019862.0                           \n1998                                         14608082.0                           \n1999                                         11523852.0                           \n2000                                         14112872.0                           \n2001                                         15510543.0                           \n2002                                         13274543.0                           \n2003                                         13899280.0                           \n2004                                         14720757.0                           \n2005                                         14074339.0                           \n2006                                         13441450.0                           \n2007                                         14234821.0                           \n2008                                         13945884.0                           \n2009                                         13661183.0                           \n2010                                         15891459.0                           \n2011                                         13236071.0                           \n2012                                         13674380.0                           \n2013                                         13315449.0                           \n2014                                         12895310.0                           \n\n      Crops processed - Oil, olive, virgin - 261 - Production - 5510 - tonnes  \\\nYear                                                                            \n1961                                          6608670.0                         \n1962                                          4533310.0                         \n1963                                          8856432.0                         \n1964                                          4481156.0                         \n1965                                          6078829.0                         \n1966                                          6190790.0                         \n1967                                          6608902.0                         \n1968                                          7262915.0                         \n1969                                          6294838.0                         \n1970                                          6841166.0                         \n1971                                          7767049.0                         \n1972                                          6991685.0                         \n1973                                          7499508.0                         \n1974                                          7121188.0                         \n1975                                          8893016.0                         \n1976                                          6710583.0                         \n1977                                          7932180.0                         \n1978                                          7878802.0                         \n1979                                          7399634.0                         \n1980                                          9568870.0                         \n1981                                          7099928.0                         \n1982                                          9478495.0                         \n1983                                          8289221.0                         \n1984                                          8130250.0                         \n1985                                          8419362.0                         \n1986                                          7576151.0                         \n1987                                          9852161.0                         \n1988                                          7222508.0                         \n1989                                          8787008.0                         \n1990                                          7256242.0                         \n1991                                         11446715.0                         \n1992                                          8883853.0                         \n1993                                          9342431.0                         \n1994                                          8653765.0                         \n1995                                          8121082.0                         \n1996                                         12510086.0                         \n1997                                         12818028.0                         \n1998                                         11602462.0                         \n1999                                         11590156.0                         \n2000                                         12188270.0                         \n2001                                         13094182.0                         \n2002                                         11739051.0                         \n2003                                         15229768.0                         \n2004                                         14095041.0                         \n2005                                         12484884.0                         \n2006                                         14122724.0                         \n2007                                         13497972.0                         \n2008                                         13070188.0                         \n2009                                         14624278.0                         \n2010                                         15335072.0                         \n2011                                         16392939.0                         \n2012                                         11874398.0                         \n2013                                         17005585.0                         \n2014                                         14887070.0                         \n\n      Crops processed - Oil, safflower - 281 - Production - 5510 - tonnes  \\\nYear                                                                        \n1961                                           388947.0                     \n1962                                           641181.0                     \n1963                                           635618.0                     \n1964                                           516356.0                     \n1965                                           524554.0                     \n1966                                           748605.0                     \n1967                                           766063.0                     \n1968                                           528304.0                     \n1969                                           578457.0                     \n1970                                           648149.0                     \n1971                                           844048.0                     \n1972                                           791558.0                     \n1973                                           592011.0                     \n1974                                           769948.0                     \n1975                                           784548.0                     \n1976                                           805972.0                     \n1977                                           979169.0                     \n1978                                           974030.0                     \n1979                                          1043427.0                     \n1980                                          1036810.0                     \n1981                                          1140819.0                     \n1982                                          1011419.0                     \n1983                                           925366.0                     \n1984                                           938302.0                     \n1985                                           888656.0                     \n1986                                           776168.0                     \n1987                                           822493.0                     \n1988                                           874931.0                     \n1989                                           910579.0                     \n1990                                           878792.0                     \n1991                                           705560.0                     \n1992                                           623866.0                     \n1993                                           726628.0                     \n1994                                           866583.0                     \n1995                                           864706.0                     \n1996                                          1032295.0                     \n1997                                          1087875.0                     \n1998                                           688628.0                     \n1999                                           792254.0                     \n2000                                           751258.0                     \n2001                                           610924.0                     \n2002                                           576093.0                     \n2003                                           678959.0                     \n2004                                           579888.0                     \n2005                                           535363.0                     \n2006                                           524463.0                     \n2007                                           586656.0                     \n2008                                           654159.0                     \n2009                                           571524.0                     \n2010                                           541108.0                     \n2011                                           599291.0                     \n2012                                           632407.0                     \n2013                                           498844.0                     \n2014                                           419257.0                     \n\n      Crops processed - Oil, sunflower - 268 - Production - 5510 - tonnes  \\\nYear                                                                        \n1961                                          8131734.0                     \n1962                                          9552219.0                     \n1963                                         10056050.0                     \n1964                                          9881294.0                     \n1965                                         12519604.0                     \n1966                                         12591332.0                     \n1967                                         14621180.0                     \n1968                                         15323309.0                     \n1969                                         15288671.0                     \n1970                                         15321150.0                     \n1971                                         15087254.0                     \n1972                                         15287338.0                     \n1973                                         15130893.0                     \n1974                                         18334430.0                     \n1975                                         17522126.0                     \n1976                                         14604608.0                     \n1977                                         15751874.0                     \n1978                                         19442653.0                     \n1979                                         20942602.0                     \n1980                                         22251774.0                     \n1981                                         21806769.0                     \n1982                                         22494587.0                     \n1983                                         26465330.0                     \n1984                                         25984166.0                     \n1985                                         28392255.0                     \n1986                                         29840500.0                     \n1987                                         29601251.0                     \n1988                                         32136554.0                     \n1989                                         33351194.0                     \n1990                                         35014557.0                     \n1991                                         35222085.0                     \n1992                                         36122307.0                     \n1993                                         33920605.0                     \n1994                                         33088465.0                     \n1995                                         38297247.0                     \n1996                                         40688331.0                     \n1997                                         40398837.0                     \n1998                                         38844991.0                     \n1999                                         41488728.0                     \n2000                                         42328058.0                     \n2001                                         36231677.0                     \n2002                                         34283020.0                     \n2003                                         40205078.0                     \n2004                                         42921591.0                     \n2005                                         46228097.0                     \n2006                                         49719483.0                     \n2007                                         48033983.0                     \n2008                                         47381348.0                     \n2009                                         56352067.0                     \n2010                                         54478931.0                     \n2011                                         57624570.0                     \n2012                                         64640983.0                     \n2013                                         59104675.0                     \n2014                                         68298532.0                     \n\n      Crops processed - Oil, maize - 60 - Production - 5510 - tonnes  \\\nYear                                                                   \n1961                                          1465322.0                \n1962                                          1540017.0                \n1963                                          1584599.0                \n1964                                          1669078.0                \n1965                                          1831634.0                \n1966                                          1852351.0                \n1967                                          1883002.0                \n1968                                          1892525.0                \n1969                                          1987756.0                \n1970                                          2080306.0                \n1971                                          2135098.0                \n1972                                          2225765.0                \n1973                                          2370819.0                \n1974                                          2464751.0                \n1975                                          2316524.0                \n1976                                          2743046.0                \n1977                                          2924475.0                \n1978                                          3152111.0                \n1979                                          3391643.0                \n1980                                          3551125.0                \n1981                                          3753828.0                \n1982                                          3966409.0                \n1983                                          4220726.0                \n1984                                          4474252.0                \n1985                                          4877720.0                \n1986                                          4963419.0                \n1987                                          5251035.0                \n1988                                          5420837.0                \n1989                                          5494349.0                \n1990                                          5702470.0                \n1991                                          6073797.0                \n1992                                          6388601.0                \n1993                                          6588824.0                \n1994                                          6774412.0                \n1995                                          7501230.0                \n1996                                          7283743.0                \n1997                                          7547256.0                \n1998                                          7821515.0                \n1999                                          7928935.0                \n2000                                          8150092.0                \n2001                                          8043752.0                \n2002                                          8162932.0                \n2003                                          8374617.0                \n2004                                          8272293.0                \n2005                                          8720244.0                \n2006                                          9149699.0                \n2007                                          9598474.0                \n2008                                          9589274.0                \n2009                                          9357336.0                \n2010                                          9630952.0                \n2011                                          9817403.0                \n2012                                          9816837.0                \n2013                                          9790233.0                \n2014                                         13241527.0                \n\n      Crops processed - Oil, palm kernel - 258 - Production - 5510 - tonnes  \nYear                                                                         \n1961                                          2392785.0                      \n1962                                          2378154.0                      \n1963                                          2199279.0                      \n1964                                          2396552.0                      \n1965                                          2469792.0                      \n1966                                          2441664.0                      \n1967                                          2044249.0                      \n1968                                          2127513.0                      \n1969                                          2340698.0                      \n1970                                          2337788.0                      \n1971                                          2474599.0                      \n1972                                          2344331.0                      \n1973                                          2213033.0                      \n1974                                          2673874.0                      \n1975                                          2586835.0                      \n1976                                          2662576.0                      \n1977                                          2882009.0                      \n1978                                          2716424.0                      \n1979                                          2971789.0                      \n1980                                          3141359.0                      \n1981                                          3235215.0                      \n1982                                          3670983.0                      \n1983                                          3779946.0                      \n1984                                          4244348.0                      \n1985                                          4925463.0                      \n1986                                          5173555.0                      \n1987                                          5120111.0                      \n1988                                          5569931.0                      \n1989                                          6457394.0                      \n1990                                          6928734.0                      \n1991                                          6577514.0                      \n1992                                          6889316.0                      \n1993                                          7933931.0                      \n1994                                          8246954.0                      \n1995                                          8540769.0                      \n1996                                          9267612.0                      \n1997                                          9712665.0                      \n1998                                          9500340.0                      \n1999                                         10962174.0                      \n2000                                         11285575.0                      \n2001                                         12355079.0                      \n2002                                         12787055.0                      \n2003                                         13965366.0                      \n2004                                         14895500.0                      \n2005                                         16477558.0                      \n2006                                         18109911.0                      \n2007                                         18619413.0                      \n2008                                         20261081.0                      \n2009                                         20993904.0                      \n2010                                         21036304.0                      \n2011                                         22752852.0                      \n2012                                         24350456.0                      \n2013                                         25678463.0                      \n2014                                         26822254.0                      ",
      "text/html": "<div>\n<style scoped>\n    .dataframe tbody tr th:only-of-type {\n        vertical-align: middle;\n    }\n\n    .dataframe tbody tr th {\n        vertical-align: top;\n    }\n\n    .dataframe thead th {\n        text-align: right;\n    }\n</style>\n<table border=\"1\" class=\"dataframe\">\n  <thead>\n    <tr style=\"text-align: right;\">\n      <th></th>\n      <th>Crops processed - Oil, soybean - 237 - Production - 5510 - tonnes</th>\n      <th>Crops processed - Oil, sesame - 290 - Production - 5510 - tonnes</th>\n      <th>Crops processed - Oil, linseed - 334 - Production - 5510 - tonnes</th>\n      <th>Crops processed - Oil, palm - 257 - Production - 5510 - tonnes</th>\n      <th>Crops processed - Oil, rapeseed - 271 - Production - 5510 - tonnes</th>\n      <th>Crops processed - Oil, groundnut - 244 - Production - 5510 - tonnes</th>\n      <th>Crops processed - Oil, cottonseed - 331 - Production - 5510 - tonnes</th>\n      <th>Crops processed - Oil, coconut (copra) - 252 - Production - 5510 - tonnes</th>\n      <th>Crops processed - Oil, olive, virgin - 261 - Production - 5510 - tonnes</th>\n      <th>Crops processed - Oil, safflower - 281 - Production - 5510 - tonnes</th>\n      <th>Crops processed - Oil, sunflower - 268 - Production - 5510 - tonnes</th>\n      <th>Crops processed - Oil, maize - 60 - Production - 5510 - tonnes</th>\n      <th>Crops processed - Oil, palm kernel - 258 - Production - 5510 - tonnes</th>\n    </tr>\n    <tr>\n      <th>Year</th>\n      <th></th>\n      <th></th>\n      <th></th>\n      <th></th>\n      <th></th>\n      <th></th>\n      <th></th>\n      <th></th>\n      <th></th>\n      <th></th>\n      <th></th>\n      <th></th>\n      <th></th>\n    </tr>\n  </thead>\n  <tbody>\n    <tr>\n      <th>1961</th>\n      <td>12563566.0</td>\n      <td>1762131.0</td>\n      <td>3605247.0</td>\n      <td>6708734.0</td>\n      <td>4840867.0</td>\n      <td>11234153.0</td>\n      <td>9230397.0</td>\n      <td>7354670.0</td>\n      <td>6608670.0</td>\n      <td>388947.0</td>\n      <td>8131734.0</td>\n      <td>1465322.0</td>\n      <td>2392785.0</td>\n    </tr>\n    <tr>\n      <th>1962</th>\n      <td>13777553.0</td>\n      <td>2090167.0</td>\n      <td>4059024.0</td>\n      <td>6712690.0</td>\n      <td>5174853.0</td>\n      <td>11774274.0</td>\n      <td>9653376.0</td>\n      <td>8749060.0</td>\n      <td>4533310.0</td>\n      <td>641181.0</td>\n      <td>9552219.0</td>\n      <td>1540017.0</td>\n      <td>2378154.0</td>\n    </tr>\n    <tr>\n      <th>1963</th>\n      <td>14725863.0</td>\n      <td>2103291.0</td>\n      <td>3896389.0</td>\n      <td>6947784.0</td>\n      <td>4961239.0</td>\n      <td>12955374.0</td>\n      <td>10483243.0</td>\n      <td>8475221.0</td>\n      <td>8856432.0</td>\n      <td>635618.0</td>\n      <td>10056050.0</td>\n      <td>1584599.0</td>\n      <td>2199279.0</td>\n    </tr>\n    <tr>\n      <th>1964</th>\n      <td>14743503.0</td>\n      <td>2117241.0</td>\n      <td>3952174.0</td>\n      <td>7076191.0</td>\n      <td>4836472.0</td>\n      <td>13222081.0</td>\n      <td>11163961.0</td>\n      <td>8165172.0</td>\n      <td>4481156.0</td>\n      <td>516356.0</td>\n      <td>9881294.0</td>\n      <td>1669078.0</td>\n      <td>2396552.0</td>\n    </tr>\n    <tr>\n      <th>1965</th>\n      <td>15993252.0</td>\n      <td>2155306.0</td>\n      <td>4375128.0</td>\n      <td>7011976.0</td>\n      <td>6780248.0</td>\n      <td>12167658.0</td>\n      <td>11763107.0</td>\n      <td>8443615.0</td>\n      <td>6078829.0</td>\n      <td>524554.0</td>\n      <td>12519604.0</td>\n      <td>1831634.0</td>\n      <td>2469792.0</td>\n    </tr>\n    <tr>\n      <th>1966</th>\n      <td>18080003.0</td>\n      <td>2036072.0</td>\n      <td>3965364.0</td>\n      <td>7395521.0</td>\n      <td>6757745.0</td>\n      <td>12484300.0</td>\n      <td>11877619.0</td>\n      <td>9289872.0</td>\n      <td>6190790.0</td>\n      <td>748605.0</td>\n      <td>12591332.0</td>\n      <td>1852351.0</td>\n      <td>2441664.0</td>\n    </tr>\n    <tr>\n      <th>1967</th>\n      <td>19360549.0</td>\n      <td>2182103.0</td>\n      <td>3504699.0</td>\n      <td>7486559.0</td>\n      <td>7332706.0</td>\n      <td>13346223.0</td>\n      <td>10318935.0</td>\n      <td>8741430.0</td>\n      <td>6608902.0</td>\n      <td>766063.0</td>\n      <td>14621180.0</td>\n      <td>1883002.0</td>\n      <td>2044249.0</td>\n    </tr>\n    <tr>\n      <th>1968</th>\n      <td>19411049.0</td>\n      <td>2362568.0</td>\n      <td>3480347.0</td>\n      <td>8210069.0</td>\n      <td>8080160.0</td>\n      <td>12505530.0</td>\n      <td>10198331.0</td>\n      <td>8229023.0</td>\n      <td>7262915.0</td>\n      <td>528304.0</td>\n      <td>15323309.0</td>\n      <td>1892525.0</td>\n      <td>2127513.0</td>\n    </tr>\n    <tr>\n      <th>1969</th>\n      <td>21180907.0</td>\n      <td>2284582.0</td>\n      <td>3543701.0</td>\n      <td>8731743.0</td>\n      <td>7641357.0</td>\n      <td>12834120.0</td>\n      <td>11136005.0</td>\n      <td>8099855.0</td>\n      <td>6294838.0</td>\n      <td>578457.0</td>\n      <td>15288671.0</td>\n      <td>1987756.0</td>\n      <td>2340698.0</td>\n    </tr>\n    <tr>\n      <th>1970</th>\n      <td>26414015.0</td>\n      <td>2786629.0</td>\n      <td>4423724.0</td>\n      <td>8703692.0</td>\n      <td>8332219.0</td>\n      <td>14398952.0</td>\n      <td>10847887.0</td>\n      <td>8320713.0</td>\n      <td>6841166.0</td>\n      <td>648149.0</td>\n      <td>15321150.0</td>\n      <td>2080306.0</td>\n      <td>2337788.0</td>\n    </tr>\n    <tr>\n      <th>1971</th>\n      <td>27788797.0</td>\n      <td>2697345.0</td>\n      <td>4455081.0</td>\n      <td>9557570.0</td>\n      <td>10606748.0</td>\n      <td>13878150.0</td>\n      <td>10884735.0</td>\n      <td>9817505.0</td>\n      <td>7767049.0</td>\n      <td>844048.0</td>\n      <td>15087254.0</td>\n      <td>2135098.0</td>\n      <td>2474599.0</td>\n    </tr>\n    <tr>\n      <th>1972</th>\n      <td>28165323.0</td>\n      <td>2395421.0</td>\n      <td>3781408.0</td>\n      <td>10131993.0</td>\n      <td>10383549.0</td>\n      <td>12142380.0</td>\n      <td>11974915.0</td>\n      <td>11003287.0</td>\n      <td>6991685.0</td>\n      <td>791558.0</td>\n      <td>15287338.0</td>\n      <td>2225765.0</td>\n      <td>2344331.0</td>\n    </tr>\n    <tr>\n      <th>1973</th>\n      <td>28815944.0</td>\n      <td>2336401.0</td>\n      <td>3289140.0</td>\n      <td>10539225.0</td>\n      <td>11495087.0</td>\n      <td>12856143.0</td>\n      <td>12721843.0</td>\n      <td>9534161.0</td>\n      <td>7499508.0</td>\n      <td>592011.0</td>\n      <td>15130893.0</td>\n      <td>2370819.0</td>\n      <td>2213033.0</td>\n    </tr>\n    <tr>\n      <th>1974</th>\n      <td>35394482.0</td>\n      <td>2285433.0</td>\n      <td>2767630.0</td>\n      <td>12188966.0</td>\n      <td>10849870.0</td>\n      <td>12819942.0</td>\n      <td>13333777.0</td>\n      <td>8609934.0</td>\n      <td>7121188.0</td>\n      <td>769948.0</td>\n      <td>18334430.0</td>\n      <td>2464751.0</td>\n      <td>2673874.0</td>\n    </tr>\n    <tr>\n      <th>1975</th>\n      <td>33059363.0</td>\n      <td>2238831.0</td>\n      <td>2884430.0</td>\n      <td>13540027.0</td>\n      <td>11642352.0</td>\n      <td>13927190.0</td>\n      <td>12973657.0</td>\n      <td>11486628.0</td>\n      <td>8893016.0</td>\n      <td>784548.0</td>\n      <td>17522126.0</td>\n      <td>2316524.0</td>\n      <td>2586835.0</td>\n    </tr>\n    <tr>\n      <th>1976</th>\n      <td>40745678.0</td>\n      <td>2182835.0</td>\n      <td>2854314.0</td>\n      <td>14305836.0</td>\n      <td>11796293.0</td>\n      <td>13840442.0</td>\n      <td>11301293.0</td>\n      <td>13907804.0</td>\n      <td>6710583.0</td>\n      <td>805972.0</td>\n      <td>14604608.0</td>\n      <td>2743046.0</td>\n      <td>2662576.0</td>\n    </tr>\n    <tr>\n      <th>1977</th>\n      <td>40541584.0</td>\n      <td>2405850.0</td>\n      <td>3275082.0</td>\n      <td>15227153.0</td>\n      <td>12026756.0</td>\n      <td>14595364.0</td>\n      <td>12495607.0</td>\n      <td>12008046.0</td>\n      <td>7932180.0</td>\n      <td>979169.0</td>\n      <td>15751874.0</td>\n      <td>2924475.0</td>\n      <td>2882009.0</td>\n    </tr>\n    <tr>\n      <th>1978</th>\n      <td>47028454.0</td>\n      <td>2596440.0</td>\n      <td>3532781.0</td>\n      <td>16372048.0</td>\n      <td>12858841.0</td>\n      <td>13671582.0</td>\n      <td>13011099.0</td>\n      <td>12695411.0</td>\n      <td>7878802.0</td>\n      <td>974030.0</td>\n      <td>19442653.0</td>\n      <td>3152111.0</td>\n      <td>2716424.0</td>\n    </tr>\n    <tr>\n      <th>1979</th>\n      <td>50725826.0</td>\n      <td>2682001.0</td>\n      <td>3398374.0</td>\n      <td>19130226.0</td>\n      <td>15537178.0</td>\n      <td>13692341.0</td>\n      <td>12532625.0</td>\n      <td>10876906.0</td>\n      <td>7399634.0</td>\n      <td>1043427.0</td>\n      <td>20942602.0</td>\n      <td>3391643.0</td>\n      <td>2971789.0</td>\n    </tr>\n    <tr>\n      <th>1980</th>\n      <td>55868068.0</td>\n      <td>2513845.0</td>\n      <td>3179099.0</td>\n      <td>21434661.0</td>\n      <td>16224462.0</td>\n      <td>12201461.0</td>\n      <td>13538809.0</td>\n      <td>11314520.0</td>\n      <td>9568870.0</td>\n      <td>1036810.0</td>\n      <td>22251774.0</td>\n      <td>3551125.0</td>\n      <td>3141359.0</td>\n    </tr>\n    <tr>\n      <th>1981</th>\n      <td>54792527.0</td>\n      <td>2856213.0</td>\n      <td>3139275.0</td>\n      <td>22263946.0</td>\n      <td>19297018.0</td>\n      <td>13358561.0</td>\n      <td>13443666.0</td>\n      <td>11740999.0</td>\n      <td>7099928.0</td>\n      <td>1140819.0</td>\n      <td>21806769.0</td>\n      <td>3753828.0</td>\n      <td>3235215.0</td>\n    </tr>\n    <tr>\n      <th>1982</th>\n      <td>55799176.0</td>\n      <td>2846032.0</td>\n      <td>2980526.0</td>\n      <td>25830964.0</td>\n      <td>20341501.0</td>\n      <td>12658610.0</td>\n      <td>14364399.0</td>\n      <td>11891968.0</td>\n      <td>9478495.0</td>\n      <td>1011419.0</td>\n      <td>22494587.0</td>\n      <td>3966409.0</td>\n      <td>3670983.0</td>\n    </tr>\n    <tr>\n      <th>1983</th>\n      <td>58547652.0</td>\n      <td>2767524.0</td>\n      <td>3294125.0</td>\n      <td>24364205.0</td>\n      <td>21799776.0</td>\n      <td>14153782.0</td>\n      <td>12941131.0</td>\n      <td>11640093.0</td>\n      <td>8289221.0</td>\n      <td>925366.0</td>\n      <td>26465330.0</td>\n      <td>4220726.0</td>\n      <td>3779946.0</td>\n    </tr>\n    <tr>\n      <th>1984</th>\n      <td>55555111.0</td>\n      <td>2891868.0</td>\n      <td>3104407.0</td>\n      <td>28507694.0</td>\n      <td>23820181.0</td>\n      <td>13091234.0</td>\n      <td>14453800.0</td>\n      <td>9727434.0</td>\n      <td>8130250.0</td>\n      <td>938302.0</td>\n      <td>25984166.0</td>\n      <td>4474252.0</td>\n      <td>4244348.0</td>\n    </tr>\n    <tr>\n      <th>1985</th>\n      <td>59211397.0</td>\n      <td>3062592.0</td>\n      <td>2932273.0</td>\n      <td>31576906.0</td>\n      <td>27373887.0</td>\n      <td>13367344.0</td>\n      <td>14709281.0</td>\n      <td>10905525.0</td>\n      <td>8419362.0</td>\n      <td>888656.0</td>\n      <td>28392255.0</td>\n      <td>4877720.0</td>\n      <td>4925463.0</td>\n    </tr>\n    <tr>\n      <th>1986</th>\n      <td>59541476.0</td>\n      <td>3218301.0</td>\n      <td>3148086.0</td>\n      <td>34356650.0</td>\n      <td>28180261.0</td>\n      <td>14245467.0</td>\n      <td>13753221.0</td>\n      <td>14085134.0</td>\n      <td>7576151.0</td>\n      <td>776168.0</td>\n      <td>29840500.0</td>\n      <td>4963419.0</td>\n      <td>5173555.0</td>\n    </tr>\n    <tr>\n      <th>1987</th>\n      <td>65013309.0</td>\n      <td>3142431.0</td>\n      <td>3561041.0</td>\n      <td>35431153.0</td>\n      <td>31440702.0</td>\n      <td>14832120.0</td>\n      <td>14035939.0</td>\n      <td>12647582.0</td>\n      <td>9852161.0</td>\n      <td>822493.0</td>\n      <td>29601251.0</td>\n      <td>5251035.0</td>\n      <td>5120111.0</td>\n    </tr>\n    <tr>\n      <th>1988</th>\n      <td>64784416.0</td>\n      <td>3169340.0</td>\n      <td>3115016.0</td>\n      <td>38441274.0</td>\n      <td>33763650.0</td>\n      <td>18847878.0</td>\n      <td>15943112.0</td>\n      <td>11588098.0</td>\n      <td>7222508.0</td>\n      <td>874931.0</td>\n      <td>32136554.0</td>\n      <td>5420837.0</td>\n      <td>5569931.0</td>\n    </tr>\n    <tr>\n      <th>1989</th>\n      <td>62951454.0</td>\n      <td>2843342.0</td>\n      <td>2920493.0</td>\n      <td>44455324.0</td>\n      <td>34756105.0</td>\n      <td>15921844.0</td>\n      <td>16063850.0</td>\n      <td>11089739.0</td>\n      <td>8787008.0</td>\n      <td>910579.0</td>\n      <td>33351194.0</td>\n      <td>5494349.0</td>\n      <td>6457394.0</td>\n    </tr>\n    <tr>\n      <th>1990</th>\n      <td>66619479.0</td>\n      <td>3075466.0</td>\n      <td>2835327.0</td>\n      <td>47205467.0</td>\n      <td>37618301.0</td>\n      <td>16449112.0</td>\n      <td>16264601.0</td>\n      <td>13997153.0</td>\n      <td>7256242.0</td>\n      <td>878792.0</td>\n      <td>35014557.0</td>\n      <td>5702470.0</td>\n      <td>6928734.0</td>\n    </tr>\n    <tr>\n      <th>1991</th>\n      <td>66874789.0</td>\n      <td>2912115.0</td>\n      <td>2959443.0</td>\n      <td>48993138.0</td>\n      <td>38842898.0</td>\n      <td>15945234.0</td>\n      <td>17111547.0</td>\n      <td>12300916.0</td>\n      <td>11446715.0</td>\n      <td>705560.0</td>\n      <td>35222085.0</td>\n      <td>6073797.0</td>\n      <td>6577514.0</td>\n    </tr>\n    <tr>\n      <th>1992</th>\n      <td>72694494.0</td>\n      <td>2890313.0</td>\n      <td>2830658.0</td>\n      <td>52985897.0</td>\n      <td>40006624.0</td>\n      <td>17880017.0</td>\n      <td>17788872.0</td>\n      <td>12019176.0</td>\n      <td>8883853.0</td>\n      <td>623866.0</td>\n      <td>36122307.0</td>\n      <td>6388601.0</td>\n      <td>6889316.0</td>\n    </tr>\n    <tr>\n      <th>1993</th>\n      <td>73878480.0</td>\n      <td>2953642.0</td>\n      <td>2613801.0</td>\n      <td>58226002.0</td>\n      <td>38931991.0</td>\n      <td>18221195.0</td>\n      <td>16057400.0</td>\n      <td>12813135.0</td>\n      <td>9342431.0</td>\n      <td>726628.0</td>\n      <td>33920605.0</td>\n      <td>6588824.0</td>\n      <td>7933931.0</td>\n    </tr>\n    <tr>\n      <th>1994</th>\n      <td>75814367.0</td>\n      <td>2829518.0</td>\n      <td>2972339.0</td>\n      <td>60477224.0</td>\n      <td>43019442.0</td>\n      <td>20259822.0</td>\n      <td>16105860.0</td>\n      <td>12565096.0</td>\n      <td>8653765.0</td>\n      <td>866583.0</td>\n      <td>33088465.0</td>\n      <td>6774412.0</td>\n      <td>8246954.0</td>\n    </tr>\n    <tr>\n      <th>1995</th>\n      <td>83925585.0</td>\n      <td>3179542.0</td>\n      <td>3263927.0</td>\n      <td>65388635.0</td>\n      <td>46684551.0</td>\n      <td>19863327.0</td>\n      <td>16511882.0</td>\n      <td>15212795.0</td>\n      <td>8121082.0</td>\n      <td>864706.0</td>\n      <td>38297247.0</td>\n      <td>7501230.0</td>\n      <td>8540769.0</td>\n    </tr>\n    <tr>\n      <th>1996</th>\n      <td>86031894.0</td>\n      <td>3460390.0</td>\n      <td>3315150.0</td>\n      <td>69765180.0</td>\n      <td>47656277.0</td>\n      <td>21748184.0</td>\n      <td>16503836.0</td>\n      <td>12863889.0</td>\n      <td>12510086.0</td>\n      <td>1032295.0</td>\n      <td>40688331.0</td>\n      <td>7283743.0</td>\n      <td>9267612.0</td>\n    </tr>\n    <tr>\n      <th>1997</th>\n      <td>88065461.0</td>\n      <td>3570824.0</td>\n      <td>3123733.0</td>\n      <td>74783933.0</td>\n      <td>50709545.0</td>\n      <td>20617895.0</td>\n      <td>16543450.0</td>\n      <td>14019862.0</td>\n      <td>12818028.0</td>\n      <td>1087875.0</td>\n      <td>40398837.0</td>\n      <td>7547256.0</td>\n      <td>9712665.0</td>\n    </tr>\n    <tr>\n      <th>1998</th>\n      <td>101225057.0</td>\n      <td>3464657.0</td>\n      <td>3124615.0</td>\n      <td>74545873.0</td>\n      <td>50550888.0</td>\n      <td>22969014.0</td>\n      <td>16781767.0</td>\n      <td>14608082.0</td>\n      <td>11602462.0</td>\n      <td>688628.0</td>\n      <td>38844991.0</td>\n      <td>7821515.0</td>\n      <td>9500340.0</td>\n    </tr>\n    <tr>\n      <th>1999</th>\n      <td>104483415.0</td>\n      <td>3007746.0</td>\n      <td>3333020.0</td>\n      <td>84675447.0</td>\n      <td>56268699.0</td>\n      <td>19926190.0</td>\n      <td>16188523.0</td>\n      <td>11523852.0</td>\n      <td>11590156.0</td>\n      <td>792254.0</td>\n      <td>41488728.0</td>\n      <td>7928935.0</td>\n      <td>10962174.0</td>\n    </tr>\n    <tr>\n      <th>2000</th>\n      <td>106223944.0</td>\n      <td>3462907.0</td>\n      <td>2956100.0</td>\n      <td>90720708.0</td>\n      <td>59057983.0</td>\n      <td>21916581.0</td>\n      <td>16840645.0</td>\n      <td>14112872.0</td>\n      <td>12188270.0</td>\n      <td>751258.0</td>\n      <td>42328058.0</td>\n      <td>8150092.0</td>\n      <td>11285575.0</td>\n    </tr>\n    <tr>\n      <th>2001</th>\n      <td>115015107.0</td>\n      <td>3676821.0</td>\n      <td>2553726.0</td>\n      <td>101131243.0</td>\n      <td>54695250.0</td>\n      <td>24019024.0</td>\n      <td>17727527.0</td>\n      <td>15510543.0</td>\n      <td>13094182.0</td>\n      <td>610924.0</td>\n      <td>36231677.0</td>\n      <td>8043752.0</td>\n      <td>12355079.0</td>\n    </tr>\n    <tr>\n      <th>2002</th>\n      <td>120453925.0</td>\n      <td>4100829.0</td>\n      <td>2404767.0</td>\n      <td>106337016.0</td>\n      <td>57298127.0</td>\n      <td>22761241.0</td>\n      <td>18318880.0</td>\n      <td>13274543.0</td>\n      <td>11739051.0</td>\n      <td>576093.0</td>\n      <td>34283020.0</td>\n      <td>8162932.0</td>\n      <td>12787055.0</td>\n    </tr>\n    <tr>\n      <th>2003</th>\n      <td>127744007.0</td>\n      <td>4286703.0</td>\n      <td>2544986.0</td>\n      <td>116515969.0</td>\n      <td>54570626.0</td>\n      <td>24441627.0</td>\n      <td>17791833.0</td>\n      <td>13899280.0</td>\n      <td>15229768.0</td>\n      <td>678959.0</td>\n      <td>40205078.0</td>\n      <td>8374617.0</td>\n      <td>13965366.0</td>\n    </tr>\n    <tr>\n      <th>2004</th>\n      <td>126705891.0</td>\n      <td>4561775.0</td>\n      <td>2635877.0</td>\n      <td>122203298.0</td>\n      <td>65468817.0</td>\n      <td>22599665.0</td>\n      <td>18833484.0</td>\n      <td>14720757.0</td>\n      <td>14095041.0</td>\n      <td>579888.0</td>\n      <td>42921591.0</td>\n      <td>8272293.0</td>\n      <td>14895500.0</td>\n    </tr>\n    <tr>\n      <th>2005</th>\n      <td>140932389.0</td>\n      <td>4549836.0</td>\n      <td>2830406.0</td>\n      <td>131014076.0</td>\n      <td>73277123.0</td>\n      <td>23829812.0</td>\n      <td>21272210.0</td>\n      <td>14074339.0</td>\n      <td>12484884.0</td>\n      <td>535363.0</td>\n      <td>46228097.0</td>\n      <td>8720244.0</td>\n      <td>16477558.0</td>\n    </tr>\n    <tr>\n      <th>2006</th>\n      <td>143873758.0</td>\n      <td>4864740.0</td>\n      <td>2987174.0</td>\n      <td>159798368.0</td>\n      <td>79090297.0</td>\n      <td>20833151.0</td>\n      <td>21200154.0</td>\n      <td>13441450.0</td>\n      <td>14122724.0</td>\n      <td>524463.0</td>\n      <td>49719483.0</td>\n      <td>9149699.0</td>\n      <td>18109911.0</td>\n    </tr>\n    <tr>\n      <th>2007</th>\n      <td>153936329.0</td>\n      <td>5280042.0</td>\n      <td>2616189.0</td>\n      <td>161241210.0</td>\n      <td>79076057.0</td>\n      <td>24328557.0</td>\n      <td>21710882.0</td>\n      <td>14234821.0</td>\n      <td>13497972.0</td>\n      <td>586656.0</td>\n      <td>48033983.0</td>\n      <td>9598474.0</td>\n      <td>18619413.0</td>\n    </tr>\n    <tr>\n      <th>2008</th>\n      <td>148150773.0</td>\n      <td>4924807.0</td>\n      <td>2344184.0</td>\n      <td>171769242.0</td>\n      <td>85253712.0</td>\n      <td>23018871.0</td>\n      <td>20848783.0</td>\n      <td>13945884.0</td>\n      <td>13070188.0</td>\n      <td>654159.0</td>\n      <td>47381348.0</td>\n      <td>9589274.0</td>\n      <td>20261081.0</td>\n    </tr>\n    <tr>\n      <th>2009</th>\n      <td>149679183.0</td>\n      <td>5149218.0</td>\n      <td>2518343.0</td>\n      <td>177880388.0</td>\n      <td>94622013.0</td>\n      <td>21402483.0</td>\n      <td>20111713.0</td>\n      <td>13661183.0</td>\n      <td>14624278.0</td>\n      <td>571524.0</td>\n      <td>56352067.0</td>\n      <td>9357336.0</td>\n      <td>20993904.0</td>\n    </tr>\n    <tr>\n      <th>2010</th>\n      <td>166997512.0</td>\n      <td>5428818.0</td>\n      <td>2528167.0</td>\n      <td>185619438.0</td>\n      <td>100898103.0</td>\n      <td>24497260.0</td>\n      <td>20854337.0</td>\n      <td>15891459.0</td>\n      <td>15335072.0</td>\n      <td>541108.0</td>\n      <td>54478931.0</td>\n      <td>9630952.0</td>\n      <td>21036304.0</td>\n    </tr>\n    <tr>\n      <th>2011</th>\n      <td>173478187.0</td>\n      <td>5544287.0</td>\n      <td>2478775.0</td>\n      <td>200603844.0</td>\n      <td>101464328.0</td>\n      <td>24058111.0</td>\n      <td>22281050.0</td>\n      <td>13236071.0</td>\n      <td>16392939.0</td>\n      <td>599291.0</td>\n      <td>57624570.0</td>\n      <td>9817403.0</td>\n      <td>22752852.0</td>\n    </tr>\n    <tr>\n      <th>2012</th>\n      <td>172808758.0</td>\n      <td>5977807.0</td>\n      <td>2768785.0</td>\n      <td>213527781.0</td>\n      <td>105917559.0</td>\n      <td>23467423.0</td>\n      <td>23723912.0</td>\n      <td>13674380.0</td>\n      <td>11874398.0</td>\n      <td>632407.0</td>\n      <td>64640983.0</td>\n      <td>9816837.0</td>\n      <td>24350456.0</td>\n    </tr>\n    <tr>\n      <th>2013</th>\n      <td>175908241.0</td>\n      <td>7506753.0</td>\n      <td>2705129.0</td>\n      <td>220702265.0</td>\n      <td>107029386.0</td>\n      <td>22703634.0</td>\n      <td>22469918.0</td>\n      <td>13315449.0</td>\n      <td>17005585.0</td>\n      <td>498844.0</td>\n      <td>59104675.0</td>\n      <td>9790233.0</td>\n      <td>25678463.0</td>\n    </tr>\n    <tr>\n      <th>2014</th>\n      <td>187580776.0</td>\n      <td>8708881.0</td>\n      <td>3062440.0</td>\n      <td>232335106.0</td>\n      <td>114378329.0</td>\n      <td>22544190.0</td>\n      <td>21885999.0</td>\n      <td>12895310.0</td>\n      <td>14887070.0</td>\n      <td>419257.0</td>\n      <td>68298532.0</td>\n      <td>13241527.0</td>\n      <td>26822254.0</td>\n    </tr>\n  </tbody>\n</table>\n</div>"
     },
     "execution_count": 52,
     "metadata": {},
     "output_type": "execute_result"
    }
   ],
   "source": [
    "imports = pd.read_csv(os.path.join(DATA, 'vegetable-oil-production.csv'))\n",
    "# imports.head()\n",
    "year = imports['Year']\n",
    "imports = imports.groupby(year).sum()\n",
    "imports"
   ],
   "metadata": {
    "collapsed": false,
    "pycharm": {
     "name": "#%%\n"
    }
   }
  },
  {
   "cell_type": "code",
   "execution_count": 53,
   "outputs": [],
   "source": [
    "# stacked area plot"
   ],
   "metadata": {
    "collapsed": false,
    "pycharm": {
     "name": "#%%\n"
    }
   }
  },
  {
   "cell_type": "code",
   "execution_count": 54,
   "outputs": [],
   "source": [
    "# world heat map"
   ],
   "metadata": {
    "collapsed": false,
    "pycharm": {
     "name": "#%%\n"
    }
   }
  },
  {
   "cell_type": "markdown",
   "source": [
    "# 7) Palm Oil Production Volumes by Country & over time"
   ],
   "metadata": {
    "collapsed": false,
    "pycharm": {
     "name": "#%% md\n"
    }
   }
  },
  {
   "cell_type": "code",
   "execution_count": 55,
   "outputs": [
    {
     "data": {
      "text/plain": "      Crops - Oil, palm - 257 - Production - 5510 - tonnes\nYear                                                      \n1961                                            7121016   \n1962                                            7131496   \n1963                                            7389088   \n1964                                            7508695   \n1965                                            7418087   \n1966                                            7784970   \n1967                                            7936266   \n1968                                            8713890   \n1969                                            9248339   \n1970                                            9242471   \n1971                                           10083827   \n1972                                           10659883   \n1973                                           11067834   \n1974                                           12774086   \n1975                                           14166389   \n1976                                           14905726   \n1977                                           15803814   \n1978                                           16979959   \n1979                                           19719286   \n1980                                           22102974   \n1981                                           22877231   \n1982                                           26460787   \n1983                                           24976133   \n1984                                           29156225   \n1985                                           32264188   \n1986                                           35073374   \n1987                                           36159179   \n1988                                           39167230   \n1989                                           45253502   \n1990                                           48084787   \n1991                                           49861165   \n1992                                           53881130   \n1993                                           59123213   \n1994                                           61375083   \n1995                                           66304934   \n1996                                           70722514   \n1997                                           75642575   \n1998                                           75414893   \n1999                                           85550138   \n2000                                           91600817   \n2001                                          101970333   \n2002                                          107223475   \n2003                                          117384437   \n2004                                          123164127   \n2005                                          131944219   \n2006                                          160804588   \n2007                                          162336132   \n2008                                          172903774   \n2009                                          179068847   \n2010                                          186918268   \n2011                                          205637871   \n2012                                          213021270   \n2013                                          224533295   \n2014                                          232859878   \n2015                                          243201041   \n2016                                          237064555   \n2017                                          268253461   \n2018                                          290587177   ",
      "text/html": "<div>\n<style scoped>\n    .dataframe tbody tr th:only-of-type {\n        vertical-align: middle;\n    }\n\n    .dataframe tbody tr th {\n        vertical-align: top;\n    }\n\n    .dataframe thead th {\n        text-align: right;\n    }\n</style>\n<table border=\"1\" class=\"dataframe\">\n  <thead>\n    <tr style=\"text-align: right;\">\n      <th></th>\n      <th>Crops - Oil, palm - 257 - Production - 5510 - tonnes</th>\n    </tr>\n    <tr>\n      <th>Year</th>\n      <th></th>\n    </tr>\n  </thead>\n  <tbody>\n    <tr>\n      <th>1961</th>\n      <td>7121016</td>\n    </tr>\n    <tr>\n      <th>1962</th>\n      <td>7131496</td>\n    </tr>\n    <tr>\n      <th>1963</th>\n      <td>7389088</td>\n    </tr>\n    <tr>\n      <th>1964</th>\n      <td>7508695</td>\n    </tr>\n    <tr>\n      <th>1965</th>\n      <td>7418087</td>\n    </tr>\n    <tr>\n      <th>1966</th>\n      <td>7784970</td>\n    </tr>\n    <tr>\n      <th>1967</th>\n      <td>7936266</td>\n    </tr>\n    <tr>\n      <th>1968</th>\n      <td>8713890</td>\n    </tr>\n    <tr>\n      <th>1969</th>\n      <td>9248339</td>\n    </tr>\n    <tr>\n      <th>1970</th>\n      <td>9242471</td>\n    </tr>\n    <tr>\n      <th>1971</th>\n      <td>10083827</td>\n    </tr>\n    <tr>\n      <th>1972</th>\n      <td>10659883</td>\n    </tr>\n    <tr>\n      <th>1973</th>\n      <td>11067834</td>\n    </tr>\n    <tr>\n      <th>1974</th>\n      <td>12774086</td>\n    </tr>\n    <tr>\n      <th>1975</th>\n      <td>14166389</td>\n    </tr>\n    <tr>\n      <th>1976</th>\n      <td>14905726</td>\n    </tr>\n    <tr>\n      <th>1977</th>\n      <td>15803814</td>\n    </tr>\n    <tr>\n      <th>1978</th>\n      <td>16979959</td>\n    </tr>\n    <tr>\n      <th>1979</th>\n      <td>19719286</td>\n    </tr>\n    <tr>\n      <th>1980</th>\n      <td>22102974</td>\n    </tr>\n    <tr>\n      <th>1981</th>\n      <td>22877231</td>\n    </tr>\n    <tr>\n      <th>1982</th>\n      <td>26460787</td>\n    </tr>\n    <tr>\n      <th>1983</th>\n      <td>24976133</td>\n    </tr>\n    <tr>\n      <th>1984</th>\n      <td>29156225</td>\n    </tr>\n    <tr>\n      <th>1985</th>\n      <td>32264188</td>\n    </tr>\n    <tr>\n      <th>1986</th>\n      <td>35073374</td>\n    </tr>\n    <tr>\n      <th>1987</th>\n      <td>36159179</td>\n    </tr>\n    <tr>\n      <th>1988</th>\n      <td>39167230</td>\n    </tr>\n    <tr>\n      <th>1989</th>\n      <td>45253502</td>\n    </tr>\n    <tr>\n      <th>1990</th>\n      <td>48084787</td>\n    </tr>\n    <tr>\n      <th>1991</th>\n      <td>49861165</td>\n    </tr>\n    <tr>\n      <th>1992</th>\n      <td>53881130</td>\n    </tr>\n    <tr>\n      <th>1993</th>\n      <td>59123213</td>\n    </tr>\n    <tr>\n      <th>1994</th>\n      <td>61375083</td>\n    </tr>\n    <tr>\n      <th>1995</th>\n      <td>66304934</td>\n    </tr>\n    <tr>\n      <th>1996</th>\n      <td>70722514</td>\n    </tr>\n    <tr>\n      <th>1997</th>\n      <td>75642575</td>\n    </tr>\n    <tr>\n      <th>1998</th>\n      <td>75414893</td>\n    </tr>\n    <tr>\n      <th>1999</th>\n      <td>85550138</td>\n    </tr>\n    <tr>\n      <th>2000</th>\n      <td>91600817</td>\n    </tr>\n    <tr>\n      <th>2001</th>\n      <td>101970333</td>\n    </tr>\n    <tr>\n      <th>2002</th>\n      <td>107223475</td>\n    </tr>\n    <tr>\n      <th>2003</th>\n      <td>117384437</td>\n    </tr>\n    <tr>\n      <th>2004</th>\n      <td>123164127</td>\n    </tr>\n    <tr>\n      <th>2005</th>\n      <td>131944219</td>\n    </tr>\n    <tr>\n      <th>2006</th>\n      <td>160804588</td>\n    </tr>\n    <tr>\n      <th>2007</th>\n      <td>162336132</td>\n    </tr>\n    <tr>\n      <th>2008</th>\n      <td>172903774</td>\n    </tr>\n    <tr>\n      <th>2009</th>\n      <td>179068847</td>\n    </tr>\n    <tr>\n      <th>2010</th>\n      <td>186918268</td>\n    </tr>\n    <tr>\n      <th>2011</th>\n      <td>205637871</td>\n    </tr>\n    <tr>\n      <th>2012</th>\n      <td>213021270</td>\n    </tr>\n    <tr>\n      <th>2013</th>\n      <td>224533295</td>\n    </tr>\n    <tr>\n      <th>2014</th>\n      <td>232859878</td>\n    </tr>\n    <tr>\n      <th>2015</th>\n      <td>243201041</td>\n    </tr>\n    <tr>\n      <th>2016</th>\n      <td>237064555</td>\n    </tr>\n    <tr>\n      <th>2017</th>\n      <td>268253461</td>\n    </tr>\n    <tr>\n      <th>2018</th>\n      <td>290587177</td>\n    </tr>\n  </tbody>\n</table>\n</div>"
     },
     "execution_count": 55,
     "metadata": {},
     "output_type": "execute_result"
    }
   ],
   "source": [
    "production_time = pd.read_csv(os.path.join(DATA, 'palm-oil-production.csv'))\n",
    "production_time.head()\n",
    "\n",
    "year = production_time['Year']\n",
    "production_time = production_time.groupby(year).sum()\n",
    "production_time"
   ],
   "metadata": {
    "collapsed": false,
    "pycharm": {
     "name": "#%%\n"
    }
   }
  },
  {
   "cell_type": "code",
   "execution_count": 56,
   "outputs": [
    {
     "data": {
      "text/plain": "(58, 1)"
     },
     "execution_count": 56,
     "metadata": {},
     "output_type": "execute_result"
    }
   ],
   "source": [
    "production_time.shape"
   ],
   "metadata": {
    "collapsed": false,
    "pycharm": {
     "name": "#%%\n"
    }
   }
  },
  {
   "cell_type": "code",
   "execution_count": 57,
   "outputs": [],
   "source": [
    "# world heat map of producers\n",
    "# line chart with drop box for country"
   ],
   "metadata": {
    "collapsed": false,
    "pycharm": {
     "name": "#%%\n"
    }
   }
  },
  {
   "cell_type": "markdown",
   "source": [
    "# 8) land use for vegetable oil crops\n",
    "\n",
    "the amount of land under cultivation is a key driver of production volumes for agricultural products.\n",
    "\n",
    "How has the world achieved such a rapid expansion of palm oil production? There are only two ways in which we can produce more of a given crop:\n",
    "- increase yields (growing more on a given amount of land) or\n",
    "- expand the amount of land we use to grow it.\n",
    "\n",
    "Global palm yields have increased over time, but far short of the increase in demand. This means that over the last 50 years the amount of land devoted to growing palm oil has increased and is the main driver of increased production. In the chart here we see the change in land use. Since 1980 the amount of land the world uses to grow palm has more than quadrupled, from 4 million to 19 million hectares in 2018. Indonesia and Malaysia account for 63% of global land use for palm. This is low when we consider that it accounts for 84% of **production**. This is because both countries achieve high yields.\n",
    "\n",
    "19 million hectares might sound like a lot of land. But we should consider this in the context of all land used to grow oil crops. The world devotes more than 300 million hectares for oilcrop production. Palm oil accounts for 6% of this land use, which is small when we consider that it produces 36% of the oil.\n"
   ],
   "metadata": {
    "collapsed": false,
    "pycharm": {
     "name": "#%% md\n"
    }
   }
  },
  {
   "cell_type": "code",
   "execution_count": 58,
   "outputs": [
    {
     "data": {
      "text/plain": "        Entity Code  Year  Crops - Olives - 260 - Area harvested - 5312 - ha  \\\n0  Afghanistan  AFG  1961                                              600.0   \n1  Afghanistan  AFG  1962                                              600.0   \n2  Afghanistan  AFG  1963                                              600.0   \n3  Afghanistan  AFG  1964                                              600.0   \n4  Afghanistan  AFG  1965                                              600.0   \n\n   Crops - Rapeseed - 270 - Area harvested - 5312 - ha  \\\n0                                                NaN     \n1                                                NaN     \n2                                                NaN     \n3                                                NaN     \n4                                                NaN     \n\n   Crops - Soybeans - 236 - Area harvested - 5312 - ha  \\\n0                                                NaN     \n1                                                NaN     \n2                                                NaN     \n3                                                NaN     \n4                                                NaN     \n\n   Crops - Safflower seed - 280 - Area harvested - 5312 - ha  \\\n0                                                NaN           \n1                                                NaN           \n2                                                NaN           \n3                                                NaN           \n4                                                NaN           \n\n   Crops - Sunflower seed - 267 - Area harvested - 5312 - ha  \\\n0                                             8300.0           \n1                                             8300.0           \n2                                             8300.0           \n3                                             8300.0           \n4                                             8300.0           \n\n   Crops - Oil palm fruit - 254 - Area harvested - 5312 - ha  \\\n0                                                NaN           \n1                                                NaN           \n2                                                NaN           \n3                                                NaN           \n4                                                NaN           \n\n   Crops - Coconuts - 249 - Area harvested - 5312 - ha  \\\n0                                                NaN     \n1                                                NaN     \n2                                                NaN     \n3                                                NaN     \n4                                                NaN     \n\n   Crops - Groundnuts, with shell - 242 - Area harvested - 5312 - ha  \\\n0                                                NaN                   \n1                                                NaN                   \n2                                                NaN                   \n3                                                NaN                   \n4                                                NaN                   \n\n   Crops - Linseed - 333 - Area harvested - 5312 - ha  \\\n0                                            46800.0    \n1                                            46800.0    \n2                                            46800.0    \n3                                            46800.0    \n4                                            46800.0    \n\n   Crops - Seed cotton - 328 - Area harvested - 5312 - ha  \\\n0                                            76892.0        \n1                                            91056.0        \n2                                           121408.0        \n3                                           121408.0        \n4                                            80939.0        \n\n   Crops - Sesame seed - 289 - Area harvested - 5312 - ha  \\\n0                                            33200.0        \n1                                            33200.0        \n2                                            33200.0        \n3                                            33200.0        \n4                                            33200.0        \n\n   Crops - Castor oil seed - 265 - Area harvested - 5312 - ha  \\\n0                                                NaN            \n1                                                NaN            \n2                                                NaN            \n3                                                NaN            \n4                                                NaN            \n\n   Crops - Karite nuts (sheanuts) - 263 - Area harvested - 5312 - ha  \\\n0                                                NaN                   \n1                                                NaN                   \n2                                                NaN                   \n3                                                NaN                   \n4                                                NaN                   \n\n   Crops - Tung nuts - 275 - Area harvested - 5312 - ha  \n0                                                NaN     \n1                                                NaN     \n2                                                NaN     \n3                                                NaN     \n4                                                NaN     ",
      "text/html": "<div>\n<style scoped>\n    .dataframe tbody tr th:only-of-type {\n        vertical-align: middle;\n    }\n\n    .dataframe tbody tr th {\n        vertical-align: top;\n    }\n\n    .dataframe thead th {\n        text-align: right;\n    }\n</style>\n<table border=\"1\" class=\"dataframe\">\n  <thead>\n    <tr style=\"text-align: right;\">\n      <th></th>\n      <th>Entity</th>\n      <th>Code</th>\n      <th>Year</th>\n      <th>Crops - Olives - 260 - Area harvested - 5312 - ha</th>\n      <th>Crops - Rapeseed - 270 - Area harvested - 5312 - ha</th>\n      <th>Crops - Soybeans - 236 - Area harvested - 5312 - ha</th>\n      <th>Crops - Safflower seed - 280 - Area harvested - 5312 - ha</th>\n      <th>Crops - Sunflower seed - 267 - Area harvested - 5312 - ha</th>\n      <th>Crops - Oil palm fruit - 254 - Area harvested - 5312 - ha</th>\n      <th>Crops - Coconuts - 249 - Area harvested - 5312 - ha</th>\n      <th>Crops - Groundnuts, with shell - 242 - Area harvested - 5312 - ha</th>\n      <th>Crops - Linseed - 333 - Area harvested - 5312 - ha</th>\n      <th>Crops - Seed cotton - 328 - Area harvested - 5312 - ha</th>\n      <th>Crops - Sesame seed - 289 - Area harvested - 5312 - ha</th>\n      <th>Crops - Castor oil seed - 265 - Area harvested - 5312 - ha</th>\n      <th>Crops - Karite nuts (sheanuts) - 263 - Area harvested - 5312 - ha</th>\n      <th>Crops - Tung nuts - 275 - Area harvested - 5312 - ha</th>\n    </tr>\n  </thead>\n  <tbody>\n    <tr>\n      <th>0</th>\n      <td>Afghanistan</td>\n      <td>AFG</td>\n      <td>1961</td>\n      <td>600.0</td>\n      <td>NaN</td>\n      <td>NaN</td>\n      <td>NaN</td>\n      <td>8300.0</td>\n      <td>NaN</td>\n      <td>NaN</td>\n      <td>NaN</td>\n      <td>46800.0</td>\n      <td>76892.0</td>\n      <td>33200.0</td>\n      <td>NaN</td>\n      <td>NaN</td>\n      <td>NaN</td>\n    </tr>\n    <tr>\n      <th>1</th>\n      <td>Afghanistan</td>\n      <td>AFG</td>\n      <td>1962</td>\n      <td>600.0</td>\n      <td>NaN</td>\n      <td>NaN</td>\n      <td>NaN</td>\n      <td>8300.0</td>\n      <td>NaN</td>\n      <td>NaN</td>\n      <td>NaN</td>\n      <td>46800.0</td>\n      <td>91056.0</td>\n      <td>33200.0</td>\n      <td>NaN</td>\n      <td>NaN</td>\n      <td>NaN</td>\n    </tr>\n    <tr>\n      <th>2</th>\n      <td>Afghanistan</td>\n      <td>AFG</td>\n      <td>1963</td>\n      <td>600.0</td>\n      <td>NaN</td>\n      <td>NaN</td>\n      <td>NaN</td>\n      <td>8300.0</td>\n      <td>NaN</td>\n      <td>NaN</td>\n      <td>NaN</td>\n      <td>46800.0</td>\n      <td>121408.0</td>\n      <td>33200.0</td>\n      <td>NaN</td>\n      <td>NaN</td>\n      <td>NaN</td>\n    </tr>\n    <tr>\n      <th>3</th>\n      <td>Afghanistan</td>\n      <td>AFG</td>\n      <td>1964</td>\n      <td>600.0</td>\n      <td>NaN</td>\n      <td>NaN</td>\n      <td>NaN</td>\n      <td>8300.0</td>\n      <td>NaN</td>\n      <td>NaN</td>\n      <td>NaN</td>\n      <td>46800.0</td>\n      <td>121408.0</td>\n      <td>33200.0</td>\n      <td>NaN</td>\n      <td>NaN</td>\n      <td>NaN</td>\n    </tr>\n    <tr>\n      <th>4</th>\n      <td>Afghanistan</td>\n      <td>AFG</td>\n      <td>1965</td>\n      <td>600.0</td>\n      <td>NaN</td>\n      <td>NaN</td>\n      <td>NaN</td>\n      <td>8300.0</td>\n      <td>NaN</td>\n      <td>NaN</td>\n      <td>NaN</td>\n      <td>46800.0</td>\n      <td>80939.0</td>\n      <td>33200.0</td>\n      <td>NaN</td>\n      <td>NaN</td>\n      <td>NaN</td>\n    </tr>\n  </tbody>\n</table>\n</div>"
     },
     "execution_count": 58,
     "metadata": {},
     "output_type": "execute_result"
    }
   ],
   "source": [
    "crops = pd.read_csv(os.path.join(DATA, 'land-use-for-vegetable-oil-crops.csv'))\n",
    "crops.head()"
   ],
   "metadata": {
    "collapsed": false,
    "pycharm": {
     "name": "#%%\n"
    }
   }
  },
  {
   "cell_type": "code",
   "execution_count": 59,
   "outputs": [
    {
     "data": {
      "text/plain": "(12191, 17)"
     },
     "execution_count": 59,
     "metadata": {},
     "output_type": "execute_result"
    }
   ],
   "source": [
    "crops.shape"
   ],
   "metadata": {
    "collapsed": false,
    "pycharm": {
     "name": "#%%\n"
    }
   }
  },
  {
   "cell_type": "markdown",
   "source": [
    "# stacked line chart\n",
    "\n",
    "Palm oil versus the alternatives\n",
    "\n",
    "Palm oil has been an important driver of deforestation. But would the alternatives have fared any better?\n",
    "\n",
    "There are a couple of reasons why palm oil has been the favored crop to meet growing demand for vegetable oils. Firstly, it has lowest production costs.11 Secondly, its composition means it’s versatile and can be used for food and non-food purposes alike: some oils are not suited for cosmetic uses such as shampoos and detergents. Third, it gets incredibly high yields.\n",
    "\n",
    "If we weren’t meeting global oil demand through palm oil, another oilcrop would have to take its place. Would the alternatives be any better for the environment?\n",
    "\n",
    "We can compare crops in terms of their yields – how much oil we can produce from one hectare of land. This comparison is shown in the chart.12 Palm oil stands out immediately. It achieves a much higher yield than the alternatives. From each hectare of land, you can produce about 2.8 tonnes of palm oil. That’s around four times higher than alternatives such as sunflower or rapeseed oil (where you get about 0.7 tonnes per hectare); and 10 to 15 times higher than popular alternatives such as coconut or groundnut oil (where you get 0.2 tonnes per hectare).\n",
    "\n",
    "\n",
    "\n",
    "Let’s take a look at how this comparison affects the global landscape of oilcrops in terms of production and land use. In the chart we see the breakdown of global vegetable oil production in 2018. On the left we have each crop’s share of global land use for vegetable oils; on the right we have its share of production.\n",
    "\n",
    "We know from our yield comparison that palm oil achieves a much higher yield. What this means is that it accounts for a very high share of oil production without taking up much land. In 2017 it produced 36% of our vegetable oil, but took up only 8.6% of the land.\n",
    "\n",
    "Sunflower oil was almost exactly proportional in terms of how much oil it produced relative to how much land it took up: it produced 9% of oil, and required 8.3% of land. Rape and mustardseed oil were also in proportion. The rest – soybean, olive, coconut, groundnut, and sesameseed – used more land than they gave back in oil production. Coconut oil, for example, provided only 1.4% of global oil but required 3.6% of the land.\n",
    "\n",
    "It’s of course true that some crops provide co-products in the process. The non-oil fraction of soybeans, for example, can be allocated to other uses such as high-protein animal feed. Therefore using this land to grow the crop is meeting other food demand at the same time. But this doesn’t change the fact that if the world requires a given amount of vegetable oil, it is the oil yield per hectare of each crop that we care about – regardless of whether it provides co-products in the process.\n"
   ],
   "metadata": {
    "collapsed": false,
    "pycharm": {
     "name": "#%% md\n"
    }
   }
  },
  {
   "cell_type": "markdown",
   "source": [
    "Substitutes for palm oil do not always exist. As we’ve discussed, substituting palm oil with alternatives can do more harm than good. But it’s also true that alternative oils are not always suitable for the products we need. Palm oil is unique in its versatility, meaning it is suitable for a range of foods, cosmetics, industrial applications and biofuels. Substitution would be feasible for most food products. Substitution in industrial processes would be more difficult, especially if we want to replace it with oils grown in temperate countries: sunflower or rapeseed oil is not suited to products such as soaps, detergents or cosmetics. One sector where alternatives do exist is bioenergy, which brings us to our next point."
   ],
   "metadata": {
    "collapsed": false,
    "pycharm": {
     "name": "#%% md\n"
    }
   }
  },
  {
   "cell_type": "markdown",
   "source": [
    "# 6) Total Vegetable Oil Production (substitutes) Over Time\n",
    "palm oil prices are effected by the price and supply of substitute vegetable oils"
   ],
   "metadata": {
    "collapsed": false,
    "pycharm": {
     "name": "#%% md\n"
    }
   }
  },
  {
   "cell_type": "code",
   "execution_count": 61,
   "outputs": [
    {
     "data": {
      "text/plain": "        Entity Code  Year  \\\n0  Afghanistan  AFG  1961   \n1  Afghanistan  AFG  1962   \n2  Afghanistan  AFG  1963   \n3  Afghanistan  AFG  1964   \n4  Afghanistan  AFG  1965   \n\n   Crops processed - Oil, soybean - 237 - Production - 5510 - tonnes  \\\n0                                                NaN                   \n1                                                NaN                   \n2                                                NaN                   \n3                                                NaN                   \n4                                                NaN                   \n\n   Crops processed - Oil, sesame - 290 - Production - 5510 - tonnes  \\\n0                                             2253.0                  \n1                                             1876.0                  \n2                                             1831.0                  \n3                                             2722.0                  \n4                                             2821.0                  \n\n   Crops processed - Oil, linseed - 334 - Production - 5510 - tonnes  \\\n0                                             3531.0                   \n1                                             3701.0                   \n2                                             2857.0                   \n3                                             3377.0                   \n4                                             4327.0                   \n\n   Crops processed - Oil, palm - 257 - Production - 5510 - tonnes  \\\n0                                                NaN                \n1                                                NaN                \n2                                                NaN                \n3                                                NaN                \n4                                                NaN                \n\n   Crops processed - Oil, rapeseed - 271 - Production - 5510 - tonnes  \\\n0                                                NaN                    \n1                                                NaN                    \n2                                                NaN                    \n3                                                NaN                    \n4                                                NaN                    \n\n   Crops processed - Oil, groundnut - 244 - Production - 5510 - tonnes  \\\n0                                                NaN                     \n1                                                NaN                     \n2                                                NaN                     \n3                                                NaN                     \n4                                                NaN                     \n\n   Crops processed - Oil, cottonseed - 331 - Production - 5510 - tonnes  \\\n0                                             4997.0                      \n1                                             7716.0                      \n2                                            11742.0                      \n3                                             7960.0                      \n4                                             7926.0                      \n\n   Crops processed - Oil, coconut (copra) - 252 - Production - 5510 - tonnes  \\\n0                                                NaN                           \n1                                                NaN                           \n2                                                NaN                           \n3                                                NaN                           \n4                                                NaN                           \n\n   Crops processed - Oil, olive, virgin - 261 - Production - 5510 - tonnes  \\\n0                                               82.0                         \n1                                               90.0                         \n2                                               82.0                         \n3                                               90.0                         \n4                                               82.0                         \n\n   Crops processed - Oil, safflower - 281 - Production - 5510 - tonnes  \\\n0                                                NaN                     \n1                                                NaN                     \n2                                                NaN                     \n3                                                NaN                     \n4                                                NaN                     \n\n   Crops processed - Oil, sunflower - 268 - Production - 5510 - tonnes  \\\n0                                             2938.0                     \n1                                             3138.0                     \n2                                             3138.0                     \n3                                             3138.0                     \n4                                             3238.0                     \n\n   Crops processed - Oil, maize - 60 - Production - 5510 - tonnes  \\\n0                                                NaN                \n1                                                NaN                \n2                                                NaN                \n3                                                NaN                \n4                                                NaN                \n\n   Crops processed - Oil, palm kernel - 258 - Production - 5510 - tonnes  \n0                                                NaN                      \n1                                                NaN                      \n2                                                NaN                      \n3                                                NaN                      \n4                                                NaN                      ",
      "text/html": "<div>\n<style scoped>\n    .dataframe tbody tr th:only-of-type {\n        vertical-align: middle;\n    }\n\n    .dataframe tbody tr th {\n        vertical-align: top;\n    }\n\n    .dataframe thead th {\n        text-align: right;\n    }\n</style>\n<table border=\"1\" class=\"dataframe\">\n  <thead>\n    <tr style=\"text-align: right;\">\n      <th></th>\n      <th>Entity</th>\n      <th>Code</th>\n      <th>Year</th>\n      <th>Crops processed - Oil, soybean - 237 - Production - 5510 - tonnes</th>\n      <th>Crops processed - Oil, sesame - 290 - Production - 5510 - tonnes</th>\n      <th>Crops processed - Oil, linseed - 334 - Production - 5510 - tonnes</th>\n      <th>Crops processed - Oil, palm - 257 - Production - 5510 - tonnes</th>\n      <th>Crops processed - Oil, rapeseed - 271 - Production - 5510 - tonnes</th>\n      <th>Crops processed - Oil, groundnut - 244 - Production - 5510 - tonnes</th>\n      <th>Crops processed - Oil, cottonseed - 331 - Production - 5510 - tonnes</th>\n      <th>Crops processed - Oil, coconut (copra) - 252 - Production - 5510 - tonnes</th>\n      <th>Crops processed - Oil, olive, virgin - 261 - Production - 5510 - tonnes</th>\n      <th>Crops processed - Oil, safflower - 281 - Production - 5510 - tonnes</th>\n      <th>Crops processed - Oil, sunflower - 268 - Production - 5510 - tonnes</th>\n      <th>Crops processed - Oil, maize - 60 - Production - 5510 - tonnes</th>\n      <th>Crops processed - Oil, palm kernel - 258 - Production - 5510 - tonnes</th>\n    </tr>\n  </thead>\n  <tbody>\n    <tr>\n      <th>0</th>\n      <td>Afghanistan</td>\n      <td>AFG</td>\n      <td>1961</td>\n      <td>NaN</td>\n      <td>2253.0</td>\n      <td>3531.0</td>\n      <td>NaN</td>\n      <td>NaN</td>\n      <td>NaN</td>\n      <td>4997.0</td>\n      <td>NaN</td>\n      <td>82.0</td>\n      <td>NaN</td>\n      <td>2938.0</td>\n      <td>NaN</td>\n      <td>NaN</td>\n    </tr>\n    <tr>\n      <th>1</th>\n      <td>Afghanistan</td>\n      <td>AFG</td>\n      <td>1962</td>\n      <td>NaN</td>\n      <td>1876.0</td>\n      <td>3701.0</td>\n      <td>NaN</td>\n      <td>NaN</td>\n      <td>NaN</td>\n      <td>7716.0</td>\n      <td>NaN</td>\n      <td>90.0</td>\n      <td>NaN</td>\n      <td>3138.0</td>\n      <td>NaN</td>\n      <td>NaN</td>\n    </tr>\n    <tr>\n      <th>2</th>\n      <td>Afghanistan</td>\n      <td>AFG</td>\n      <td>1963</td>\n      <td>NaN</td>\n      <td>1831.0</td>\n      <td>2857.0</td>\n      <td>NaN</td>\n      <td>NaN</td>\n      <td>NaN</td>\n      <td>11742.0</td>\n      <td>NaN</td>\n      <td>82.0</td>\n      <td>NaN</td>\n      <td>3138.0</td>\n      <td>NaN</td>\n      <td>NaN</td>\n    </tr>\n    <tr>\n      <th>3</th>\n      <td>Afghanistan</td>\n      <td>AFG</td>\n      <td>1964</td>\n      <td>NaN</td>\n      <td>2722.0</td>\n      <td>3377.0</td>\n      <td>NaN</td>\n      <td>NaN</td>\n      <td>NaN</td>\n      <td>7960.0</td>\n      <td>NaN</td>\n      <td>90.0</td>\n      <td>NaN</td>\n      <td>3138.0</td>\n      <td>NaN</td>\n      <td>NaN</td>\n    </tr>\n    <tr>\n      <th>4</th>\n      <td>Afghanistan</td>\n      <td>AFG</td>\n      <td>1965</td>\n      <td>NaN</td>\n      <td>2821.0</td>\n      <td>4327.0</td>\n      <td>NaN</td>\n      <td>NaN</td>\n      <td>NaN</td>\n      <td>7926.0</td>\n      <td>NaN</td>\n      <td>82.0</td>\n      <td>NaN</td>\n      <td>3238.0</td>\n      <td>NaN</td>\n      <td>NaN</td>\n    </tr>\n  </tbody>\n</table>\n</div>"
     },
     "execution_count": 61,
     "metadata": {},
     "output_type": "execute_result"
    }
   ],
   "source": [
    "oil_production = pd.read_csv(os.path.join(DATA, 'vegetable-oil-production.csv'))\n",
    "oil_production.head()"
   ],
   "metadata": {
    "collapsed": false,
    "pycharm": {
     "name": "#%%\n"
    }
   }
  },
  {
   "cell_type": "code",
   "execution_count": 62,
   "outputs": [
    {
     "data": {
      "text/plain": "(11064, 16)"
     },
     "execution_count": 62,
     "metadata": {},
     "output_type": "execute_result"
    }
   ],
   "source": [
    "oil_production.shape"
   ],
   "metadata": {
    "collapsed": false,
    "pycharm": {
     "name": "#%%\n"
    }
   }
  },
  {
   "cell_type": "markdown",
   "source": [
    "# 7) Palm oil uses"
   ],
   "metadata": {
    "collapsed": false,
    "pycharm": {
     "name": "#%% md\n"
    }
   }
  },
  {
   "cell_type": "code",
   "execution_count": 62,
   "outputs": [],
   "source": [],
   "metadata": {
    "collapsed": false,
    "pycharm": {
     "name": "#%%\n"
    }
   }
  },
  {
   "cell_type": "markdown",
   "source": [
    "# 8) oil yield by crop (2018)"
   ],
   "metadata": {
    "collapsed": false,
    "pycharm": {
     "name": "#%% md\n"
    }
   }
  },
  {
   "cell_type": "code",
   "execution_count": 63,
   "outputs": [
    {
     "data": {
      "text/plain": "           Entity  Code  Year  Oil yield (t/ha)\n0     Coconut Oil   NaN  2018          0.257735\n1  Cottonseed Oil   NaN  2018          0.141688\n2   Groundnut Oil   NaN  2018          0.183447\n3       Olive Oil   NaN  2018          0.339773\n4        Palm Oil   NaN  2018          2.835088",
      "text/html": "<div>\n<style scoped>\n    .dataframe tbody tr th:only-of-type {\n        vertical-align: middle;\n    }\n\n    .dataframe tbody tr th {\n        vertical-align: top;\n    }\n\n    .dataframe thead th {\n        text-align: right;\n    }\n</style>\n<table border=\"1\" class=\"dataframe\">\n  <thead>\n    <tr style=\"text-align: right;\">\n      <th></th>\n      <th>Entity</th>\n      <th>Code</th>\n      <th>Year</th>\n      <th>Oil yield (t/ha)</th>\n    </tr>\n  </thead>\n  <tbody>\n    <tr>\n      <th>0</th>\n      <td>Coconut Oil</td>\n      <td>NaN</td>\n      <td>2018</td>\n      <td>0.257735</td>\n    </tr>\n    <tr>\n      <th>1</th>\n      <td>Cottonseed Oil</td>\n      <td>NaN</td>\n      <td>2018</td>\n      <td>0.141688</td>\n    </tr>\n    <tr>\n      <th>2</th>\n      <td>Groundnut Oil</td>\n      <td>NaN</td>\n      <td>2018</td>\n      <td>0.183447</td>\n    </tr>\n    <tr>\n      <th>3</th>\n      <td>Olive Oil</td>\n      <td>NaN</td>\n      <td>2018</td>\n      <td>0.339773</td>\n    </tr>\n    <tr>\n      <th>4</th>\n      <td>Palm Oil</td>\n      <td>NaN</td>\n      <td>2018</td>\n      <td>2.835088</td>\n    </tr>\n  </tbody>\n</table>\n</div>"
     },
     "execution_count": 63,
     "metadata": {},
     "output_type": "execute_result"
    }
   ],
   "source": [
    "_yield = pd.read_csv(os.path.join(DATA, 'oil-yield-by-crop.csv'))\n",
    "_yield.head()\n",
    "# need to pivot this"
   ],
   "metadata": {
    "collapsed": false,
    "pycharm": {
     "name": "#%%\n"
    }
   }
  },
  {
   "cell_type": "code",
   "execution_count": 64,
   "outputs": [
    {
     "data": {
      "text/plain": "(9, 4)"
     },
     "execution_count": 64,
     "metadata": {},
     "output_type": "execute_result"
    }
   ],
   "source": [
    "_yield.shape"
   ],
   "metadata": {
    "collapsed": false,
    "pycharm": {
     "name": "#%%\n"
    }
   }
  },
  {
   "cell_type": "markdown",
   "source": [
    "# Palm oil terms\n",
    "We're mainly interested in RBD palm olein but its worth mentioning some others\n",
    "- RBD: refined deodorised and bleached\n",
    "- CPO: crude palm olein\n",
    "- CPKO: crude palm kernel oil\n",
    "\n",
    "# INCO terms\n",
    "We're mainly interested in FOB but its work knowing some other INCO terms\n",
    "- EXW: ex works\n",
    "- FAS: free alongside\n",
    "- FOB: free on board\n",
    "- CFR: cost and freight\n",
    "- CIF: cost, insurance & freight\n",
    "\n",
    "# Ports of origin\n",
    "we will reference 'malaysia', however in fact, there are two primary ports for exports of palm olein.\n",
    "- Port Klang\n",
    "- Kuala Lumpur\n",
    "the often quoted 'FOB malaysia' is an index price, traded on Bursa Malaysia. In reality, the prices will differ slightly between the two ports"
   ],
   "metadata": {
    "collapsed": false,
    "pycharm": {
     "name": "#%% md\n"
    }
   }
  },
  {
   "cell_type": "markdown",
   "source": [
    "# Data Sources\n",
    "- https://agropost.wordpress.com/\n",
    "- This has a lot of great market data going back to 2010. however it doesn't seem to have the data as CSV\n",
    "- https://www.fao.org/home/en\n",
    "- FAO food and agriculture organisation. Part of the UN. Good data, high quality and easy to download, but lacking in granularity\n",
    "- its meant to have a python api but its not clear if it is maintained. I am struggling to make a connection."
   ],
   "metadata": {
    "collapsed": false,
    "pycharm": {
     "name": "#%% md\n"
    }
   }
  },
  {
   "cell_type": "markdown",
   "source": [
    "# Data Pipeline\n",
    "Software automation solution to move data around. host data in a data warehouse & move the data to where you can use it.\n",
    "\n",
    "http://tmgmdashboarding-env-1.eba-srqgw9ij.ap-southeast-2.elasticbeanstalk.com/\n",
    "\n",
    "- data storage\n",
    "- ETL\n",
    "- preprocess data\n",
    "- seasonality"
   ],
   "metadata": {
    "collapsed": false,
    "pycharm": {
     "name": "#%% md\n"
    }
   }
  }
 ],
 "metadata": {
  "kernelspec": {
   "display_name": "Python 3",
   "language": "python",
   "name": "python3"
  },
  "language_info": {
   "codemirror_mode": {
    "name": "ipython",
    "version": 2
   },
   "file_extension": ".py",
   "mimetype": "text/x-python",
   "name": "python",
   "nbconvert_exporter": "python",
   "pygments_lexer": "ipython2",
   "version": "2.7.6"
  }
 },
 "nbformat": 4,
 "nbformat_minor": 0
}